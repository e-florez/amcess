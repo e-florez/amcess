{
 "cells": [
  {
   "cell_type": "markdown",
   "metadata": {},
   "source": [
    "# Import a Molecules/Atom from cartesian coordinates:\n",
    "**Task:** \n",
    "1. Create a Molecule object from its cartesian coordinates\n",
    "2. Ask for its atomic and molecular properties"
   ]
  },
  {
   "cell_type": "markdown",
   "metadata": {},
   "source": [
    "## [Water molecule](https://en.wikipedia.org/wiki/Properties_of_water) ($H_{2}O$):\n",
    "\n",
    "<img \n",
    "src=\"https://upload.wikimedia.org/wikipedia/commons/thumb/b/b7/H2O_2D_labelled.svg/2560px-H2O_2D_labelled.svg.png\"\n",
    "alt=\"water\" \n",
    "width=\"200\" \n",
    "height=\"100\" \n",
    "/>\n",
    "\n",
    "### Properties:\n",
    "- Number of molecules: 1\n",
    "- Number of atoms: 3\n",
    "- Atomic symbols: O, H, H\n",
    "- Atomic masses [g/mol]: \n",
    "    - O: 15.999\n",
    "    - H: 1.008\n",
    "    - H: 1.008\n",
    "- Molar mass [g/mol]: 18.015\n",
    "- Cartesian coordinates [Angstrom]:\n",
    "    ```XYZ\n",
    "    O    0.00000    0.00000    0.00000\n",
    "    H    0.58708    0.75754    0.00000\n",
    "    H    0.58708   -0.75754    0.00000\n",
    "    ```\n",
    "- Bond distance [Angstrom]:\n",
    "    - H-O: 0.9584 (95.84 pm)\n",
    "    - H-H: 1.5151\n",
    "- Bond angle [Degrees]:\n",
    "    - H-O-H: 104.45\n",
    "    - H-H-O: 37.78"
   ]
  },
  {
   "cell_type": "code",
   "execution_count": 3,
   "metadata": {},
   "outputs": [],
   "source": [
    "# crating the path (PYTHONPATH) to our module.\n",
    "# assuming that our 'src' directory is out ('..') of our current directory \n",
    "\n",
    "import os\n",
    "import sys\n",
    "module_path = os.path.abspath(os.path.join('../../src'))\n",
    "\n",
    "if module_path not in sys.path:\n",
    "    sys.path.append(module_path)"
   ]
  },
  {
   "cell_type": "code",
   "execution_count": 4,
   "metadata": {},
   "outputs": [],
   "source": [
    "from src.base_molecule import Cluster, Molecule\n",
    "# Creates a molecule. You can use a list, a dictionary (the key MUST be \"atoms\")\n",
    "# or another molecule object (see below)\n",
    "\n",
    "# 1 Option\n",
    "water=[(\"O\", 0, 0, 0), (\"H\", 0.58708, 0.75754, 0), (\"H\", -0.58708, 0.75754, 0)]\n",
    "water_molecule = Molecule(water)\n",
    "\n",
    "# 2 Option\n",
    "water_dict = {\"atoms\": [(\"O\", 0, 0, 0), (\"H\", 0.58708, 0.75754, 0), (\"H\", -0.58708, 0.75754, 0)]}\n",
    "water_molecule = Molecule(water_dict)\n",
    "\n"
   ]
  },
  {
   "cell_type": "code",
   "execution_count": 5,
   "metadata": {},
   "outputs": [
    {
     "data": {
      "application/3dmoljs_load.v0": "<div id=\"3dmolviewer_16336448188386352\"  style=\"position: relative; width: 300px; height: 200px\">\n        <p id=\"3dmolwarning_16336448188386352\" style=\"background-color:#ffcccc;color:black\">You appear to be running in JupyterLab (or JavaScript failed to load for some other reason).  You need to install the 3dmol extension: <br>\n        <tt>jupyter labextension install jupyterlab_3dmol</tt></p>\n        </div>\n<script>\n\nvar loadScriptAsync = function(uri){\n  return new Promise((resolve, reject) => {\n    var tag = document.createElement('script');\n    tag.src = uri;\n    tag.async = true;\n    tag.onload = () => {\n      resolve();\n    };\n  var firstScriptTag = document.getElementsByTagName('script')[0];\n  firstScriptTag.parentNode.insertBefore(tag, firstScriptTag);\n});\n};\n\nif(typeof $3Dmolpromise === 'undefined') {\n$3Dmolpromise = null;\n  $3Dmolpromise = loadScriptAsync('https://3dmol.org/build/3Dmol.js');\n}\n\nvar viewer_16336448188386352 = null;\nvar warn = document.getElementById(\"3dmolwarning_16336448188386352\");\nif(warn) {\n    warn.parentNode.removeChild(warn);\n}\n$3Dmolpromise.then(function() {\nviewer_16336448188386352 = $3Dmol.createViewer($(\"#3dmolviewer_16336448188386352\"),{backgroundColor:\"white\"});\nviewer_16336448188386352.zoomTo();\n\tviewer_16336448188386352.addModel(\"\\t6\\n--system of 2 molecules and 6 total individual atoms--\\nO\\t 1.50000000\\t 1.50000000\\t 1.50000000\\nH\\t 2.08708000\\t 2.25754000\\t 1.50000000\\nH\\t 0.91292000\\t 2.25754000\\t 1.50000000\\nO\\t 0.00000000\\t 0.00000000\\t 0.00000000\\nH\\t 0.58708000\\t 0.75754000\\t 0.00000000\\nH\\t-0.58708000\\t 0.75754000\\t 0.00000000\\n\",\"xyz\");\n\tviewer_16336448188386352.setStyle({\"stick\": {}});\nviewer_16336448188386352.render();\n});\n</script>",
      "text/html": [
       "<div id=\"3dmolviewer_16336448188386352\"  style=\"position: relative; width: 300px; height: 200px\">\n",
       "        <p id=\"3dmolwarning_16336448188386352\" style=\"background-color:#ffcccc;color:black\">You appear to be running in JupyterLab (or JavaScript failed to load for some other reason).  You need to install the 3dmol extension: <br>\n",
       "        <tt>jupyter labextension install jupyterlab_3dmol</tt></p>\n",
       "        </div>\n",
       "<script>\n",
       "\n",
       "var loadScriptAsync = function(uri){\n",
       "  return new Promise((resolve, reject) => {\n",
       "    var tag = document.createElement('script');\n",
       "    tag.src = uri;\n",
       "    tag.async = true;\n",
       "    tag.onload = () => {\n",
       "      resolve();\n",
       "    };\n",
       "  var firstScriptTag = document.getElementsByTagName('script')[0];\n",
       "  firstScriptTag.parentNode.insertBefore(tag, firstScriptTag);\n",
       "});\n",
       "};\n",
       "\n",
       "if(typeof $3Dmolpromise === 'undefined') {\n",
       "$3Dmolpromise = null;\n",
       "  $3Dmolpromise = loadScriptAsync('https://3dmol.org/build/3Dmol.js');\n",
       "}\n",
       "\n",
       "var viewer_16336448188386352 = null;\n",
       "var warn = document.getElementById(\"3dmolwarning_16336448188386352\");\n",
       "if(warn) {\n",
       "    warn.parentNode.removeChild(warn);\n",
       "}\n",
       "$3Dmolpromise.then(function() {\n",
       "viewer_16336448188386352 = $3Dmol.createViewer($(\"#3dmolviewer_16336448188386352\"),{backgroundColor:\"white\"});\n",
       "viewer_16336448188386352.zoomTo();\n",
       "\tviewer_16336448188386352.addModel(\"\\t6\\n--system of 2 molecules and 6 total individual atoms--\\nO\\t 1.50000000\\t 1.50000000\\t 1.50000000\\nH\\t 2.08708000\\t 2.25754000\\t 1.50000000\\nH\\t 0.91292000\\t 2.25754000\\t 1.50000000\\nO\\t 0.00000000\\t 0.00000000\\t 0.00000000\\nH\\t 0.58708000\\t 0.75754000\\t 0.00000000\\nH\\t-0.58708000\\t 0.75754000\\t 0.00000000\\n\",\"xyz\");\n",
       "\tviewer_16336448188386352.setStyle({\"stick\": {}});\n",
       "viewer_16336448188386352.render();\n",
       "});\n",
       "</script>"
      ]
     },
     "metadata": {},
     "output_type": "display_data"
    },
    {
     "data": {
      "text/plain": [
       "<py3Dmol.view at 0x7f8e0c39ba60>"
      ]
     },
     "execution_count": 5,
     "metadata": {},
     "output_type": "execute_result"
    }
   ],
   "source": [
    "## See initial molecule.\n",
    "\n",
    "import py3Dmol\n",
    "\n",
    "water_molecule = Molecule(water_dict)\n",
    "water_molecule = water_molecule.translate(0, x=1.5, y=1.5, z=1.5)\n",
    "bi_water = water_molecule.add_fragments(water_dict)\n",
    "\n",
    "\n",
    "xyz_view = py3Dmol.view(width=300,height=200)\n",
    "xyz_view.addModel(str(bi_water),'xyz')\n",
    "xyz_view.setStyle({'stick':{}})"
   ]
  },
  {
   "cell_type": "code",
   "execution_count": 8,
   "metadata": {},
   "outputs": [
    {
     "name": "stderr",
     "output_type": "stream",
     "text": [
      "/home/danian/famaf/ascec/src/search_configuration.py:49: UserWarning: Center of Mass of the fragments 0 and 1 are overlapping. Then 1 is move 0.48168533595111107\n",
      "  warnings.warn(message)\n"
     ]
    },
    {
     "name": "stdout",
     "output_type": "stream",
     "text": [
      "converged SCF energy = -149.860272959031\n",
      "converged SCF energy = -149.860272959031\n",
      "converged SCF energy = -149.860231037151\n",
      "converged SCF energy = -149.860665338045\n",
      "converged SCF energy = -149.860620897562\n",
      "converged SCF energy = -149.860613113798\n",
      "converged SCF energy = -149.85986431817\n"
     ]
    },
    {
     "ename": "KeyboardInterrupt",
     "evalue": "",
     "output_type": "error",
     "traceback": [
      "\u001b[0;31m---------------------------------------------------------------------------\u001b[0m",
      "\u001b[0;31mKeyboardInterrupt\u001b[0m                         Traceback (most recent call last)",
      "\u001b[0;32m/tmp/ipykernel_6474/2064805174.py\u001b[0m in \u001b[0;36m<module>\u001b[0;34m\u001b[0m\n\u001b[1;32m     18\u001b[0m \u001b[0;34m\u001b[0m\u001b[0m\n\u001b[1;32m     19\u001b[0m \u001b[0msearch_config\u001b[0m \u001b[0;34m=\u001b[0m \u001b[0mSearchConfig\u001b[0m\u001b[0;34m(\u001b[0m\u001b[0mh2o\u001b[0m\u001b[0;34m)\u001b[0m\u001b[0;34m\u001b[0m\u001b[0;34m\u001b[0m\u001b[0m\n\u001b[0;32m---> 20\u001b[0;31m \u001b[0msearch_config\u001b[0m\u001b[0;34m.\u001b[0m\u001b[0mshgo\u001b[0m\u001b[0;34m(\u001b[0m\u001b[0;34m)\u001b[0m \u001b[0;31m#da, shgo\u001b[0m\u001b[0;34m\u001b[0m\u001b[0;34m\u001b[0m\u001b[0m\n\u001b[0m",
      "\u001b[0;32m~/famaf/ascec/src/search_configuration.py\u001b[0m in \u001b[0;36mshgo\u001b[0;34m(self, **kwargs)\u001b[0m\n\u001b[1;32m    144\u001b[0m             \u001b[0mshgo_options_dict\u001b[0m \u001b[0;34m=\u001b[0m \u001b[0;34m{\u001b[0m\u001b[0;34m\"options\"\u001b[0m\u001b[0;34m:\u001b[0m \u001b[0mshgo_tolerance_dict\u001b[0m\u001b[0;34m}\u001b[0m\u001b[0;34m\u001b[0m\u001b[0;34m\u001b[0m\u001b[0m\n\u001b[1;32m    145\u001b[0m \u001b[0;34m\u001b[0m\u001b[0m\n\u001b[0;32m--> 146\u001b[0;31m             self._search = shgo(\n\u001b[0m\u001b[1;32m    147\u001b[0m                 \u001b[0mself\u001b[0m\u001b[0;34m.\u001b[0m\u001b[0m_func\u001b[0m\u001b[0;34m,\u001b[0m\u001b[0;34m\u001b[0m\u001b[0;34m\u001b[0m\u001b[0m\n\u001b[1;32m    148\u001b[0m                 \u001b[0mbounds\u001b[0m\u001b[0;34m=\u001b[0m\u001b[0mself\u001b[0m\u001b[0;34m.\u001b[0m\u001b[0m_bounds\u001b[0m\u001b[0;34m,\u001b[0m\u001b[0;34m\u001b[0m\u001b[0;34m\u001b[0m\u001b[0m\n",
      "\u001b[0;32m~/famaf/vascec/lib/python3.9/site-packages/scipy/optimize/_shgo.py\u001b[0m in \u001b[0;36mshgo\u001b[0;34m(func, bounds, args, constraints, n, iters, callback, minimizer_kwargs, options, sampling_method)\u001b[0m\n\u001b[1;32m    417\u001b[0m \u001b[0;34m\u001b[0m\u001b[0m\n\u001b[1;32m    418\u001b[0m     \u001b[0;31m# Run the algorithm, process results and test success\u001b[0m\u001b[0;34m\u001b[0m\u001b[0;34m\u001b[0m\u001b[0;34m\u001b[0m\u001b[0m\n\u001b[0;32m--> 419\u001b[0;31m     \u001b[0mshc\u001b[0m\u001b[0;34m.\u001b[0m\u001b[0mconstruct_complex\u001b[0m\u001b[0;34m(\u001b[0m\u001b[0;34m)\u001b[0m\u001b[0;34m\u001b[0m\u001b[0;34m\u001b[0m\u001b[0m\n\u001b[0m\u001b[1;32m    420\u001b[0m \u001b[0;34m\u001b[0m\u001b[0m\n\u001b[1;32m    421\u001b[0m     \u001b[0;32mif\u001b[0m \u001b[0;32mnot\u001b[0m \u001b[0mshc\u001b[0m\u001b[0;34m.\u001b[0m\u001b[0mbreak_routine\u001b[0m\u001b[0;34m:\u001b[0m\u001b[0;34m\u001b[0m\u001b[0;34m\u001b[0m\u001b[0m\n",
      "\u001b[0;32m~/famaf/vascec/lib/python3.9/site-packages/scipy/optimize/_shgo.py\u001b[0m in \u001b[0;36mconstruct_complex\u001b[0;34m(self)\u001b[0m\n\u001b[1;32m    731\u001b[0m                 \u001b[0;32mbreak\u001b[0m\u001b[0;34m\u001b[0m\u001b[0;34m\u001b[0m\u001b[0m\n\u001b[1;32m    732\u001b[0m             \u001b[0;31m# Iterate complex, process minimisers\u001b[0m\u001b[0;34m\u001b[0m\u001b[0;34m\u001b[0m\u001b[0;34m\u001b[0m\u001b[0m\n\u001b[0;32m--> 733\u001b[0;31m             \u001b[0mself\u001b[0m\u001b[0;34m.\u001b[0m\u001b[0miterate\u001b[0m\u001b[0;34m(\u001b[0m\u001b[0;34m)\u001b[0m\u001b[0;34m\u001b[0m\u001b[0;34m\u001b[0m\u001b[0m\n\u001b[0m\u001b[1;32m    734\u001b[0m             \u001b[0mself\u001b[0m\u001b[0;34m.\u001b[0m\u001b[0mstopping_criteria\u001b[0m\u001b[0;34m(\u001b[0m\u001b[0;34m)\u001b[0m\u001b[0;34m\u001b[0m\u001b[0;34m\u001b[0m\u001b[0m\n\u001b[1;32m    735\u001b[0m \u001b[0;34m\u001b[0m\u001b[0m\n",
      "\u001b[0;32m~/famaf/vascec/lib/python3.9/site-packages/scipy/optimize/_shgo.py\u001b[0m in \u001b[0;36miterate\u001b[0;34m(self)\u001b[0m\n\u001b[1;32m    874\u001b[0m \u001b[0;34m\u001b[0m\u001b[0m\n\u001b[1;32m    875\u001b[0m     \u001b[0;32mdef\u001b[0m \u001b[0miterate\u001b[0m\u001b[0;34m(\u001b[0m\u001b[0mself\u001b[0m\u001b[0;34m)\u001b[0m\u001b[0;34m:\u001b[0m\u001b[0;34m\u001b[0m\u001b[0;34m\u001b[0m\u001b[0m\n\u001b[0;32m--> 876\u001b[0;31m         \u001b[0mself\u001b[0m\u001b[0;34m.\u001b[0m\u001b[0miterate_complex\u001b[0m\u001b[0;34m(\u001b[0m\u001b[0;34m)\u001b[0m\u001b[0;34m\u001b[0m\u001b[0;34m\u001b[0m\u001b[0m\n\u001b[0m\u001b[1;32m    877\u001b[0m \u001b[0;34m\u001b[0m\u001b[0m\n\u001b[1;32m    878\u001b[0m         \u001b[0;31m# Build minimizer pool\u001b[0m\u001b[0;34m\u001b[0m\u001b[0;34m\u001b[0m\u001b[0;34m\u001b[0m\u001b[0m\n",
      "\u001b[0;32m~/famaf/vascec/lib/python3.9/site-packages/scipy/optimize/_shgo.py\u001b[0m in \u001b[0;36miterate_delaunay\u001b[0;34m(self)\u001b[0m\n\u001b[1;32m    910\u001b[0m         \u001b[0mNote\u001b[0m\u001b[0;34m:\u001b[0m \u001b[0mcalled\u001b[0m \u001b[0;32mwith\u001b[0m\u001b[0;31m \u001b[0m\u001b[0;31m`\u001b[0m\u001b[0;31m`\u001b[0m\u001b[0mself\u001b[0m\u001b[0;34m.\u001b[0m\u001b[0miterate_complex\u001b[0m\u001b[0;34m(\u001b[0m\u001b[0;34m)\u001b[0m\u001b[0;31m`\u001b[0m\u001b[0;31m`\u001b[0m \u001b[0mafter\u001b[0m \u001b[0;32mclass\u001b[0m \u001b[0minitiation\u001b[0m\u001b[0;34m\u001b[0m\u001b[0;34m\u001b[0m\u001b[0m\n\u001b[1;32m    911\u001b[0m         \"\"\"\n\u001b[0;32m--> 912\u001b[0;31m         \u001b[0mself\u001b[0m\u001b[0;34m.\u001b[0m\u001b[0msampled_surface\u001b[0m\u001b[0;34m(\u001b[0m\u001b[0minfty_cons_sampl\u001b[0m\u001b[0;34m=\u001b[0m\u001b[0mself\u001b[0m\u001b[0;34m.\u001b[0m\u001b[0minfty_cons_sampl\u001b[0m\u001b[0;34m)\u001b[0m\u001b[0;34m\u001b[0m\u001b[0;34m\u001b[0m\u001b[0m\n\u001b[0m\u001b[1;32m    913\u001b[0m         \u001b[0mself\u001b[0m\u001b[0;34m.\u001b[0m\u001b[0mnc\u001b[0m \u001b[0;34m+=\u001b[0m \u001b[0mself\u001b[0m\u001b[0;34m.\u001b[0m\u001b[0mn\u001b[0m\u001b[0;34m\u001b[0m\u001b[0;34m\u001b[0m\u001b[0m\n\u001b[1;32m    914\u001b[0m         \u001b[0mself\u001b[0m\u001b[0;34m.\u001b[0m\u001b[0mn_sampled\u001b[0m \u001b[0;34m=\u001b[0m \u001b[0mself\u001b[0m\u001b[0;34m.\u001b[0m\u001b[0mnc\u001b[0m\u001b[0;34m\u001b[0m\u001b[0;34m\u001b[0m\u001b[0m\n",
      "\u001b[0;32m~/famaf/vascec/lib/python3.9/site-packages/scipy/optimize/_shgo.py\u001b[0m in \u001b[0;36msampled_surface\u001b[0;34m(self, infty_cons_sampl)\u001b[0m\n\u001b[1;32m   1241\u001b[0m \u001b[0;34m\u001b[0m\u001b[0m\n\u001b[1;32m   1242\u001b[0m         \u001b[0;31m# Find objective function references\u001b[0m\u001b[0;34m\u001b[0m\u001b[0;34m\u001b[0m\u001b[0;34m\u001b[0m\u001b[0m\n\u001b[0;32m-> 1243\u001b[0;31m         \u001b[0mself\u001b[0m\u001b[0;34m.\u001b[0m\u001b[0mfun_ref\u001b[0m\u001b[0;34m(\u001b[0m\u001b[0;34m)\u001b[0m\u001b[0;34m\u001b[0m\u001b[0;34m\u001b[0m\u001b[0m\n\u001b[0m\u001b[1;32m   1244\u001b[0m \u001b[0;34m\u001b[0m\u001b[0m\n\u001b[1;32m   1245\u001b[0m         \u001b[0mself\u001b[0m\u001b[0;34m.\u001b[0m\u001b[0mn_sampled\u001b[0m \u001b[0;34m=\u001b[0m \u001b[0mself\u001b[0m\u001b[0;34m.\u001b[0m\u001b[0mnc\u001b[0m\u001b[0;34m\u001b[0m\u001b[0;34m\u001b[0m\u001b[0m\n",
      "\u001b[0;32m~/famaf/vascec/lib/python3.9/site-packages/scipy/optimize/_shgo.py\u001b[0m in \u001b[0;36mfun_ref\u001b[0;34m(self)\u001b[0m\n\u001b[1;32m   1359\u001b[0m \u001b[0;34m\u001b[0m\u001b[0m\n\u001b[1;32m   1360\u001b[0m             \u001b[0;32mif\u001b[0m \u001b[0meval_f\u001b[0m\u001b[0;34m:\u001b[0m\u001b[0;34m\u001b[0m\u001b[0;34m\u001b[0m\u001b[0m\n\u001b[0;32m-> 1361\u001b[0;31m                 \u001b[0mself\u001b[0m\u001b[0;34m.\u001b[0m\u001b[0mF\u001b[0m\u001b[0;34m[\u001b[0m\u001b[0mi\u001b[0m\u001b[0;34m]\u001b[0m \u001b[0;34m=\u001b[0m \u001b[0mself\u001b[0m\u001b[0;34m.\u001b[0m\u001b[0mfunc\u001b[0m\u001b[0;34m(\u001b[0m\u001b[0mself\u001b[0m\u001b[0;34m.\u001b[0m\u001b[0mC\u001b[0m\u001b[0;34m[\u001b[0m\u001b[0mi\u001b[0m\u001b[0;34m,\u001b[0m \u001b[0;34m:\u001b[0m\u001b[0;34m]\u001b[0m\u001b[0;34m,\u001b[0m \u001b[0;34m*\u001b[0m\u001b[0mself\u001b[0m\u001b[0;34m.\u001b[0m\u001b[0margs\u001b[0m\u001b[0;34m)\u001b[0m\u001b[0;34m\u001b[0m\u001b[0;34m\u001b[0m\u001b[0m\n\u001b[0m\u001b[1;32m   1362\u001b[0m                 \u001b[0mself\u001b[0m\u001b[0;34m.\u001b[0m\u001b[0mfn\u001b[0m \u001b[0;34m+=\u001b[0m \u001b[0;36m1\u001b[0m\u001b[0;34m\u001b[0m\u001b[0;34m\u001b[0m\u001b[0m\n\u001b[1;32m   1363\u001b[0m             \u001b[0;32melif\u001b[0m \u001b[0mself\u001b[0m\u001b[0;34m.\u001b[0m\u001b[0minfty_cons_sampl\u001b[0m\u001b[0;34m:\u001b[0m\u001b[0;34m\u001b[0m\u001b[0;34m\u001b[0m\u001b[0m\n",
      "\u001b[0;32m~/famaf/ascec/src/heisenberg.py\u001b[0m in \u001b[0;36mhamiltonian_pyscf\u001b[0;34m(x, *args)\u001b[0m\n\u001b[1;32m    125\u001b[0m     )\n\u001b[1;32m    126\u001b[0m \u001b[0;34m\u001b[0m\u001b[0m\n\u001b[0;32m--> 127\u001b[0;31m     \u001b[0me\u001b[0m \u001b[0;34m=\u001b[0m \u001b[0mscf\u001b[0m\u001b[0;34m.\u001b[0m\u001b[0mHF\u001b[0m\u001b[0;34m(\u001b[0m\u001b[0mmol\u001b[0m\u001b[0;34m)\u001b[0m\u001b[0;34m.\u001b[0m\u001b[0mkernel\u001b[0m\u001b[0;34m(\u001b[0m\u001b[0;34m)\u001b[0m\u001b[0;34m\u001b[0m\u001b[0;34m\u001b[0m\u001b[0m\n\u001b[0m\u001b[1;32m    128\u001b[0m     \u001b[0margs\u001b[0m\u001b[0;34m[\u001b[0m\u001b[0;36m2\u001b[0m\u001b[0;34m]\u001b[0m\u001b[0;34m.\u001b[0m\u001b[0mwrite\u001b[0m\u001b[0;34m(\u001b[0m\u001b[0mstr\u001b[0m\u001b[0;34m(\u001b[0m\u001b[0mnew_object\u001b[0m\u001b[0;34m.\u001b[0m\u001b[0m_total_atoms\u001b[0m\u001b[0;34m)\u001b[0m \u001b[0;34m+\u001b[0m \u001b[0;34m\"\\n\"\u001b[0m\u001b[0;34m)\u001b[0m\u001b[0;34m\u001b[0m\u001b[0;34m\u001b[0m\u001b[0m\n\u001b[1;32m    129\u001b[0m     \u001b[0margs\u001b[0m\u001b[0;34m[\u001b[0m\u001b[0;36m2\u001b[0m\u001b[0;34m]\u001b[0m\u001b[0;34m.\u001b[0m\u001b[0mwrite\u001b[0m\u001b[0;34m(\u001b[0m\u001b[0;34m\"Energy: \"\u001b[0m \u001b[0;34m+\u001b[0m \u001b[0mstr\u001b[0m\u001b[0;34m(\u001b[0m\u001b[0me\u001b[0m\u001b[0;34m)\u001b[0m \u001b[0;34m+\u001b[0m \u001b[0;34m\"\\n\"\u001b[0m\u001b[0;34m)\u001b[0m\u001b[0;34m\u001b[0m\u001b[0;34m\u001b[0m\u001b[0m\n",
      "\u001b[0;32m~/famaf/vascec/lib/python3.9/site-packages/pyscf/lib/misc.py\u001b[0m in \u001b[0;36maliased_fn\u001b[0;34m(self, *args, **kwargs)\u001b[0m\n\u001b[1;32m    635\u001b[0m     \u001b[0mfname\u001b[0m \u001b[0;34m=\u001b[0m \u001b[0mfn\u001b[0m\u001b[0;34m.\u001b[0m\u001b[0m__name__\u001b[0m\u001b[0;34m\u001b[0m\u001b[0;34m\u001b[0m\u001b[0m\n\u001b[1;32m    636\u001b[0m     \u001b[0;32mdef\u001b[0m \u001b[0maliased_fn\u001b[0m\u001b[0;34m(\u001b[0m\u001b[0mself\u001b[0m\u001b[0;34m,\u001b[0m \u001b[0;34m*\u001b[0m\u001b[0margs\u001b[0m\u001b[0;34m,\u001b[0m \u001b[0;34m**\u001b[0m\u001b[0mkwargs\u001b[0m\u001b[0;34m)\u001b[0m\u001b[0;34m:\u001b[0m\u001b[0;34m\u001b[0m\u001b[0;34m\u001b[0m\u001b[0m\n\u001b[0;32m--> 637\u001b[0;31m         \u001b[0;32mreturn\u001b[0m \u001b[0mgetattr\u001b[0m\u001b[0;34m(\u001b[0m\u001b[0mself\u001b[0m\u001b[0;34m,\u001b[0m \u001b[0mfname\u001b[0m\u001b[0;34m)\u001b[0m\u001b[0;34m(\u001b[0m\u001b[0;34m*\u001b[0m\u001b[0margs\u001b[0m\u001b[0;34m,\u001b[0m \u001b[0;34m**\u001b[0m\u001b[0mkwargs\u001b[0m\u001b[0;34m)\u001b[0m\u001b[0;34m\u001b[0m\u001b[0;34m\u001b[0m\u001b[0m\n\u001b[0m\u001b[1;32m    638\u001b[0m \u001b[0;34m\u001b[0m\u001b[0m\n\u001b[1;32m    639\u001b[0m     \u001b[0;32mif\u001b[0m \u001b[0malias_name\u001b[0m \u001b[0;32mis\u001b[0m \u001b[0;32mnot\u001b[0m \u001b[0;32mNone\u001b[0m\u001b[0;34m:\u001b[0m\u001b[0;34m\u001b[0m\u001b[0;34m\u001b[0m\u001b[0m\n",
      "\u001b[0;32m~/famaf/vascec/lib/python3.9/site-packages/pyscf/scf/hf.py\u001b[0m in \u001b[0;36mscf\u001b[0;34m(self, dm0, **kwargs)\u001b[0m\n\u001b[1;32m   1646\u001b[0m             \u001b[0mself\u001b[0m\u001b[0;34m.\u001b[0m\u001b[0mconverged\u001b[0m\u001b[0;34m,\u001b[0m \u001b[0mself\u001b[0m\u001b[0;34m.\u001b[0m\u001b[0me_tot\u001b[0m\u001b[0;34m,\u001b[0m\u001b[0;31m \u001b[0m\u001b[0;31m\\\u001b[0m\u001b[0;34m\u001b[0m\u001b[0;34m\u001b[0m\u001b[0m\n\u001b[1;32m   1647\u001b[0m                     \u001b[0mself\u001b[0m\u001b[0;34m.\u001b[0m\u001b[0mmo_energy\u001b[0m\u001b[0;34m,\u001b[0m \u001b[0mself\u001b[0m\u001b[0;34m.\u001b[0m\u001b[0mmo_coeff\u001b[0m\u001b[0;34m,\u001b[0m \u001b[0mself\u001b[0m\u001b[0;34m.\u001b[0m\u001b[0mmo_occ\u001b[0m \u001b[0;34m=\u001b[0m\u001b[0;31m \u001b[0m\u001b[0;31m\\\u001b[0m\u001b[0;34m\u001b[0m\u001b[0;34m\u001b[0m\u001b[0m\n\u001b[0;32m-> 1648\u001b[0;31m                     kernel(self, self.conv_tol, self.conv_tol_grad,\n\u001b[0m\u001b[1;32m   1649\u001b[0m                            \u001b[0mdm0\u001b[0m\u001b[0;34m=\u001b[0m\u001b[0mdm0\u001b[0m\u001b[0;34m,\u001b[0m \u001b[0mcallback\u001b[0m\u001b[0;34m=\u001b[0m\u001b[0mself\u001b[0m\u001b[0;34m.\u001b[0m\u001b[0mcallback\u001b[0m\u001b[0;34m,\u001b[0m\u001b[0;34m\u001b[0m\u001b[0;34m\u001b[0m\u001b[0m\n\u001b[1;32m   1650\u001b[0m                            conv_check=self.conv_check, **kwargs)\n",
      "\u001b[0;32m~/famaf/vascec/lib/python3.9/site-packages/pyscf/scf/hf.py\u001b[0m in \u001b[0;36mkernel\u001b[0;34m(mf, conv_tol, conv_tol_grad, dump_chk, dm0, callback, conv_check, **kwargs)\u001b[0m\n\u001b[1;32m    175\u001b[0m         \u001b[0;31m# attach mo_coeff and mo_occ to dm to improve DFT get_veff efficiency\u001b[0m\u001b[0;34m\u001b[0m\u001b[0;34m\u001b[0m\u001b[0;34m\u001b[0m\u001b[0m\n\u001b[1;32m    176\u001b[0m         \u001b[0mdm\u001b[0m \u001b[0;34m=\u001b[0m \u001b[0mlib\u001b[0m\u001b[0;34m.\u001b[0m\u001b[0mtag_array\u001b[0m\u001b[0;34m(\u001b[0m\u001b[0mdm\u001b[0m\u001b[0;34m,\u001b[0m \u001b[0mmo_coeff\u001b[0m\u001b[0;34m=\u001b[0m\u001b[0mmo_coeff\u001b[0m\u001b[0;34m,\u001b[0m \u001b[0mmo_occ\u001b[0m\u001b[0;34m=\u001b[0m\u001b[0mmo_occ\u001b[0m\u001b[0;34m)\u001b[0m\u001b[0;34m\u001b[0m\u001b[0;34m\u001b[0m\u001b[0m\n\u001b[0;32m--> 177\u001b[0;31m         \u001b[0mvhf\u001b[0m \u001b[0;34m=\u001b[0m \u001b[0mmf\u001b[0m\u001b[0;34m.\u001b[0m\u001b[0mget_veff\u001b[0m\u001b[0;34m(\u001b[0m\u001b[0mmol\u001b[0m\u001b[0;34m,\u001b[0m \u001b[0mdm\u001b[0m\u001b[0;34m,\u001b[0m \u001b[0mdm_last\u001b[0m\u001b[0;34m,\u001b[0m \u001b[0mvhf\u001b[0m\u001b[0;34m)\u001b[0m\u001b[0;34m\u001b[0m\u001b[0;34m\u001b[0m\u001b[0m\n\u001b[0m\u001b[1;32m    178\u001b[0m         \u001b[0me_tot\u001b[0m \u001b[0;34m=\u001b[0m \u001b[0mmf\u001b[0m\u001b[0;34m.\u001b[0m\u001b[0menergy_tot\u001b[0m\u001b[0;34m(\u001b[0m\u001b[0mdm\u001b[0m\u001b[0;34m,\u001b[0m \u001b[0mh1e\u001b[0m\u001b[0;34m,\u001b[0m \u001b[0mvhf\u001b[0m\u001b[0;34m)\u001b[0m\u001b[0;34m\u001b[0m\u001b[0;34m\u001b[0m\u001b[0m\n\u001b[1;32m    179\u001b[0m \u001b[0;34m\u001b[0m\u001b[0m\n",
      "\u001b[0;32m~/famaf/vascec/lib/python3.9/site-packages/pyscf/scf/hf.py\u001b[0m in \u001b[0;36mget_veff\u001b[0;34m(self, mol, dm, dm_last, vhf_last, hermi)\u001b[0m\n\u001b[1;32m   1964\u001b[0m         \u001b[0;32mif\u001b[0m \u001b[0mdm\u001b[0m \u001b[0;32mis\u001b[0m \u001b[0;32mNone\u001b[0m\u001b[0;34m:\u001b[0m \u001b[0mdm\u001b[0m \u001b[0;34m=\u001b[0m \u001b[0mself\u001b[0m\u001b[0;34m.\u001b[0m\u001b[0mmake_rdm1\u001b[0m\u001b[0;34m(\u001b[0m\u001b[0;34m)\u001b[0m\u001b[0;34m\u001b[0m\u001b[0;34m\u001b[0m\u001b[0m\n\u001b[1;32m   1965\u001b[0m         \u001b[0;32mif\u001b[0m \u001b[0mself\u001b[0m\u001b[0;34m.\u001b[0m\u001b[0m_eri\u001b[0m \u001b[0;32mis\u001b[0m \u001b[0;32mnot\u001b[0m \u001b[0;32mNone\u001b[0m \u001b[0;32mor\u001b[0m \u001b[0;32mnot\u001b[0m \u001b[0mself\u001b[0m\u001b[0;34m.\u001b[0m\u001b[0mdirect_scf\u001b[0m\u001b[0;34m:\u001b[0m\u001b[0;34m\u001b[0m\u001b[0;34m\u001b[0m\u001b[0m\n\u001b[0;32m-> 1966\u001b[0;31m             \u001b[0mvj\u001b[0m\u001b[0;34m,\u001b[0m \u001b[0mvk\u001b[0m \u001b[0;34m=\u001b[0m \u001b[0mself\u001b[0m\u001b[0;34m.\u001b[0m\u001b[0mget_jk\u001b[0m\u001b[0;34m(\u001b[0m\u001b[0mmol\u001b[0m\u001b[0;34m,\u001b[0m \u001b[0mdm\u001b[0m\u001b[0;34m,\u001b[0m \u001b[0mhermi\u001b[0m\u001b[0;34m)\u001b[0m\u001b[0;34m\u001b[0m\u001b[0;34m\u001b[0m\u001b[0m\n\u001b[0m\u001b[1;32m   1967\u001b[0m             \u001b[0mvhf\u001b[0m \u001b[0;34m=\u001b[0m \u001b[0mvj\u001b[0m \u001b[0;34m-\u001b[0m \u001b[0mvk\u001b[0m \u001b[0;34m*\u001b[0m \u001b[0;36m.5\u001b[0m\u001b[0;34m\u001b[0m\u001b[0;34m\u001b[0m\u001b[0m\n\u001b[1;32m   1968\u001b[0m         \u001b[0;32melse\u001b[0m\u001b[0;34m:\u001b[0m\u001b[0;34m\u001b[0m\u001b[0;34m\u001b[0m\u001b[0m\n",
      "\u001b[0;32m~/famaf/vascec/lib/python3.9/site-packages/pyscf/scf/hf.py\u001b[0m in \u001b[0;36mget_jk\u001b[0;34m(self, mol, dm, hermi, with_j, with_k, omega)\u001b[0m\n\u001b[1;32m   1954\u001b[0m             \u001b[0;32mif\u001b[0m \u001b[0mself\u001b[0m\u001b[0;34m.\u001b[0m\u001b[0m_eri\u001b[0m \u001b[0;32mis\u001b[0m \u001b[0;32mNone\u001b[0m\u001b[0;34m:\u001b[0m\u001b[0;34m\u001b[0m\u001b[0;34m\u001b[0m\u001b[0m\n\u001b[1;32m   1955\u001b[0m                 \u001b[0mself\u001b[0m\u001b[0;34m.\u001b[0m\u001b[0m_eri\u001b[0m \u001b[0;34m=\u001b[0m \u001b[0mmol\u001b[0m\u001b[0;34m.\u001b[0m\u001b[0mintor\u001b[0m\u001b[0;34m(\u001b[0m\u001b[0;34m'int2e'\u001b[0m\u001b[0;34m,\u001b[0m \u001b[0maosym\u001b[0m\u001b[0;34m=\u001b[0m\u001b[0;34m's8'\u001b[0m\u001b[0;34m)\u001b[0m\u001b[0;34m\u001b[0m\u001b[0;34m\u001b[0m\u001b[0m\n\u001b[0;32m-> 1956\u001b[0;31m             \u001b[0mvj\u001b[0m\u001b[0;34m,\u001b[0m \u001b[0mvk\u001b[0m \u001b[0;34m=\u001b[0m \u001b[0mdot_eri_dm\u001b[0m\u001b[0;34m(\u001b[0m\u001b[0mself\u001b[0m\u001b[0;34m.\u001b[0m\u001b[0m_eri\u001b[0m\u001b[0;34m,\u001b[0m \u001b[0mdm\u001b[0m\u001b[0;34m,\u001b[0m \u001b[0mhermi\u001b[0m\u001b[0;34m,\u001b[0m \u001b[0mwith_j\u001b[0m\u001b[0;34m,\u001b[0m \u001b[0mwith_k\u001b[0m\u001b[0;34m)\u001b[0m\u001b[0;34m\u001b[0m\u001b[0;34m\u001b[0m\u001b[0m\n\u001b[0m\u001b[1;32m   1957\u001b[0m         \u001b[0;32melse\u001b[0m\u001b[0;34m:\u001b[0m\u001b[0;34m\u001b[0m\u001b[0;34m\u001b[0m\u001b[0m\n\u001b[1;32m   1958\u001b[0m             \u001b[0mvj\u001b[0m\u001b[0;34m,\u001b[0m \u001b[0mvk\u001b[0m \u001b[0;34m=\u001b[0m \u001b[0mSCF\u001b[0m\u001b[0;34m.\u001b[0m\u001b[0mget_jk\u001b[0m\u001b[0;34m(\u001b[0m\u001b[0mself\u001b[0m\u001b[0;34m,\u001b[0m \u001b[0mmol\u001b[0m\u001b[0;34m,\u001b[0m \u001b[0mdm\u001b[0m\u001b[0;34m,\u001b[0m \u001b[0mhermi\u001b[0m\u001b[0;34m,\u001b[0m \u001b[0mwith_j\u001b[0m\u001b[0;34m,\u001b[0m \u001b[0mwith_k\u001b[0m\u001b[0;34m,\u001b[0m \u001b[0momega\u001b[0m\u001b[0;34m)\u001b[0m\u001b[0;34m\u001b[0m\u001b[0;34m\u001b[0m\u001b[0m\n",
      "\u001b[0;32m~/famaf/vascec/lib/python3.9/site-packages/pyscf/scf/hf.py\u001b[0m in \u001b[0;36mdot_eri_dm\u001b[0;34m(eri, dm, hermi, with_j, with_k)\u001b[0m\n\u001b[1;32m    716\u001b[0m             \u001b[0mvk\u001b[0m \u001b[0;34m=\u001b[0m \u001b[0mvk\u001b[0m\u001b[0;34m.\u001b[0m\u001b[0mreshape\u001b[0m\u001b[0;34m(\u001b[0m\u001b[0mdm\u001b[0m\u001b[0;34m.\u001b[0m\u001b[0mshape\u001b[0m\u001b[0;34m)\u001b[0m\u001b[0;34m\u001b[0m\u001b[0;34m\u001b[0m\u001b[0m\n\u001b[1;32m    717\u001b[0m     \u001b[0;32melse\u001b[0m\u001b[0;34m:\u001b[0m\u001b[0;34m\u001b[0m\u001b[0;34m\u001b[0m\u001b[0m\n\u001b[0;32m--> 718\u001b[0;31m         \u001b[0mvj\u001b[0m\u001b[0;34m,\u001b[0m \u001b[0mvk\u001b[0m \u001b[0;34m=\u001b[0m \u001b[0m_vhf\u001b[0m\u001b[0;34m.\u001b[0m\u001b[0mincore\u001b[0m\u001b[0;34m(\u001b[0m\u001b[0meri\u001b[0m\u001b[0;34m,\u001b[0m \u001b[0mdm\u001b[0m\u001b[0;34m.\u001b[0m\u001b[0mreal\u001b[0m\u001b[0;34m,\u001b[0m \u001b[0mhermi\u001b[0m\u001b[0;34m,\u001b[0m \u001b[0mwith_j\u001b[0m\u001b[0;34m,\u001b[0m \u001b[0mwith_k\u001b[0m\u001b[0;34m)\u001b[0m\u001b[0;34m\u001b[0m\u001b[0;34m\u001b[0m\u001b[0m\n\u001b[0m\u001b[1;32m    719\u001b[0m         \u001b[0;32mif\u001b[0m \u001b[0mdm\u001b[0m\u001b[0;34m.\u001b[0m\u001b[0mdtype\u001b[0m \u001b[0;34m==\u001b[0m \u001b[0mnumpy\u001b[0m\u001b[0;34m.\u001b[0m\u001b[0mcomplex128\u001b[0m\u001b[0;34m:\u001b[0m\u001b[0;34m\u001b[0m\u001b[0;34m\u001b[0m\u001b[0m\n\u001b[1;32m    720\u001b[0m             \u001b[0mvs\u001b[0m \u001b[0;34m=\u001b[0m \u001b[0m_vhf\u001b[0m\u001b[0;34m.\u001b[0m\u001b[0mincore\u001b[0m\u001b[0;34m(\u001b[0m\u001b[0meri\u001b[0m\u001b[0;34m,\u001b[0m \u001b[0mdm\u001b[0m\u001b[0;34m.\u001b[0m\u001b[0mimag\u001b[0m\u001b[0;34m,\u001b[0m \u001b[0;36m0\u001b[0m\u001b[0;34m,\u001b[0m \u001b[0mwith_j\u001b[0m\u001b[0;34m,\u001b[0m \u001b[0mwith_k\u001b[0m\u001b[0;34m)\u001b[0m\u001b[0;34m\u001b[0m\u001b[0;34m\u001b[0m\u001b[0m\n",
      "\u001b[0;32m~/famaf/vascec/lib/python3.9/site-packages/pyscf/scf/_vhf.py\u001b[0m in \u001b[0;36mincore\u001b[0;34m(eri, dms, hermi, with_j, with_k)\u001b[0m\n\u001b[1;32m    232\u001b[0m \u001b[0;34m\u001b[0m\u001b[0m\n\u001b[1;32m    233\u001b[0m     \u001b[0mn_ops\u001b[0m \u001b[0;34m=\u001b[0m \u001b[0mlen\u001b[0m\u001b[0;34m(\u001b[0m\u001b[0mdmsptr\u001b[0m\u001b[0;34m)\u001b[0m\u001b[0;34m\u001b[0m\u001b[0;34m\u001b[0m\u001b[0m\n\u001b[0;32m--> 234\u001b[0;31m     fdrv(eri.ctypes.data_as(ctypes.c_void_p),\n\u001b[0m\u001b[1;32m    235\u001b[0m          \u001b[0;34m(\u001b[0m\u001b[0mctypes\u001b[0m\u001b[0;34m.\u001b[0m\u001b[0mc_void_p\u001b[0m\u001b[0;34m*\u001b[0m\u001b[0mn_ops\u001b[0m\u001b[0;34m)\u001b[0m\u001b[0;34m(\u001b[0m\u001b[0;34m*\u001b[0m\u001b[0mdmsptr\u001b[0m\u001b[0;34m)\u001b[0m\u001b[0;34m,\u001b[0m \u001b[0;34m(\u001b[0m\u001b[0mctypes\u001b[0m\u001b[0;34m.\u001b[0m\u001b[0mc_void_p\u001b[0m\u001b[0;34m*\u001b[0m\u001b[0mn_ops\u001b[0m\u001b[0;34m)\u001b[0m\u001b[0;34m(\u001b[0m\u001b[0;34m*\u001b[0m\u001b[0mvjkptr\u001b[0m\u001b[0;34m)\u001b[0m\u001b[0;34m,\u001b[0m\u001b[0;34m\u001b[0m\u001b[0;34m\u001b[0m\u001b[0m\n\u001b[1;32m    236\u001b[0m          \u001b[0mctypes\u001b[0m\u001b[0;34m.\u001b[0m\u001b[0mc_int\u001b[0m\u001b[0;34m(\u001b[0m\u001b[0mn_ops\u001b[0m\u001b[0;34m)\u001b[0m\u001b[0;34m,\u001b[0m \u001b[0mctypes\u001b[0m\u001b[0;34m.\u001b[0m\u001b[0mc_int\u001b[0m\u001b[0;34m(\u001b[0m\u001b[0mnao\u001b[0m\u001b[0;34m)\u001b[0m\u001b[0;34m,\u001b[0m\u001b[0;34m\u001b[0m\u001b[0;34m\u001b[0m\u001b[0m\n",
      "\u001b[0;31mKeyboardInterrupt\u001b[0m: "
     ]
    }
   ],
   "source": [
    "import sys\n",
    "\n",
    "sys.path.append(\"../\")\n",
    "\n",
    "from src.search_configuration import SearchConfig\n",
    "\n",
    "\n",
    "#################################################\n",
    "# Configuración del sistema de trabajo\n",
    "#################################################\n",
    "\n",
    "h2o = Cluster(water, water)\n",
    "\n",
    "################################################\n",
    "# Configuración de la busqueda\n",
    "###############################################\n",
    "\n",
    "\n",
    "search_config = SearchConfig(h2o)\n",
    "search_config.shgo() #da, shgo"
   ]
  },
  {
   "cell_type": "code",
   "execution_count": 27,
   "metadata": {},
   "outputs": [
    {
     "data": {
      "application/3dmoljs_load.v0": "<div id=\"3dmolviewer_28743507055205\"  style=\"position: relative; width: 1000px; height: 700px\">\n        <p id=\"3dmolwarning_28743507055205\" style=\"background-color:#ffcccc;color:black\">You appear to be running in JupyterLab (or JavaScript failed to load for some other reason).  You need to install the 3dmol extension: <br>\n        <tt>jupyter labextension install jupyterlab_3dmol</tt></p>\n        </div>\n<script>\n\nvar loadScriptAsync = function(uri){\n  return new Promise((resolve, reject) => {\n    var tag = document.createElement('script');\n    tag.src = uri;\n    tag.async = true;\n    tag.onload = () => {\n      resolve();\n    };\n  var firstScriptTag = document.getElementsByTagName('script')[0];\n  firstScriptTag.parentNode.insertBefore(tag, firstScriptTag);\n});\n};\n\nif(typeof $3Dmolpromise === 'undefined') {\n$3Dmolpromise = null;\n  $3Dmolpromise = loadScriptAsync('https://3dmol.org/build/3Dmol.js');\n}\n\nvar viewer_28743507055205 = null;\nvar warn = document.getElementById(\"3dmolwarning_28743507055205\");\nif(warn) {\n    warn.parentNode.removeChild(warn);\n}\n$3Dmolpromise.then(function() {\nviewer_28743507055205 = $3Dmol.createViewer($(\"#3dmolviewer_28743507055205\"),{backgroundColor:\"white\"});\nviewer_28743507055205.zoomTo();\n\tviewer_28743507055205.addModelsAsFrames(\"6\\nEnergy: -149.86134063190093\\nO  0.9092508597428465  1.2844296747285309  1.1230416338641946\\nH  0.4385599687080142  1.4258700316460826  1.2481743249130377\\nH  0.6156537428474161  1.0783783845843773  0.764493061676443\\nO  -0.3923361398577341  0.08703192316745009  -0.3087492770641597\\nH  -0.017348011869886017  -0.0652676630228382  -0.614367044466013\\nH  -0.35123570433867235  0.45731977724080713  -0.6528584736328479\\n6\\nEnergy: -149.86335970614408\\nO  -0.35310487336135293  1.4161699193539743  -0.15227227974455332\\nH  -0.17516022036800488  1.0029901883849484  0.08188939565237059\\nH  -0.6637758862219779  1.3512161560220002  0.2433007353037708\\nO  -0.2428321293329698  0.24482089622584496  1.3862254798505171\\nH  -0.6815071573967909  0.04624221687433869  1.5454241221106642\\nH  -0.11906555016805401  -0.2176782093419757  1.553527276218747\\n6\\nEnergy: -149.86048384460864\\nO  -0.845559182747324  0.9354792943923116  -0.5403793463211081\\nH  -0.7678066771248049  1.1178956358593473  -1.0071687057461662\\nH  -0.4787818834490839  0.6419448105250912  -0.7314955396108139\\nO  0.8732355870578549  1.2942905267066271  0.9459257216683853\\nH  1.1077151026787682  1.7022216078311883  0.756650605385273\\nH  0.594714183734368  1.6863908517596713  1.1068500604778675\\n6\\nEnergy: -149.86051604800792\\nO  -0.9621093897691587  -1.0181448429518758  0.43914903513620257\\nH  -0.6535431729830067  -1.2715568338156256  0.12644672848975902\\nH  -0.5247954154068523  -1.0529451732604325  0.6936267447201928\\nO  0.7548863202236195  1.2189819266783906  0.8081185897350049\\nH  1.181405357433285  1.284955780072555  1.074468812943701\\nH  0.6178286213410633  1.517318883556921  1.194672243416784\\n6\\nEnergy: -149.86063398024294\\nO  -0.28224979409992296  -0.39594895742438985  -0.2640126802574953\\nH  -0.14676692799681296  -0.4757065482961351  0.21816633165413515\\nH  -0.06062416690921046  0.03739181501924378  -0.12149483524315087\\nO  -0.5356447455222246  0.5818457420302161  -1.5134992252637267\\nH  -0.4242561847405008  0.21251137169105438  -1.1842604194549216\\nH  -0.29596831115448985  0.8184025191100643  -1.134276892240446\\n6\\nEnergy: -149.85533084241817\\nO  0.2282771259327984  -0.25409418080938095  -0.16793796777894854\\nH  0.5919098370860225  -0.43552428430760187  0.1354888747403562\\nH  0.05108826157799039  -0.7031882783533924  -0.01259293973801668\\nO  -0.053212641300811776  0.6836383527083253  -0.9657466732600049\\nH  0.4064126505415066  0.6014644525289605  -0.7677428322229372\\nH  0.16967363261481216  0.36491926049962  -1.2912514028706885\\n6\\nEnergy: -149.86049722880705\\nO  -0.8245771635008936  -1.3251023475979329  -0.18432370192075812\\nH  -0.8176361888097597  -1.5819988697419864  0.2529056196233043\\nH  -0.4177899682138416  -1.1469991529752734  0.06065978661051293\\nO  -0.0233810412112213  0.701224894494909  -0.9848330313585035\\nH  -0.007526927125099995  0.2505571320225265  -1.216912101444406\\nH  0.04072004777542929  0.3672872798383619  -0.6085482990805691\\n\",\"xyz\");\n\tviewer_28743507055205.setStyle({\"sphere\": {\"radius\": 0.8}});\n\tviewer_28743507055205.addSphere({\"center\": {\"x\": 0, \"y\": 0, \"z\": 0}, \"radius\": 4.5, \"color\": \"yellow\", \"alpha\": 0.5});\n\tviewer_28743507055205.animate({\"loop\": \"forward\", \"speed\": 1, \"reps\": 3});\n\tviewer_28743507055205.zoomTo();\nviewer_28743507055205.render();\n});\n</script>",
      "text/html": [
       "<div id=\"3dmolviewer_28743507055205\"  style=\"position: relative; width: 1000px; height: 700px\">\n",
       "        <p id=\"3dmolwarning_28743507055205\" style=\"background-color:#ffcccc;color:black\">You appear to be running in JupyterLab (or JavaScript failed to load for some other reason).  You need to install the 3dmol extension: <br>\n",
       "        <tt>jupyter labextension install jupyterlab_3dmol</tt></p>\n",
       "        </div>\n",
       "<script>\n",
       "\n",
       "var loadScriptAsync = function(uri){\n",
       "  return new Promise((resolve, reject) => {\n",
       "    var tag = document.createElement('script');\n",
       "    tag.src = uri;\n",
       "    tag.async = true;\n",
       "    tag.onload = () => {\n",
       "      resolve();\n",
       "    };\n",
       "  var firstScriptTag = document.getElementsByTagName('script')[0];\n",
       "  firstScriptTag.parentNode.insertBefore(tag, firstScriptTag);\n",
       "});\n",
       "};\n",
       "\n",
       "if(typeof $3Dmolpromise === 'undefined') {\n",
       "$3Dmolpromise = null;\n",
       "  $3Dmolpromise = loadScriptAsync('https://3dmol.org/build/3Dmol.js');\n",
       "}\n",
       "\n",
       "var viewer_28743507055205 = null;\n",
       "var warn = document.getElementById(\"3dmolwarning_28743507055205\");\n",
       "if(warn) {\n",
       "    warn.parentNode.removeChild(warn);\n",
       "}\n",
       "$3Dmolpromise.then(function() {\n",
       "viewer_28743507055205 = $3Dmol.createViewer($(\"#3dmolviewer_28743507055205\"),{backgroundColor:\"white\"});\n",
       "viewer_28743507055205.zoomTo();\n",
       "\tviewer_28743507055205.addModelsAsFrames(\"6\\nEnergy: -149.86134063190093\\nO  0.9092508597428465  1.2844296747285309  1.1230416338641946\\nH  0.4385599687080142  1.4258700316460826  1.2481743249130377\\nH  0.6156537428474161  1.0783783845843773  0.764493061676443\\nO  -0.3923361398577341  0.08703192316745009  -0.3087492770641597\\nH  -0.017348011869886017  -0.0652676630228382  -0.614367044466013\\nH  -0.35123570433867235  0.45731977724080713  -0.6528584736328479\\n6\\nEnergy: -149.86335970614408\\nO  -0.35310487336135293  1.4161699193539743  -0.15227227974455332\\nH  -0.17516022036800488  1.0029901883849484  0.08188939565237059\\nH  -0.6637758862219779  1.3512161560220002  0.2433007353037708\\nO  -0.2428321293329698  0.24482089622584496  1.3862254798505171\\nH  -0.6815071573967909  0.04624221687433869  1.5454241221106642\\nH  -0.11906555016805401  -0.2176782093419757  1.553527276218747\\n6\\nEnergy: -149.86048384460864\\nO  -0.845559182747324  0.9354792943923116  -0.5403793463211081\\nH  -0.7678066771248049  1.1178956358593473  -1.0071687057461662\\nH  -0.4787818834490839  0.6419448105250912  -0.7314955396108139\\nO  0.8732355870578549  1.2942905267066271  0.9459257216683853\\nH  1.1077151026787682  1.7022216078311883  0.756650605385273\\nH  0.594714183734368  1.6863908517596713  1.1068500604778675\\n6\\nEnergy: -149.86051604800792\\nO  -0.9621093897691587  -1.0181448429518758  0.43914903513620257\\nH  -0.6535431729830067  -1.2715568338156256  0.12644672848975902\\nH  -0.5247954154068523  -1.0529451732604325  0.6936267447201928\\nO  0.7548863202236195  1.2189819266783906  0.8081185897350049\\nH  1.181405357433285  1.284955780072555  1.074468812943701\\nH  0.6178286213410633  1.517318883556921  1.194672243416784\\n6\\nEnergy: -149.86063398024294\\nO  -0.28224979409992296  -0.39594895742438985  -0.2640126802574953\\nH  -0.14676692799681296  -0.4757065482961351  0.21816633165413515\\nH  -0.06062416690921046  0.03739181501924378  -0.12149483524315087\\nO  -0.5356447455222246  0.5818457420302161  -1.5134992252637267\\nH  -0.4242561847405008  0.21251137169105438  -1.1842604194549216\\nH  -0.29596831115448985  0.8184025191100643  -1.134276892240446\\n6\\nEnergy: -149.85533084241817\\nO  0.2282771259327984  -0.25409418080938095  -0.16793796777894854\\nH  0.5919098370860225  -0.43552428430760187  0.1354888747403562\\nH  0.05108826157799039  -0.7031882783533924  -0.01259293973801668\\nO  -0.053212641300811776  0.6836383527083253  -0.9657466732600049\\nH  0.4064126505415066  0.6014644525289605  -0.7677428322229372\\nH  0.16967363261481216  0.36491926049962  -1.2912514028706885\\n6\\nEnergy: -149.86049722880705\\nO  -0.8245771635008936  -1.3251023475979329  -0.18432370192075812\\nH  -0.8176361888097597  -1.5819988697419864  0.2529056196233043\\nH  -0.4177899682138416  -1.1469991529752734  0.06065978661051293\\nO  -0.0233810412112213  0.701224894494909  -0.9848330313585035\\nH  -0.007526927125099995  0.2505571320225265  -1.216912101444406\\nH  0.04072004777542929  0.3672872798383619  -0.6085482990805691\\n\",\"xyz\");\n",
       "\tviewer_28743507055205.setStyle({\"sphere\": {\"radius\": 0.8}});\n",
       "\tviewer_28743507055205.addSphere({\"center\": {\"x\": 0, \"y\": 0, \"z\": 0}, \"radius\": 4.5, \"color\": \"yellow\", \"alpha\": 0.5});\n",
       "\tviewer_28743507055205.animate({\"loop\": \"forward\", \"speed\": 1, \"reps\": 3});\n",
       "\tviewer_28743507055205.zoomTo();\n",
       "viewer_28743507055205.render();\n",
       "});\n",
       "</script>"
      ]
     },
     "metadata": {},
     "output_type": "display_data"
    }
   ],
   "source": [
    "#Visualization\n",
    "def visualization(serie_string : str, n_atoms):\n",
    "    #Approximately 3 bohr radius for each atom\n",
    "    sphere_radius = n_atoms*1.5*0.5\n",
    "    xyz_view = py3Dmol.view(width=1000,height=700)\n",
    "    xyz_view.addModelsAsFrames(serie_string,'xyz')\n",
    "    xyz_view.setStyle({'sphere': {'radius': 0.8}})\n",
    "    xyz_view.addSphere({'center': {'x':0, 'y':0, 'z':0}, \n",
    "        'radius': sphere_radius , \n",
    "        'color' :'yellow',\n",
    "        'alpha': 0.5,\n",
    "        })\n",
    "\n",
    "    xyz_view.animate({'loop': \"forward\", 'speed': 1, 'reps': 3})\n",
    "    xyz_view.zoomTo()\n",
    "    xyz_view.show()\n",
    "\n",
    "#El archivo configurations.xyz es guardado en la dirección de este jupyter.notebook\n",
    "with open(\"configurations.xyz\",\"r\") as outxyz:\n",
    "    serie_string = outxyz.read()\n",
    "    visualization(serie_string,h2o._total_atoms)"
   ]
  },
  {
   "cell_type": "code",
   "execution_count": null,
   "metadata": {},
   "outputs": [],
   "source": [
    "# Atomic Simulation Environment\n",
    "# https://wiki.fysik.dtu.dk/ase/index.html\n",
    "# !pip install --upgrade --user ase\n",
    "\n",
    "\n",
    "# ChemML\n",
    "# https://hachmannlab.github.io/chemml/index.html\n",
    "# !pip install chemml"
   ]
  },
  {
   "cell_type": "code",
   "execution_count": null,
   "metadata": {},
   "outputs": [],
   "source": [
    "# NGLview\n",
    "# https://github.com/nglviewer/nglview\n",
    "# !pip install nglview\n",
    "\n",
    "# ---------------------------------------\n",
    "# pytraj \n",
    "# https://amber-md.github.io/pytraj/latest/index.html\n",
    "# !pip install pytraj\n"
   ]
  }
 ],
 "metadata": {
  "interpreter": {
   "hash": "dcb49db19325d2b5ba913c54a5cdd9c1657c5f45730bbf98cdccd94ce4d918b0"
  },
  "kernelspec": {
   "display_name": "Python 3.9.6 64-bit ('vascec': venv)",
   "name": "python3"
  },
  "language_info": {
   "codemirror_mode": {
    "name": "ipython",
    "version": 3
   },
   "file_extension": ".py",
   "mimetype": "text/x-python",
   "name": "python",
   "nbconvert_exporter": "python",
   "pygments_lexer": "ipython3",
   "version": "3.9.6"
  },
  "orig_nbformat": 4
 },
 "nbformat": 4,
 "nbformat_minor": 2
}
