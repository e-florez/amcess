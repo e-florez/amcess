{
 "cells": [
  {
   "cell_type": "markdown",
   "metadata": {},
   "source": [
    "# Find local minima of a function with several local minima\n",
    "# with shgo and dual_annealing method"
   ]
  },
  {
   "cell_type": "markdown",
   "metadata": {},
   "source": []
  },
  {
   "cell_type": "markdown",
   "metadata": {},
   "source": [
    "## The function to be minimized is f(x)=x sin(4*np.pi abs(x-1))\n",
    "\n"
   ]
  },
  {
   "cell_type": "code",
   "execution_count": 2,
   "metadata": {},
   "outputs": [
    {
     "data": {
      "image/png": "[encoded data removed]",
      "text/plain": [
       "<Figure size 432x288 with 1 Axes>"
      ]
     },
     "metadata": {
      "needs_background": "light"
     },
     "output_type": "display_data"
    }
   ],
   "source": [
    "import numpy as np\n",
    "def f(x):\n",
    "    return x*np.sin(4*np.pi*abs(x-1))\n",
    "    \n",
    "import matplotlib.pyplot as plt\n",
    "x = np.linspace(0,2,500)\n",
    "plt.figure()\n",
    "plt.plot(x,f(x))\n",
    "plt.show()"
   ]
  },
  {
   "cell_type": "code",
   "execution_count": 19,
   "metadata": {},
   "outputs": [
    {
     "name": "stdout",
     "output_type": "stream",
     "text": [
      "los mínimos locales se encuentran en [[1.87836929]\n",
      " [1.37958512]\n",
      " [0.63492204]\n",
      " [0.16144341]\n",
      " [1.        ]]\n",
      "con valores [-1.87668591e+00 -1.37729573e+00 -6.29993147e-01 -1.44807582e-01\n",
      "  1.68235244e-10]\n"
     ]
    }
   ],
   "source": [
    "from scipy.optimize import shgo\n",
    "\n",
    "#si queremos obtener todos los mínimos locales, debemos cambiar el \"sampling_method\" a\n",
    "# \"halton\" o \"sobol\"\n",
    "minima = shgo(f, bounds=[(0,2)], n=50, iters=2, sampling_method='halton')\n",
    "print(\"los mínimos locales se encuentran en\", minima.xl)\n",
    "print(\"con valores\", minima.funl)"
   ]
  },
  {
   "cell_type": "code",
   "execution_count": 20,
   "metadata": {},
   "outputs": [
    {
     "name": "stdout",
     "output_type": "stream",
     "text": [
      "los mínimos locales se encuentran en [[1.87836931]\n",
      " [1.37958514]\n",
      " [0.63492204]\n",
      " [0.16144341]\n",
      " [1.        ]]\n",
      "con valores [-1.87668591e+00 -1.37729573e+00 -6.29993147e-01 -1.44807582e-01\n",
      "  3.54393110e-09]\n"
     ]
    }
   ],
   "source": [
    "minima = shgo(f, bounds=[(0,2)], n=50, iters=2, sampling_method='sobol')\n",
    "print(\"los mínimos locales se encuentran en\", minima.xl)\n",
    "print(\"con valores\", minima.funl)"
   ]
  },
  {
   "cell_type": "code",
   "execution_count": 21,
   "metadata": {},
   "outputs": [
    {
     "name": "stdout",
     "output_type": "stream",
     "text": [
      "x: [1.30698534] f: [-0.85796635] accepted: 0\n",
      "x: [1.37958512] f: [-1.37729573] accepted: 1\n",
      "x: [1.92373385] f: [-1.57412675] accepted: 0\n",
      "x: [1.87836929] f: [-1.87668591] accepted: 1\n"
     ]
    }
   ],
   "source": [
    "from scipy.optimize import dual_annealing\n",
    "def callback(x, f, accepted):\n",
    "    print(\"x:\", x, \"f:\", f, \"accepted:\", accepted)\n",
    "\n",
    "minima = dual_annealing(f, bounds=[(0,2)], callback=callback)"
   ]
  },
  {
   "cell_type": "code",
   "execution_count": 22,
   "metadata": {},
   "outputs": [
    {
     "name": "stdout",
     "output_type": "stream",
     "text": [
      "[array([-1.3772957]), array([-1.8766859]), array([-0.6299931])]\n",
      "[array([1.37958512]), array([1.8783693]), array([0.63492204])]\n"
     ]
    }
   ],
   "source": [
    "values = []\n",
    "values_x = []\n",
    "def callback(x, f, accepted):\n",
    "        #if accepted == 1 append the values of the function if f is not in the list \"values\n",
    "    if accepted == 1:\n",
    "        f = np.around(f, decimals=7)\n",
    "        if values.count(f) == 0:\n",
    "            values.append(f)\n",
    "            values_x.append(x) \n",
    "                \n",
    "for i in range(10):\n",
    "    minima = dual_annealing(f, bounds=[(0,2)], callback=callback)\n",
    "\n",
    "print(values)\n",
    "print(values_x)"
   ]
  }
 ],
 "metadata": {
  "interpreter": {
   "hash": "bd4fb26c7546c0b8c0c8c9c4bcb8ed90887f88a72ca5d8753e4f0e87b9aee620"
  },
  "kernelspec": {
   "display_name": "Python 3.8.10 64-bit ('venv': venv)",
   "name": "python3"
  },
  "language_info": {
   "codemirror_mode": {
    "name": "ipython",
    "version": 3
   },
   "file_extension": ".py",
   "mimetype": "text/x-python",
   "name": "python",
   "nbconvert_exporter": "python",
   "pygments_lexer": "ipython3",
   "version": "3.9.7"
  }
 },
 "nbformat": 4,
 "nbformat_minor": 4
}
