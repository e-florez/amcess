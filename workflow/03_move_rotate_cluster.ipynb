{
 "cells": [
  {
   "cell_type": "markdown",
   "metadata": {},
   "source": [
    "# Moving and Rotating a Molecular Cluster:\n",
    "**Task:** \n",
    "1. Move/rotate a Molecule/Atom one by one systematically\n",
    "2. Move/Rotate randomly"
   ]
  },
  {
   "cell_type": "markdown",
   "metadata": {},
   "source": [
    "## Water molecule ($H_{2}O$):\n",
    "\n",
    "Cartesian coordinates [Angstrom]:\n",
    "\n",
    "    \n",
    "    O    0.00000    0.00000    0.00000\n",
    "    H    0.58708    0.75754    0.00000\n",
    "    H    0.58708   -0.75754    0.00000\n",
    "\n",
    "\n",
    "> **_NOTE:_**   \n",
    "> `translate` and `rotate` methods return a brand new Molecule object"
   ]
  },
  {
   "cell_type": "code",
   "execution_count": 1,
   "metadata": {},
   "outputs": [],
   "source": [
    "# creating the path (PYTHONPATH) to our module.\n",
    "# assuming that our 'amcess' directory is out ('..') of our current directory \n",
    "import os\n",
    "import sys\n",
    "module_path = os.path.abspath(os.path.join('..'))\n",
    "\n",
    "if module_path not in sys.path:\n",
    "    sys.path.append(module_path)"
   ]
  },
  {
   "cell_type": "code",
   "execution_count": 2,
   "metadata": {},
   "outputs": [],
   "source": [
    "# importing de Molecule Class\n",
    "from amcess.molecule import Molecule\n",
    "from amcess.cluster import Cluster"
   ]
  },
  {
   "cell_type": "code",
   "execution_count": 3,
   "metadata": {},
   "outputs": [
    {
     "name": "stdout",
     "output_type": "stream",
     "text": [
      "3\n",
      "charge: 0 multiplicity:1\n",
      "O     \t     0.00000000\t     0.00000000\t     0.00000000\n",
      "H     \t     0.58708000\t     0.75754000\t     0.00000000\n",
      "H     \t    -0.58708000\t     0.75754000\t     0.00000000\n",
      "\n"
     ]
    }
   ],
   "source": [
    "# First, let's create a Molecule by using the atomic constituents\n",
    "# coordinates (use list or dictionary, see notebook: 01)\n",
    "\n",
    "water = [(\"O\", 0, 0, 0), (\"H\", 0.58708, 0.75754, 0), (\"H\", -0.58708, 0.75754, 0)]\n",
    "\n",
    "water_molecule = Molecule(water)\n",
    "\n",
    "print(water_molecule)"
   ]
  },
  {
   "cell_type": "code",
   "execution_count": 4,
   "metadata": {},
   "outputs": [
    {
     "name": "stdout",
     "output_type": "stream",
     "text": [
      "9\n",
      "charge: 0 multiplicity:1\n",
      "O     \t     0.00000000\t     0.00000000\t     0.00000000\n",
      "H     \t     0.58708000\t     0.75754000\t     0.00000000\n",
      "H     \t    -0.58708000\t     0.75754000\t     0.00000000\n",
      "O     \t     0.00000000\t     0.00000000\t     0.00000000\n",
      "H     \t     0.58708000\t     0.75754000\t     0.00000000\n",
      "H     \t    -0.58708000\t     0.75754000\t     0.00000000\n",
      "O     \t     0.00000000\t     0.00000000\t     0.00000000\n",
      "H     \t     0.58708000\t     0.75754000\t     0.00000000\n",
      "H     \t    -0.58708000\t     0.75754000\t     0.00000000\n",
      "\n"
     ]
    }
   ],
   "source": [
    "print((water_molecule + water_molecule + water_molecule).GetBlockXYZ())"
   ]
  },
  {
   "cell_type": "code",
   "execution_count": 5,
   "metadata": {},
   "outputs": [
    {
     "name": "stdout",
     "output_type": "stream",
     "text": [
      "9\n",
      "charge: 0 multiplicity:1\n",
      "O     \t     0.00000000\t     0.00000000\t     0.00000000\n",
      "H     \t     0.58708000\t     0.75754000\t     0.00000000\n",
      "H     \t    -0.58708000\t     0.75754000\t     0.00000000\n",
      "O     \t     0.00000000\t     0.00000000\t     0.00000000\n",
      "H     \t     0.58708000\t     0.75754000\t     0.00000000\n",
      "H     \t    -0.58708000\t     0.75754000\t     0.00000000\n",
      "O     \t     0.00000000\t     0.00000000\t     0.00000000\n",
      "H     \t     0.58708000\t     0.75754000\t     0.00000000\n",
      "H     \t    -0.58708000\t     0.75754000\t     0.00000000\n",
      "\n"
     ]
    }
   ],
   "source": [
    "print(3 * water_molecule)"
   ]
  },
  {
   "cell_type": "code",
   "execution_count": 6,
   "metadata": {},
   "outputs": [
    {
     "name": "stdout",
     "output_type": "stream",
     "text": [
      "Cluster of (1) molecules and (9) total atoms\n",
      " #0: molecule with 9 atoms:\n",
      "     --> atoms: [('O', 0.0, 0.0, 0.0), ('H', 0.58708, 0.75754, 0.0), ('H', -0.58708, 0.75754, 0.0), ('O', 0.0, 0.0, 0.0), ('H', 0.58708, 0.75754, 0.0), ('H', -0.58708, 0.75754, 0.0), ('O', 0.0, 0.0, 0.0), ('H', 0.58708, 0.75754, 0.0), ('H', -0.58708, 0.75754, 0.0)]\n",
      "     --> charge: +0\n",
      "     --> multiplicity: 1\n",
      "\n",
      "Cluster of (1) molecules and (9) total atoms\n",
      " #0: molecule with 9 atoms:\n",
      "     --> atoms: [('O', 0.0, 0.0, 0.0), ('H', 0.58708, 0.75754, 0.0), ('H', -0.58708, 0.75754, 0.0), ('O', 0.0, 0.0, 0.0), ('H', 0.58708, 0.75754, 0.0), ('H', -0.58708, 0.75754, 0.0), ('O', 0.0, 0.0, 0.0), ('H', 0.58708, 0.75754, 0.0), ('H', -0.58708, 0.75754, 0.0)]\n",
      "     --> charge: +0\n",
      "     --> multiplicity: 1\n",
      "\n",
      "\n",
      "XYZ File\n",
      "\n",
      "9\n",
      "charge: 0 multiplicity:1\n",
      "O     \t     0.00000000\t     0.00000000\t     0.00000000\n",
      "H     \t     0.58708000\t     0.75754000\t     0.00000000\n",
      "H     \t    -0.58708000\t     0.75754000\t     0.00000000\n",
      "O     \t     0.00000000\t     0.00000000\t     0.00000000\n",
      "H     \t     0.58708000\t     0.75754000\t     0.00000000\n",
      "H     \t    -0.58708000\t     0.75754000\t     0.00000000\n",
      "O     \t     0.00000000\t     0.00000000\t     0.00000000\n",
      "H     \t     0.58708000\t     0.75754000\t     0.00000000\n",
      "H     \t    -0.58708000\t     0.75754000\t     0.00000000\n",
      "\n"
     ]
    }
   ],
   "source": [
    "# Now, let's create a Cluster for supermolecule \n",
    "water3a = Cluster(water_molecule + water_molecule + water_molecule)\n",
    "\n",
    "# which is equivalent to \n",
    "water3b = Cluster(3 * water_molecule)\n",
    "\n",
    "print(water3a)\n",
    "print(water3b)\n",
    "\n",
    "print(\"\\nXYZ File\\n\")\n",
    "\n",
    "print(water3b.GetBlockXYZ())"
   ]
  },
  {
   "cell_type": "code",
   "execution_count": 7,
   "metadata": {},
   "outputs": [
    {
     "name": "stdout",
     "output_type": "stream",
     "text": [
      "Cluster of (3) molecules and (9) total atoms\n",
      " #0: molecule with 3 atoms:\n",
      "     --> atoms: [('O', 0.0, 0.0, 0.0), ('H', 0.58708, 0.75754, 0.0), ('H', -0.58708, 0.75754, 0.0)]\n",
      "     --> charge: +0\n",
      "     --> multiplicity: 1\n",
      " #1: molecule with 3 atoms:\n",
      "     --> atoms: [('O', 0.0, 0.0, 0.0), ('H', 0.58708, 0.75754, 0.0), ('H', -0.58708, 0.75754, 0.0)]\n",
      "     --> charge: +0\n",
      "     --> multiplicity: 1\n",
      " #2: molecule with 3 atoms:\n",
      "     --> atoms: [('O', 0.0, 0.0, 0.0), ('H', 0.58708, 0.75754, 0.0), ('H', -0.58708, 0.75754, 0.0)]\n",
      "     --> charge: +0\n",
      "     --> multiplicity: 1\n",
      "\n",
      "Cluster of (3) molecules and (9) total atoms\n",
      " #0: molecule with 3 atoms:\n",
      "     --> atoms: [('O', 0.0, 0.0, 0.0), ('H', 0.58708, 0.75754, 0.0), ('H', -0.58708, 0.75754, 0.0)]\n",
      "     --> charge: +0\n",
      "     --> multiplicity: 1\n",
      " #1: molecule with 3 atoms:\n",
      "     --> atoms: [('O', 0.0, 0.0, 0.0), ('H', 0.58708, 0.75754, 0.0), ('H', -0.58708, 0.75754, 0.0)]\n",
      "     --> charge: +0\n",
      "     --> multiplicity: 1\n",
      " #2: molecule with 3 atoms:\n",
      "     --> atoms: [('O', 0.0, 0.0, 0.0), ('H', 0.58708, 0.75754, 0.0), ('H', -0.58708, 0.75754, 0.0)]\n",
      "     --> charge: +0\n",
      "     --> multiplicity: 1\n",
      "\n",
      "\n",
      "XYZ File\n",
      "\n",
      "9\n",
      "charge: 0 multiplicity:1\n",
      "O     \t     0.00000000\t     0.00000000\t     0.00000000\n",
      "H     \t     0.58708000\t     0.75754000\t     0.00000000\n",
      "H     \t    -0.58708000\t     0.75754000\t     0.00000000\n",
      "O     \t     0.00000000\t     0.00000000\t     0.00000000\n",
      "H     \t     0.58708000\t     0.75754000\t     0.00000000\n",
      "H     \t    -0.58708000\t     0.75754000\t     0.00000000\n",
      "O     \t     0.00000000\t     0.00000000\t     0.00000000\n",
      "H     \t     0.58708000\t     0.75754000\t     0.00000000\n",
      "H     \t    -0.58708000\t     0.75754000\t     0.00000000\n",
      "\n"
     ]
    }
   ],
   "source": [
    "# Now, let's create a Cluster by adding three water molecules with the \n",
    "# same cartesian coordinates. \n",
    "water_molecule = Cluster(water)\n",
    "water3a = Cluster(water_molecule + water_molecule + water_molecule)\n",
    "\n",
    "# which is equivalent to \n",
    "water3b = Cluster(3 * water_molecule)\n",
    "\n",
    "print(water3a)\n",
    "print(water3b)\n",
    "\n",
    "print(\"\\nXYZ File\\n\")\n",
    "\n",
    "print(water3b.GetBlockXYZ())"
   ]
  },
  {
   "cell_type": "code",
   "execution_count": 8,
   "metadata": {},
   "outputs": [
    {
     "name": "stdout",
     "output_type": "stream",
     "text": [
      "Cluster of (3) molecules and (9) total atoms\n",
      " #0: molecule with 3 atoms:\n",
      "     --> atoms: [('O', 0.0, 0.0, 0.0), ('H', 0.58708, 0.75754, 0.0), ('H', -0.58708, 0.75754, 0.0)]\n",
      "     --> charge: +0\n",
      "     --> multiplicity: 1\n",
      " #1: molecule with 3 atoms:\n",
      "     --> atoms: [('O', 0.0, 0.0, 0.0), ('H', 0.58708, 0.75754, 0.0), ('H', -0.58708, 0.75754, 0.0)]\n",
      "     --> charge: +0\n",
      "     --> multiplicity: 1\n",
      " #2: molecule with 3 atoms:\n",
      "     --> atoms: [('O', 0.0, 0.0, 0.0), ('H', 0.58708, 0.75754, 0.0), ('H', -0.58708, 0.75754, 0.0)]\n",
      "     --> charge: +0\n",
      "     --> multiplicity: 1\n",
      "\n",
      "9\n",
      "charge: 0 multiplicity:1\n",
      "O     \t     0.00000000\t     0.00000000\t     0.00000000\n",
      "H     \t     0.58708000\t     0.75754000\t     0.00000000\n",
      "H     \t    -0.58708000\t     0.75754000\t     0.00000000\n",
      "O     \t     0.00000000\t     0.00000000\t     0.00000000\n",
      "H     \t     0.58708000\t     0.75754000\t     0.00000000\n",
      "H     \t    -0.58708000\t     0.75754000\t     0.00000000\n",
      "O     \t     0.00000000\t     0.00000000\t     0.00000000\n",
      "H     \t     0.58708000\t     0.75754000\t     0.00000000\n",
      "H     \t    -0.58708000\t     0.75754000\t     0.00000000\n",
      "\n"
     ]
    }
   ],
   "source": [
    "# We can also create a cluster by using the coordinates of the atomic constituents (list of tuples/dictionary)\n",
    "water3 = Cluster(water, water, water)\n",
    "\n",
    "print(water3)\n",
    "print(water3.GetBlockXYZ())"
   ]
  },
  {
   "cell_type": "code",
   "execution_count": 9,
   "metadata": {},
   "outputs": [
    {
     "name": "stdout",
     "output_type": "stream",
     "text": [
      "Cluster of (3) molecules and (9) total atoms\n",
      " #0: molecule with 3 atoms:\n",
      "     --> atoms: [('O', 0.0, 0.0, 0.0), ('H', 0.58708, 0.75754, 0.0), ('H', -0.58708, 0.75754, 0.0)]\n",
      "     --> charge: +0\n",
      "     --> multiplicity: 1\n",
      " #1: molecule with 3 atoms:\n",
      "     --> atoms: [('O', 0.0, 0.0, 0.0), ('H', 0.58708, 0.75754, 0.0), ('H', -0.58708, 0.75754, 0.0)]\n",
      "     --> charge: +0\n",
      "     --> multiplicity: 1\n",
      " #2: molecule with 3 atoms:\n",
      "     --> atoms: [('O', 0.0, 0.0, 0.0), ('H', 0.58708, 0.75754, 0.0), ('H', -0.58708, 0.75754, 0.0)]\n",
      "     --> charge: +0\n",
      "     --> multiplicity: 1\n",
      "\n",
      "9\n",
      "charge: 0 multiplicity:1\n",
      "O     \t     0.00000000\t     0.00000000\t     0.00000000\n",
      "H     \t     0.58708000\t     0.75754000\t     0.00000000\n",
      "H     \t    -0.58708000\t     0.75754000\t     0.00000000\n",
      "O     \t     0.00000000\t     0.00000000\t     0.00000000\n",
      "H     \t     0.58708000\t     0.75754000\t     0.00000000\n",
      "H     \t    -0.58708000\t     0.75754000\t     0.00000000\n",
      "O     \t     0.00000000\t     0.00000000\t     0.00000000\n",
      "H     \t     0.58708000\t     0.75754000\t     0.00000000\n",
      "H     \t    -0.58708000\t     0.75754000\t     0.00000000\n",
      "\n"
     ]
    }
   ],
   "source": [
    "# Additionally, you can mix both formalisms (list/dictionary and molecule object)\n",
    "water3 = Cluster(water, 2 * water_molecule)\n",
    "\n",
    "print(water3)\n",
    "print(water3.GetBlockXYZ())"
   ]
  },
  {
   "cell_type": "markdown",
   "metadata": {},
   "source": [
    ">### NOTE:\n",
    ">Creating a `Molecule` object means that its atoms are FIXED and \n",
    ">those atoms **can NOT** be MOVED or ROTATED.\n",
    ">\n",
    ">On the other hand, creating a `Cluster` object means their individual\n",
    ">molecules **can** be MOVED or ROTATED"
   ]
  },
  {
   "cell_type": "code",
   "execution_count": 10,
   "metadata": {},
   "outputs": [
    {
     "name": "stdout",
     "output_type": "stream",
     "text": [
      "Cluster of (6) molecules and (16) total atoms\n",
      " #0: molecule with 1 atoms:\n",
      "     --> atoms: [('I', 0.0, 0.0, 0.0)]\n",
      "     --> charge: +0\n",
      "     --> multiplicity: 1\n",
      " #1: molecule with 3 atoms:\n",
      "     --> atoms: [('O', 0.0, 0.0, 0.0), ('H', 0.58708, 0.75754, 0.0), ('H', -0.58708, 0.75754, 0.0)]\n",
      "     --> charge: +0\n",
      "     --> multiplicity: 1\n",
      " #2: molecule with 3 atoms:\n",
      "     --> atoms: [('O', 0.0, 0.0, 0.0), ('H', 0.58708, 0.75754, 0.0), ('H', -0.58708, 0.75754, 0.0)]\n",
      "     --> charge: +0\n",
      "     --> multiplicity: 1\n",
      " #3: molecule with 3 atoms:\n",
      "     --> atoms: [('O', 0.0, 0.0, 0.0), ('H', 0.58708, 0.75754, 0.0), ('H', -0.58708, 0.75754, 0.0)]\n",
      "     --> charge: +0\n",
      "     --> multiplicity: 1\n",
      " #4: molecule with 3 atoms:\n",
      "     --> atoms: [('O', 0.0, 0.0, 0.0), ('H', 0.58708, 0.75754, 0.0), ('H', -0.58708, 0.75754, 0.0)]\n",
      "     --> charge: +0\n",
      "     --> multiplicity: 1\n",
      " #5: molecule with 3 atoms:\n",
      "     --> atoms: [('O', 0.0, 0.0, 0.0), ('H', 0.58708, 0.75754, 0.0), ('H', -0.58708, 0.75754, 0.0)]\n",
      "     --> charge: +0\n",
      "     --> multiplicity: 1\n",
      "\n"
     ]
    }
   ],
   "source": [
    "# Let's create a cluster with different species: five (5) water molecules and one atom (Iodine)\n",
    "iodine = [(\"I\", 0, 0, 0)]\n",
    "\n",
    "# We can do so by using the coordinates of each specie\n",
    "w5_I = Cluster(\n",
    "    iodine,\n",
    "    water,\n",
    "    water,\n",
    "    water,\n",
    "    water,\n",
    "    water,\n",
    ")\n",
    "\n",
    "print(w5_I)"
   ]
  },
  {
   "cell_type": "code",
   "execution_count": 11,
   "metadata": {},
   "outputs": [
    {
     "name": "stdout",
     "output_type": "stream",
     "text": [
      "Cluster of (2) molecules and (16) total atoms\n",
      " #0: molecule with 1 atoms:\n",
      "     --> atoms: [('I', 0.0, 0.0, 0.0)]\n",
      "     --> charge: +0\n",
      "     --> multiplicity: 1\n",
      " #1: molecule with 15 atoms:\n",
      "     --> atoms: [('O', 0.0, 0.0, 0.0), ('H', 0.58708, 0.75754, 0.0), ('H', -0.58708, 0.75754, 0.0), ('O', 0.0, 0.0, 0.0), ('H', 0.58708, 0.75754, 0.0), ('H', -0.58708, 0.75754, 0.0), ('O', 0.0, 0.0, 0.0), ('H', 0.58708, 0.75754, 0.0), ('H', -0.58708, 0.75754, 0.0), ('O', 0.0, 0.0, 0.0), ('H', 0.58708, 0.75754, 0.0), ('H', -0.58708, 0.75754, 0.0), ('O', 0.0, 0.0, 0.0), ('H', 0.58708, 0.75754, 0.0), ('H', -0.58708, 0.75754, 0.0)]\n",
      "     --> charge: +0\n",
      "     --> multiplicity: 1\n",
      "\n"
     ]
    }
   ],
   "source": [
    "# Before w5_I is not equivalent to:\n",
    "w5_I = Cluster(Cluster(iodine) + 5 * water_molecule)\n",
    "print(w5_I)"
   ]
  },
  {
   "cell_type": "code",
   "execution_count": 12,
   "metadata": {},
   "outputs": [
    {
     "name": "stdout",
     "output_type": "stream",
     "text": [
      "Cluster of (6) molecules and (16) total atoms\n",
      " #0: molecule with 1 atoms:\n",
      "     --> atoms: [('I', 0.0, 0.0, 0.0)]\n",
      "     --> charge: +0\n",
      "     --> multiplicity: 1\n",
      " #1: molecule with 3 atoms:\n",
      "     --> atoms: [('O', 0.0, 0.0, 0.0), ('H', 0.58708, 0.75754, 0.0), ('H', -0.58708, 0.75754, 0.0)]\n",
      "     --> charge: +0\n",
      "     --> multiplicity: 1\n",
      " #2: molecule with 3 atoms:\n",
      "     --> atoms: [('O', 0.0, 0.0, 0.0), ('H', 0.58708, 0.75754, 0.0), ('H', -0.58708, 0.75754, 0.0)]\n",
      "     --> charge: +0\n",
      "     --> multiplicity: 1\n",
      " #3: molecule with 3 atoms:\n",
      "     --> atoms: [('O', 0.0, 0.0, 0.0), ('H', 0.58708, 0.75754, 0.0), ('H', -0.58708, 0.75754, 0.0)]\n",
      "     --> charge: +0\n",
      "     --> multiplicity: 1\n",
      " #4: molecule with 3 atoms:\n",
      "     --> atoms: [('O', 0.0, 0.0, 0.0), ('H', 0.58708, 0.75754, 0.0), ('H', -0.58708, 0.75754, 0.0)]\n",
      "     --> charge: +0\n",
      "     --> multiplicity: 1\n",
      " #5: molecule with 3 atoms:\n",
      "     --> atoms: [('O', 0.0, 0.0, 0.0), ('H', 0.58708, 0.75754, 0.0), ('H', -0.58708, 0.75754, 0.0)]\n",
      "     --> charge: +0\n",
      "     --> multiplicity: 1\n",
      "\n"
     ]
    }
   ],
   "source": [
    "# but if is equivalent to:\n",
    "w5_I = Cluster(iodine, 5 * water_molecule)\n",
    "print(w5_I)"
   ]
  },
  {
   "cell_type": "code",
   "execution_count": 13,
   "metadata": {},
   "outputs": [
    {
     "name": "stdout",
     "output_type": "stream",
     "text": [
      "\n",
      "Number of individual molecules/atoms: \n",
      "6\n",
      "\n",
      "Total number of atoms: \n",
      "16\n",
      "\n",
      "Atomic symbols: \n",
      "['I', 'O', 'H', 'H', 'O', 'H', 'H', 'O', 'H', 'H', 'O', 'H', 'H', 'O', 'H', 'H']\n",
      "\n",
      "Individual atomic masses: \n",
      "[126.904, 15.999, 1.008, 1.008, 15.999, 1.008, 1.008, 15.999, 1.008, 1.008, 15.999, 1.008, 1.008, 15.999, 1.008, 1.008]\n",
      "\n",
      "Molecular mass: \n",
      "216.97900000000007\n",
      "\n",
      "Cartesian coordinates: \n",
      "[[ 0.       0.       0.     ]\n",
      " [ 0.       0.       0.     ]\n",
      " [ 0.58708  0.75754  0.     ]\n",
      " [-0.58708  0.75754  0.     ]\n",
      " [ 0.       0.       0.     ]\n",
      " [ 0.58708  0.75754  0.     ]\n",
      " [-0.58708  0.75754  0.     ]\n",
      " [ 0.       0.       0.     ]\n",
      " [ 0.58708  0.75754  0.     ]\n",
      " [-0.58708  0.75754  0.     ]\n",
      " [ 0.       0.       0.     ]\n",
      " [ 0.58708  0.75754  0.     ]\n",
      " [-0.58708  0.75754  0.     ]\n",
      " [ 0.       0.       0.     ]\n",
      " [ 0.58708  0.75754  0.     ]\n",
      " [-0.58708  0.75754  0.     ]]\n"
     ]
    }
   ],
   "source": [
    "# asking for its properties\n",
    "print(f\"\\nNumber of individual molecules/atoms: \\n{w5_I.GetTotalMol()}\")\n",
    "print(f\"\\nTotal number of atoms: \\n{w5_I.GetNumAtoms()}\")\n",
    "print(f\"\\nAtomic symbols: \\n{w5_I.GetAtomicSymbols()}\")\n",
    "print(f\"\\nIndividual atomic masses: \\n{w5_I.GetAtomicMasses()}\")\n",
    "print(f\"\\nMolecular mass: \\n{w5_I.GetMolMass()}\")\n",
    "print(f\"\\nCartesian coordinates: \\n{w5_I.GetAtomicCoordinates()}\")"
   ]
  },
  {
   "cell_type": "code",
   "execution_count": 14,
   "metadata": {},
   "outputs": [
    {
     "name": "stdout",
     "output_type": "stream",
     "text": [
      "16\n",
      "charge: 0 multiplicity:1\n",
      "I     \t     2.00000000\t     2.00000000\t     0.00000000\n",
      "O     \t    -0.00000000\t     0.16954767\t     0.00000000\n",
      "H     \t    -0.58708000\t    -0.58799233\t     0.00000000\n",
      "H     \t     0.58708000\t    -0.58799233\t     0.00000000\n",
      "O     \t     0.00000000\t     0.00000000\t     0.00000000\n",
      "H     \t     0.58708000\t     0.75754000\t     0.00000000\n",
      "H     \t    -0.58708000\t     0.75754000\t     0.00000000\n",
      "O     \t     0.00000000\t     0.00000000\t     0.00000000\n",
      "H     \t     0.58708000\t     0.75754000\t     0.00000000\n",
      "H     \t    -0.58708000\t     0.75754000\t     0.00000000\n",
      "O     \t     0.00000000\t     0.00000000\t     0.00000000\n",
      "H     \t     0.58708000\t     0.75754000\t     0.00000000\n",
      "H     \t    -0.58708000\t     0.75754000\t     0.00000000\n",
      "O     \t     0.00000000\t     0.00000000\t     0.00000000\n",
      "H     \t     0.58708000\t     0.75754000\t     0.00000000\n",
      "H     \t    -0.58708000\t     0.75754000\t     0.00000000\n",
      "\n"
     ]
    }
   ],
   "source": [
    "# Let's MOVE 2 units on xy axes the first molecule (I) and rotate 180 deg around z-axis the second molecule (water)\n",
    "w5_I_moved_rotated = w5_I.TranslateMol(0, x=2, y=2, z=0).RotateMol(1, x=0, y=0, z=180)\n",
    "\n",
    "print(w5_I_moved_rotated.GetBlockXYZ())"
   ]
  },
  {
   "cell_type": "markdown",
   "metadata": {},
   "source": [
    "### IMPORTANT FACTS:\n",
    "- After translating a molecule, a new object is created where the moved \n",
    "molecule in the same position. The same is true for any rotation\n",
    "- Rotation are around the center of mass of the target molecule"
   ]
  },
  {
   "cell_type": "code",
   "execution_count": 15,
   "metadata": {},
   "outputs": [
    {
     "name": "stdout",
     "output_type": "stream",
     "text": [
      "None\n",
      "(0.0, 0.0, 0.0)\n",
      "\n",
      "new sphere radius\n",
      "10\n",
      "(0.0, 0.0, 0.0)\n"
     ]
    }
   ],
   "source": [
    "# let's visualize its random process FREEZING Iodine\n",
    "from copy import deepcopy\n",
    "\n",
    "# creating a brand new copy when 'I' will NOT be moved or rotated \n",
    "w5 = w5_I\n",
    "\n",
    "print(w5.GetSphereR())\n",
    "print(w5.GetSphereCenter())\n",
    "\n",
    "# setting a sphere radius for the Cluster spherical boundary conditions\n",
    "w5.SetSphereR(10)\n",
    "\n",
    "print(\"\\nnew sphere radius\")\n",
    "print(w5.GetSphereR())\n",
    "print(w5.GetSphereCenter())"
   ]
  },
  {
   "cell_type": "markdown",
   "metadata": {},
   "source": [
    "!pip install py3Dmol\n",
    "import py3Dmol"
   ]
  },
  {
   "cell_type": "code",
   "execution_count": 16,
   "metadata": {},
   "outputs": [
    {
     "name": "stdout",
     "output_type": "stream",
     "text": [
      " progress 36.20 % -- step 362/1000"
     ]
    },
    {
     "name": "stdout",
     "output_type": "stream",
     "text": [
      " progress 100.00 % -- step 1000/1000\n",
      " *** JOB DONE ***\n",
      "after 1000 steps\n",
      "\n",
      "16\n",
      "charge: 0 multiplicity:1\n",
      "I     \t    -3.63024894\t    -3.68500591\t     0.98014103\n",
      "O     \t    -6.52684861\t     7.58716543\t     1.12057173\n",
      "H     \t    -5.69339107\t     7.81107296\t     1.53739755\n",
      "H     \t    -5.92539383\t     6.89614422\t     0.83901956\n",
      "O     \t     4.70246002\t    -5.76432957\t     6.72580326\n",
      "H     \t     5.63981129\t    -5.58367002\t     6.64057158\n",
      "H     \t     4.74596755\t    -4.98120935\t     6.17502235\n",
      "O     \t    -7.39165746\t     4.89912575\t    -4.57856786\n",
      "H     \t    -7.73677828\t     5.69764255\t    -4.17633371\n",
      "H     \t    -6.71067543\t     5.55643722\t    -4.72934882\n",
      "O     \t     8.73801127\t     2.02178638\t    -4.37120300\n",
      "H     \t     8.37633344\t     1.89771283\t    -5.25002298\n",
      "H     \t     8.74686573\t     2.89801835\t    -4.75936389\n",
      "O     \t    -0.34273364\t     0.15368234\t    -9.95811080\n",
      "H     \t     0.18335812\t     0.95167533\t   -10.02856748\n",
      "H     \t     0.38036030\t    -0.08711269\t   -10.53921552\n",
      "\n"
     ]
    }
   ],
   "source": [
    "from numpy import random\n",
    "from copy import deepcopy\n",
    "\n",
    "# choosing a fixed seed\n",
    "random_gen = random.default_rng(1234)\n",
    "\n",
    "# to save snapshot and show as a movie\n",
    "w5_xyz = \"\"\n",
    "\n",
    "total_steps = 1000\n",
    "\n",
    "# max step size to move a molecule \n",
    "step = w5.GetSphereR()\n",
    "\n",
    "for i in range(total_steps):\n",
    "    # molecule to be selected between [0, w.total_molecules]\n",
    "    mol = random_gen.choice(w5.GetTotalMol())\n",
    "\n",
    "    # angle between [0, 360)\n",
    "    ax = random_gen.uniform() * 360\n",
    "    ay = random_gen.uniform() * 360\n",
    "    az = random_gen.uniform() * 360\n",
    "\n",
    "    # moving between [-step, +step]\n",
    "    tx = step * (random_gen.uniform() - 0.5)\n",
    "    ty = step * (random_gen.uniform() - 0.5)\n",
    "    tz = step * (random_gen.uniform() - 0.5)\n",
    "\n",
    "    # saving coordinates as a string\n",
    "    # w5_xyz += w5.xyz\n",
    "    if i % 100 == 0: \n",
    "        w5_xyz += w5.GetBlockXYZ()\n",
    "\n",
    "    w5 = w5.TranslateMol(mol, x=tx, y=ty, z=tz).RotateMol(\n",
    "        mol, x=ax, y=ay, z=az\n",
    "    )\n",
    "    # printing current step\n",
    "    print(\n",
    "        f\"\\r progress {100.0*((i + 1)/total_steps):.2f}\"\n",
    "        f\" % -- step {i + 1}/{total_steps}\", end=''\n",
    "        )\n",
    "\n",
    "# -------------------------------------------------------\n",
    "print(\"\\n *** JOB DONE ***\")\n",
    "print(f\"after {total_steps} steps\\n\")\n",
    "print(w5.GetBlockXYZ())"
   ]
  },
  {
   "cell_type": "code",
   "execution_count": 17,
   "metadata": {},
   "outputs": [],
   "source": [
    "# py3Dmol: a simple IPython/Jupyter widget to embed an interactive 3Dmol.js viewer in a notebook.\n",
    "from py3Dmol import view"
   ]
  },
  {
   "cell_type": "code",
   "execution_count": 18,
   "metadata": {},
   "outputs": [
    {
     "data": {
      "application/3dmoljs_load.v0": "<div id=\"3dmolviewer_17129692380017247\"  style=\"position: relative; width: 700px; height: 500px;\">\n        <p id=\"3dmolwarning_17129692380017247\" style=\"background-color:#ffcccc;color:black\">You appear to be running in JupyterLab (or JavaScript failed to load for some other reason).  You need to install the 3dmol extension: <br>\n        <tt>jupyter labextension install jupyterlab_3dmol</tt></p>\n        </div>\n<script>\n\nvar loadScriptAsync = function(uri){\n  return new Promise((resolve, reject) => {\n    //this is to ignore the existence of requirejs amd\n    var savedexports, savedmodule;\n    if (typeof exports !== 'undefined') savedexports = exports;\n    else exports = {}\n    if (typeof module !== 'undefined') savedmodule = module;\n    else module = {}\n\n    var tag = document.createElement('script');\n    tag.src = uri;\n    tag.async = true;\n    tag.onload = () => {\n        exports = savedexports;\n        module = savedmodule;\n        resolve();\n    };\n  var firstScriptTag = document.getElementsByTagName('script')[0];\n  firstScriptTag.parentNode.insertBefore(tag, firstScriptTag);\n});\n};\n\nif(typeof $3Dmolpromise === 'undefined') {\n$3Dmolpromise = null;\n  $3Dmolpromise = loadScriptAsync('https://cdnjs.cloudflare.com/ajax/libs/3Dmol/2.0.4/3Dmol-min.js');\n}\n\nvar viewer_17129692380017247 = null;\nvar warn = document.getElementById(\"3dmolwarning_17129692380017247\");\nif(warn) {\n    warn.parentNode.removeChild(warn);\n}\n$3Dmolpromise.then(function() {\nviewer_17129692380017247 = $3Dmol.createViewer(document.getElementById(\"3dmolviewer_17129692380017247\"),{backgroundColor:\"white\"});\nviewer_17129692380017247.zoomTo();\n\tviewer_17129692380017247.addModelsAsFrames(\"16\\ncharge: 0 multiplicity:1\\nI     \\t     0.00000000\\t     0.00000000\\t     0.00000000\\nO     \\t     0.00000000\\t     0.00000000\\t     0.00000000\\nH     \\t     0.58708000\\t     0.75754000\\t     0.00000000\\nH     \\t    -0.58708000\\t     0.75754000\\t     0.00000000\\nO     \\t     0.00000000\\t     0.00000000\\t     0.00000000\\nH     \\t     0.58708000\\t     0.75754000\\t     0.00000000\\nH     \\t    -0.58708000\\t     0.75754000\\t     0.00000000\\nO     \\t     0.00000000\\t     0.00000000\\t     0.00000000\\nH     \\t     0.58708000\\t     0.75754000\\t     0.00000000\\nH     \\t    -0.58708000\\t     0.75754000\\t     0.00000000\\nO     \\t     0.00000000\\t     0.00000000\\t     0.00000000\\nH     \\t     0.58708000\\t     0.75754000\\t     0.00000000\\nH     \\t    -0.58708000\\t     0.75754000\\t     0.00000000\\nO     \\t     0.00000000\\t     0.00000000\\t     0.00000000\\nH     \\t     0.58708000\\t     0.75754000\\t     0.00000000\\nH     \\t    -0.58708000\\t     0.75754000\\t     0.00000000\\n16\\ncharge: 0 multiplicity:1\\nI     \\t     1.29924342\\t     8.75437777\\t    -4.65540936\\nO     \\t    -2.15581295\\t    -1.99312905\\t    -3.95901299\\nH     \\t    -2.07971197\\t    -1.62856106\\t    -4.84209205\\nH     \\t    -1.31315004\\t    -1.53656953\\t    -3.95746101\\nO     \\t    -7.77369799\\t     5.56200971\\t     3.07702474\\nH     \\t    -7.27889148\\t     4.74296943\\t     3.02345832\\nH     \\t    -7.81945391\\t     5.19665255\\t     3.96186953\\nO     \\t     0.03541104\\t    -4.00067618\\t    -3.44273192\\nH     \\t    -0.91540678\\t    -3.92709565\\t    -3.53792216\\nH     \\t    -0.31785907\\t    -4.61083103\\t    -2.79354703\\nO     \\t    -7.46486089\\t    -6.72958955\\t     0.79290449\\nH     \\t    -6.82305372\\t    -6.25664493\\t     1.32482245\\nH     \\t    -7.27076796\\t    -5.93917741\\t     0.28683494\\nO     \\t     3.26894901\\t     1.02925653\\t    -0.90163304\\nH     \\t     3.83741781\\t     0.94714208\\t    -1.66885542\\nH     \\t     3.24046391\\t     0.09689882\\t    -1.12169533\\n16\\ncharge: 0 multiplicity:1\\nI     \\t     0.66599285\\t    -4.28386548\\t     5.82521319\\nO     \\t     9.56621372\\t     1.30567212\\t     2.26038456\\nH     \\t    10.43486987\\t     0.93844907\\t     2.43101137\\nH     \\t    10.12303456\\t     2.07032431\\t     2.41461597\\nO     \\t    -4.86163107\\t    -1.33208232\\t    -6.56090103\\nH     \\t    -4.03483843\\t    -1.69458292\\t    -6.88267278\\nH     \\t    -5.08754162\\t    -2.21415254\\t    -6.85997683\\nO     \\t     1.21826631\\t    -2.87367298\\t    -3.19812408\\nH     \\t     0.57950399\\t    -3.34178285\\t    -3.73792556\\nH     \\t     1.32795963\\t    -3.79404957\\t    -2.95439466\\nO     \\t    -8.15603086\\t    -3.62123832\\t     1.85198827\\nH     \\t    -8.66397164\\t    -3.55018686\\t     2.66160398\\nH     \\t    -7.82846154\\t    -4.33361575\\t     2.40312032\\nO     \\t     4.78715110\\t    -5.84628248\\t     3.63495048\\nH     \\t     3.93521809\\t    -6.27559613\\t     3.72676354\\nH     \\t     4.82728331\\t    -6.58904814\\t     3.03061753\\n16\\ncharge: 0 multiplicity:1\\nI     \\t     7.40677552\\t    -4.26927809\\t    -3.37921793\\nO     \\t    -5.00553002\\t     3.65786886\\t    -0.15370987\\nH     \\t    -4.72626222\\t     2.76877483\\t    -0.37743086\\nH     \\t    -4.09122290\\t     3.61573639\\t     0.13053845\\nO     \\t     6.04027851\\t    -0.46576129\\t    -3.00836299\\nH     \\t     6.39148373\\t    -0.04382871\\t    -2.22276921\\nH     \\t     6.82722643\\t    -0.97045546\\t    -2.79734978\\nO     \\t     9.10675670\\t     1.57836228\\t    -3.86978376\\nH     \\t     8.88813784\\t     2.28531256\\t    -4.47884607\\nH     \\t     8.66199814\\t     2.23188389\\t    -3.32790822\\nO     \\t    -0.96009656\\t    -1.60456651\\t    -5.27094592\\nH     \\t    -0.50910143\\t    -0.94281635\\t    -4.74442919\\nH     \\t    -1.33567377\\t    -1.69970090\\t    -4.39434968\\nO     \\t     4.29621568\\t     3.77609344\\t     5.00053814\\nH     \\t     4.12330089\\t     3.86456891\\t     5.93904879\\nH     \\t     5.14114629\\t     3.59966307\\t     5.41706465\\n16\\ncharge: 0 multiplicity:1\\nI     \\t     4.81183540\\t     3.42349394\\t     0.54522228\\nO     \\t    -6.32920972\\t     3.23667919\\t    -5.85348850\\nH     \\t    -5.44225979\\t     2.87449028\\t    -5.87934938\\nH     \\t    -6.13256625\\t     3.02023379\\t    -4.94079331\\nO     \\t     2.33950102\\t    -4.94682072\\t    -8.32771160\\nH     \\t     1.63879097\\t    -5.01814041\\t    -8.97767212\\nH     \\t     1.95788506\\t    -5.81241852\\t    -8.17396013\\nO     \\t    -1.02837850\\t     6.57718917\\t    -0.16670621\\nH     \\t    -0.65945904\\t     6.10627256\\t    -0.91548240\\nH     \\t    -0.13489843\\t     6.91496012\\t    -0.24502561\\nO     \\t     8.89421019\\t     3.38482312\\t     3.08917981\\nH     \\t     9.30948009\\t     3.02026737\\t     3.87223773\\nH     \\t     8.16287509\\t     3.07445572\\t     3.62523089\\nO     \\t     4.54234209\\t     6.20982783\\t     4.62049520\\nH     \\t     5.47602519\\t     6.41976431\\t     4.67238164\\nH     \\t     4.77321906\\t     6.49371660\\t     3.73470024\\n16\\ncharge: 0 multiplicity:1\\nI     \\t     0.53706990\\t     1.51786407\\t    -4.89880386\\nO     \\t    -5.15869117\\t     1.49745293\\t     8.36071328\\nH     \\t    -5.58350786\\t     1.63185576\\t     9.20923932\\nH     \\t    -4.43305045\\t     1.57150369\\t     8.98239791\\nO     \\t    -4.62265673\\t     2.83357155\\t     2.23871282\\nH     \\t    -4.47773055\\t     3.73269698\\t     1.94021729\\nH     \\t    -5.40844788\\t     3.30714497\\t     2.51582342\\nO     \\t     3.09926880\\t     2.19583483\\t    -0.87632238\\nH     \\t     3.86021696\\t     2.77739418\\t    -0.84059593\\nH     \\t     2.95701118\\t     2.72790933\\t    -0.09198233\\nO     \\t     9.08643037\\t    -2.77026763\\t    -3.15573042\\nH     \\t     8.81448150\\t    -2.02549078\\t    -2.61732451\\nH     \\t     9.82370935\\t    -2.62296972\\t    -2.56137974\\nO     \\t    -0.24559357\\t    -8.65491363\\t     3.39679309\\nH     \\t     0.66006325\\t    -8.96311665\\t     3.33911926\\nH     \\t     0.05500979\\t    -8.68546502\\t     4.30631712\\n16\\ncharge: 0 multiplicity:1\\nI     \\t    -8.84807144\\t     2.15961185\\t     3.88022300\\nO     \\t    -5.83350907\\t    -1.25129204\\t    -8.02582291\\nH     \\t    -6.27165565\\t    -1.94121168\\t    -7.52525492\\nH     \\t    -6.57639640\\t    -0.81050827\\t    -7.61066292\\nO     \\t     5.59285816\\t    -5.42340019\\t    -6.28447952\\nH     \\t     4.64598540\\t    -5.33163058\\t    -6.16811780\\nH     \\t     5.22412824\\t    -6.20502293\\t    -6.69876685\\nO     \\t    -4.28691920\\t     5.28183906\\t     1.43232972\\nH     \\t    -4.14303958\\t     6.18346492\\t     1.72370449\\nH     \\t    -4.44497069\\t     5.81379210\\t     0.65093641\\nO     \\t     0.68805069\\t     6.57058696\\t    -7.50026637\\nH     \\t     1.44042907\\t     7.05529788\\t    -7.84306628\\nH     \\t     1.42167078\\t     6.29483992\\t    -6.94863709\\nO     \\t     5.22864438\\t    -2.22106354\\t     4.40420823\\nH     \\t     5.20525325\\t    -2.99068910\\t     3.83354284\\nH     \\t     4.69657694\\t    -1.94752573\\t     3.65546860\\n16\\ncharge: 0 multiplicity:1\\nI     \\t     2.40360221\\t    -3.79858404\\t     8.93271827\\nO     \\t     1.36624280\\t     8.31589384\\t    -4.47364425\\nH     \\t     0.51594942\\t     8.74635583\\t    -4.57480513\\nH     \\t     1.05897638\\t     8.03828930\\t    -5.33796641\\nO     \\t     6.90062187\\t    -5.99026317\\t    -4.23556930\\nH     \\t     7.22932720\\t    -5.16881893\\t    -3.86717833\\nH     \\t     6.14055080\\t    -5.40646539\\t    -4.23696448\\nO     \\t    -8.14334314\\t     5.71311635\\t    -1.44839728\\nH     \\t    -7.39712168\\t     5.13800495\\t    -1.62426712\\nH     \\t    -8.51131638\\t     4.99546169\\t    -1.96617841\\nO     \\t    -6.49076695\\t    -4.30621093\\t    -4.51925454\\nH     \\t    -7.41165492\\t    -4.05049892\\t    -4.44779536\\nH     \\t    -6.60148154\\t    -4.06601422\\t    -3.59807183\\nO     \\t     6.18539059\\t     1.31070183\\t     2.24611654\\nH     \\t     6.19643658\\t     0.86818136\\t     3.09616551\\nH     \\t     5.81452153\\t     1.95183773\\t     2.85433580\\n16\\ncharge: 0 multiplicity:1\\nI     \\t     7.41128241\\t    -5.48445943\\t     3.87215674\\nO     \\t    -7.19947284\\t    -0.37582928\\t     4.02752510\\nH     \\t    -7.01482777\\t    -0.37684417\\t     3.08708102\\nH     \\t    -6.26720901\\t    -0.58974472\\t     3.96707604\\nO     \\t    -0.70593160\\t    -4.95304535\\t    -4.25168652\\nH     \\t    -0.88743642\\t    -4.15487972\\t    -4.75020169\\nH     \\t     0.15475177\\t    -4.55266508\\t    -4.38378348\\nO     \\t     0.32675887\\t     4.61468450\\t     8.12033521\\nH     \\t     0.89305775\\t     4.47466862\\t     7.35992030\\nH     \\t    -0.09780852\\t     5.10238330\\t     7.41292994\\nO     \\t    -3.67720730\\t    -3.37815007\\t     3.23306628\\nH     \\t    -3.27812504\\t    -4.24893665\\t     3.26459111\\nH     \\t    -3.89534815\\t    -3.77196938\\t     2.38698667\\nO     \\t     1.63220547\\t     8.47192675\\t     4.94669798\\nH     \\t     2.00281334\\t     9.28896894\\t     5.28377583\\nH     \\t     1.96873551\\t     8.92046138\\t     4.16946316\\n16\\ncharge: 0 multiplicity:1\\nI     \\t    -2.15427844\\t    -9.64009883\\t    -1.55806902\\nO     \\t     4.01308253\\t    -6.92788413\\t     2.09250161\\nH     \\t     3.28694368\\t    -6.56905153\\t     1.58016248\\nH     \\t     4.43756362\\t    -6.44343660\\t     1.38281423\\nO     \\t     3.72946465\\t    -1.25945498\\t    -4.13082811\\nH     \\t     3.90474729\\t    -2.18467442\\t    -3.95257342\\nH     \\t     3.07120620\\t    -1.50640292\\t    -3.47948924\\nO     \\t    -4.42114572\\t     3.15290442\\t     0.68086332\\nH     \\t    -5.21566873\\t     3.68871874\\t     0.66798313\\nH     \\t    -4.49435655\\t     3.45028180\\t    -0.22728682\\nO     \\t     9.43847994\\t     3.08460094\\t     1.34082938\\nH     \\t     9.63083316\\t     2.14733346\\t     1.28551567\\nH     \\t     9.37603068\\t     2.88240463\\t     0.40608529\\nO     \\t    -6.19558766\\t     6.96924657\\t    -2.59311140\\nH     \\t    -5.29546812\\t     7.20434650\\t    -2.82342076\\nH     \\t    -5.65894926\\t     6.55048590\\t    -1.91843479\\n\",\"xyz\");\n\tviewer_17129692380017247.setStyle({\"stick\": {}});\n\tviewer_17129692380017247.setStyle({\"sphere\": {\"radius\": 0.8}});\n\tviewer_17129692380017247.addSphere({\"center\": {\"x\": 0.0, \"y\": 0.0, \"z\": 0.0}, \"radius\": 12.0, \"color\": \"yellow\", \"alpha\": 0.5});\n\tviewer_17129692380017247.animate({\"loop\": \"forward\", \"speed\": 1, \"reps\": 1});\n\tviewer_17129692380017247.addLine({\"start\": {\"x\": -12.0, \"y\": 0.0, \"z\": 0.0}, \"end\": {\"x\": 12.0, \"y\": 0.0, \"z\": 0.0}});\n\tviewer_17129692380017247.addLine({\"start\": {\"x\": 0.0, \"y\": -12.0, \"z\": 0.0}, \"end\": {\"x\": 0.0, \"y\": 12.0, \"z\": 0.0}});\n\tviewer_17129692380017247.addLine({\"start\": {\"x\": 0.0, \"y\": 0.0, \"z\": -12.0}, \"end\": {\"x\": 0.0, \"y\": 0.0, \"z\": 12.0}});\n\tviewer_17129692380017247.addLabel(\"x\",{\"position\": {\"x\": 12.0, \"y\": 0.0, \"z\": 0.0}, \"inFront\": \"true\", \"fontSize\": 20, \"showBackground\": \"false\", \"fontColor\": \"black\"});\n\tviewer_17129692380017247.addLabel(\"y\",{\"position\": {\"x\": 0.0, \"y\": 12.0, \"z\": 0.0}, \"inFront\": \"true\", \"fontSize\": 20, \"showBackground\": \"false\", \"fontColor\": \"black\"});\n\tviewer_17129692380017247.addLabel(\"z\",{\"position\": {\"x\": 0.0, \"y\": 0.0, \"z\": 12.0}, \"inFront\": \"true\", \"fontSize\": 20, \"showBackground\": \"false\", \"fontColor\": \"black\"});\n\tviewer_17129692380017247.zoomTo();\nviewer_17129692380017247.render();\n});\n</script>",
      "text/html": [
       "<div id=\"3dmolviewer_17129692380017247\"  style=\"position: relative; width: 700px; height: 500px;\">\n",
       "        <p id=\"3dmolwarning_17129692380017247\" style=\"background-color:#ffcccc;color:black\">You appear to be running in JupyterLab (or JavaScript failed to load for some other reason).  You need to install the 3dmol extension: <br>\n",
       "        <tt>jupyter labextension install jupyterlab_3dmol</tt></p>\n",
       "        </div>\n",
       "<script>\n",
       "\n",
       "var loadScriptAsync = function(uri){\n",
       "  return new Promise((resolve, reject) => {\n",
       "    //this is to ignore the existence of requirejs amd\n",
       "    var savedexports, savedmodule;\n",
       "    if (typeof exports !== 'undefined') savedexports = exports;\n",
       "    else exports = {}\n",
       "    if (typeof module !== 'undefined') savedmodule = module;\n",
       "    else module = {}\n",
       "\n",
       "    var tag = document.createElement('script');\n",
       "    tag.src = uri;\n",
       "    tag.async = true;\n",
       "    tag.onload = () => {\n",
       "        exports = savedexports;\n",
       "        module = savedmodule;\n",
       "        resolve();\n",
       "    };\n",
       "  var firstScriptTag = document.getElementsByTagName('script')[0];\n",
       "  firstScriptTag.parentNode.insertBefore(tag, firstScriptTag);\n",
       "});\n",
       "};\n",
       "\n",
       "if(typeof $3Dmolpromise === 'undefined') {\n",
       "$3Dmolpromise = null;\n",
       "  $3Dmolpromise = loadScriptAsync('https://cdnjs.cloudflare.com/ajax/libs/3Dmol/2.0.4/3Dmol-min.js');\n",
       "}\n",
       "\n",
       "var viewer_17129692380017247 = null;\n",
       "var warn = document.getElementById(\"3dmolwarning_17129692380017247\");\n",
       "if(warn) {\n",
       "    warn.parentNode.removeChild(warn);\n",
       "}\n",
       "$3Dmolpromise.then(function() {\n",
       "viewer_17129692380017247 = $3Dmol.createViewer(document.getElementById(\"3dmolviewer_17129692380017247\"),{backgroundColor:\"white\"});\n",
       "viewer_17129692380017247.zoomTo();\n",
       "\tviewer_17129692380017247.addModelsAsFrames(\"16\\ncharge: 0 multiplicity:1\\nI     \\t     0.00000000\\t     0.00000000\\t     0.00000000\\nO     \\t     0.00000000\\t     0.00000000\\t     0.00000000\\nH     \\t     0.58708000\\t     0.75754000\\t     0.00000000\\nH     \\t    -0.58708000\\t     0.75754000\\t     0.00000000\\nO     \\t     0.00000000\\t     0.00000000\\t     0.00000000\\nH     \\t     0.58708000\\t     0.75754000\\t     0.00000000\\nH     \\t    -0.58708000\\t     0.75754000\\t     0.00000000\\nO     \\t     0.00000000\\t     0.00000000\\t     0.00000000\\nH     \\t     0.58708000\\t     0.75754000\\t     0.00000000\\nH     \\t    -0.58708000\\t     0.75754000\\t     0.00000000\\nO     \\t     0.00000000\\t     0.00000000\\t     0.00000000\\nH     \\t     0.58708000\\t     0.75754000\\t     0.00000000\\nH     \\t    -0.58708000\\t     0.75754000\\t     0.00000000\\nO     \\t     0.00000000\\t     0.00000000\\t     0.00000000\\nH     \\t     0.58708000\\t     0.75754000\\t     0.00000000\\nH     \\t    -0.58708000\\t     0.75754000\\t     0.00000000\\n16\\ncharge: 0 multiplicity:1\\nI     \\t     1.29924342\\t     8.75437777\\t    -4.65540936\\nO     \\t    -2.15581295\\t    -1.99312905\\t    -3.95901299\\nH     \\t    -2.07971197\\t    -1.62856106\\t    -4.84209205\\nH     \\t    -1.31315004\\t    -1.53656953\\t    -3.95746101\\nO     \\t    -7.77369799\\t     5.56200971\\t     3.07702474\\nH     \\t    -7.27889148\\t     4.74296943\\t     3.02345832\\nH     \\t    -7.81945391\\t     5.19665255\\t     3.96186953\\nO     \\t     0.03541104\\t    -4.00067618\\t    -3.44273192\\nH     \\t    -0.91540678\\t    -3.92709565\\t    -3.53792216\\nH     \\t    -0.31785907\\t    -4.61083103\\t    -2.79354703\\nO     \\t    -7.46486089\\t    -6.72958955\\t     0.79290449\\nH     \\t    -6.82305372\\t    -6.25664493\\t     1.32482245\\nH     \\t    -7.27076796\\t    -5.93917741\\t     0.28683494\\nO     \\t     3.26894901\\t     1.02925653\\t    -0.90163304\\nH     \\t     3.83741781\\t     0.94714208\\t    -1.66885542\\nH     \\t     3.24046391\\t     0.09689882\\t    -1.12169533\\n16\\ncharge: 0 multiplicity:1\\nI     \\t     0.66599285\\t    -4.28386548\\t     5.82521319\\nO     \\t     9.56621372\\t     1.30567212\\t     2.26038456\\nH     \\t    10.43486987\\t     0.93844907\\t     2.43101137\\nH     \\t    10.12303456\\t     2.07032431\\t     2.41461597\\nO     \\t    -4.86163107\\t    -1.33208232\\t    -6.56090103\\nH     \\t    -4.03483843\\t    -1.69458292\\t    -6.88267278\\nH     \\t    -5.08754162\\t    -2.21415254\\t    -6.85997683\\nO     \\t     1.21826631\\t    -2.87367298\\t    -3.19812408\\nH     \\t     0.57950399\\t    -3.34178285\\t    -3.73792556\\nH     \\t     1.32795963\\t    -3.79404957\\t    -2.95439466\\nO     \\t    -8.15603086\\t    -3.62123832\\t     1.85198827\\nH     \\t    -8.66397164\\t    -3.55018686\\t     2.66160398\\nH     \\t    -7.82846154\\t    -4.33361575\\t     2.40312032\\nO     \\t     4.78715110\\t    -5.84628248\\t     3.63495048\\nH     \\t     3.93521809\\t    -6.27559613\\t     3.72676354\\nH     \\t     4.82728331\\t    -6.58904814\\t     3.03061753\\n16\\ncharge: 0 multiplicity:1\\nI     \\t     7.40677552\\t    -4.26927809\\t    -3.37921793\\nO     \\t    -5.00553002\\t     3.65786886\\t    -0.15370987\\nH     \\t    -4.72626222\\t     2.76877483\\t    -0.37743086\\nH     \\t    -4.09122290\\t     3.61573639\\t     0.13053845\\nO     \\t     6.04027851\\t    -0.46576129\\t    -3.00836299\\nH     \\t     6.39148373\\t    -0.04382871\\t    -2.22276921\\nH     \\t     6.82722643\\t    -0.97045546\\t    -2.79734978\\nO     \\t     9.10675670\\t     1.57836228\\t    -3.86978376\\nH     \\t     8.88813784\\t     2.28531256\\t    -4.47884607\\nH     \\t     8.66199814\\t     2.23188389\\t    -3.32790822\\nO     \\t    -0.96009656\\t    -1.60456651\\t    -5.27094592\\nH     \\t    -0.50910143\\t    -0.94281635\\t    -4.74442919\\nH     \\t    -1.33567377\\t    -1.69970090\\t    -4.39434968\\nO     \\t     4.29621568\\t     3.77609344\\t     5.00053814\\nH     \\t     4.12330089\\t     3.86456891\\t     5.93904879\\nH     \\t     5.14114629\\t     3.59966307\\t     5.41706465\\n16\\ncharge: 0 multiplicity:1\\nI     \\t     4.81183540\\t     3.42349394\\t     0.54522228\\nO     \\t    -6.32920972\\t     3.23667919\\t    -5.85348850\\nH     \\t    -5.44225979\\t     2.87449028\\t    -5.87934938\\nH     \\t    -6.13256625\\t     3.02023379\\t    -4.94079331\\nO     \\t     2.33950102\\t    -4.94682072\\t    -8.32771160\\nH     \\t     1.63879097\\t    -5.01814041\\t    -8.97767212\\nH     \\t     1.95788506\\t    -5.81241852\\t    -8.17396013\\nO     \\t    -1.02837850\\t     6.57718917\\t    -0.16670621\\nH     \\t    -0.65945904\\t     6.10627256\\t    -0.91548240\\nH     \\t    -0.13489843\\t     6.91496012\\t    -0.24502561\\nO     \\t     8.89421019\\t     3.38482312\\t     3.08917981\\nH     \\t     9.30948009\\t     3.02026737\\t     3.87223773\\nH     \\t     8.16287509\\t     3.07445572\\t     3.62523089\\nO     \\t     4.54234209\\t     6.20982783\\t     4.62049520\\nH     \\t     5.47602519\\t     6.41976431\\t     4.67238164\\nH     \\t     4.77321906\\t     6.49371660\\t     3.73470024\\n16\\ncharge: 0 multiplicity:1\\nI     \\t     0.53706990\\t     1.51786407\\t    -4.89880386\\nO     \\t    -5.15869117\\t     1.49745293\\t     8.36071328\\nH     \\t    -5.58350786\\t     1.63185576\\t     9.20923932\\nH     \\t    -4.43305045\\t     1.57150369\\t     8.98239791\\nO     \\t    -4.62265673\\t     2.83357155\\t     2.23871282\\nH     \\t    -4.47773055\\t     3.73269698\\t     1.94021729\\nH     \\t    -5.40844788\\t     3.30714497\\t     2.51582342\\nO     \\t     3.09926880\\t     2.19583483\\t    -0.87632238\\nH     \\t     3.86021696\\t     2.77739418\\t    -0.84059593\\nH     \\t     2.95701118\\t     2.72790933\\t    -0.09198233\\nO     \\t     9.08643037\\t    -2.77026763\\t    -3.15573042\\nH     \\t     8.81448150\\t    -2.02549078\\t    -2.61732451\\nH     \\t     9.82370935\\t    -2.62296972\\t    -2.56137974\\nO     \\t    -0.24559357\\t    -8.65491363\\t     3.39679309\\nH     \\t     0.66006325\\t    -8.96311665\\t     3.33911926\\nH     \\t     0.05500979\\t    -8.68546502\\t     4.30631712\\n16\\ncharge: 0 multiplicity:1\\nI     \\t    -8.84807144\\t     2.15961185\\t     3.88022300\\nO     \\t    -5.83350907\\t    -1.25129204\\t    -8.02582291\\nH     \\t    -6.27165565\\t    -1.94121168\\t    -7.52525492\\nH     \\t    -6.57639640\\t    -0.81050827\\t    -7.61066292\\nO     \\t     5.59285816\\t    -5.42340019\\t    -6.28447952\\nH     \\t     4.64598540\\t    -5.33163058\\t    -6.16811780\\nH     \\t     5.22412824\\t    -6.20502293\\t    -6.69876685\\nO     \\t    -4.28691920\\t     5.28183906\\t     1.43232972\\nH     \\t    -4.14303958\\t     6.18346492\\t     1.72370449\\nH     \\t    -4.44497069\\t     5.81379210\\t     0.65093641\\nO     \\t     0.68805069\\t     6.57058696\\t    -7.50026637\\nH     \\t     1.44042907\\t     7.05529788\\t    -7.84306628\\nH     \\t     1.42167078\\t     6.29483992\\t    -6.94863709\\nO     \\t     5.22864438\\t    -2.22106354\\t     4.40420823\\nH     \\t     5.20525325\\t    -2.99068910\\t     3.83354284\\nH     \\t     4.69657694\\t    -1.94752573\\t     3.65546860\\n16\\ncharge: 0 multiplicity:1\\nI     \\t     2.40360221\\t    -3.79858404\\t     8.93271827\\nO     \\t     1.36624280\\t     8.31589384\\t    -4.47364425\\nH     \\t     0.51594942\\t     8.74635583\\t    -4.57480513\\nH     \\t     1.05897638\\t     8.03828930\\t    -5.33796641\\nO     \\t     6.90062187\\t    -5.99026317\\t    -4.23556930\\nH     \\t     7.22932720\\t    -5.16881893\\t    -3.86717833\\nH     \\t     6.14055080\\t    -5.40646539\\t    -4.23696448\\nO     \\t    -8.14334314\\t     5.71311635\\t    -1.44839728\\nH     \\t    -7.39712168\\t     5.13800495\\t    -1.62426712\\nH     \\t    -8.51131638\\t     4.99546169\\t    -1.96617841\\nO     \\t    -6.49076695\\t    -4.30621093\\t    -4.51925454\\nH     \\t    -7.41165492\\t    -4.05049892\\t    -4.44779536\\nH     \\t    -6.60148154\\t    -4.06601422\\t    -3.59807183\\nO     \\t     6.18539059\\t     1.31070183\\t     2.24611654\\nH     \\t     6.19643658\\t     0.86818136\\t     3.09616551\\nH     \\t     5.81452153\\t     1.95183773\\t     2.85433580\\n16\\ncharge: 0 multiplicity:1\\nI     \\t     7.41128241\\t    -5.48445943\\t     3.87215674\\nO     \\t    -7.19947284\\t    -0.37582928\\t     4.02752510\\nH     \\t    -7.01482777\\t    -0.37684417\\t     3.08708102\\nH     \\t    -6.26720901\\t    -0.58974472\\t     3.96707604\\nO     \\t    -0.70593160\\t    -4.95304535\\t    -4.25168652\\nH     \\t    -0.88743642\\t    -4.15487972\\t    -4.75020169\\nH     \\t     0.15475177\\t    -4.55266508\\t    -4.38378348\\nO     \\t     0.32675887\\t     4.61468450\\t     8.12033521\\nH     \\t     0.89305775\\t     4.47466862\\t     7.35992030\\nH     \\t    -0.09780852\\t     5.10238330\\t     7.41292994\\nO     \\t    -3.67720730\\t    -3.37815007\\t     3.23306628\\nH     \\t    -3.27812504\\t    -4.24893665\\t     3.26459111\\nH     \\t    -3.89534815\\t    -3.77196938\\t     2.38698667\\nO     \\t     1.63220547\\t     8.47192675\\t     4.94669798\\nH     \\t     2.00281334\\t     9.28896894\\t     5.28377583\\nH     \\t     1.96873551\\t     8.92046138\\t     4.16946316\\n16\\ncharge: 0 multiplicity:1\\nI     \\t    -2.15427844\\t    -9.64009883\\t    -1.55806902\\nO     \\t     4.01308253\\t    -6.92788413\\t     2.09250161\\nH     \\t     3.28694368\\t    -6.56905153\\t     1.58016248\\nH     \\t     4.43756362\\t    -6.44343660\\t     1.38281423\\nO     \\t     3.72946465\\t    -1.25945498\\t    -4.13082811\\nH     \\t     3.90474729\\t    -2.18467442\\t    -3.95257342\\nH     \\t     3.07120620\\t    -1.50640292\\t    -3.47948924\\nO     \\t    -4.42114572\\t     3.15290442\\t     0.68086332\\nH     \\t    -5.21566873\\t     3.68871874\\t     0.66798313\\nH     \\t    -4.49435655\\t     3.45028180\\t    -0.22728682\\nO     \\t     9.43847994\\t     3.08460094\\t     1.34082938\\nH     \\t     9.63083316\\t     2.14733346\\t     1.28551567\\nH     \\t     9.37603068\\t     2.88240463\\t     0.40608529\\nO     \\t    -6.19558766\\t     6.96924657\\t    -2.59311140\\nH     \\t    -5.29546812\\t     7.20434650\\t    -2.82342076\\nH     \\t    -5.65894926\\t     6.55048590\\t    -1.91843479\\n\",\"xyz\");\n",
       "\tviewer_17129692380017247.setStyle({\"stick\": {}});\n",
       "\tviewer_17129692380017247.setStyle({\"sphere\": {\"radius\": 0.8}});\n",
       "\tviewer_17129692380017247.addSphere({\"center\": {\"x\": 0.0, \"y\": 0.0, \"z\": 0.0}, \"radius\": 12.0, \"color\": \"yellow\", \"alpha\": 0.5});\n",
       "\tviewer_17129692380017247.animate({\"loop\": \"forward\", \"speed\": 1, \"reps\": 1});\n",
       "\tviewer_17129692380017247.addLine({\"start\": {\"x\": -12.0, \"y\": 0.0, \"z\": 0.0}, \"end\": {\"x\": 12.0, \"y\": 0.0, \"z\": 0.0}});\n",
       "\tviewer_17129692380017247.addLine({\"start\": {\"x\": 0.0, \"y\": -12.0, \"z\": 0.0}, \"end\": {\"x\": 0.0, \"y\": 12.0, \"z\": 0.0}});\n",
       "\tviewer_17129692380017247.addLine({\"start\": {\"x\": 0.0, \"y\": 0.0, \"z\": -12.0}, \"end\": {\"x\": 0.0, \"y\": 0.0, \"z\": 12.0}});\n",
       "\tviewer_17129692380017247.addLabel(\"x\",{\"position\": {\"x\": 12.0, \"y\": 0.0, \"z\": 0.0}, \"inFront\": \"true\", \"fontSize\": 20, \"showBackground\": \"false\", \"fontColor\": \"black\"});\n",
       "\tviewer_17129692380017247.addLabel(\"y\",{\"position\": {\"x\": 0.0, \"y\": 12.0, \"z\": 0.0}, \"inFront\": \"true\", \"fontSize\": 20, \"showBackground\": \"false\", \"fontColor\": \"black\"});\n",
       "\tviewer_17129692380017247.addLabel(\"z\",{\"position\": {\"x\": 0.0, \"y\": 0.0, \"z\": 12.0}, \"inFront\": \"true\", \"fontSize\": 20, \"showBackground\": \"false\", \"fontColor\": \"black\"});\n",
       "\tviewer_17129692380017247.zoomTo();\n",
       "viewer_17129692380017247.render();\n",
       "});\n",
       "</script>"
      ]
     },
     "metadata": {},
     "output_type": "display_data"
    }
   ],
   "source": [
    "# starting visualization\n",
    "xyz_view = view(width=700, height=500)#, linked=False, viewergrid=(2,2))\n",
    "# 20% to check visually that everything is inside\n",
    "sr = w5.GetSphereR() * 1.2\n",
    "\n",
    "# sphere center\n",
    "cx, cy, cz = w5.GetSphereCenter()\n",
    "sc = {\"x\": cx, \"y\": cy, \"z\": cz}\n",
    "\n",
    "# axes\n",
    "x_axis = {'start': {'x': cx-sr, 'y':cy, 'z':cz}, 'end': {'x': cx+sr, 'y':cy, 'z':cz}}\n",
    "y_axis = {'start': {'x': cx, 'y':cy-sr, 'z':cz}, 'end': {'x': cx, 'y':cy+sr, 'z':cz}}\n",
    "z_axis = {'start': {'x': cx, 'y':cy, 'z':cz-sr}, 'end': {'x': cx, 'y':cy, 'z':cz+sr}}\n",
    "\n",
    "# Configuation viewer\n",
    "xyz_view.addModelsAsFrames(w5_xyz,'xyz')\n",
    "xyz_view.setStyle({'stick': {}})\n",
    "xyz_view.setStyle({'sphere': {'radius': 0.8}})\n",
    "xyz_view.addSphere({'center': sc, \n",
    "        'radius': sr, \n",
    "        'color' :'yellow',\n",
    "        'alpha': 0.5,\n",
    "        })\n",
    "\n",
    "# animation base on several XYZ coordinates snapshots\n",
    "xyz_view.animate({'loop': \"forward\", 'speed': 1, 'reps': 1})\n",
    "\n",
    "# cartesian 3D axes\n",
    "xyz_view.addLine(x_axis)\n",
    "xyz_view.addLine(y_axis)\n",
    "xyz_view.addLine(z_axis)\n",
    "\n",
    "xyz_view.addLabel(\"x\", {\n",
    "        'position':x_axis[\"end\"],\n",
    "        'inFront':'true',\n",
    "        'fontSize':20,\n",
    "        'showBackground':'false',\n",
    "        'fontColor': 'black',\n",
    "        })\n",
    "xyz_view.addLabel(\"y\", {\n",
    "        'position':y_axis[\"end\"],\n",
    "        'inFront':'true',\n",
    "        'fontSize':20,\n",
    "        'showBackground':'false',\n",
    "        'fontColor': 'black',\n",
    "        })\n",
    "xyz_view.addLabel(\"z\", {\n",
    "        'position':z_axis[\"end\"],\n",
    "        'inFront':'true',\n",
    "        'fontSize':20,\n",
    "        'showBackground':'false',\n",
    "        'fontColor': 'black',\n",
    "        })\n",
    "\n",
    "xyz_view.zoomTo()\n",
    "xyz_view.show()\n"
   ]
  }
 ],
 "metadata": {
  "interpreter": {
   "hash": "18499a005e754947919ec5cf7177bdee4137be8b2658c273f1990f80578be88f"
  },
  "kernelspec": {
   "display_name": "Python 3.8.8 64-bit ('ascec': conda)",
   "name": "python3"
  },
  "language_info": {
   "codemirror_mode": {
    "name": "ipython",
    "version": 3
   },
   "file_extension": ".py",
   "mimetype": "text/x-python",
   "name": "python",
   "nbconvert_exporter": "python",
   "pygments_lexer": "ipython3",
   "version": "3.10.12"
  }
 },
 "nbformat": 4,
 "nbformat_minor": 4
}
