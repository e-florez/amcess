{
 "cells": [
  {
   "cell_type": "markdown",
   "source": [
    "# Moving and Rotating a Molecular Cluster:\n",
    "**Task:** \n",
    "1. Move/rotate a Molecule/Atom one by one systematically\n",
    "2. Move/Rotate randomly"
   ],
   "metadata": {}
  },
  {
   "cell_type": "markdown",
   "source": [
    "## Water molecule ($H_{2}O$):\n",
    "\n",
    "Cartesian coordinates [Angstrom]:\n",
    "\n",
    "    \n",
    "    O    0.00000    0.00000    0.00000\n",
    "    H    0.58708    0.75754    0.00000\n",
    "    H    0.58708   -0.75754    0.00000\n",
    "\n",
    "\n",
    "> **_NOTE:_**   \n",
    "> `translate` and `rotate` methods return a brand new Molecule object"
   ],
   "metadata": {}
  },
  {
   "cell_type": "code",
   "execution_count": null,
   "source": [
    "# crating the path (PYTHONPATH) to our module.\n",
    "# assuming that our 'src' directory is out ('..') of our current directory \n",
    "import os\n",
    "import sys\n",
    "module_path = os.path.abspath(os.path.join('..'))\n",
    "\n",
    "if module_path not in sys.path:\n",
    "    sys.path.append(module_path)"
   ],
   "outputs": [],
   "metadata": {}
  },
  {
   "cell_type": "code",
   "execution_count": null,
   "source": [
    "# importing de Molecule Class\n",
    "from src.base_molecule import Molecule, Cluster"
   ],
   "outputs": [],
   "metadata": {}
  },
  {
   "cell_type": "code",
   "execution_count": null,
   "source": [
    "# creating a Molecular object. You can use a list, a dictionary \n",
    "# (the key MUST be \"atoms\") or another Molecule object (see notebook: 01)\n",
    "\n",
    "water_molecule=[(\"O\", 0, 0, 0), (\"H\", 0.58708, 0.75754, 0), (\"H\", -0.58708, 0.75754, 0)]\n",
    "\n",
    "water = Molecule(water_molecule)\n",
    "\n",
    "print(water.xyz)"
   ],
   "outputs": [],
   "metadata": {}
  },
  {
   "cell_type": "code",
   "execution_count": null,
   "source": [
    "# Let's create a Cluster adding two more water molecules using \n",
    "# the same cartesian coordinates. \n",
    "\n",
    "# water3 = Cluster(water_molecule, 2 * water)\n",
    "water3 = Cluster(water_molecule, water_molecule, water_molecule)\n",
    "\n",
    "print(water3)\n",
    "print(water3.xyz)"
   ],
   "outputs": [],
   "metadata": {}
  },
  {
   "cell_type": "markdown",
   "source": [
    ">### NOTE:\n",
    ">Creating a `Molecule` object means that its atoms are FIXED and \n",
    ">those atoms **can NOT** be MOVED or ROTATED.\n",
    ">\n",
    ">On the other hand, creating a `Cluster` object means their individual\n",
    ">molecules **can** be MOVED or ROTATED"
   ],
   "metadata": {}
  },
  {
   "cell_type": "code",
   "execution_count": null,
   "source": [
    "# let's create a cluster with five (5) water molecules and one atom (Iodine)\n",
    "iodine =[(\"I\", 0, 0, 0)]\n",
    "\n",
    "w5_I = Cluster(\n",
    "    iodine,\n",
    "    water,\n",
    "    water,\n",
    "    water,\n",
    "    water,\n",
    "    water,\n",
    ")\n",
    "\n",
    "w5_I = Cluster(Molecule(iodine) + 5 * Molecule(water_molecule))\n",
    "\n",
    "# ALWAYS, you have SIX (6) individual molecules/atoms in your 'w5_I' cluster\n",
    "print(w5_I)"
   ],
   "outputs": [],
   "metadata": {}
  },
  {
   "cell_type": "code",
   "execution_count": null,
   "source": [
    "# asking for its properties\n",
    "print(f\"\\nNumber of individual molecules/atoms: \\n{w5_I.total_molecules}\")\n",
    "print(f\"\\nTotal number of atoms: \\n{w5_I.total_atoms}\")\n",
    "print(f\"\\nAtomic symbols: \\n{w5_I.symbols}\")\n",
    "print(f\"\\nIndividual atomic masses: \\n{w5_I.atomic_masses}\")\n",
    "print(f\"\\nMolecular mass: \\n{w5_I.total_mass}\")\n",
    "print(f\"\\nCoordinates: \\n{w5_I.atoms}\")\n",
    "print(f\"\\nCartesian coordinates: \\n{w5_I.coordinates}\")"
   ],
   "outputs": [],
   "metadata": {}
  },
  {
   "cell_type": "code",
   "execution_count": null,
   "source": [
    "# let's MOVE 2 units on xy axes the first molecule (I) and rotate 180 deg around z-axis the second molecule (water)\n",
    "w5_I_moved_rotated = w5_I.translate(0, x=2, y=2, z=0).rotate(1, x=0, y=0, z=180)\n",
    "\n",
    "print(w5_I_moved_rotated.xyz)"
   ],
   "outputs": [],
   "metadata": {}
  },
  {
   "cell_type": "markdown",
   "source": [
    "### IMPORTANT FACTS:\n",
    "- After translating a molecule, a new object is created where the moved \n",
    "molecule in the same position. The same is true for any rotation\n",
    "- Rotation are around the center of mass of the target molecule"
   ],
   "metadata": {}
  },
  {
   "cell_type": "code",
   "execution_count": null,
   "source": [
    "# let's visualize its random process FREEZING Iodine\n",
    "from copy import deepcopy\n",
    "\n",
    "# creating a brand new copy when 'I' will NOT be moved or rotated \n",
    "w5 = deepcopy(w5_I)\n",
    "\n",
    "print(w5.sphere_radius)\n",
    "print(w5.sphere_center)\n",
    "\n",
    "# setting a sphere radius for the Cluster spherical boundary conditions\n",
    "w5.sphere_radius = 10\n",
    "\n",
    "print(\"\\nnew sphere radius\")\n",
    "print(w5.sphere_radius)\n",
    "print(w5.sphere_center)"
   ],
   "outputs": [],
   "metadata": {}
  },
  {
   "cell_type": "markdown",
   "source": [
    "!pip install py3Dmol\n",
    "import py3Dmol"
   ],
   "metadata": {}
  },
  {
   "cell_type": "code",
   "execution_count": null,
   "source": [
    "from numpy import random\n",
    "from copy import deepcopy\n",
    "\n",
    "# choosing a fixed seed\n",
    "random_gen = random.default_rng(1234)\n",
    "\n",
    "# to save snapshot and show as a movie\n",
    "w5_xyz = \"\"\n",
    "\n",
    "total_steps = 10000\n",
    "\n",
    "# max step size to move a molecule \n",
    "step = w5.sphere_radius\n",
    "\n",
    "for i in range(total_steps):\n",
    "    # molecule to be selected between [0, w.total_molecules]\n",
    "    mol = random_gen.choice(w5.total_molecules)\n",
    "\n",
    "    # angle between [0, 360)\n",
    "    ax = random_gen.uniform() * 360\n",
    "    ay = random_gen.uniform() * 360\n",
    "    az = random_gen.uniform() * 360\n",
    "\n",
    "    # moving between [-step, +step]\n",
    "    tx = step * (random_gen.uniform() - 0.5)\n",
    "    ty = step * (random_gen.uniform() - 0.5)\n",
    "    tz = step * (random_gen.uniform() - 0.5)\n",
    "\n",
    "    # saving coordinates as a string\n",
    "    # w5_xyz += w5.xyz\n",
    "    if i % 100 == 0: \n",
    "        w5_xyz += w5.xyz\n",
    "\n",
    "    w5 = w5.translate(mol, x=tx, y=ty, z=tz).rotate(\n",
    "        mol, x=ax, y=ay, z=az\n",
    "    )\n",
    "    # printing current step\n",
    "    print(\n",
    "        f\"\\r progress {100.0*((i + 1)/total_steps):.2f}\"\n",
    "        f\" % -- step {i + 1}/{total_steps}\", end=''\n",
    "        )\n",
    "\n",
    "# -------------------------------------------------------\n",
    "print(\"\\n *** JOB DONE ***\")\n",
    "print(f\"after {total_steps} steps\\n\")\n",
    "print(w5.xyz)"
   ],
   "outputs": [],
   "metadata": {}
  },
  {
   "cell_type": "code",
   "execution_count": null,
   "source": [
    "# py3Dmol: a simple IPython/Jupyter widget to embed an interactive 3Dmol.js viewer in a notebook.\n",
    "!pip install py3Dmol\n",
    "import py3Dmol"
   ],
   "outputs": [],
   "metadata": {}
  },
  {
   "cell_type": "code",
   "execution_count": null,
   "source": [
    "# 20% to check visually that everything is inside\n",
    "sr = w5.sphere_radius * 1.2\n",
    "\n",
    "# sphere center\n",
    "cx, cy, cz = w5.sphere_center\n",
    "sc = {\"x\": cx, \"y\": cy, \"z\": cz}\n",
    "\n",
    "# axes\n",
    "x_axis = {'start': {'x': cx-sr, 'y':cy, 'z':cz}, 'end': {'x': cx+sr, 'y':cy, 'z':cz}}\n",
    "y_axis = {'start': {'x': cx, 'y':cy-sr, 'z':cz}, 'end': {'x': cx, 'y':cy+sr, 'z':cz}}\n",
    "z_axis = {'start': {'x': cx, 'y':cy, 'z':cz-sr}, 'end': {'x': cx, 'y':cy, 'z':cz+sr}}\n",
    "\n",
    "# starting visualization\n",
    "xyz_view = py3Dmol.view(width=700, height=500)#, linked=False, viewergrid=(2,2))\n",
    "xyz_view.addModelsAsFrames(w5_xyz,'xyz')\n",
    "# xyz_view.setStyle({'stick': {}})\n",
    "xyz_view.setStyle({'sphere': {'radius': 0.8}})\n",
    "xyz_view.addSphere({'center': sc, \n",
    "        'radius': sr, \n",
    "        'color' :'yellow',\n",
    "        'alpha': 0.5,\n",
    "        })\n",
    "\n",
    "# animation base on several XYZ coordinates snapshots\n",
    "xyz_view.animate({'loop': \"forward\", 'speed': 1, 'reps': 1})\n",
    "\n",
    "# cartesian 3D axes\n",
    "xyz_view.addLine(x_axis)\n",
    "xyz_view.addLine(y_axis)\n",
    "xyz_view.addLine(z_axis)\n",
    "\n",
    "xyz_view.addLabel(\"x\", {\n",
    "        'position':x_axis[\"end\"],\n",
    "        'inFront':'true',\n",
    "        'fontSize':20,\n",
    "        'showBackground':'false',\n",
    "        'fontColor': 'black',\n",
    "        })\n",
    "xyz_view.addLabel(\"y\", {\n",
    "        'position':y_axis[\"end\"],\n",
    "        'inFront':'true',\n",
    "        'fontSize':20,\n",
    "        'showBackground':'false',\n",
    "        'fontColor': 'black',\n",
    "        })\n",
    "xyz_view.addLabel(\"z\", {\n",
    "        'position':z_axis[\"end\"],\n",
    "        'inFront':'true',\n",
    "        'fontSize':20,\n",
    "        'showBackground':'false',\n",
    "        'fontColor': 'black',\n",
    "        })\n",
    "\n",
    "xyz_view.zoomTo()\n",
    "xyz_view.show()\n"
   ],
   "outputs": [],
   "metadata": {}
  },
  {
   "cell_type": "code",
   "execution_count": null,
   "source": [],
   "outputs": [],
   "metadata": {}
  }
 ],
 "metadata": {
  "interpreter": {
   "hash": "905b23e70a1d36024bfb0896816f07aeaf2908407f57dcaa1d6c5bb6e0bd7aeb"
  },
  "kernelspec": {
   "name": "python3",
   "display_name": "Python 3.8.10 64-bit ('venv': venv)"
  },
  "language_info": {
   "codemirror_mode": {
    "name": "ipython",
    "version": 3
   },
   "file_extension": ".py",
   "mimetype": "text/x-python",
   "name": "python",
   "nbconvert_exporter": "python",
   "pygments_lexer": "ipython3",
   "version": "3.8.10"
  }
 },
 "nbformat": 4,
 "nbformat_minor": 4
}