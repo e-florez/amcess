{
 "cells": [
  {
   "cell_type": "markdown",
   "source": [
    "# Moving and Rotating a Molecular Cluster:\n",
    "**Task:** \n",
    "1. Move/rotate a Molecule/Atom one by one systematically\n",
    "2. Move/Rotate randomly"
   ],
   "metadata": {}
  },
  {
   "cell_type": "markdown",
   "source": [
    "## Water molecule ($H_{2}O$):\n",
    "\n",
    "Cartesian coordinates [Angstrom]:\n",
    "\n",
    "    \n",
    "    O    0.00000    0.00000    0.00000\n",
    "    H    0.58708    0.75754    0.00000\n",
    "    H    0.58708   -0.75754    0.00000\n",
    "\n",
    "\n",
    "> **_NOTE:_**   \n",
    "> `translate` and `rotate` methods return a brand new Molecule object"
   ],
   "metadata": {}
  },
  {
   "cell_type": "code",
   "execution_count": 1,
   "source": [
    "# creating the path (PYTHONPATH) to our module.\n",
    "# assuming that our 'amcess' directory is out ('..') of our current directory \n",
    "import os\n",
    "import sys\n",
    "module_path = os.path.abspath(os.path.join('..'))\n",
    "\n",
    "if module_path not in sys.path:\n",
    "    sys.path.append(module_path)"
   ],
   "outputs": [],
   "metadata": {}
  },
  {
   "cell_type": "code",
   "execution_count": 2,
   "source": [
    "# importing de Molecule Class\n",
    "from amcess.base_molecule import Molecule, Cluster"
   ],
   "outputs": [],
   "metadata": {}
  },
  {
   "cell_type": "code",
   "execution_count": 3,
   "source": [
    "# First, let's create a Molecule by using the atomic constituents\n",
    "# coordinates (use list or dictionary, see notebook: 01)\n",
    "\n",
    "water = [(\"O\", 0, 0, 0), (\"H\", 0.58708, 0.75754, 0), (\"H\", -0.58708, 0.75754, 0)]\n",
    "\n",
    "water_molecule = Molecule(water)\n",
    "\n",
    "print(water_molecule.xyz)"
   ],
   "outputs": [
    {
     "output_type": "stream",
     "name": "stdout",
     "text": [
      "\t3\n",
      "-- charge=0 and multiplicity=1 --\n",
      "O     \t     0.00000000\t     0.00000000\t     0.00000000\n",
      "H     \t     0.58708000\t     0.75754000\t     0.00000000\n",
      "H     \t    -0.58708000\t     0.75754000\t     0.00000000\n",
      "\n"
     ]
    }
   ],
   "metadata": {}
  },
  {
   "cell_type": "code",
   "execution_count": 4,
   "source": [
    "# Now, let's create a Cluster by adding three water molecules with the \n",
    "# same cartesian coordinates. \n",
    "water3 = Cluster(water_molecule + water_molecule + water_molecule)\n",
    "\n",
    "# which is equivalent to \n",
    "water3 = Cluster(3 * water_molecule)\n",
    "\n",
    "print(water3)\n",
    "print(water3.xyz)"
   ],
   "outputs": [
    {
     "output_type": "stream",
     "name": "stdout",
     "text": [
      "Cluster of (3) molecules and (9) total atoms\n",
      " #0: molecule with 3 atoms:\n",
      "     --> atoms: [('O', 0, 0, 0), ('H', 0.58708, 0.75754, 0), ('H', -0.58708, 0.75754, 0)]\n",
      "     --> charge: +0\n",
      "     --> multiplicity: 1\n",
      " #1: molecule with 3 atoms:\n",
      "     --> atoms: [('O', 0, 0, 0), ('H', 0.58708, 0.75754, 0), ('H', -0.58708, 0.75754, 0)]\n",
      "     --> charge: +0\n",
      "     --> multiplicity: 1\n",
      " #2: molecule with 3 atoms:\n",
      "     --> atoms: [('O', 0, 0, 0), ('H', 0.58708, 0.75754, 0), ('H', -0.58708, 0.75754, 0)]\n",
      "     --> charge: +0\n",
      "     --> multiplicity: 1\n",
      "\n",
      "\t9\n",
      "-- charge=0 and multiplicity=1 --\n",
      "O     \t     0.00000000\t     0.00000000\t     0.00000000\n",
      "H     \t     0.58708000\t     0.75754000\t     0.00000000\n",
      "H     \t    -0.58708000\t     0.75754000\t     0.00000000\n",
      "O     \t     0.00000000\t     0.00000000\t     0.00000000\n",
      "H     \t     0.58708000\t     0.75754000\t     0.00000000\n",
      "H     \t    -0.58708000\t     0.75754000\t     0.00000000\n",
      "O     \t     0.00000000\t     0.00000000\t     0.00000000\n",
      "H     \t     0.58708000\t     0.75754000\t     0.00000000\n",
      "H     \t    -0.58708000\t     0.75754000\t     0.00000000\n",
      "\n"
     ]
    }
   ],
   "metadata": {}
  },
  {
   "cell_type": "code",
   "execution_count": 9,
   "source": [
    "# We can also create a cluster by using the coordinates of the atomic constituents (list of tuples/dictionary)\n",
    "water3 = Cluster(water, water, water)\n",
    "\n",
    "print(water3)\n",
    "print(water3.xyz)"
   ],
   "outputs": [
    {
     "output_type": "stream",
     "name": "stdout",
     "text": [
      "Cluster of (3) molecules and (9) total atoms\n",
      " #0: molecule with 3 atoms:\n",
      "     --> atoms: [('O', 0, 0, 0), ('H', 0.58708, 0.75754, 0), ('H', -0.58708, 0.75754, 0)]\n",
      "     --> charge: +0\n",
      "     --> multiplicity: 1\n",
      " #1: molecule with 3 atoms:\n",
      "     --> atoms: [('O', 0, 0, 0), ('H', 0.58708, 0.75754, 0), ('H', -0.58708, 0.75754, 0)]\n",
      "     --> charge: +0\n",
      "     --> multiplicity: 1\n",
      " #2: molecule with 3 atoms:\n",
      "     --> atoms: [('O', 0, 0, 0), ('H', 0.58708, 0.75754, 0), ('H', -0.58708, 0.75754, 0)]\n",
      "     --> charge: +0\n",
      "     --> multiplicity: 1\n",
      "\n",
      "\t9\n",
      "-- charge=0 and multiplicity=1 --\n",
      "O     \t     0.00000000\t     0.00000000\t     0.00000000\n",
      "H     \t     0.58708000\t     0.75754000\t     0.00000000\n",
      "H     \t    -0.58708000\t     0.75754000\t     0.00000000\n",
      "O     \t     0.00000000\t     0.00000000\t     0.00000000\n",
      "H     \t     0.58708000\t     0.75754000\t     0.00000000\n",
      "H     \t    -0.58708000\t     0.75754000\t     0.00000000\n",
      "O     \t     0.00000000\t     0.00000000\t     0.00000000\n",
      "H     \t     0.58708000\t     0.75754000\t     0.00000000\n",
      "H     \t    -0.58708000\t     0.75754000\t     0.00000000\n",
      "\n"
     ]
    }
   ],
   "metadata": {}
  },
  {
   "cell_type": "code",
   "execution_count": 10,
   "source": [
    "# Additionally, you can mix both formalisms (list/dictionary and molecule object)\n",
    "water3 = Cluster(water, 2 * water_molecule)\n",
    "\n",
    "print(water3)\n",
    "print(water3.xyz)"
   ],
   "outputs": [
    {
     "output_type": "stream",
     "name": "stdout",
     "text": [
      "Cluster of (3) molecules and (9) total atoms\n",
      " #0: molecule with 3 atoms:\n",
      "     --> atoms: [('O', 0, 0, 0), ('H', 0.58708, 0.75754, 0), ('H', -0.58708, 0.75754, 0)]\n",
      "     --> charge: +0\n",
      "     --> multiplicity: 1\n",
      " #1: molecule with 3 atoms:\n",
      "     --> atoms: [('O', 0, 0, 0), ('H', 0.58708, 0.75754, 0), ('H', -0.58708, 0.75754, 0)]\n",
      "     --> charge: +0\n",
      "     --> multiplicity: 1\n",
      " #2: molecule with 3 atoms:\n",
      "     --> atoms: [('O', 0, 0, 0), ('H', 0.58708, 0.75754, 0), ('H', -0.58708, 0.75754, 0)]\n",
      "     --> charge: +0\n",
      "     --> multiplicity: 1\n",
      "\n",
      "\t9\n",
      "-- charge=0 and multiplicity=1 --\n",
      "O     \t     0.00000000\t     0.00000000\t     0.00000000\n",
      "H     \t     0.58708000\t     0.75754000\t     0.00000000\n",
      "H     \t    -0.58708000\t     0.75754000\t     0.00000000\n",
      "O     \t     0.00000000\t     0.00000000\t     0.00000000\n",
      "H     \t     0.58708000\t     0.75754000\t     0.00000000\n",
      "H     \t    -0.58708000\t     0.75754000\t     0.00000000\n",
      "O     \t     0.00000000\t     0.00000000\t     0.00000000\n",
      "H     \t     0.58708000\t     0.75754000\t     0.00000000\n",
      "H     \t    -0.58708000\t     0.75754000\t     0.00000000\n",
      "\n"
     ]
    }
   ],
   "metadata": {}
  },
  {
   "cell_type": "markdown",
   "source": [
    ">### NOTE:\n",
    ">Creating a `Molecule` object means that its atoms are FIXED and \n",
    ">those atoms **can NOT** be MOVED or ROTATED.\n",
    ">\n",
    ">On the other hand, creating a `Cluster` object means their individual\n",
    ">molecules **can** be MOVED or ROTATED"
   ],
   "metadata": {}
  },
  {
   "cell_type": "code",
   "execution_count": 5,
   "source": [
    "# Let's create a cluster with different species: five (5) water molecules and one atom (Iodine)\n",
    "iodine = [(\"I\", 0, 0, 0)]\n",
    "\n",
    "# We can do so by using the coordinates of each specie\n",
    "w5_I = Cluster(\n",
    "    iodine,\n",
    "    water,\n",
    "    water,\n",
    "    water,\n",
    "    water,\n",
    "    water,\n",
    ")\n",
    "\n",
    "# which is equivalent to the following expressions\n",
    "w5_I = Cluster(iodine, 5 * water_molecule)\n",
    "w5_I = Cluster(Molecule(iodine) + 5 * water_molecule)\n",
    "\n",
    "# Remember you will ALWAYS have SIX (6) individual molecules/atoms in your 'w5_I' cluster\n",
    "print(w5_I)"
   ],
   "outputs": [
    {
     "output_type": "stream",
     "name": "stdout",
     "text": [
      "Cluster of (6) molecules and (16) total atoms\n",
      " #0: molecule with 1 atoms:\n",
      "     --> atoms: [('I', 0, 0, 0)]\n",
      "     --> charge: +0\n",
      "     --> multiplicity: 1\n",
      " #1: molecule with 3 atoms:\n",
      "     --> atoms: [('O', 0, 0, 0), ('H', 0.58708, 0.75754, 0), ('H', -0.58708, 0.75754, 0)]\n",
      "     --> charge: +0\n",
      "     --> multiplicity: 1\n",
      " #2: molecule with 3 atoms:\n",
      "     --> atoms: [('O', 0, 0, 0), ('H', 0.58708, 0.75754, 0), ('H', -0.58708, 0.75754, 0)]\n",
      "     --> charge: +0\n",
      "     --> multiplicity: 1\n",
      " #3: molecule with 3 atoms:\n",
      "     --> atoms: [('O', 0, 0, 0), ('H', 0.58708, 0.75754, 0), ('H', -0.58708, 0.75754, 0)]\n",
      "     --> charge: +0\n",
      "     --> multiplicity: 1\n",
      " #4: molecule with 3 atoms:\n",
      "     --> atoms: [('O', 0, 0, 0), ('H', 0.58708, 0.75754, 0), ('H', -0.58708, 0.75754, 0)]\n",
      "     --> charge: +0\n",
      "     --> multiplicity: 1\n",
      " #5: molecule with 3 atoms:\n",
      "     --> atoms: [('O', 0, 0, 0), ('H', 0.58708, 0.75754, 0), ('H', -0.58708, 0.75754, 0)]\n",
      "     --> charge: +0\n",
      "     --> multiplicity: 1\n",
      "\n"
     ]
    }
   ],
   "metadata": {}
  },
  {
   "cell_type": "code",
   "execution_count": 12,
   "source": [
    "# asking for its properties\n",
    "print(f\"\\nNumber of individual molecules/atoms: \\n{w5_I.total_molecules}\")\n",
    "print(f\"\\nTotal number of atoms: \\n{w5_I.total_atoms}\")\n",
    "print(f\"\\nAtomic symbols: \\n{w5_I.symbols}\")\n",
    "print(f\"\\nIndividual atomic masses: \\n{w5_I.atomic_masses}\")\n",
    "print(f\"\\nMolecular mass: \\n{w5_I.total_mass}\")\n",
    "print(f\"\\nCoordinates: \\n{w5_I.atoms}\")\n",
    "print(f\"\\nCartesian coordinates: \\n{w5_I.coordinates}\")"
   ],
   "outputs": [
    {
     "output_type": "stream",
     "name": "stdout",
     "text": [
      "\n",
      "Number of individual molecules/atoms: \n",
      "6\n",
      "\n",
      "Total number of atoms: \n",
      "16\n",
      "\n",
      "Atomic symbols: \n",
      "['I', 'O', 'H', 'H', 'O', 'H', 'H', 'O', 'H', 'H', 'O', 'H', 'H', 'O', 'H', 'H']\n",
      "\n",
      "Individual atomic masses: \n",
      "[126.9045, 15.999, 1.008, 1.008, 15.999, 1.008, 1.008, 15.999, 1.008, 1.008, 15.999, 1.008, 1.008, 15.999, 1.008, 1.008]\n",
      "\n",
      "Molecular mass: \n",
      "216.9795000000001\n",
      "\n",
      "Coordinates: \n",
      "[('I', 0, 0, 0), ('O', 0, 0, 0), ('H', 0.58708, 0.75754, 0), ('H', -0.58708, 0.75754, 0), ('O', 0, 0, 0), ('H', 0.58708, 0.75754, 0), ('H', -0.58708, 0.75754, 0), ('O', 0, 0, 0), ('H', 0.58708, 0.75754, 0), ('H', -0.58708, 0.75754, 0), ('O', 0, 0, 0), ('H', 0.58708, 0.75754, 0), ('H', -0.58708, 0.75754, 0), ('O', 0, 0, 0), ('H', 0.58708, 0.75754, 0), ('H', -0.58708, 0.75754, 0)]\n",
      "\n",
      "Cartesian coordinates: \n",
      "[(0, 0, 0), (0, 0, 0), (0.58708, 0.75754, 0), (-0.58708, 0.75754, 0), (0, 0, 0), (0.58708, 0.75754, 0), (-0.58708, 0.75754, 0), (0, 0, 0), (0.58708, 0.75754, 0), (-0.58708, 0.75754, 0), (0, 0, 0), (0.58708, 0.75754, 0), (-0.58708, 0.75754, 0), (0, 0, 0), (0.58708, 0.75754, 0), (-0.58708, 0.75754, 0)]\n"
     ]
    }
   ],
   "metadata": {}
  },
  {
   "cell_type": "code",
   "execution_count": 13,
   "source": [
    "# Let's MOVE 2 units on xy axes the first molecule (I) and rotate 180 deg around z-axis the second molecule (water)\n",
    "w5_I_moved_rotated = w5_I.translate(0, x=2, y=2, z=0).rotate(1, x=0, y=0, z=180)\n",
    "\n",
    "print(w5_I_moved_rotated.xyz)"
   ],
   "outputs": [
    {
     "output_type": "stream",
     "name": "stdout",
     "text": [
      "\t16\n",
      "-- charge=0 and multiplicity=1 --\n",
      "I     \t     2.00000000\t     2.00000000\t     0.00000000\n",
      "O     \t    -0.00000000\t     0.16954767\t     0.00000000\n",
      "H     \t    -0.58708000\t    -0.58799233\t     0.00000000\n",
      "H     \t     0.58708000\t    -0.58799233\t     0.00000000\n",
      "O     \t     0.00000000\t     0.00000000\t     0.00000000\n",
      "H     \t     0.58708000\t     0.75754000\t     0.00000000\n",
      "H     \t    -0.58708000\t     0.75754000\t     0.00000000\n",
      "O     \t     0.00000000\t     0.00000000\t     0.00000000\n",
      "H     \t     0.58708000\t     0.75754000\t     0.00000000\n",
      "H     \t    -0.58708000\t     0.75754000\t     0.00000000\n",
      "O     \t     0.00000000\t     0.00000000\t     0.00000000\n",
      "H     \t     0.58708000\t     0.75754000\t     0.00000000\n",
      "H     \t    -0.58708000\t     0.75754000\t     0.00000000\n",
      "O     \t     0.00000000\t     0.00000000\t     0.00000000\n",
      "H     \t     0.58708000\t     0.75754000\t     0.00000000\n",
      "H     \t    -0.58708000\t     0.75754000\t     0.00000000\n",
      "\n"
     ]
    }
   ],
   "metadata": {}
  },
  {
   "cell_type": "markdown",
   "source": [
    "### IMPORTANT FACTS:\n",
    "- After translating a molecule, a new object is created where the moved \n",
    "molecule in the same position. The same is true for any rotation\n",
    "- Rotation are around the center of mass of the target molecule"
   ],
   "metadata": {}
  },
  {
   "cell_type": "code",
   "execution_count": 14,
   "source": [
    "# let's visualize its random process FREEZING Iodine\n",
    "from copy import deepcopy\n",
    "\n",
    "# creating a brand new copy when 'I' will NOT be moved or rotated \n",
    "w5 = deepcopy(w5_I)\n",
    "\n",
    "print(w5.sphere_radius)\n",
    "print(w5.sphere_center)\n",
    "\n",
    "# setting a sphere radius for the Cluster spherical boundary conditions\n",
    "w5.sphere_radius = 10\n",
    "\n",
    "print(\"\\nnew sphere radius\")\n",
    "print(w5.sphere_radius)\n",
    "print(w5.sphere_center)"
   ],
   "outputs": [
    {
     "output_type": "stream",
     "name": "stdout",
     "text": [
      "None\n",
      "(0, 0, 0)\n",
      "\n",
      "new sphere radius\n",
      "10\n",
      "(0, 0, 0)\n"
     ]
    }
   ],
   "metadata": {}
  },
  {
   "cell_type": "markdown",
   "source": [
    "!pip install py3Dmol\n",
    "import py3Dmol"
   ],
   "metadata": {}
  },
  {
   "cell_type": "code",
   "execution_count": 15,
   "source": [
    "from numpy import random\n",
    "from copy import deepcopy\n",
    "\n",
    "# choosing a fixed seed\n",
    "random_gen = random.default_rng(1234)\n",
    "\n",
    "# to save snapshot and show as a movie\n",
    "w5_xyz = \"\"\n",
    "\n",
    "total_steps = 1000\n",
    "\n",
    "# max step size to move a molecule \n",
    "step = w5.sphere_radius\n",
    "\n",
    "for i in range(total_steps):\n",
    "    # molecule to be selected between [0, w.total_molecules]\n",
    "    mol = random_gen.choice(w5.total_molecules)\n",
    "\n",
    "    # angle between [0, 360)\n",
    "    ax = random_gen.uniform() * 360\n",
    "    ay = random_gen.uniform() * 360\n",
    "    az = random_gen.uniform() * 360\n",
    "\n",
    "    # moving between [-step, +step]\n",
    "    tx = step * (random_gen.uniform() - 0.5)\n",
    "    ty = step * (random_gen.uniform() - 0.5)\n",
    "    tz = step * (random_gen.uniform() - 0.5)\n",
    "\n",
    "    # saving coordinates as a string\n",
    "    # w5_xyz += w5.xyz\n",
    "    if i % 100 == 0: \n",
    "        w5_xyz += w5.xyz\n",
    "\n",
    "    w5 = w5.translate(mol, x=tx, y=ty, z=tz).rotate(\n",
    "        mol, x=ax, y=ay, z=az\n",
    "    )\n",
    "    # printing current step\n",
    "    print(\n",
    "        f\"\\r progress {100.0*((i + 1)/total_steps):.2f}\"\n",
    "        f\" % -- step {i + 1}/{total_steps}\", end=''\n",
    "        )\n",
    "\n",
    "# -------------------------------------------------------\n",
    "print(\"\\n *** JOB DONE ***\")\n",
    "print(f\"after {total_steps} steps\\n\")\n",
    "print(w5.xyz)"
   ],
   "outputs": [
    {
     "output_type": "stream",
     "name": "stdout",
     "text": [
      " progress 100.00 % -- step 1000/1000\n",
      " *** JOB DONE ***\n",
      "after 1000 steps\n",
      "\n",
      "\t16\n",
      "-- charge=0 and multiplicity=1 --\n",
      "I     \t    -3.63024893\t    -3.68500590\t     0.98014104\n",
      "O     \t    -6.52684861\t     7.58716542\t     1.12057174\n",
      "H     \t    -5.69339109\t     7.81107291\t     1.53739757\n",
      "H     \t    -5.92539387\t     6.89614419\t     0.83901956\n",
      "O     \t     4.70246001\t    -5.76432958\t     6.72580325\n",
      "H     \t     5.63981132\t    -5.58367001\t     6.64057164\n",
      "H     \t     4.74596752\t    -4.98120933\t     6.17502239\n",
      "O     \t    -7.39165746\t     4.89912575\t    -4.57856786\n",
      "H     \t    -7.73677825\t     5.69764253\t    -4.17633364\n",
      "H     \t    -6.71067543\t     5.55643722\t    -4.72934879\n",
      "O     \t     8.73801127\t     2.02178637\t    -4.37120300\n",
      "H     \t     8.37633339\t     1.89771284\t    -5.25002304\n",
      "H     \t     8.74686574\t     2.89801835\t    -4.75936391\n",
      "O     \t    -0.34273365\t     0.15368232\t    -9.95811080\n",
      "H     \t     0.18335824\t     0.95167540\t   -10.02856753\n",
      "H     \t     0.38036035\t    -0.08711262\t   -10.53921548\n",
      "\n"
     ]
    }
   ],
   "metadata": {}
  },
  {
   "cell_type": "code",
   "execution_count": 16,
   "source": [
    "# py3Dmol: a simple IPython/Jupyter widget to embed an interactive 3Dmol.js viewer in a notebook.\n",
    "!pip install py3Dmol\n",
    "import py3Dmol"
   ],
   "outputs": [
    {
     "output_type": "stream",
     "name": "stdout",
     "text": [
      "Requirement already satisfied: py3Dmol in /home/ale/anaconda3/envs/ascec/lib/python3.8/site-packages (1.7.0)\n"
     ]
    }
   ],
   "metadata": {}
  },
  {
   "cell_type": "code",
   "execution_count": 17,
   "source": [
    "# 20% to check visually that everything is inside\n",
    "sr = w5.sphere_radius * 1.2\n",
    "\n",
    "# sphere center\n",
    "cx, cy, cz = w5.sphere_center\n",
    "sc = {\"x\": cx, \"y\": cy, \"z\": cz}\n",
    "\n",
    "# axes\n",
    "x_axis = {'start': {'x': cx-sr, 'y':cy, 'z':cz}, 'end': {'x': cx+sr, 'y':cy, 'z':cz}}\n",
    "y_axis = {'start': {'x': cx, 'y':cy-sr, 'z':cz}, 'end': {'x': cx, 'y':cy+sr, 'z':cz}}\n",
    "z_axis = {'start': {'x': cx, 'y':cy, 'z':cz-sr}, 'end': {'x': cx, 'y':cy, 'z':cz+sr}}\n",
    "\n",
    "# starting visualization\n",
    "xyz_view = py3Dmol.view(width=700, height=500)#, linked=False, viewergrid=(2,2))\n",
    "xyz_view.addModelsAsFrames(w5_xyz,'xyz')\n",
    "# xyz_view.setStyle({'stick': {}})\n",
    "xyz_view.setStyle({'sphere': {'radius': 0.8}})\n",
    "xyz_view.addSphere({'center': sc, \n",
    "        'radius': sr, \n",
    "        'color' :'yellow',\n",
    "        'alpha': 0.5,\n",
    "        })\n",
    "\n",
    "# animation base on several XYZ coordinates snapshots\n",
    "xyz_view.animate({'loop': \"forward\", 'speed': 1, 'reps': 1})\n",
    "\n",
    "# cartesian 3D axes\n",
    "xyz_view.addLine(x_axis)\n",
    "xyz_view.addLine(y_axis)\n",
    "xyz_view.addLine(z_axis)\n",
    "\n",
    "xyz_view.addLabel(\"x\", {\n",
    "        'position':x_axis[\"end\"],\n",
    "        'inFront':'true',\n",
    "        'fontSize':20,\n",
    "        'showBackground':'false',\n",
    "        'fontColor': 'black',\n",
    "        })\n",
    "xyz_view.addLabel(\"y\", {\n",
    "        'position':y_axis[\"end\"],\n",
    "        'inFront':'true',\n",
    "        'fontSize':20,\n",
    "        'showBackground':'false',\n",
    "        'fontColor': 'black',\n",
    "        })\n",
    "xyz_view.addLabel(\"z\", {\n",
    "        'position':z_axis[\"end\"],\n",
    "        'inFront':'true',\n",
    "        'fontSize':20,\n",
    "        'showBackground':'false',\n",
    "        'fontColor': 'black',\n",
    "        })\n",
    "\n",
    "xyz_view.zoomTo()\n",
    "xyz_view.show()\n"
   ],
   "outputs": [
    {
     "output_type": "display_data",
     "data": {
      "application/3dmoljs_load.v0": "<div id=\"3dmolviewer_16354644631634119\"  style=\"position: relative; width: 700px; height: 500px\">\n        <p id=\"3dmolwarning_16354644631634119\" style=\"background-color:#ffcccc;color:black\">You appear to be running in JupyterLab (or JavaScript failed to load for some other reason).  You need to install the 3dmol extension: <br>\n        <tt>jupyter labextension install jupyterlab_3dmol</tt></p>\n        </div>\n<script>\n\nvar loadScriptAsync = function(uri){\n  return new Promise((resolve, reject) => {\n    var tag = document.createElement('script');\n    tag.src = uri;\n    tag.async = true;\n    tag.onload = () => {\n      resolve();\n    };\n  var firstScriptTag = document.getElementsByTagName('script')[0];\n  firstScriptTag.parentNode.insertBefore(tag, firstScriptTag);\n});\n};\n\nif(typeof $3Dmolpromise === 'undefined') {\n$3Dmolpromise = null;\n  $3Dmolpromise = loadScriptAsync('https://3dmol.org/build/3Dmol.js');\n}\n\nvar viewer_16354644631634119 = null;\nvar warn = document.getElementById(\"3dmolwarning_16354644631634119\");\nif(warn) {\n    warn.parentNode.removeChild(warn);\n}\n$3Dmolpromise.then(function() {\nviewer_16354644631634119 = $3Dmol.createViewer($(\"#3dmolviewer_16354644631634119\"),{backgroundColor:\"white\"});\nviewer_16354644631634119.zoomTo();\n\tviewer_16354644631634119.addModelsAsFrames(\"\\t16\\n-- charge=0 and multiplicity=1 --\\nI     \\t     0.00000000\\t     0.00000000\\t     0.00000000\\nO     \\t     0.00000000\\t     0.00000000\\t     0.00000000\\nH     \\t     0.58708000\\t     0.75754000\\t     0.00000000\\nH     \\t    -0.58708000\\t     0.75754000\\t     0.00000000\\nO     \\t     0.00000000\\t     0.00000000\\t     0.00000000\\nH     \\t     0.58708000\\t     0.75754000\\t     0.00000000\\nH     \\t    -0.58708000\\t     0.75754000\\t     0.00000000\\nO     \\t     0.00000000\\t     0.00000000\\t     0.00000000\\nH     \\t     0.58708000\\t     0.75754000\\t     0.00000000\\nH     \\t    -0.58708000\\t     0.75754000\\t     0.00000000\\nO     \\t     0.00000000\\t     0.00000000\\t     0.00000000\\nH     \\t     0.58708000\\t     0.75754000\\t     0.00000000\\nH     \\t    -0.58708000\\t     0.75754000\\t     0.00000000\\nO     \\t     0.00000000\\t     0.00000000\\t     0.00000000\\nH     \\t     0.58708000\\t     0.75754000\\t     0.00000000\\nH     \\t    -0.58708000\\t     0.75754000\\t     0.00000000\\n\\t16\\n-- charge=0 and multiplicity=1 --\\nI     \\t     1.82918169\\t     8.66494088\\t    -4.64466294\\nO     \\t    -2.15581295\\t    -1.99312905\\t    -3.95901299\\nH     \\t    -2.07971199\\t    -1.62856107\\t    -4.84209204\\nH     \\t    -1.31315005\\t    -1.53656951\\t    -3.95746101\\nO     \\t    -7.77369799\\t     5.56200971\\t     3.07702474\\nH     \\t    -7.27889149\\t     4.74296945\\t     3.02345832\\nH     \\t    -7.81945391\\t     5.19665255\\t     3.96186954\\nO     \\t     0.03541102\\t    -4.00067617\\t    -3.44273190\\nH     \\t    -0.91540679\\t    -3.92709564\\t    -3.53792214\\nH     \\t    -0.31785909\\t    -4.61083104\\t    -2.79354700\\nO     \\t    -7.46486089\\t    -6.72958955\\t     0.79290449\\nH     \\t    -6.82305375\\t    -6.25664491\\t     1.32482247\\nH     \\t    -7.27076797\\t    -5.93917741\\t     0.28683496\\nO     \\t     3.26894900\\t     1.02925655\\t    -0.90163302\\nH     \\t     3.83741778\\t     0.94714207\\t    -1.66885544\\nH     \\t     3.24046390\\t     0.09689881\\t    -1.12169534\\n\\t16\\n-- charge=0 and multiplicity=1 --\\nI     \\t     0.69274501\\t    -4.28574670\\t     5.81932564\\nO     \\t     9.56621371\\t     1.30567212\\t     2.26038457\\nH     \\t    10.43486985\\t     0.93844905\\t     2.43101137\\nH     \\t    10.12303456\\t     2.07032433\\t     2.41461598\\nO     \\t    -4.86163108\\t    -1.33208235\\t    -6.56090101\\nH     \\t    -4.03483845\\t    -1.69458291\\t    -6.88267277\\nH     \\t    -5.08754162\\t    -2.21415257\\t    -6.85997680\\nO     \\t     1.21826629\\t    -2.87367300\\t    -3.19812408\\nH     \\t     0.57950398\\t    -3.34178288\\t    -3.73792556\\nH     \\t     1.32795962\\t    -3.79404962\\t    -2.95439466\\nO     \\t    -8.15603087\\t    -3.62123832\\t     1.85198828\\nH     \\t    -8.66397164\\t    -3.55018684\\t     2.66160401\\nH     \\t    -7.82846158\\t    -4.33361573\\t     2.40312035\\nO     \\t     4.78715110\\t    -5.84628246\\t     3.63495050\\nH     \\t     3.93521808\\t    -6.27559618\\t     3.72676354\\nH     \\t     4.82728328\\t    -6.58904816\\t     3.03061755\\n\\t16\\n-- charge=0 and multiplicity=1 --\\nI     \\t     7.40811299\\t    -4.26532854\\t    -3.37911047\\nO     \\t    -5.00553002\\t     3.65786886\\t    -0.15370987\\nH     \\t    -4.72626225\\t     2.76877481\\t    -0.37743084\\nH     \\t    -4.09122290\\t     3.61573639\\t     0.13053847\\nO     \\t     6.04027852\\t    -0.46576130\\t    -3.00836300\\nH     \\t     6.39148372\\t    -0.04382868\\t    -2.22276925\\nH     \\t     6.82722642\\t    -0.97045547\\t    -2.79734979\\nO     \\t     9.10675670\\t     1.57836228\\t    -3.86978377\\nH     \\t     8.88813783\\t     2.28531255\\t    -4.47884607\\nH     \\t     8.66199813\\t     2.23188389\\t    -3.32790823\\nO     \\t    -0.96009657\\t    -1.60456652\\t    -5.27094595\\nH     \\t    -0.50910144\\t    -0.94281637\\t    -4.74442918\\nH     \\t    -1.33567379\\t    -1.69970091\\t    -4.39434970\\nO     \\t     4.29621567\\t     3.77609344\\t     5.00053813\\nH     \\t     4.12330094\\t     3.86456889\\t     5.93904885\\nH     \\t     5.14114628\\t     3.59966307\\t     5.41706469\\n\\t16\\n-- charge=0 and multiplicity=1 --\\nI     \\t     4.81184125\\t     3.42412689\\t     0.54535542\\nO     \\t    -6.32920972\\t     3.23667919\\t    -5.85348850\\nH     \\t    -5.44225980\\t     2.87449024\\t    -5.87934938\\nH     \\t    -6.13256627\\t     3.02023377\\t    -4.94079331\\nO     \\t     2.33950102\\t    -4.94682073\\t    -8.32771161\\nH     \\t     1.63879093\\t    -5.01814038\\t    -8.97767211\\nH     \\t     1.95788504\\t    -5.81241850\\t    -8.17396015\\nO     \\t    -1.02837850\\t     6.57718915\\t    -0.16670620\\nH     \\t    -0.65945906\\t     6.10627259\\t    -0.91548241\\nH     \\t    -0.13489844\\t     6.91496014\\t    -0.24502562\\nO     \\t     8.89421020\\t     3.38482313\\t     3.08917980\\nH     \\t     9.30948007\\t     3.02026734\\t     3.87223777\\nH     \\t     8.16287510\\t     3.07445571\\t     3.62523093\\nO     \\t     4.54234208\\t     6.20982781\\t     4.62049520\\nH     \\t     5.47602523\\t     6.41976434\\t     4.67238158\\nH     \\t     4.77321910\\t     6.49371664\\t     3.73470024\\n\\t16\\n-- charge=0 and multiplicity=1 --\\nI     \\t     0.53714651\\t     1.51794589\\t    -4.89885700\\nO     \\t    -5.15869116\\t     1.49745292\\t     8.36071328\\nH     \\t    -5.58350786\\t     1.63185580\\t     9.20923931\\nH     \\t    -4.43305042\\t     1.57150371\\t     8.98239791\\nO     \\t    -4.62265673\\t     2.83357153\\t     2.23871281\\nH     \\t    -4.47773054\\t     3.73269699\\t     1.94021729\\nH     \\t    -5.40844788\\t     3.30714494\\t     2.51582339\\nO     \\t     3.09926882\\t     2.19583482\\t    -0.87632238\\nH     \\t     3.86021695\\t     2.77739423\\t    -0.84059596\\nH     \\t     2.95701119\\t     2.72790934\\t    -0.09198237\\nO     \\t     9.08643038\\t    -2.77026761\\t    -3.15573043\\nH     \\t     8.81448156\\t    -2.02549069\\t    -2.61732449\\nH     \\t     9.82370937\\t    -2.62296965\\t    -2.56137971\\nO     \\t    -0.24559358\\t    -8.65491364\\t     3.39679309\\nH     \\t     0.66006330\\t    -8.96311670\\t     3.33911934\\nH     \\t     0.05500982\\t    -8.68546508\\t     4.30631713\\n\\t16\\n-- charge=0 and multiplicity=1 --\\nI     \\t    -8.84806709\\t     2.15960223\\t     3.88022283\\nO     \\t    -5.83350906\\t    -1.25129204\\t    -8.02582291\\nH     \\t    -6.27165565\\t    -1.94121166\\t    -7.52525496\\nH     \\t    -6.57639642\\t    -0.81050823\\t    -7.61066295\\nO     \\t     5.59285815\\t    -5.42340022\\t    -6.28447951\\nH     \\t     4.64598537\\t    -5.33163058\\t    -6.16811777\\nH     \\t     5.22412820\\t    -6.20502290\\t    -6.69876683\\nO     \\t    -4.28691920\\t     5.28183907\\t     1.43232973\\nH     \\t    -4.14303951\\t     6.18346492\\t     1.72370446\\nH     \\t    -4.44497066\\t     5.81379209\\t     0.65093642\\nO     \\t     0.68805070\\t     6.57058698\\t    -7.50026635\\nH     \\t     1.44042916\\t     7.05529789\\t    -7.84306625\\nH     \\t     1.42167083\\t     6.29483994\\t    -6.94863708\\nO     \\t     5.22864439\\t    -2.22106354\\t     4.40420823\\nH     \\t     5.20525323\\t    -2.99068911\\t     3.83354273\\nH     \\t     4.69657695\\t    -1.94752578\\t     3.65546854\\n\\t16\\n-- charge=0 and multiplicity=1 --\\nI     \\t     2.40360237\\t    -3.79858406\\t     8.93271822\\nO     \\t     1.36624279\\t     8.31589386\\t    -4.47364424\\nH     \\t     0.51594945\\t     8.74635580\\t    -4.57480512\\nH     \\t     1.05897641\\t     8.03828923\\t    -5.33796642\\nO     \\t     6.90062187\\t    -5.99026317\\t    -4.23556931\\nH     \\t     7.22932722\\t    -5.16881893\\t    -3.86717831\\nH     \\t     6.14055083\\t    -5.40646539\\t    -4.23696450\\nO     \\t    -8.14334314\\t     5.71311636\\t    -1.44839728\\nH     \\t    -7.39712169\\t     5.13800493\\t    -1.62426706\\nH     \\t    -8.51131637\\t     4.99546170\\t    -1.96617837\\nO     \\t    -6.49076696\\t    -4.30621092\\t    -4.51925455\\nH     \\t    -7.41165496\\t    -4.05049888\\t    -4.44779532\\nH     \\t    -6.60148154\\t    -4.06601420\\t    -3.59807183\\nO     \\t     6.18539059\\t     1.31070182\\t     2.24611653\\nH     \\t     6.19643658\\t     0.86818139\\t     3.09616561\\nH     \\t     5.81452155\\t     1.95183769\\t     2.85433585\\n\\t16\\n-- charge=0 and multiplicity=1 --\\nI     \\t     7.41128241\\t    -5.48445944\\t     3.87215673\\nO     \\t    -7.19947287\\t    -0.37582928\\t     4.02752509\\nH     \\t    -7.01482778\\t    -0.37684418\\t     3.08708108\\nH     \\t    -6.26720902\\t    -0.58974475\\t     3.96707611\\nO     \\t    -0.70593160\\t    -4.95304536\\t    -4.25168650\\nH     \\t    -0.88743645\\t    -4.15487973\\t    -4.75020169\\nH     \\t     0.15475173\\t    -4.55266508\\t    -4.38378347\\nO     \\t     0.32675887\\t     4.61468450\\t     8.12033522\\nH     \\t     0.89305774\\t     4.47466853\\t     7.35992027\\nH     \\t    -0.09780851\\t     5.10238326\\t     7.41292993\\nO     \\t    -3.67720730\\t    -3.37815007\\t     3.23306627\\nH     \\t    -3.27812506\\t    -4.24893668\\t     3.26459109\\nH     \\t    -3.89534816\\t    -3.77196936\\t     2.38698666\\nO     \\t     1.63220546\\t     8.47192675\\t     4.94669797\\nH     \\t     2.00281338\\t     9.28896903\\t     5.28377578\\nH     \\t     1.96873555\\t     8.92046143\\t     4.16946319\\n\\t16\\n-- charge=0 and multiplicity=1 --\\nI     \\t    -2.15427843\\t    -9.64009883\\t    -1.55806902\\nO     \\t     4.01308253\\t    -6.92788413\\t     2.09250160\\nH     \\t     3.28694373\\t    -6.56905152\\t     1.58016248\\nH     \\t     4.43756368\\t    -6.44343661\\t     1.38281425\\nO     \\t     3.72946465\\t    -1.25945499\\t    -4.13082811\\nH     \\t     3.90474728\\t    -2.18467445\\t    -3.95257347\\nH     \\t     3.07120618\\t    -1.50640292\\t    -3.47948927\\nO     \\t    -4.42114572\\t     3.15290441\\t     0.68086333\\nH     \\t    -5.21566871\\t     3.68871883\\t     0.66798317\\nH     \\t    -4.49435656\\t     3.45028184\\t    -0.22728678\\nO     \\t     9.43847993\\t     3.08460095\\t     1.34082939\\nH     \\t     9.63083313\\t     2.14733342\\t     1.28551565\\nH     \\t     9.37603067\\t     2.88240462\\t     0.40608530\\nO     \\t    -6.19558766\\t     6.96924655\\t    -2.59311140\\nH     \\t    -5.29546800\\t     7.20434646\\t    -2.82342074\\nH     \\t    -5.65894921\\t     6.55048593\\t    -1.91843482\\n\",\"xyz\");\n\tviewer_16354644631634119.setStyle({\"sphere\": {\"radius\": 0.8}});\n\tviewer_16354644631634119.addSphere({\"center\": {\"x\": 0, \"y\": 0, \"z\": 0}, \"radius\": 12.0, \"color\": \"yellow\", \"alpha\": 0.5});\n\tviewer_16354644631634119.animate({\"loop\": \"forward\", \"speed\": 1, \"reps\": 1});\n\tviewer_16354644631634119.addLine({\"start\": {\"x\": -12.0, \"y\": 0, \"z\": 0}, \"end\": {\"x\": 12.0, \"y\": 0, \"z\": 0}});\n\tviewer_16354644631634119.addLine({\"start\": {\"x\": 0, \"y\": -12.0, \"z\": 0}, \"end\": {\"x\": 0, \"y\": 12.0, \"z\": 0}});\n\tviewer_16354644631634119.addLine({\"start\": {\"x\": 0, \"y\": 0, \"z\": -12.0}, \"end\": {\"x\": 0, \"y\": 0, \"z\": 12.0}});\n\tviewer_16354644631634119.addLabel(\"x\",{\"position\": {\"x\": 12.0, \"y\": 0, \"z\": 0}, \"inFront\": \"true\", \"fontSize\": 20, \"showBackground\": \"false\", \"fontColor\": \"black\"});\n\tviewer_16354644631634119.addLabel(\"y\",{\"position\": {\"x\": 0, \"y\": 12.0, \"z\": 0}, \"inFront\": \"true\", \"fontSize\": 20, \"showBackground\": \"false\", \"fontColor\": \"black\"});\n\tviewer_16354644631634119.addLabel(\"z\",{\"position\": {\"x\": 0, \"y\": 0, \"z\": 12.0}, \"inFront\": \"true\", \"fontSize\": 20, \"showBackground\": \"false\", \"fontColor\": \"black\"});\n\tviewer_16354644631634119.zoomTo();\nviewer_16354644631634119.render();\n});\n</script>",
      "text/html": [
       "<div id=\"3dmolviewer_16354644631634119\"  style=\"position: relative; width: 700px; height: 500px\">\n",
       "        <p id=\"3dmolwarning_16354644631634119\" style=\"background-color:#ffcccc;color:black\">You appear to be running in JupyterLab (or JavaScript failed to load for some other reason).  You need to install the 3dmol extension: <br>\n",
       "        <tt>jupyter labextension install jupyterlab_3dmol</tt></p>\n",
       "        </div>\n",
       "<script>\n",
       "\n",
       "var loadScriptAsync = function(uri){\n",
       "  return new Promise((resolve, reject) => {\n",
       "    var tag = document.createElement('script');\n",
       "    tag.src = uri;\n",
       "    tag.async = true;\n",
       "    tag.onload = () => {\n",
       "      resolve();\n",
       "    };\n",
       "  var firstScriptTag = document.getElementsByTagName('script')[0];\n",
       "  firstScriptTag.parentNode.insertBefore(tag, firstScriptTag);\n",
       "});\n",
       "};\n",
       "\n",
       "if(typeof $3Dmolpromise === 'undefined') {\n",
       "$3Dmolpromise = null;\n",
       "  $3Dmolpromise = loadScriptAsync('https://3dmol.org/build/3Dmol.js');\n",
       "}\n",
       "\n",
       "var viewer_16354644631634119 = null;\n",
       "var warn = document.getElementById(\"3dmolwarning_16354644631634119\");\n",
       "if(warn) {\n",
       "    warn.parentNode.removeChild(warn);\n",
       "}\n",
       "$3Dmolpromise.then(function() {\n",
       "viewer_16354644631634119 = $3Dmol.createViewer($(\"#3dmolviewer_16354644631634119\"),{backgroundColor:\"white\"});\n",
       "viewer_16354644631634119.zoomTo();\n",
       "\tviewer_16354644631634119.addModelsAsFrames(\"\\t16\\n-- charge=0 and multiplicity=1 --\\nI     \\t     0.00000000\\t     0.00000000\\t     0.00000000\\nO     \\t     0.00000000\\t     0.00000000\\t     0.00000000\\nH     \\t     0.58708000\\t     0.75754000\\t     0.00000000\\nH     \\t    -0.58708000\\t     0.75754000\\t     0.00000000\\nO     \\t     0.00000000\\t     0.00000000\\t     0.00000000\\nH     \\t     0.58708000\\t     0.75754000\\t     0.00000000\\nH     \\t    -0.58708000\\t     0.75754000\\t     0.00000000\\nO     \\t     0.00000000\\t     0.00000000\\t     0.00000000\\nH     \\t     0.58708000\\t     0.75754000\\t     0.00000000\\nH     \\t    -0.58708000\\t     0.75754000\\t     0.00000000\\nO     \\t     0.00000000\\t     0.00000000\\t     0.00000000\\nH     \\t     0.58708000\\t     0.75754000\\t     0.00000000\\nH     \\t    -0.58708000\\t     0.75754000\\t     0.00000000\\nO     \\t     0.00000000\\t     0.00000000\\t     0.00000000\\nH     \\t     0.58708000\\t     0.75754000\\t     0.00000000\\nH     \\t    -0.58708000\\t     0.75754000\\t     0.00000000\\n\\t16\\n-- charge=0 and multiplicity=1 --\\nI     \\t     1.82918169\\t     8.66494088\\t    -4.64466294\\nO     \\t    -2.15581295\\t    -1.99312905\\t    -3.95901299\\nH     \\t    -2.07971199\\t    -1.62856107\\t    -4.84209204\\nH     \\t    -1.31315005\\t    -1.53656951\\t    -3.95746101\\nO     \\t    -7.77369799\\t     5.56200971\\t     3.07702474\\nH     \\t    -7.27889149\\t     4.74296945\\t     3.02345832\\nH     \\t    -7.81945391\\t     5.19665255\\t     3.96186954\\nO     \\t     0.03541102\\t    -4.00067617\\t    -3.44273190\\nH     \\t    -0.91540679\\t    -3.92709564\\t    -3.53792214\\nH     \\t    -0.31785909\\t    -4.61083104\\t    -2.79354700\\nO     \\t    -7.46486089\\t    -6.72958955\\t     0.79290449\\nH     \\t    -6.82305375\\t    -6.25664491\\t     1.32482247\\nH     \\t    -7.27076797\\t    -5.93917741\\t     0.28683496\\nO     \\t     3.26894900\\t     1.02925655\\t    -0.90163302\\nH     \\t     3.83741778\\t     0.94714207\\t    -1.66885544\\nH     \\t     3.24046390\\t     0.09689881\\t    -1.12169534\\n\\t16\\n-- charge=0 and multiplicity=1 --\\nI     \\t     0.69274501\\t    -4.28574670\\t     5.81932564\\nO     \\t     9.56621371\\t     1.30567212\\t     2.26038457\\nH     \\t    10.43486985\\t     0.93844905\\t     2.43101137\\nH     \\t    10.12303456\\t     2.07032433\\t     2.41461598\\nO     \\t    -4.86163108\\t    -1.33208235\\t    -6.56090101\\nH     \\t    -4.03483845\\t    -1.69458291\\t    -6.88267277\\nH     \\t    -5.08754162\\t    -2.21415257\\t    -6.85997680\\nO     \\t     1.21826629\\t    -2.87367300\\t    -3.19812408\\nH     \\t     0.57950398\\t    -3.34178288\\t    -3.73792556\\nH     \\t     1.32795962\\t    -3.79404962\\t    -2.95439466\\nO     \\t    -8.15603087\\t    -3.62123832\\t     1.85198828\\nH     \\t    -8.66397164\\t    -3.55018684\\t     2.66160401\\nH     \\t    -7.82846158\\t    -4.33361573\\t     2.40312035\\nO     \\t     4.78715110\\t    -5.84628246\\t     3.63495050\\nH     \\t     3.93521808\\t    -6.27559618\\t     3.72676354\\nH     \\t     4.82728328\\t    -6.58904816\\t     3.03061755\\n\\t16\\n-- charge=0 and multiplicity=1 --\\nI     \\t     7.40811299\\t    -4.26532854\\t    -3.37911047\\nO     \\t    -5.00553002\\t     3.65786886\\t    -0.15370987\\nH     \\t    -4.72626225\\t     2.76877481\\t    -0.37743084\\nH     \\t    -4.09122290\\t     3.61573639\\t     0.13053847\\nO     \\t     6.04027852\\t    -0.46576130\\t    -3.00836300\\nH     \\t     6.39148372\\t    -0.04382868\\t    -2.22276925\\nH     \\t     6.82722642\\t    -0.97045547\\t    -2.79734979\\nO     \\t     9.10675670\\t     1.57836228\\t    -3.86978377\\nH     \\t     8.88813783\\t     2.28531255\\t    -4.47884607\\nH     \\t     8.66199813\\t     2.23188389\\t    -3.32790823\\nO     \\t    -0.96009657\\t    -1.60456652\\t    -5.27094595\\nH     \\t    -0.50910144\\t    -0.94281637\\t    -4.74442918\\nH     \\t    -1.33567379\\t    -1.69970091\\t    -4.39434970\\nO     \\t     4.29621567\\t     3.77609344\\t     5.00053813\\nH     \\t     4.12330094\\t     3.86456889\\t     5.93904885\\nH     \\t     5.14114628\\t     3.59966307\\t     5.41706469\\n\\t16\\n-- charge=0 and multiplicity=1 --\\nI     \\t     4.81184125\\t     3.42412689\\t     0.54535542\\nO     \\t    -6.32920972\\t     3.23667919\\t    -5.85348850\\nH     \\t    -5.44225980\\t     2.87449024\\t    -5.87934938\\nH     \\t    -6.13256627\\t     3.02023377\\t    -4.94079331\\nO     \\t     2.33950102\\t    -4.94682073\\t    -8.32771161\\nH     \\t     1.63879093\\t    -5.01814038\\t    -8.97767211\\nH     \\t     1.95788504\\t    -5.81241850\\t    -8.17396015\\nO     \\t    -1.02837850\\t     6.57718915\\t    -0.16670620\\nH     \\t    -0.65945906\\t     6.10627259\\t    -0.91548241\\nH     \\t    -0.13489844\\t     6.91496014\\t    -0.24502562\\nO     \\t     8.89421020\\t     3.38482313\\t     3.08917980\\nH     \\t     9.30948007\\t     3.02026734\\t     3.87223777\\nH     \\t     8.16287510\\t     3.07445571\\t     3.62523093\\nO     \\t     4.54234208\\t     6.20982781\\t     4.62049520\\nH     \\t     5.47602523\\t     6.41976434\\t     4.67238158\\nH     \\t     4.77321910\\t     6.49371664\\t     3.73470024\\n\\t16\\n-- charge=0 and multiplicity=1 --\\nI     \\t     0.53714651\\t     1.51794589\\t    -4.89885700\\nO     \\t    -5.15869116\\t     1.49745292\\t     8.36071328\\nH     \\t    -5.58350786\\t     1.63185580\\t     9.20923931\\nH     \\t    -4.43305042\\t     1.57150371\\t     8.98239791\\nO     \\t    -4.62265673\\t     2.83357153\\t     2.23871281\\nH     \\t    -4.47773054\\t     3.73269699\\t     1.94021729\\nH     \\t    -5.40844788\\t     3.30714494\\t     2.51582339\\nO     \\t     3.09926882\\t     2.19583482\\t    -0.87632238\\nH     \\t     3.86021695\\t     2.77739423\\t    -0.84059596\\nH     \\t     2.95701119\\t     2.72790934\\t    -0.09198237\\nO     \\t     9.08643038\\t    -2.77026761\\t    -3.15573043\\nH     \\t     8.81448156\\t    -2.02549069\\t    -2.61732449\\nH     \\t     9.82370937\\t    -2.62296965\\t    -2.56137971\\nO     \\t    -0.24559358\\t    -8.65491364\\t     3.39679309\\nH     \\t     0.66006330\\t    -8.96311670\\t     3.33911934\\nH     \\t     0.05500982\\t    -8.68546508\\t     4.30631713\\n\\t16\\n-- charge=0 and multiplicity=1 --\\nI     \\t    -8.84806709\\t     2.15960223\\t     3.88022283\\nO     \\t    -5.83350906\\t    -1.25129204\\t    -8.02582291\\nH     \\t    -6.27165565\\t    -1.94121166\\t    -7.52525496\\nH     \\t    -6.57639642\\t    -0.81050823\\t    -7.61066295\\nO     \\t     5.59285815\\t    -5.42340022\\t    -6.28447951\\nH     \\t     4.64598537\\t    -5.33163058\\t    -6.16811777\\nH     \\t     5.22412820\\t    -6.20502290\\t    -6.69876683\\nO     \\t    -4.28691920\\t     5.28183907\\t     1.43232973\\nH     \\t    -4.14303951\\t     6.18346492\\t     1.72370446\\nH     \\t    -4.44497066\\t     5.81379209\\t     0.65093642\\nO     \\t     0.68805070\\t     6.57058698\\t    -7.50026635\\nH     \\t     1.44042916\\t     7.05529789\\t    -7.84306625\\nH     \\t     1.42167083\\t     6.29483994\\t    -6.94863708\\nO     \\t     5.22864439\\t    -2.22106354\\t     4.40420823\\nH     \\t     5.20525323\\t    -2.99068911\\t     3.83354273\\nH     \\t     4.69657695\\t    -1.94752578\\t     3.65546854\\n\\t16\\n-- charge=0 and multiplicity=1 --\\nI     \\t     2.40360237\\t    -3.79858406\\t     8.93271822\\nO     \\t     1.36624279\\t     8.31589386\\t    -4.47364424\\nH     \\t     0.51594945\\t     8.74635580\\t    -4.57480512\\nH     \\t     1.05897641\\t     8.03828923\\t    -5.33796642\\nO     \\t     6.90062187\\t    -5.99026317\\t    -4.23556931\\nH     \\t     7.22932722\\t    -5.16881893\\t    -3.86717831\\nH     \\t     6.14055083\\t    -5.40646539\\t    -4.23696450\\nO     \\t    -8.14334314\\t     5.71311636\\t    -1.44839728\\nH     \\t    -7.39712169\\t     5.13800493\\t    -1.62426706\\nH     \\t    -8.51131637\\t     4.99546170\\t    -1.96617837\\nO     \\t    -6.49076696\\t    -4.30621092\\t    -4.51925455\\nH     \\t    -7.41165496\\t    -4.05049888\\t    -4.44779532\\nH     \\t    -6.60148154\\t    -4.06601420\\t    -3.59807183\\nO     \\t     6.18539059\\t     1.31070182\\t     2.24611653\\nH     \\t     6.19643658\\t     0.86818139\\t     3.09616561\\nH     \\t     5.81452155\\t     1.95183769\\t     2.85433585\\n\\t16\\n-- charge=0 and multiplicity=1 --\\nI     \\t     7.41128241\\t    -5.48445944\\t     3.87215673\\nO     \\t    -7.19947287\\t    -0.37582928\\t     4.02752509\\nH     \\t    -7.01482778\\t    -0.37684418\\t     3.08708108\\nH     \\t    -6.26720902\\t    -0.58974475\\t     3.96707611\\nO     \\t    -0.70593160\\t    -4.95304536\\t    -4.25168650\\nH     \\t    -0.88743645\\t    -4.15487973\\t    -4.75020169\\nH     \\t     0.15475173\\t    -4.55266508\\t    -4.38378347\\nO     \\t     0.32675887\\t     4.61468450\\t     8.12033522\\nH     \\t     0.89305774\\t     4.47466853\\t     7.35992027\\nH     \\t    -0.09780851\\t     5.10238326\\t     7.41292993\\nO     \\t    -3.67720730\\t    -3.37815007\\t     3.23306627\\nH     \\t    -3.27812506\\t    -4.24893668\\t     3.26459109\\nH     \\t    -3.89534816\\t    -3.77196936\\t     2.38698666\\nO     \\t     1.63220546\\t     8.47192675\\t     4.94669797\\nH     \\t     2.00281338\\t     9.28896903\\t     5.28377578\\nH     \\t     1.96873555\\t     8.92046143\\t     4.16946319\\n\\t16\\n-- charge=0 and multiplicity=1 --\\nI     \\t    -2.15427843\\t    -9.64009883\\t    -1.55806902\\nO     \\t     4.01308253\\t    -6.92788413\\t     2.09250160\\nH     \\t     3.28694373\\t    -6.56905152\\t     1.58016248\\nH     \\t     4.43756368\\t    -6.44343661\\t     1.38281425\\nO     \\t     3.72946465\\t    -1.25945499\\t    -4.13082811\\nH     \\t     3.90474728\\t    -2.18467445\\t    -3.95257347\\nH     \\t     3.07120618\\t    -1.50640292\\t    -3.47948927\\nO     \\t    -4.42114572\\t     3.15290441\\t     0.68086333\\nH     \\t    -5.21566871\\t     3.68871883\\t     0.66798317\\nH     \\t    -4.49435656\\t     3.45028184\\t    -0.22728678\\nO     \\t     9.43847993\\t     3.08460095\\t     1.34082939\\nH     \\t     9.63083313\\t     2.14733342\\t     1.28551565\\nH     \\t     9.37603067\\t     2.88240462\\t     0.40608530\\nO     \\t    -6.19558766\\t     6.96924655\\t    -2.59311140\\nH     \\t    -5.29546800\\t     7.20434646\\t    -2.82342074\\nH     \\t    -5.65894921\\t     6.55048593\\t    -1.91843482\\n\",\"xyz\");\n",
       "\tviewer_16354644631634119.setStyle({\"sphere\": {\"radius\": 0.8}});\n",
       "\tviewer_16354644631634119.addSphere({\"center\": {\"x\": 0, \"y\": 0, \"z\": 0}, \"radius\": 12.0, \"color\": \"yellow\", \"alpha\": 0.5});\n",
       "\tviewer_16354644631634119.animate({\"loop\": \"forward\", \"speed\": 1, \"reps\": 1});\n",
       "\tviewer_16354644631634119.addLine({\"start\": {\"x\": -12.0, \"y\": 0, \"z\": 0}, \"end\": {\"x\": 12.0, \"y\": 0, \"z\": 0}});\n",
       "\tviewer_16354644631634119.addLine({\"start\": {\"x\": 0, \"y\": -12.0, \"z\": 0}, \"end\": {\"x\": 0, \"y\": 12.0, \"z\": 0}});\n",
       "\tviewer_16354644631634119.addLine({\"start\": {\"x\": 0, \"y\": 0, \"z\": -12.0}, \"end\": {\"x\": 0, \"y\": 0, \"z\": 12.0}});\n",
       "\tviewer_16354644631634119.addLabel(\"x\",{\"position\": {\"x\": 12.0, \"y\": 0, \"z\": 0}, \"inFront\": \"true\", \"fontSize\": 20, \"showBackground\": \"false\", \"fontColor\": \"black\"});\n",
       "\tviewer_16354644631634119.addLabel(\"y\",{\"position\": {\"x\": 0, \"y\": 12.0, \"z\": 0}, \"inFront\": \"true\", \"fontSize\": 20, \"showBackground\": \"false\", \"fontColor\": \"black\"});\n",
       "\tviewer_16354644631634119.addLabel(\"z\",{\"position\": {\"x\": 0, \"y\": 0, \"z\": 12.0}, \"inFront\": \"true\", \"fontSize\": 20, \"showBackground\": \"false\", \"fontColor\": \"black\"});\n",
       "\tviewer_16354644631634119.zoomTo();\n",
       "viewer_16354644631634119.render();\n",
       "});\n",
       "</script>"
      ]
     },
     "metadata": {}
    }
   ],
   "metadata": {}
  },
  {
   "cell_type": "code",
   "execution_count": null,
   "source": [],
   "outputs": [],
   "metadata": {}
  }
 ],
 "metadata": {
  "interpreter": {
   "hash": "18499a005e754947919ec5cf7177bdee4137be8b2658c273f1990f80578be88f"
  },
  "kernelspec": {
   "name": "python3",
   "display_name": "Python 3.8.8 64-bit ('ascec': conda)"
  },
  "language_info": {
   "codemirror_mode": {
    "name": "ipython",
    "version": 3
   },
   "file_extension": ".py",
   "mimetype": "text/x-python",
   "name": "python",
   "nbconvert_exporter": "python",
   "pygments_lexer": "ipython3",
   "version": "3.8.8"
  }
 },
 "nbformat": 4,
 "nbformat_minor": 4
}