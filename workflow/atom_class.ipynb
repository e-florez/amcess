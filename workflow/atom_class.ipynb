{
 "cells": [
  {
   "cell_type": "code",
   "execution_count": 1,
   "metadata": {},
   "outputs": [],
   "source": [
    "import os\n",
    "import sys\n",
    "module_path = os.path.abspath(os.path.join('..'))\n",
    "\n",
    "if module_path not in sys.path:\n",
    "    sys.path.append(module_path)"
   ]
  },
  {
   "cell_type": "code",
   "execution_count": 2,
   "metadata": {},
   "outputs": [],
   "source": [
    "from amcess.atom import Atom"
   ]
  },
  {
   "cell_type": "code",
   "execution_count": 3,
   "metadata": {},
   "outputs": [
    {
     "name": "stdout",
     "output_type": "stream",
     "text": [
      "atom: C, x: 1.0, y: 0.4, z: 0.9\n",
      "Atomic Symbol: C\n",
      "Atomic coordinates (x, y, z): (1.0, 0.4, 0.9)\n",
      "atomic number: 6\n",
      "atomic mass: 12.011\n",
      "atomic charge: 0\n",
      "atomic hibridization: UNSPECIFIED\n"
     ]
    }
   ],
   "source": [
    "carbon = Atom('C', 1.0, 0.4, 0.9)\n",
    "print(f\"{carbon}\")\n",
    "print(f\"Atomic Symbol: {carbon.GetSymbol()}\") \n",
    "print(f\"Atomic coordinates (x, y, z): {carbon.x, carbon.y, carbon.z}\")\n",
    "print(f\"atomic number: {carbon.GetAtomicNum()}\")\n",
    "print(f\"atomic mass: {carbon.GetMass()}\")\n",
    "print(f\"atomic charge: {carbon.GetFormalCharge()}\")\n",
    "print(f\"atomic hibridization: {carbon.GetHybridization()}\")"
   ]
  }
 ],
 "metadata": {
  "kernelspec": {
   "display_name": "vamcess",
   "language": "python",
   "name": "python3"
  },
  "language_info": {
   "codemirror_mode": {
    "name": "ipython",
    "version": 3
   },
   "file_extension": ".py",
   "mimetype": "text/x-python",
   "name": "python",
   "nbconvert_exporter": "python",
   "pygments_lexer": "ipython3",
   "version": "3.10.12"
  }
 },
 "nbformat": 4,
 "nbformat_minor": 2
}
