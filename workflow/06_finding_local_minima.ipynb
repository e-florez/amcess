{
 "cells": [
  {
   "cell_type": "markdown",
   "metadata": {},
   "source": [
    "# Initialize cluster and Moving randomly any molecule\n",
    "# avoiding that any atoms overlaps each other:"
   ]
  },
  {
   "cell_type": "code",
   "execution_count": 2,
   "metadata": {},
   "outputs": [],
   "source": [
    "# crating the path (PYTHONPATH) to our module.\n",
    "# assuming that our 'amcess' directory is out ('..') of our current directory \n",
    "import os\n",
    "import sys\n",
    "module_path = os.path.abspath(os.path.join('..'))\n",
    "\n",
    "if module_path not in sys.path:\n",
    "    sys.path.append(module_path)"
   ]
  },
  {
   "cell_type": "code",
   "execution_count": 3,
   "metadata": {},
   "outputs": [
    {
     "name": "stdout",
     "output_type": "stream",
     "text": [
      "Requirement already satisfied: py3Dmol in /home/fer/.local/lib/python3.8/site-packages (1.7.0)\n"
     ]
    }
   ],
   "source": [
    "# py3Dmol: a simple IPython/Jupyter widget to embed an interactive \n",
    "# 3Dmol.js viewer in a notebook.\n",
    "!pip install py3Dmol\n",
    "import py3Dmol\n",
    "\n",
    "# importing de Molecule Class\n",
    "from amcess.base_molecule import Cluster"
   ]
  },
  {
   "cell_type": "code",
   "execution_count": 4,
   "metadata": {},
   "outputs": [
    {
     "name": "stdout",
     "output_type": "stream",
     "text": [
      "\t6\n",
      "-- charge=0 and multiplicity=1 --\n",
      "O     \t     0.00000000\t     0.00000000\t     0.00000000\n",
      "H     \t     0.58708000\t     0.75754000\t     0.00000000\n",
      "H     \t    -0.58708000\t     0.75754000\t     0.00000000\n",
      "O     \t     0.00000000\t     0.00000000\t     0.00000000\n",
      "H     \t     0.58708000\t     0.75754000\t     0.00000000\n",
      "H     \t    -0.58708000\t     0.75754000\t     0.00000000\n",
      "\n"
     ]
    }
   ],
   "source": [
    "water_molecule=[\n",
    "    (\"O\", 0, 0, 0), (\"H\", 0.58708, 0.75754, 0), (\"H\", -0.58708, 0.75754, 0)\n",
    "    ]\n",
    "\n",
    "w2 = Cluster(water_molecule, water_molecule)\n",
    "\n",
    "# the water dimer was initialized with the same water molecule, so\n",
    "# both molecules has the same coordinates an those atoms overlap each other\n",
    "print(w2.xyz)"
   ]
  },
  {
   "cell_type": "code",
   "execution_count": 5,
   "metadata": {},
   "outputs": [
    {
     "name": "stdout",
     "output_type": "stream",
     "text": [
      "\t6\n",
      "-- charge=0 and multiplicity=1 --\n",
      "O     \t     0.00000000\t     0.00000000\t     0.00000000\n",
      "H     \t     0.58708000\t     0.75754000\t     0.00000000\n",
      "H     \t    -0.58708000\t     0.75754000\t     0.00000000\n",
      "O     \t     0.72156089\t    -0.77909257\t    -0.63084853\n",
      "H     \t     1.56942947\t    -0.33591953\t    -0.57387210\n",
      "H     \t     0.56262361\t     0.08993961\t    -1.00240176\n",
      "\n"
     ]
    }
   ],
   "source": [
    "#let's move any molecule randomly to avoid averlaping\n",
    "new_w2 = w2.move_molecule(1)\n",
    "print(new_w2.xyz)"
   ]
  },
  {
   "cell_type": "code",
   "execution_count": 5,
   "metadata": {},
   "outputs": [
    {
     "name": "stdout",
     "output_type": "stream",
     "text": [
      "\t6\n",
      "-- charge=0 and multiplicity=1 --\n",
      "O     \t     0.00000000\t     0.00000000\t     0.00000000\n",
      "H     \t     0.58708000\t     0.75754000\t     0.00000000\n",
      "H     \t    -0.58708000\t     0.75754000\t     0.00000000\n",
      "O     \t    -0.58099018\t    -2.35161679\t    -2.32233702\n",
      "H     \t     0.30500958\t    -1.99150991\t    -2.38444371\n",
      "H     \t    -0.70978208\t    -1.44939571\t    -2.61888303\n",
      "\n"
     ]
    }
   ],
   "source": [
    "# for several molecules we could move randomly one-by-one\n",
    "# or we could just `initialize` this cluster with all its molecules \n",
    "\n",
    "# maximum closeness is the minimum distance for two atoms\n",
    "new_w2 = w2.initialize_cluster(max_closeness=3)\n",
    "\n",
    "print(new_w2.xyz)"
   ]
  },
  {
   "cell_type": "markdown",
   "metadata": {},
   "source": [
    "!pip install py3Dmol\n",
    "import py3Dmol"
   ]
  },
  {
   "cell_type": "code",
   "execution_count": 6,
   "metadata": {},
   "outputs": [
    {
     "name": "stderr",
     "output_type": "stream",
     "text": [
      "/home/fer/.local/lib/python3.8/site-packages/pyscf/lib/misc.py:46: H5pyDeprecationWarning: Using default_file_mode other than 'r' is deprecated. Pass the mode to h5py.File() instead.\n",
      "  h5py.get_config().default_file_mode = 'a'\n"
     ]
    }
   ],
   "source": [
    "# let's import the electronic_energy_new module in order to calculate the energy of \n",
    "# the clusters\n",
    "\n",
    "from amcess.electronic_energy_new import Electronic_energy\n",
    "\n"
   ]
  },
  {
   "cell_type": "code",
   "execution_count": 7,
   "metadata": {},
   "outputs": [
    {
     "name": "stdout",
     "output_type": "stream",
     "text": [
      "converged SCF energy = -149.860656647498\n",
      "total energy of new_w2 cluster -149.86065664749827\n"
     ]
    }
   ],
   "source": [
    "# let's calculate the energy of the new_w2 \n",
    "electronic_object = Electronic_energy(initial_cluster=new_w2)\n",
    "\n",
    "#if the new_w2 case, we need 6 coordinates, corresponding to 3 displacementes\n",
    "#and 3 rotations over the center of mass.\n",
    "x = [0,0,0,0,0,0]\n",
    "print(\"total energy of new_w2 cluster\",electronic_object.energy(x))\n"
   ]
  },
  {
   "cell_type": "code",
   "execution_count": 9,
   "metadata": {},
   "outputs": [
    {
     "name": "stdout",
     "output_type": "stream",
     "text": [
      "converged SCF energy = -152.629435612395\n",
      "total energy of new_w2 cluster -152.62943561239527\n"
     ]
    }
   ],
   "source": [
    "#if we wan to displace and rotate the cluster\n",
    "x = [0.5, 0,5, 0.5, 15, 15, 15]\n",
    "print(\"total energy of new_w2 cluster\",electronic_object.energy(x))"
   ]
  },
  {
   "cell_type": "code",
   "execution_count": 8,
   "metadata": {},
   "outputs": [
    {
     "name": "stdout",
     "output_type": "stream",
     "text": [
      "converged SCF energy = -152.631451919794\n",
      "total energy of new_w2 cluster -152.63145191979373\n"
     ]
    }
   ],
   "source": [
    "#we can also specify the basis and the method of the energy calculation\n",
    "#by defect is a HF method, but if we define the functional as the method, we \n",
    "#will get the energy calculated in the DFT method.\n",
    "electronic_object = Electronic_energy(initial_cluster=new_w2, basis=\"6-31G\", \n",
    "                                      method=\"b3lyp\")\n",
    "\n",
    "print(\"total energy of new_w2 cluster\",electronic_object.energy(x))"
   ]
  },
  {
   "cell_type": "code",
   "execution_count": 10,
   "metadata": {},
   "outputs": [
    {
     "name": "stdout",
     "output_type": "stream",
     "text": [
      "sphere radiuos 1.5\n",
      "bounds full  6 2 [[ -1.5   1.5]\n",
      " [ -1.5   1.5]\n",
      " [ -1.5   1.5]\n",
      " [  0.  360. ]\n",
      " [  0.  360. ]\n",
      " [  0.  360. ]]\n",
      "converged SCF energy = -149.521469594894\n",
      "converged SCF energy = -149.860656647498\n",
      "converged SCF energy = -149.861367166689\n",
      "converged SCF energy = -149.861273063712\n",
      "converged SCF energy = -149.859391469256\n",
      "converged SCF energy = -149.858870701968\n",
      "converged SCF energy = -149.861106960945\n",
      "converged SCF energy = -149.860282836859\n",
      "converged SCF energy = -149.859273163089\n",
      "converged SCF energy = -149.860852732674\n",
      "converged SCF energy = -149.861462486137\n",
      "converged SCF energy = -149.843244591175\n",
      "converged SCF energy = -149.860103998831\n",
      "converged SCF energy = -149.860271930734\n",
      "converged SCF energy = -149.844506403112\n",
      "converged SCF energy = -149.859475082145\n",
      "converged SCF energy = -149.859508097799\n",
      "converged SCF energy = -149.861738444508\n",
      "converged SCF energy = -149.835959917559\n",
      "converged SCF energy = -149.859838732698\n",
      "converged SCF energy = -149.853431255578\n",
      "converged SCF energy = -149.860679083381\n",
      "converged SCF energy = -149.859367161846\n",
      "converged SCF energy = -149.861422451112\n",
      "converged SCF energy = -149.861896942194\n",
      "converged SCF energy = -149.853709423776\n",
      "converged SCF energy = -149.861271250788\n",
      "converged SCF energy = -149.860862429986\n",
      "converged SCF energy = -149.768926473228\n",
      "converged SCF energy = -149.860139147186\n",
      "converged SCF energy = -149.861549145923\n",
      "converged SCF energy = -149.86150132805\n",
      "converged SCF energy = -149.861896942193\n",
      "converged SCF energy = -149.861896941222\n",
      "converged SCF energy = -149.861896942116\n",
      "converged SCF energy = -149.861896942134\n",
      "converged SCF energy = -149.861896942193\n",
      "converged SCF energy = -149.861896942193\n",
      "converged SCF energy = -149.861896942193\n",
      "converged SCF energy = -149.861929055826\n",
      "converged SCF energy = -149.861915663119\n",
      "converged SCF energy = -149.861907050758\n",
      "converged SCF energy = -149.861902216191\n",
      "converged SCF energy = -149.861899648971\n",
      "converged SCF energy = -149.861898317794\n",
      "converged SCF energy = -149.861897640119\n",
      "converged SCF energy = -149.861897294963\n",
      "converged SCF energy = -149.861897120886\n",
      "converged SCF energy = -149.861897032329\n",
      "converged SCF energy = -149.861896987721\n"
     ]
    }
   ],
   "source": [
    "# if you want to known the minima of the cluster, you can use the local_minima module\n",
    "\n",
    "from amcess.local_minima import LocalMinima\n",
    "\n",
    "min = LocalMinima(initial_cluster=new_w2, basis=\"sto-3g\", method=\"hf\")\n",
    "#you can also calculate the energy with a specific functional.\n",
    "\n",
    "#for the method shgo, you must call the function shgo_optimize()\n",
    "#other methods(like dual_annealing and gaussian) are not implemented yet.\n",
    "minima = min.shgo_optimize()"
   ]
  },
  {
   "cell_type": "code",
   "execution_count": 11,
   "metadata": {},
   "outputs": [
    {
     "name": "stdout",
     "output_type": "stream",
     "text": [
      "the minimum energy is\n",
      "-149.8618969877208\n",
      "with the coordinates\n",
      "[-1.03131999e+00 -1.03125561e+00  9.37457115e-02  3.03750000e+02\n",
      "  3.03750000e+02  1.46250000e+02]\n"
     ]
    }
   ],
   "source": [
    "print(\"the minimum energy is\") \n",
    "print(minima.fun)\n",
    "\n",
    "print(\"with the coordinates\")\n",
    "print(minima.x)"
   ]
  }
 ],
 "metadata": {
  "interpreter": {
   "hash": "bd4fb26c7546c0b8c0c8c9c4bcb8ed90887f88a72ca5d8753e4f0e87b9aee620"
  },
  "kernelspec": {
   "display_name": "Python 3.8.10 64-bit ('venv': venv)",
   "name": "python3"
  },
  "language_info": {
   "codemirror_mode": {
    "name": "ipython",
    "version": 3
   },
   "file_extension": ".py",
   "mimetype": "text/x-python",
   "name": "python",
   "nbconvert_exporter": "python",
   "pygments_lexer": "ipython3",
   "version": "3.8.10"
  }
 },
 "nbformat": 4,
 "nbformat_minor": 4
}
