{
 "cells": [
  {
   "cell_type": "markdown",
   "source": [
    "# Moving and Rotating Molecules:\n",
    "**Task:** \n",
    "1. Move and rotate a Molecule/Atoms using its cartesian coordinates\n",
    "2. Move/rotate a Molecule/Atom one by one systematically"
   ],
   "metadata": {}
  },
  {
   "cell_type": "markdown",
   "source": [
    "## Dummy system of three atoms ($X_{3}$):\n",
    "We use this simple example to show how translation and rotation works\n",
    "\n",
    "Cartesian coordinates [Angstrom]:\n",
    "\n",
    "    A    0.00000    0.00000    0.00000\n",
    "    A    1.00000    0.00000    0.00000\n",
    "    A    0.00000    1.00000    0.00000\n",
    "\n",
    "\n",
    "> **_NOTE:_**   \n",
    "> `translate` and `rotate` methods return a brand new Molecule object"
   ],
   "metadata": {}
  },
  {
   "cell_type": "code",
   "execution_count": null,
   "source": [
    "# crating the path (PYTHONPATH) to our module.\n",
    "# assuming that our 'amcess' directory is out ('..') of our current directory \n",
    "import os\n",
    "import sys\n",
    "module_path = os.path.abspath(os.path.join('..'))\n",
    "\n",
    "if module_path not in sys.path:\n",
    "    sys.path.append(module_path)"
   ],
   "outputs": [],
   "metadata": {}
  },
  {
   "cell_type": "code",
   "execution_count": null,
   "source": [
    "# importing de Molecule Class\n",
    "from amcess.base_molecule import Molecule, Cluster"
   ],
   "outputs": [],
   "metadata": {}
  },
  {
   "cell_type": "code",
   "execution_count": null,
   "source": [
    "dummy_system = [(\"A\", 0, 0, 0), (\"A\", 1, 0, 0), (\"A\", 0, 1, 0)]\n",
    "\n",
    "dummy = Cluster(dummy_system)\n",
    "\n",
    "print(dummy)\n",
    "\n",
    "# or print in XYZ format\n",
    "print(dummy.xyz)"
   ],
   "outputs": [],
   "metadata": {}
  },
  {
   "cell_type": "code",
   "execution_count": null,
   "source": [
    "# Let's TRANLATE this system 3 units on x-axis\n",
    "dummy_tra_x3 = dummy.translate(0, x=3, y=0, z=0)\n",
    "\n",
    "print(dummy_tra_x3.xyz)"
   ],
   "outputs": [],
   "metadata": {}
  },
  {
   "cell_type": "code",
   "execution_count": null,
   "source": [
    "# Let's TRANSLATE this system 2 units on z-axis\n",
    "dummy_tra_z2 = dummy.translate(0, x=0, y=0, z=2)\n",
    "\n",
    "print(dummy_tra_z2.xyz)"
   ],
   "outputs": [],
   "metadata": {}
  },
  {
   "cell_type": "code",
   "execution_count": null,
   "source": [
    "# Let's TRANLATE this system 10 units on x, y, and z simultaneously\n",
    "dummy_tra_xyz10 = dummy.translate(0, x=10, y=10, z=10)\n",
    "\n",
    "print(dummy_tra_xyz10.xyz)"
   ],
   "outputs": [],
   "metadata": {}
  },
  {
   "cell_type": "code",
   "execution_count": null,
   "source": [
    "# Let's ROTATE this system 90 deg around z-axis clockwise\n",
    "dummy_rot_z90 = dummy.rotate(0, x=0, y=0, z=90)\n",
    "\n",
    "print(dummy.xyz)\n",
    "print('*** after rotation of 90 deg around z-axis clockwise')\n",
    "print(dummy_rot_z90.xyz)"
   ],
   "outputs": [],
   "metadata": {}
  },
  {
   "cell_type": "code",
   "execution_count": null,
   "source": [
    "# Let's ROTATE this system 180 deg around z-axis counterclockwise\n",
    "# however, a 180 deg rotation is equivalent to -180 deg one\n",
    "dummy_rot_z_n180 = dummy.rotate(0, x=0, y=0, z=-180)\n",
    "\n",
    "print(dummy.xyz)\n",
    "print('*** after rotation of 180 deg around z-axis counterclockwise')\n",
    "print(dummy_rot_z_n180.xyz)"
   ],
   "outputs": [],
   "metadata": {}
  },
  {
   "cell_type": "code",
   "execution_count": null,
   "source": [
    "# Let's ROTATE this system 180 deg around x-axis\n",
    "dummy_rot_x_n180 = dummy.rotate(0, x=180, y=0, z=0)\n",
    "\n",
    "print(dummy.xyz)\n",
    "print('*** after rotation of 180 deg around x-axis counterclockwise')\n",
    "print(dummy_rot_x_n180.xyz)"
   ],
   "outputs": [],
   "metadata": {}
  },
  {
   "cell_type": "code",
   "execution_count": null,
   "source": [
    "# Move and Rotate\n",
    "# Let's MOVE 3 units xyz simultaneously and ROTATE this system 90 deg around z-axis\n",
    "dummy_tra_xyz3_rot_z_180 = dummy.translate(0, x=3, y=3, z=3).rotate(0, x=0, y=0, z=180)\n",
    "\n",
    "print(dummy.xyz)\n",
    "print('*** after rotation of 180 deg around x-axis counterclockwise')\n",
    "print(dummy_tra_xyz3_rot_z_180.xyz)"
   ],
   "outputs": [],
   "metadata": {}
  },
  {
   "cell_type": "markdown",
   "source": [
    "## SUMMARIZING:\n",
    "We can `translate` and `rotate` a molecule one step at a time or both simultaneously.\n",
    "Also, we can `translate` on or `rotate` around each Cartesian axes\n",
    "\n",
    "> *_NOTE_:*  \n",
    ">  Those operations assume *RIGID* body; it means, we are NOT breaking a molecule internally. \n",
    "\n",
    ">  In other words, internal bond distances and angles are ALWAYS the same.\n"
   ],
   "metadata": {}
  },
  {
   "cell_type": "code",
   "execution_count": null,
   "source": [
    "# py3Dmol: a simple IPython/Jupyter widget to embed an interactive 3Dmol.js viewer in a notebook.\n",
    "!pip install py3Dmol\n",
    "import py3Dmol"
   ],
   "outputs": [],
   "metadata": {}
  },
  {
   "cell_type": "code",
   "execution_count": null,
   "source": [
    "xyz_view = py3Dmol.view(width=300,height=200)\n",
    "xyz_view.addModel(dummy.xyz,'xyz')\n",
    "xyz_view.addModel(dummy_tra_xyz3_rot_z_180.xyz,'xyz')\n",
    "xyz_view.setStyle({'stick': {}})\n",
    "# xyz_view.setStyle({'sphere': {'radius': 0.5}})"
   ],
   "outputs": [],
   "metadata": {}
  }
 ],
 "metadata": {
  "interpreter": {
   "hash": "18499a005e754947919ec5cf7177bdee4137be8b2658c273f1990f80578be88f"
  },
  "kernelspec": {
   "name": "python3",
   "display_name": "Python 3.8.8 64-bit ('ascec': conda)"
  },
  "language_info": {
   "codemirror_mode": {
    "name": "ipython",
    "version": 3
   },
   "file_extension": ".py",
   "mimetype": "text/x-python",
   "name": "python",
   "nbconvert_exporter": "python",
   "pygments_lexer": "ipython3",
   "version": "3.8.8"
  }
 },
 "nbformat": 4,
 "nbformat_minor": 4
}