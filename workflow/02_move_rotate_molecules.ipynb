{
 "cells": [
  {
   "cell_type": "markdown",
   "source": [
    "# Moving and Rotating Molecules:\n",
    "**Task:** \n",
    "1. Move and rotate a Molecule/Atoms using its cartesian coordinates\n",
    "2. Move/rotate a Molecule/Atom one by one systematically"
   ],
   "metadata": {}
  },
  {
   "cell_type": "markdown",
   "source": [
    "## Dummy system of three atoms ($X_{3}$):\n",
    "We use thi simple example to show how translation and rotation works\n",
    "\n",
    "Cartesian coordinates [Angstrom]:\n",
    "\n",
    "    A    0.00000    0.00000    0.00000\n",
    "    A    1.00000    0.00000    0.00000\n",
    "    A    0.00000    1.00000    0.00000\n",
    "\n",
    "\n",
    "> **_NOTE:_**   \n",
    "> `translate` and `rotate` methods return a brand new Molecule object"
   ],
   "metadata": {}
  },
  {
   "cell_type": "code",
   "execution_count": 1,
   "source": [
    "# crating the path (PYTHONPATH) to our module.\n",
    "# assuming that our 'src' directory is out ('..') of our current directory \n",
    "import os\n",
    "import sys\n",
    "module_path = os.path.abspath(os.path.join('..'))\n",
    "\n",
    "if module_path not in sys.path:\n",
    "    sys.path.append(module_path)"
   ],
   "outputs": [],
   "metadata": {}
  },
  {
   "cell_type": "code",
   "execution_count": 2,
   "source": [
    "# importing de Molecule Class\n",
    "from src.base_molecule import Molecule"
   ],
   "outputs": [],
   "metadata": {}
  },
  {
   "cell_type": "code",
   "execution_count": 3,
   "source": [
    "dummy_system = [(\"A\", 0, 0, 0), (\"A\", 1, 0, 0), (\"A\", 0, 1, 0)]\n",
    "\n",
    "dummy = Molecule(dummy_system)\n",
    "\n",
    "print(dummy)"
   ],
   "outputs": [
    {
     "output_type": "stream",
     "name": "stdout",
     "text": [
      "\t3\n",
      "--system of 1 molecules and 3 total individual atoms--\n",
      "A\t 0.00000000\t 0.00000000\t 0.00000000\n",
      "A\t 1.00000000\t 0.00000000\t 0.00000000\n",
      "A\t 0.00000000\t 1.00000000\t 0.00000000\n",
      "\n"
     ]
    }
   ],
   "metadata": {}
  },
  {
   "cell_type": "code",
   "execution_count": 4,
   "source": [
    "# Let's TRANLATE this system 3 units on x-axis\n",
    "dummy_tra_x3 = dummy.translate(0, x=3, y=0, z=0)\n",
    "\n",
    "print(dummy_tra_x3)"
   ],
   "outputs": [
    {
     "output_type": "stream",
     "name": "stdout",
     "text": [
      "\t3\n",
      "--system of 1 molecules and 3 total individual atoms--\n",
      "A\t 3.00000000\t 0.00000000\t 0.00000000\n",
      "A\t 4.00000000\t 0.00000000\t 0.00000000\n",
      "A\t 3.00000000\t 1.00000000\t 0.00000000\n",
      "\n"
     ]
    }
   ],
   "metadata": {}
  },
  {
   "cell_type": "code",
   "execution_count": 5,
   "source": [
    "# Let's TRANLATE this system 2 units on z-axis\n",
    "dummy_tra_z2 = dummy.translate(0, x=0, y=0, z=2)\n",
    "\n",
    "print(dummy_tra_z2)"
   ],
   "outputs": [
    {
     "output_type": "stream",
     "name": "stdout",
     "text": [
      "\t3\n",
      "--system of 1 molecules and 3 total individual atoms--\n",
      "A\t 0.00000000\t 0.00000000\t 2.00000000\n",
      "A\t 1.00000000\t 0.00000000\t 2.00000000\n",
      "A\t 0.00000000\t 1.00000000\t 2.00000000\n",
      "\n"
     ]
    }
   ],
   "metadata": {}
  },
  {
   "cell_type": "code",
   "execution_count": 6,
   "source": [
    "# Let's TRANLATE this system 10 units on x, y, and z simultaneously\n",
    "dummy_tra_xyz10 = dummy.translate(0, x=10, y=10, z=10)\n",
    "\n",
    "print(dummy_tra_xyz10)"
   ],
   "outputs": [
    {
     "output_type": "stream",
     "name": "stdout",
     "text": [
      "\t3\n",
      "--system of 1 molecules and 3 total individual atoms--\n",
      "A\t 10.00000000\t 10.00000000\t 10.00000000\n",
      "A\t 11.00000000\t 10.00000000\t 10.00000000\n",
      "A\t 10.00000000\t 11.00000000\t 10.00000000\n",
      "\n"
     ]
    }
   ],
   "metadata": {}
  },
  {
   "cell_type": "code",
   "execution_count": 7,
   "source": [
    "# Let's ROTATE this system 90 deg around z-axis clockwise\n",
    "dummy_rot_z90 = dummy.rotate(0, x=0, y=0, z=90)\n",
    "\n",
    "print(dummy)\n",
    "print('*** after rotation of 90 deg around z-axis clockwise')\n",
    "print(dummy_rot_z90)"
   ],
   "outputs": [
    {
     "output_type": "stream",
     "name": "stdout",
     "text": [
      "\t3\n",
      "--system of 1 molecules and 3 total individual atoms--\n",
      "A\t 0.00000000\t 0.00000000\t 0.00000000\n",
      "A\t 1.00000000\t 0.00000000\t 0.00000000\n",
      "A\t 0.00000000\t 1.00000000\t 0.00000000\n",
      "\n",
      "*** after rotation of 90 deg around z-axis clockwise\n",
      "\t3\n",
      "--system of 1 molecules and 3 total individual atoms--\n",
      "A\t 0.00000000\t 0.00000000\t 0.00000000\n",
      "A\t 0.00000000\t-1.00000000\t 0.00000000\n",
      "A\t 1.00000000\t 0.00000000\t 0.00000000\n",
      "\n"
     ]
    }
   ],
   "metadata": {}
  },
  {
   "cell_type": "code",
   "execution_count": 8,
   "source": [
    "# Let's ROTATE this system 180 deg around z-axis counterclockwise\n",
    "# however, a 180 deg rotation is equivalent to -180 deg one\n",
    "dummy_rot_z_n180 = dummy.rotate(0, x=0, y=0, z=-180)\n",
    "\n",
    "print(dummy)\n",
    "print('*** after rotation of 180 deg around z-axis counterclockwise')\n",
    "print(dummy_rot_z_n180)"
   ],
   "outputs": [
    {
     "output_type": "stream",
     "name": "stdout",
     "text": [
      "\t3\n",
      "--system of 1 molecules and 3 total individual atoms--\n",
      "A\t 0.00000000\t 0.00000000\t 0.00000000\n",
      "A\t 1.00000000\t 0.00000000\t 0.00000000\n",
      "A\t 0.00000000\t 1.00000000\t 0.00000000\n",
      "\n",
      "*** after rotation of 180 deg around z-axis counterclockwise\n",
      "\t3\n",
      "--system of 1 molecules and 3 total individual atoms--\n",
      "A\t 0.00000000\t 0.00000000\t 0.00000000\n",
      "A\t-1.00000000\t 0.00000000\t 0.00000000\n",
      "A\t-0.00000000\t-1.00000000\t 0.00000000\n",
      "\n"
     ]
    }
   ],
   "metadata": {}
  },
  {
   "cell_type": "code",
   "execution_count": 14,
   "source": [
    "# Let's ROTATE this system 180 deg around x-axis\n",
    "dummy_rot_x_n180 = dummy.rotate(0, x=180, y=0, z=0)\n",
    "\n",
    "print(dummy)\n",
    "print('*** after rotation of 180 deg around x-axis counterclockwise')\n",
    "print(dummy_rot_x_n180)"
   ],
   "outputs": [
    {
     "output_type": "stream",
     "name": "stdout",
     "text": [
      "\t3\n",
      "--system of 1 molecules and 3 total individual atoms--\n",
      "A\t 0.00000000\t 0.00000000\t 0.00000000\n",
      "A\t 1.00000000\t 0.00000000\t 0.00000000\n",
      "A\t 0.00000000\t 1.00000000\t 0.00000000\n",
      "\n",
      "*** after rotation of 180 deg around x-axis counterclockwise\n",
      "\t3\n",
      "--system of 1 molecules and 3 total individual atoms--\n",
      "A\t 0.00000000\t 0.00000000\t 0.00000000\n",
      "A\t 1.00000000\t 0.00000000\t 0.00000000\n",
      "A\t 0.00000000\t-1.00000000\t-0.00000000\n",
      "\n"
     ]
    }
   ],
   "metadata": {}
  },
  {
   "cell_type": "code",
   "execution_count": 16,
   "source": [
    "# Move and Rotate\n",
    "# Let's MOVE 3 units xyz simultaneously and ROTATE this system 90 deg around z-axis\n",
    "dummy_tra_xyz3_rot_z_180 = dummy.translate(0, x=3, y=3, z=3).rotate(0, x=0, y=0, z=180)\n",
    "\n",
    "print(dummy)\n",
    "print('*** after rotation of 180 deg around x-axis counterclockwise')\n",
    "print(dummy_tra_xyz3_rot_z_180)"
   ],
   "outputs": [
    {
     "output_type": "stream",
     "name": "stdout",
     "text": [
      "\t3\n",
      "--system of 1 molecules and 3 total individual atoms--\n",
      "A\t 0.00000000\t 0.00000000\t 0.00000000\n",
      "A\t 1.00000000\t 0.00000000\t 0.00000000\n",
      "A\t 0.00000000\t 1.00000000\t 0.00000000\n",
      "\n",
      "*** after rotation of 180 deg around x-axis counterclockwise\n",
      "\t3\n",
      "--system of 1 molecules and 3 total individual atoms--\n",
      "A\t-3.00000000\t-3.00000000\t 3.00000000\n",
      "A\t-4.00000000\t-3.00000000\t 3.00000000\n",
      "A\t-3.00000000\t-4.00000000\t 3.00000000\n",
      "\n"
     ]
    }
   ],
   "metadata": {}
  },
  {
   "cell_type": "markdown",
   "source": [
    "## SUMMARIZING:\n",
    "we can `translate` and `rotate` a molecule one step at a time or both together.\n",
    "Also, we can `translate` on or `rotate` around each cartesian axes\n",
    "\n",
    "> *_NOTE_:*  \n",
    ">  Those operations assume *RIGID* body; it means, we are NOT breaking a molecule internally. \n",
    "\n",
    ">  In other words, internal bond distances and angles are ALWAYS the same.\n"
   ],
   "metadata": {}
  },
  {
   "cell_type": "code",
   "execution_count": 17,
   "source": [
    "# py3Dmol: a simple IPython/Jupyter widget to embed an interactive 3Dmol.js viewer in a notebook.\n",
    "!pip install py3Dmol\n",
    "import py3Dmol"
   ],
   "outputs": [
    {
     "output_type": "stream",
     "name": "stdout",
     "text": [
      "Requirement already satisfied: py3Dmol in /home/edison/repo_gitlab/amcess/venv/lib/python3.8/site-packages (1.7.0)\n"
     ]
    }
   ],
   "metadata": {}
  },
  {
   "cell_type": "code",
   "execution_count": 19,
   "source": [
    "xyz_view = py3Dmol.view(width=300,height=200)\n",
    "xyz_view.addModel(dummy.xyz,'xyz')\n",
    "xyz_view.addModel(dummy_tra_xyz3_rot_z_180.xyz,'xyz')\n",
    "xyz_view.setStyle({'stick':{}})"
   ],
   "outputs": [
    {
     "output_type": "display_data",
     "data": {
      "text/html": [
       "<div id=\"3dmolviewer_16328042806808326\"  style=\"position: relative; width: 300px; height: 200px\">\n",
       "        <p id=\"3dmolwarning_16328042806808326\" style=\"background-color:#ffcccc;color:black\">You appear to be running in JupyterLab (or JavaScript failed to load for some other reason).  You need to install the 3dmol extension: <br>\n",
       "        <tt>jupyter labextension install jupyterlab_3dmol</tt></p>\n",
       "        </div>\n",
       "<script>\n",
       "\n",
       "var loadScriptAsync = function(uri){\n",
       "  return new Promise((resolve, reject) => {\n",
       "    var tag = document.createElement('script');\n",
       "    tag.src = uri;\n",
       "    tag.async = true;\n",
       "    tag.onload = () => {\n",
       "      resolve();\n",
       "    };\n",
       "  var firstScriptTag = document.getElementsByTagName('script')[0];\n",
       "  firstScriptTag.parentNode.insertBefore(tag, firstScriptTag);\n",
       "});\n",
       "};\n",
       "\n",
       "if(typeof $3Dmolpromise === 'undefined') {\n",
       "$3Dmolpromise = null;\n",
       "  $3Dmolpromise = loadScriptAsync('https://3dmol.org/build/3Dmol.js');\n",
       "}\n",
       "\n",
       "var viewer_16328042806808326 = null;\n",
       "var warn = document.getElementById(\"3dmolwarning_16328042806808326\");\n",
       "if(warn) {\n",
       "    warn.parentNode.removeChild(warn);\n",
       "}\n",
       "$3Dmolpromise.then(function() {\n",
       "viewer_16328042806808326 = $3Dmol.createViewer($(\"#3dmolviewer_16328042806808326\"),{backgroundColor:\"white\"});\n",
       "viewer_16328042806808326.zoomTo();\n",
       "\tviewer_16328042806808326.addModel(\"\\t3\\n--system of 1 molecules and 3 total individual atoms--\\nA\\t 0.00000000\\t 0.00000000\\t 0.00000000\\nA\\t 1.00000000\\t 0.00000000\\t 0.00000000\\nA\\t 0.00000000\\t 1.00000000\\t 0.00000000\\n\",\"xyz\");\n",
       "\tviewer_16328042806808326.addModel(\"\\t3\\n--system of 1 molecules and 3 total individual atoms--\\nA\\t-3.00000000\\t-3.00000000\\t 3.00000000\\nA\\t-4.00000000\\t-3.00000000\\t 3.00000000\\nA\\t-3.00000000\\t-4.00000000\\t 3.00000000\\n\",\"xyz\");\n",
       "\tviewer_16328042806808326.setStyle({\"stick\": {}});\n",
       "viewer_16328042806808326.render();\n",
       "});\n",
       "</script>"
      ],
      "application/3dmoljs_load.v0": "<div id=\"3dmolviewer_16328042806808326\"  style=\"position: relative; width: 300px; height: 200px\">\n        <p id=\"3dmolwarning_16328042806808326\" style=\"background-color:#ffcccc;color:black\">You appear to be running in JupyterLab (or JavaScript failed to load for some other reason).  You need to install the 3dmol extension: <br>\n        <tt>jupyter labextension install jupyterlab_3dmol</tt></p>\n        </div>\n<script>\n\nvar loadScriptAsync = function(uri){\n  return new Promise((resolve, reject) => {\n    var tag = document.createElement('script');\n    tag.src = uri;\n    tag.async = true;\n    tag.onload = () => {\n      resolve();\n    };\n  var firstScriptTag = document.getElementsByTagName('script')[0];\n  firstScriptTag.parentNode.insertBefore(tag, firstScriptTag);\n});\n};\n\nif(typeof $3Dmolpromise === 'undefined') {\n$3Dmolpromise = null;\n  $3Dmolpromise = loadScriptAsync('https://3dmol.org/build/3Dmol.js');\n}\n\nvar viewer_16328042806808326 = null;\nvar warn = document.getElementById(\"3dmolwarning_16328042806808326\");\nif(warn) {\n    warn.parentNode.removeChild(warn);\n}\n$3Dmolpromise.then(function() {\nviewer_16328042806808326 = $3Dmol.createViewer($(\"#3dmolviewer_16328042806808326\"),{backgroundColor:\"white\"});\nviewer_16328042806808326.zoomTo();\n\tviewer_16328042806808326.addModel(\"\\t3\\n--system of 1 molecules and 3 total individual atoms--\\nA\\t 0.00000000\\t 0.00000000\\t 0.00000000\\nA\\t 1.00000000\\t 0.00000000\\t 0.00000000\\nA\\t 0.00000000\\t 1.00000000\\t 0.00000000\\n\",\"xyz\");\n\tviewer_16328042806808326.addModel(\"\\t3\\n--system of 1 molecules and 3 total individual atoms--\\nA\\t-3.00000000\\t-3.00000000\\t 3.00000000\\nA\\t-4.00000000\\t-3.00000000\\t 3.00000000\\nA\\t-3.00000000\\t-4.00000000\\t 3.00000000\\n\",\"xyz\");\n\tviewer_16328042806808326.setStyle({\"stick\": {}});\nviewer_16328042806808326.render();\n});\n</script>"
     },
     "metadata": {}
    },
    {
     "output_type": "execute_result",
     "data": {
      "text/plain": [
       "<py3Dmol.view at 0x7fa537d308e0>"
      ]
     },
     "metadata": {},
     "execution_count": 19
    }
   ],
   "metadata": {}
  }
 ],
 "metadata": {
  "interpreter": {
   "hash": "905b23e70a1d36024bfb0896816f07aeaf2908407f57dcaa1d6c5bb6e0bd7aeb"
  },
  "kernelspec": {
   "name": "python3",
   "display_name": "Python 3.8.10 64-bit ('venv': venv)"
  },
  "language_info": {
   "codemirror_mode": {
    "name": "ipython",
    "version": 3
   },
   "file_extension": ".py",
   "mimetype": "text/x-python",
   "name": "python",
   "nbconvert_exporter": "python",
   "pygments_lexer": "ipython3",
   "version": "3.8.10"
  }
 },
 "nbformat": 4,
 "nbformat_minor": 4
}