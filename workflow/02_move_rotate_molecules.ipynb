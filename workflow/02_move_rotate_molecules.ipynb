{
 "cells": [
  {
   "cell_type": "markdown",
   "metadata": {},
   "source": [
    "# Moving and Rotating Molecules:\n",
    "**Task:** \n",
    "1. Move and rotate a Molecule/Atoms using its cartesian coordinates\n",
    "2. Move/rotate a Molecule/Atom one by one systematically"
   ]
  },
  {
   "cell_type": "markdown",
   "metadata": {},
   "source": [
    "## Dummy system of three atoms ($X_{3}$):\n",
    "We use this simple example to show how translation and rotation works\n",
    "\n",
    "Cartesian coordinates [Angstrom]:\n",
    "\n",
    "    A    0.00000    0.00000    0.00000\n",
    "    A    1.00000    0.00000    0.00000\n",
    "    A    0.00000    1.00000    0.00000\n",
    "\n",
    "\n",
    "> **_NOTE:_**   \n",
    "> `translate` and `rotate` methods return a brand new Molecule object"
   ]
  },
  {
   "cell_type": "code",
   "execution_count": 1,
   "metadata": {},
   "outputs": [],
   "source": [
    "# crating the path (PYTHONPATH) to our module.\n",
    "# assuming that our 'amcess' directory is out ('..') of our current directory \n",
    "import os\n",
    "import sys\n",
    "module_path = os.path.abspath(os.path.join('..'))\n",
    "\n",
    "if module_path not in sys.path:\n",
    "    sys.path.append(module_path)"
   ]
  },
  {
   "cell_type": "code",
   "execution_count": 2,
   "metadata": {},
   "outputs": [],
   "source": [
    "# importing de Molecule Class\n",
    "from amcess.molecule import Molecule\n",
    "from amcess.cluster import Cluster"
   ]
  },
  {
   "cell_type": "code",
   "execution_count": 3,
   "metadata": {},
   "outputs": [
    {
     "name": "stdout",
     "output_type": "stream",
     "text": [
      "Cluster of (1) molecules and (3) total atoms\n",
      " #0: molecule with 3 atoms:\n",
      "     --> atoms: [('A', 0, 0, 0), ('A', 1, 0, 0), ('A', 0, 1, 0)]\n",
      "     --> charge: +0\n",
      "     --> multiplicity: 1\n",
      "\n",
      "\t3\n",
      "-- charge=0 and multiplicity=1 --\n",
      "A     \t     0.00000000\t     0.00000000\t     0.00000000\n",
      "A     \t     1.00000000\t     0.00000000\t     0.00000000\n",
      "A     \t     0.00000000\t     1.00000000\t     0.00000000\n",
      "\n"
     ]
    }
   ],
   "source": [
    "dummy_system = [(\"A\", 0, 0, 0), (\"A\", 1, 0, 0), (\"A\", 0, 1, 0)]\n",
    "\n",
    "dummy = Cluster(dummy_system)\n",
    "\n",
    "print(dummy)\n",
    "\n",
    "# or print in XYZ format\n",
    "print(dummy.xyz)"
   ]
  },
  {
   "cell_type": "code",
   "execution_count": 4,
   "metadata": {},
   "outputs": [
    {
     "name": "stdout",
     "output_type": "stream",
     "text": [
      "\t3\n",
      "-- charge=0 and multiplicity=1 --\n",
      "A     \t     3.00000000\t     0.00000000\t     0.00000000\n",
      "A     \t     4.00000000\t     0.00000000\t     0.00000000\n",
      "A     \t     3.00000000\t     1.00000000\t     0.00000000\n",
      "\n"
     ]
    }
   ],
   "source": [
    "# Let's TRANLATE this system 3 units on x-axis\n",
    "dummy_tra_x3 = dummy.translate(0, x=3, y=0, z=0)\n",
    "\n",
    "print(dummy_tra_x3.xyz)"
   ]
  },
  {
   "cell_type": "code",
   "execution_count": 5,
   "metadata": {},
   "outputs": [
    {
     "name": "stdout",
     "output_type": "stream",
     "text": [
      "\t3\n",
      "-- charge=0 and multiplicity=1 --\n",
      "A     \t     0.00000000\t     0.00000000\t     2.00000000\n",
      "A     \t     1.00000000\t     0.00000000\t     2.00000000\n",
      "A     \t     0.00000000\t     1.00000000\t     2.00000000\n",
      "\n"
     ]
    }
   ],
   "source": [
    "# Let's TRANSLATE this system 2 units on z-axis\n",
    "dummy_tra_z2 = dummy.translate(0, x=0, y=0, z=2)\n",
    "\n",
    "print(dummy_tra_z2.xyz)"
   ]
  },
  {
   "cell_type": "code",
   "execution_count": 6,
   "metadata": {},
   "outputs": [
    {
     "name": "stdout",
     "output_type": "stream",
     "text": [
      "\t3\n",
      "-- charge=0 and multiplicity=1 --\n",
      "A     \t    10.00000000\t    10.00000000\t    10.00000000\n",
      "A     \t    11.00000000\t    10.00000000\t    10.00000000\n",
      "A     \t    10.00000000\t    11.00000000\t    10.00000000\n",
      "\n"
     ]
    }
   ],
   "source": [
    "# Let's TRANLATE this system 10 units on x, y, and z simultaneously\n",
    "dummy_tra_xyz10 = dummy.translate(0, x=10, y=10, z=10)\n",
    "\n",
    "print(dummy_tra_xyz10.xyz)"
   ]
  },
  {
   "cell_type": "code",
   "execution_count": 7,
   "metadata": {},
   "outputs": [
    {
     "name": "stdout",
     "output_type": "stream",
     "text": [
      "\t3\n",
      "-- charge=0 and multiplicity=1 --\n",
      "A     \t     0.00000000\t     0.00000000\t     0.00000000\n",
      "A     \t     1.00000000\t     0.00000000\t     0.00000000\n",
      "A     \t     0.00000000\t     1.00000000\t     0.00000000\n",
      "\n",
      "*** after rotation of 90 deg around z-axis clockwise\n",
      "\t3\n",
      "-- charge=0 and multiplicity=1 --\n",
      "A     \t     0.00000000\t     0.00000000\t     0.00000000\n",
      "A     \t     0.00000000\t    -1.00000000\t     0.00000000\n",
      "A     \t     1.00000000\t     0.00000000\t     0.00000000\n",
      "\n"
     ]
    }
   ],
   "source": [
    "# Let's ROTATE this system 90 deg around z-axis clockwise\n",
    "dummy_rot_z90 = dummy.rotate(0, x=0, y=0, z=90)\n",
    "\n",
    "print(dummy.xyz)\n",
    "print('*** after rotation of 90 deg around z-axis clockwise')\n",
    "print(dummy_rot_z90.xyz)"
   ]
  },
  {
   "cell_type": "code",
   "execution_count": 8,
   "metadata": {},
   "outputs": [
    {
     "name": "stdout",
     "output_type": "stream",
     "text": [
      "\t3\n",
      "-- charge=0 and multiplicity=1 --\n",
      "A     \t     0.00000000\t     0.00000000\t     0.00000000\n",
      "A     \t     1.00000000\t     0.00000000\t     0.00000000\n",
      "A     \t     0.00000000\t     1.00000000\t     0.00000000\n",
      "\n",
      "*** after rotation of 180 deg around z-axis counterclockwise\n",
      "\t3\n",
      "-- charge=0 and multiplicity=1 --\n",
      "A     \t     0.00000000\t     0.00000000\t     0.00000000\n",
      "A     \t    -1.00000000\t     0.00000000\t     0.00000000\n",
      "A     \t    -0.00000000\t    -1.00000000\t     0.00000000\n",
      "\n"
     ]
    }
   ],
   "source": [
    "# Let's ROTATE this system 180 deg around z-axis counterclockwise\n",
    "# however, a 180 deg rotation is equivalent to -180 deg one\n",
    "dummy_rot_z_n180 = dummy.rotate(0, x=0, y=0, z=-180)\n",
    "\n",
    "print(dummy.xyz)\n",
    "print('*** after rotation of 180 deg around z-axis counterclockwise')\n",
    "print(dummy_rot_z_n180.xyz)"
   ]
  },
  {
   "cell_type": "code",
   "execution_count": 9,
   "metadata": {},
   "outputs": [
    {
     "name": "stdout",
     "output_type": "stream",
     "text": [
      "\t3\n",
      "-- charge=0 and multiplicity=1 --\n",
      "A     \t     0.00000000\t     0.00000000\t     0.00000000\n",
      "A     \t     1.00000000\t     0.00000000\t     0.00000000\n",
      "A     \t     0.00000000\t     1.00000000\t     0.00000000\n",
      "\n",
      "*** after rotation of 180 deg around x-axis counterclockwise\n",
      "\t3\n",
      "-- charge=0 and multiplicity=1 --\n",
      "A     \t     0.00000000\t     0.00000000\t     0.00000000\n",
      "A     \t     1.00000000\t     0.00000000\t     0.00000000\n",
      "A     \t     0.00000000\t    -1.00000000\t    -0.00000000\n",
      "\n"
     ]
    }
   ],
   "source": [
    "# Let's ROTATE this system 180 deg around x-axis\n",
    "dummy_rot_x_n180 = dummy.rotate(0, x=180, y=0, z=0)\n",
    "\n",
    "print(dummy.xyz)\n",
    "print('*** after rotation of 180 deg around x-axis counterclockwise')\n",
    "print(dummy_rot_x_n180.xyz)"
   ]
  },
  {
   "cell_type": "code",
   "execution_count": 10,
   "metadata": {},
   "outputs": [
    {
     "name": "stdout",
     "output_type": "stream",
     "text": [
      "\t3\n",
      "-- charge=0 and multiplicity=1 --\n",
      "A     \t     0.00000000\t     0.00000000\t     0.00000000\n",
      "A     \t     1.00000000\t     0.00000000\t     0.00000000\n",
      "A     \t     0.00000000\t     1.00000000\t     0.00000000\n",
      "\n",
      "*** after rotation of 180 deg around x-axis counterclockwise\n",
      "\t3\n",
      "-- charge=0 and multiplicity=1 --\n",
      "A     \t    -3.00000000\t    -3.00000000\t     3.00000000\n",
      "A     \t    -4.00000000\t    -3.00000000\t     3.00000000\n",
      "A     \t    -3.00000000\t    -4.00000000\t     3.00000000\n",
      "\n"
     ]
    }
   ],
   "source": [
    "# Move and Rotate\n",
    "# Let's MOVE 3 units xyz simultaneously and ROTATE this system 90 deg around z-axis\n",
    "dummy_tra_xyz3_rot_z_180 = dummy.translate(0, x=3, y=3, z=3).rotate(0, x=0, y=0, z=180)\n",
    "\n",
    "print(dummy.xyz)\n",
    "print('*** after rotation of 180 deg around x-axis counterclockwise')\n",
    "print(dummy_tra_xyz3_rot_z_180.xyz)"
   ]
  },
  {
   "cell_type": "markdown",
   "metadata": {},
   "source": [
    "## SUMMARIZING:\n",
    "We can `translate` and `rotate` a molecule one step at a time or both simultaneously.\n",
    "Also, we can `translate` on or `rotate` around each Cartesian axes\n",
    "\n",
    "> *_NOTE_:*  \n",
    ">  Those operations assume *RIGID* body; it means, we are NOT breaking a molecule internally. \n",
    "\n",
    ">  In other words, internal bond distances and angles are ALWAYS the same.\n"
   ]
  },
  {
   "cell_type": "code",
   "execution_count": 11,
   "metadata": {},
   "outputs": [],
   "source": [
    "# py3Dmol: a simple IPython/Jupyter widget to embed an interactive 3Dmol.js viewer in a notebook.\n",
    "import py3Dmol"
   ]
  },
  {
   "cell_type": "code",
   "execution_count": 12,
   "metadata": {},
   "outputs": [
    {
     "name": "stdout",
     "output_type": "stream",
     "text": [
      "\t3\n",
      "-- charge=0 and multiplicity=1 --\n",
      "A     \t     0.00000000\t     0.00000000\t     0.00000000\n",
      "A     \t     1.00000000\t     0.00000000\t     0.00000000\n",
      "A     \t     0.00000000\t     1.00000000\t     0.00000000\n",
      "\n"
     ]
    }
   ],
   "source": [
    "print(dummy.xyz)"
   ]
  },
  {
   "cell_type": "code",
   "execution_count": 13,
   "metadata": {},
   "outputs": [
    {
     "data": {
      "application/3dmoljs_load.v0": "<div id=\"3dmolviewer_1710891731606876\"  style=\"position: relative; width: 300px; height: 200px;\">\n        <p id=\"3dmolwarning_1710891731606876\" style=\"background-color:#ffcccc;color:black\">You appear to be running in JupyterLab (or JavaScript failed to load for some other reason).  You need to install the 3dmol extension: <br>\n        <tt>jupyter labextension install jupyterlab_3dmol</tt></p>\n        </div>\n<script>\n\nvar loadScriptAsync = function(uri){\n  return new Promise((resolve, reject) => {\n    //this is to ignore the existence of requirejs amd\n    var savedexports, savedmodule;\n    if (typeof exports !== 'undefined') savedexports = exports;\n    else exports = {}\n    if (typeof module !== 'undefined') savedmodule = module;\n    else module = {}\n\n    var tag = document.createElement('script');\n    tag.src = uri;\n    tag.async = true;\n    tag.onload = () => {\n        exports = savedexports;\n        module = savedmodule;\n        resolve();\n    };\n  var firstScriptTag = document.getElementsByTagName('script')[0];\n  firstScriptTag.parentNode.insertBefore(tag, firstScriptTag);\n});\n};\n\nif(typeof $3Dmolpromise === 'undefined') {\n$3Dmolpromise = null;\n  $3Dmolpromise = loadScriptAsync('https://cdnjs.cloudflare.com/ajax/libs/3Dmol/2.0.4/3Dmol-min.js');\n}\n\nvar viewer_1710891731606876 = null;\nvar warn = document.getElementById(\"3dmolwarning_1710891731606876\");\nif(warn) {\n    warn.parentNode.removeChild(warn);\n}\n$3Dmolpromise.then(function() {\nviewer_1710891731606876 = $3Dmol.createViewer(document.getElementById(\"3dmolviewer_1710891731606876\"),{backgroundColor:\"white\"});\nviewer_1710891731606876.zoomTo();\n\tviewer_1710891731606876.addModel(\"\\t3\\n-- charge=0 and multiplicity=1 --\\nA     \\t     0.00000000\\t     0.00000000\\t     0.00000000\\nA     \\t     1.00000000\\t     0.00000000\\t     0.00000000\\nA     \\t     0.00000000\\t     1.00000000\\t     0.00000000\\n\",\"xyz\");\n\tviewer_1710891731606876.addModel(\"\\t3\\n-- charge=0 and multiplicity=1 --\\nA     \\t    -3.00000000\\t    -3.00000000\\t     3.00000000\\nA     \\t    -4.00000000\\t    -3.00000000\\t     3.00000000\\nA     \\t    -3.00000000\\t    -4.00000000\\t     3.00000000\\n\",\"xyz\");\n\tviewer_1710891731606876.setStyle({\"stick\": {}});\nviewer_1710891731606876.render();\n});\n</script>",
      "text/html": [
       "<div id=\"3dmolviewer_1710891731606876\"  style=\"position: relative; width: 300px; height: 200px;\">\n",
       "        <p id=\"3dmolwarning_1710891731606876\" style=\"background-color:#ffcccc;color:black\">You appear to be running in JupyterLab (or JavaScript failed to load for some other reason).  You need to install the 3dmol extension: <br>\n",
       "        <tt>jupyter labextension install jupyterlab_3dmol</tt></p>\n",
       "        </div>\n",
       "<script>\n",
       "\n",
       "var loadScriptAsync = function(uri){\n",
       "  return new Promise((resolve, reject) => {\n",
       "    //this is to ignore the existence of requirejs amd\n",
       "    var savedexports, savedmodule;\n",
       "    if (typeof exports !== 'undefined') savedexports = exports;\n",
       "    else exports = {}\n",
       "    if (typeof module !== 'undefined') savedmodule = module;\n",
       "    else module = {}\n",
       "\n",
       "    var tag = document.createElement('script');\n",
       "    tag.src = uri;\n",
       "    tag.async = true;\n",
       "    tag.onload = () => {\n",
       "        exports = savedexports;\n",
       "        module = savedmodule;\n",
       "        resolve();\n",
       "    };\n",
       "  var firstScriptTag = document.getElementsByTagName('script')[0];\n",
       "  firstScriptTag.parentNode.insertBefore(tag, firstScriptTag);\n",
       "});\n",
       "};\n",
       "\n",
       "if(typeof $3Dmolpromise === 'undefined') {\n",
       "$3Dmolpromise = null;\n",
       "  $3Dmolpromise = loadScriptAsync('https://cdnjs.cloudflare.com/ajax/libs/3Dmol/2.0.4/3Dmol-min.js');\n",
       "}\n",
       "\n",
       "var viewer_1710891731606876 = null;\n",
       "var warn = document.getElementById(\"3dmolwarning_1710891731606876\");\n",
       "if(warn) {\n",
       "    warn.parentNode.removeChild(warn);\n",
       "}\n",
       "$3Dmolpromise.then(function() {\n",
       "viewer_1710891731606876 = $3Dmol.createViewer(document.getElementById(\"3dmolviewer_1710891731606876\"),{backgroundColor:\"white\"});\n",
       "viewer_1710891731606876.zoomTo();\n",
       "\tviewer_1710891731606876.addModel(\"\\t3\\n-- charge=0 and multiplicity=1 --\\nA     \\t     0.00000000\\t     0.00000000\\t     0.00000000\\nA     \\t     1.00000000\\t     0.00000000\\t     0.00000000\\nA     \\t     0.00000000\\t     1.00000000\\t     0.00000000\\n\",\"xyz\");\n",
       "\tviewer_1710891731606876.addModel(\"\\t3\\n-- charge=0 and multiplicity=1 --\\nA     \\t    -3.00000000\\t    -3.00000000\\t     3.00000000\\nA     \\t    -4.00000000\\t    -3.00000000\\t     3.00000000\\nA     \\t    -3.00000000\\t    -4.00000000\\t     3.00000000\\n\",\"xyz\");\n",
       "\tviewer_1710891731606876.setStyle({\"stick\": {}});\n",
       "viewer_1710891731606876.render();\n",
       "});\n",
       "</script>"
      ]
     },
     "metadata": {},
     "output_type": "display_data"
    },
    {
     "data": {
      "text/plain": [
       "<py3Dmol.view at 0x7fccf3f32590>"
      ]
     },
     "execution_count": 13,
     "metadata": {},
     "output_type": "execute_result"
    }
   ],
   "source": [
    "xyz_view = py3Dmol.view(width=300,height=200)\n",
    "xyz_view.addModel(dummy.xyz,'xyz')\n",
    "xyz_view.addModel(dummy_tra_xyz3_rot_z_180.xyz,'xyz')\n",
    "xyz_view.setStyle({'stick': {}})\n",
    "# xyz_view.setStyle({'sphere': {'radius': 0.5}})"
   ]
  }
 ],
 "metadata": {
  "interpreter": {
   "hash": "18499a005e754947919ec5cf7177bdee4137be8b2658c273f1990f80578be88f"
  },
  "kernelspec": {
   "display_name": "Python 3.8.8 64-bit ('ascec': conda)",
   "name": "python3"
  },
  "language_info": {
   "codemirror_mode": {
    "name": "ipython",
    "version": 3
   },
   "file_extension": ".py",
   "mimetype": "text/x-python",
   "name": "python",
   "nbconvert_exporter": "python",
   "pygments_lexer": "ipython3",
   "version": "3.10.12"
  }
 },
 "nbformat": 4,
 "nbformat_minor": 4
}
