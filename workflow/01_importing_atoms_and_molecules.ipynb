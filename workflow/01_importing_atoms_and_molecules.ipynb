{
 "cells": [
  {
   "cell_type": "markdown",
   "source": [
    "# Import a Molecules/Atom from cartesian coordinates:\n",
    "**Task:** \n",
    "1. Create a Molecule object from its cartesian coordinates\n",
    "2. Ask for its atomic and molecular properties"
   ],
   "metadata": {}
  },
  {
   "cell_type": "markdown",
   "source": [
    "## [Water molecule](https://en.wikipedia.org/wiki/Properties_of_water) ($H_{2}O$):\n",
    "\n",
    "<img \n",
    "src=\"https://upload.wikimedia.org/wikipedia/commons/thumb/b/b7/H2O_2D_labelled.svg/2560px-H2O_2D_labelled.svg.png\"\n",
    "alt=\"water\" \n",
    "width=\"200\" \n",
    "height=\"100\" \n",
    "/>\n",
    "\n",
    "### Properties:\n",
    "- Number of molecules: 1\n",
    "- Number of atoms: 3\n",
    "- Atomic symbols: O, H, H\n",
    "- Atomic masses [g/mol]: \n",
    "    - O: 15.999\n",
    "    - H: 1.008\n",
    "    - H: 1.008\n",
    "- Molar mass [g/mol]: 18.015\n",
    "- Cartesian coordinates [Angstrom]:\n",
    "    ```XYZ\n",
    "    O    0.00000    0.00000    0.00000\n",
    "    H    0.58708    0.75754    0.00000\n",
    "    H    0.58708   -0.75754    0.00000\n",
    "    ```\n",
    "- Bond distance [Angstrom]:\n",
    "    - H-O: 0.9584 (95.84 pm)\n",
    "    - H-H: 1.5151\n",
    "- Bond angle [Degrees]:\n",
    "    - H-O-H: 104.45\n",
    "    - H-H-O: 37.78"
   ],
   "metadata": {}
  },
  {
   "cell_type": "code",
   "execution_count": 1,
   "source": [
    "# crating the path (PYTHONPATH) to our module.\n",
    "# assuming that our 'src' directory is out ('..') of our current directory \n",
    "import os\n",
    "import sys\n",
    "module_path = os.path.abspath(os.path.join('..'))\n",
    "\n",
    "if module_path not in sys.path:\n",
    "    sys.path.append(module_path)"
   ],
   "outputs": [],
   "metadata": {}
  },
  {
   "cell_type": "code",
   "execution_count": 2,
   "source": [
    "# importing de Molecule Class\n",
    "from src.base_molecule import Molecule"
   ],
   "outputs": [],
   "metadata": {}
  },
  {
   "cell_type": "code",
   "execution_count": 3,
   "source": [
    "# creating a Molecular object. You can use a list, a dictionary (the key MUST be \"atoms\")\n",
    "# or another Molecule object\n",
    "\n",
    "water_dict = {\"atoms\": [(\"O\", 0, 0, 0), (\"H\", 0.58708, 0.75754, 0), (\"H\", -0.58708, 0.75754, 0)]}\n",
    "water=[(\"O\", 0, 0, 0), (\"H\", 0.58708, 0.75754, 0), (\"H\", -0.58708, 0.75754, 0)]\n",
    "\n",
    "water_molecule = Molecule(water_dict)\n",
    "water_molecule = Molecule(water)"
   ],
   "outputs": [],
   "metadata": {}
  },
  {
   "cell_type": "code",
   "execution_count": 4,
   "source": [
    "# asking for its properties\n",
    "print(f\"Total number of atoms: {water_molecule._total_atoms}\")\n",
    "print(f\"Atomic symbols: {water_molecule.symbols}\")\n",
    "print(f\"Individual atomic masses: {water_molecule.atomic_masses}\")\n",
    "print(f\"Molecular mass: {water_molecule.total_mass}\")\n",
    "print(f\"Coordinates: {water_molecule.atoms}\")\n",
    "print(f\"Cartesian coordinates: {water_molecule.coordinates}\")"
   ],
   "outputs": [
    {
     "output_type": "stream",
     "name": "stdout",
     "text": [
      "Total number of atoms: 3\n",
      "Atomic symbols: ['O', 'H', 'H']\n",
      "Individual atomic masses: [15.999, 1.008, 1.008]\n",
      "Molecular mass: 18.015\n",
      "Coordinates: [('O', 0, 0, 0), ('H', 0.58708, 0.75754, 0), ('H', -0.58708, 0.75754, 0)]\n",
      "Cartesian coordinates: [(0, 0, 0), (0.58708, 0.75754, 0), (-0.58708, 0.75754, 0)]\n"
     ]
    }
   ],
   "metadata": {}
  },
  {
   "cell_type": "code",
   "execution_count": 5,
   "source": [
    "# printing our object using XYZ format\n",
    "print(water_molecule)"
   ],
   "outputs": [
    {
     "output_type": "stream",
     "name": "stdout",
     "text": [
      "\t3\n",
      "-- charge= 0 and multiplicity= 1 --\n",
      "O     \t 0.00000000\t 0.00000000\t 0.00000000\n",
      "H     \t 0.58708000\t 0.75754000\t 0.00000000\n",
      "H     \t-0.58708000\t 0.75754000\t 0.00000000\n",
      "\n"
     ]
    }
   ],
   "metadata": {}
  },
  {
   "cell_type": "code",
   "execution_count": 6,
   "source": [
    "# visualizing using py3Dmol\n",
    "water_xyz = str(water_molecule)\n",
    "\n",
    "water_xyz\n"
   ],
   "outputs": [
    {
     "output_type": "execute_result",
     "data": {
      "text/plain": [
       "'\\t3\\n-- charge= 0 and multiplicity= 1 --\\nO     \\t 0.00000000\\t 0.00000000\\t 0.00000000\\nH     \\t 0.58708000\\t 0.75754000\\t 0.00000000\\nH     \\t-0.58708000\\t 0.75754000\\t 0.00000000\\n'"
      ]
     },
     "metadata": {},
     "execution_count": 6
    }
   ],
   "metadata": {}
  },
  {
   "cell_type": "code",
   "execution_count": 7,
   "source": [
    "water_xyz = water_molecule.xyz\n",
    "print(water_xyz)\n"
   ],
   "outputs": [
    {
     "output_type": "stream",
     "name": "stdout",
     "text": [
      "\t3\n",
      "-- charge= 0 and multiplicity= 1 --\n",
      "O     \t 0.00000000\t 0.00000000\t 0.00000000\n",
      "H     \t 0.58708000\t 0.75754000\t 0.00000000\n",
      "H     \t-0.58708000\t 0.75754000\t 0.00000000\n",
      "\n"
     ]
    }
   ],
   "metadata": {}
  },
  {
   "cell_type": "code",
   "execution_count": 8,
   "source": [
    "# py3Dmol: a simple IPython/Jupyter widget to embed an interactive 3Dmol.js viewer in a notebook.\n",
    "!pip install py3Dmol\n",
    "import py3Dmol"
   ],
   "outputs": [
    {
     "output_type": "stream",
     "name": "stdout",
     "text": [
      "Requirement already satisfied: py3Dmol in /home/edison/repo_gitlab/amcess/venv/lib/python3.8/site-packages (1.7.0)\n"
     ]
    }
   ],
   "metadata": {}
  },
  {
   "cell_type": "code",
   "execution_count": 9,
   "source": [
    "xyz_view = py3Dmol.view(width=300,height=200)\n",
    "xyz_view.addModel(water_xyz,'xyz')\n",
    "xyz_view.setStyle({'stick':{}})\n"
   ],
   "outputs": [
    {
     "output_type": "display_data",
     "data": {
      "text/html": [
       "<div id=\"3dmolviewer_16334273946805725\"  style=\"position: relative; width: 300px; height: 200px\">\n",
       "        <p id=\"3dmolwarning_16334273946805725\" style=\"background-color:#ffcccc;color:black\">You appear to be running in JupyterLab (or JavaScript failed to load for some other reason).  You need to install the 3dmol extension: <br>\n",
       "        <tt>jupyter labextension install jupyterlab_3dmol</tt></p>\n",
       "        </div>\n",
       "<script>\n",
       "\n",
       "var loadScriptAsync = function(uri){\n",
       "  return new Promise((resolve, reject) => {\n",
       "    var tag = document.createElement('script');\n",
       "    tag.src = uri;\n",
       "    tag.async = true;\n",
       "    tag.onload = () => {\n",
       "      resolve();\n",
       "    };\n",
       "  var firstScriptTag = document.getElementsByTagName('script')[0];\n",
       "  firstScriptTag.parentNode.insertBefore(tag, firstScriptTag);\n",
       "});\n",
       "};\n",
       "\n",
       "if(typeof $3Dmolpromise === 'undefined') {\n",
       "$3Dmolpromise = null;\n",
       "  $3Dmolpromise = loadScriptAsync('https://3dmol.org/build/3Dmol.js');\n",
       "}\n",
       "\n",
       "var viewer_16334273946805725 = null;\n",
       "var warn = document.getElementById(\"3dmolwarning_16334273946805725\");\n",
       "if(warn) {\n",
       "    warn.parentNode.removeChild(warn);\n",
       "}\n",
       "$3Dmolpromise.then(function() {\n",
       "viewer_16334273946805725 = $3Dmol.createViewer($(\"#3dmolviewer_16334273946805725\"),{backgroundColor:\"white\"});\n",
       "viewer_16334273946805725.zoomTo();\n",
       "\tviewer_16334273946805725.addModel(\"\\t3\\n-- charge= 0 and multiplicity= 1 --\\nO     \\t 0.00000000\\t 0.00000000\\t 0.00000000\\nH     \\t 0.58708000\\t 0.75754000\\t 0.00000000\\nH     \\t-0.58708000\\t 0.75754000\\t 0.00000000\\n\",\"xyz\");\n",
       "\tviewer_16334273946805725.setStyle({\"stick\": {}});\n",
       "viewer_16334273946805725.render();\n",
       "});\n",
       "</script>"
      ],
      "application/3dmoljs_load.v0": "<div id=\"3dmolviewer_16334273946805725\"  style=\"position: relative; width: 300px; height: 200px\">\n        <p id=\"3dmolwarning_16334273946805725\" style=\"background-color:#ffcccc;color:black\">You appear to be running in JupyterLab (or JavaScript failed to load for some other reason).  You need to install the 3dmol extension: <br>\n        <tt>jupyter labextension install jupyterlab_3dmol</tt></p>\n        </div>\n<script>\n\nvar loadScriptAsync = function(uri){\n  return new Promise((resolve, reject) => {\n    var tag = document.createElement('script');\n    tag.src = uri;\n    tag.async = true;\n    tag.onload = () => {\n      resolve();\n    };\n  var firstScriptTag = document.getElementsByTagName('script')[0];\n  firstScriptTag.parentNode.insertBefore(tag, firstScriptTag);\n});\n};\n\nif(typeof $3Dmolpromise === 'undefined') {\n$3Dmolpromise = null;\n  $3Dmolpromise = loadScriptAsync('https://3dmol.org/build/3Dmol.js');\n}\n\nvar viewer_16334273946805725 = null;\nvar warn = document.getElementById(\"3dmolwarning_16334273946805725\");\nif(warn) {\n    warn.parentNode.removeChild(warn);\n}\n$3Dmolpromise.then(function() {\nviewer_16334273946805725 = $3Dmol.createViewer($(\"#3dmolviewer_16334273946805725\"),{backgroundColor:\"white\"});\nviewer_16334273946805725.zoomTo();\n\tviewer_16334273946805725.addModel(\"\\t3\\n-- charge= 0 and multiplicity= 1 --\\nO     \\t 0.00000000\\t 0.00000000\\t 0.00000000\\nH     \\t 0.58708000\\t 0.75754000\\t 0.00000000\\nH     \\t-0.58708000\\t 0.75754000\\t 0.00000000\\n\",\"xyz\");\n\tviewer_16334273946805725.setStyle({\"stick\": {}});\nviewer_16334273946805725.render();\n});\n</script>"
     },
     "metadata": {}
    },
    {
     "output_type": "execute_result",
     "data": {
      "text/plain": [
       "<py3Dmol.view at 0x7f5469239d30>"
      ]
     },
     "metadata": {},
     "execution_count": 9
    }
   ],
   "metadata": {}
  },
  {
   "cell_type": "code",
   "execution_count": null,
   "source": [],
   "outputs": [],
   "metadata": {}
  },
  {
   "cell_type": "code",
   "execution_count": 10,
   "source": [
    "# Atomic Simulation Environment\n",
    "# https://wiki.fysik.dtu.dk/ase/index.html\n",
    "# !pip install --upgrade --user ase\n",
    "\n",
    "\n",
    "# ChemML\n",
    "# https://hachmannlab.github.io/chemml/index.html\n",
    "# !pip install chemml"
   ],
   "outputs": [],
   "metadata": {}
  },
  {
   "cell_type": "code",
   "execution_count": 11,
   "source": [
    "# NGLview\n",
    "# https://github.com/nglviewer/nglview\n",
    "# !pip install nglview\n",
    "\n",
    "# ---------------------------------------\n",
    "# pytraj \n",
    "# https://amber-md.github.io/pytraj/latest/index.html\n",
    "# !pip install pytraj\n"
   ],
   "outputs": [],
   "metadata": {}
  }
 ],
 "metadata": {
  "interpreter": {
   "hash": "905b23e70a1d36024bfb0896816f07aeaf2908407f57dcaa1d6c5bb6e0bd7aeb"
  },
  "kernelspec": {
   "name": "python3",
   "display_name": "Python 3.8.10 64-bit ('venv': venv)"
  },
  "language_info": {
   "codemirror_mode": {
    "name": "ipython",
    "version": 3
   },
   "file_extension": ".py",
   "mimetype": "text/x-python",
   "name": "python",
   "nbconvert_exporter": "python",
   "pygments_lexer": "ipython3",
   "version": "3.8.10"
  }
 },
 "nbformat": 4,
 "nbformat_minor": 4
}