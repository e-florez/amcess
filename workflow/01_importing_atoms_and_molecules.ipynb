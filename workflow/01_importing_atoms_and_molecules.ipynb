{
 "cells": [
  {
   "cell_type": "markdown",
   "metadata": {},
   "source": [
    "# Import a Molecules/Atom from cartesian coordinates:\n",
    "**Task:** \n",
    "1. Create a Molecule object from its cartesian coordinates\n",
    "2. Ask for its atomic and molecular properties"
   ]
  },
  {
   "cell_type": "markdown",
   "metadata": {},
   "source": [
    "## [Water molecule](https://en.wikipedia.org/wiki/Properties_of_water) ($H_{2}O$):\n",
    "\n",
    "<img \n",
    "amcess=\"https://upload.wikimedia.org/wikipedia/commons/thumb/b/b7/H2O_2D_labelled.svg/2560px-H2O_2D_labelled.svg.png\"\n",
    "alt=\"water\" \n",
    "width=\"200\" \n",
    "height=\"100\" \n",
    "/>\n",
    "\n",
    "### Properties:\n",
    "- Number of molecules: 1\n",
    "- Number of atoms: 3\n",
    "- Atomic symbols: O, H, H\n",
    "- Atomic masses [g/mol]: \n",
    "    - O: 15.999\n",
    "    - H: 1.008\n",
    "    - H: 1.008\n",
    "- Molar mass [g/mol]: 18.015\n",
    "- Cartesian coordinates [Angstrom]:\n",
    "    ```XYZ\n",
    "    O    0.00000    0.00000    0.00000\n",
    "    H    0.58708    0.75754    0.00000\n",
    "    H    0.58708   -0.75754    0.00000\n",
    "    ```\n",
    "- Bond distance [Angstrom]:\n",
    "    - H-O: 0.9584 (95.84 pm)\n",
    "    - H-H: 1.5151\n",
    "- Bond angle [Degrees]:\n",
    "    - H-O-H: 104.45\n",
    "    - H-H-O: 37.78"
   ]
  },
  {
   "cell_type": "code",
   "execution_count": 1,
   "metadata": {},
   "outputs": [],
   "source": [
    "# creating the path (PYTHONPATH) to our module.\n",
    "# assuming that our 'amcess main' directory is out ('..') of our current directory \n",
    "import os\n",
    "import sys\n",
    "module_path = os.path.abspath(os.path.join('..'))\n",
    "\n",
    "if module_path not in sys.path:\n",
    "    sys.path.append(module_path)"
   ]
  },
  {
   "cell_type": "code",
   "execution_count": 2,
   "metadata": {},
   "outputs": [],
   "source": [
    "# importing de Molecule Class\n",
    "from amcess.molecule import Molecule"
   ]
  },
  {
   "cell_type": "code",
   "execution_count": 4,
   "metadata": {},
   "outputs": [],
   "source": [
    "# creating a Molecular object. You can use a list, a dictionary (the key MUST be \"atoms\")\n",
    "# or another Molecule object\n",
    "\n",
    "water = [(\"O\", 0, 0, 0), (\"H\", 0.58708, 0.75754, 0), (\"H\", -0.58708, 0.75754, 0)]\n",
    "water_molecule = Molecule(water)\n",
    "\n",
    "# or using a dictionary\n",
    "water_dict = {\"atoms\": [(\"O\", 0, 0, 0), (\"H\", 0.58708, 0.75754, 0), (\"H\", -0.58708, 0.75754, 0)]}\n"
   ]
  },
  {
   "cell_type": "code",
   "execution_count": 7,
   "metadata": {},
   "outputs": [
    {
     "name": "stdout",
     "output_type": "stream",
     "text": [
      "Total number of atoms: 3\n",
      "Molecular charge: 0\n",
      "Molecular multiplicity: 1\n",
      "Atomic symbols: ['O', 'H', 'H']\n",
      "Individual atomic masses: [15.999, 1.008, 1.008]\n",
      "Molecular mass: 18.015\n",
      "Coordinates:\n",
      " [[ 0.       0.       0.     ]\n",
      " [ 0.58708  0.75754  0.     ]\n",
      " [-0.58708  0.75754  0.     ]]\n"
     ]
    }
   ],
   "source": [
    "# asking for its properties\n",
    "print(f\"Total number of atoms: {water_molecule.GetNumAtoms()}\")\n",
    "print(f\"Molecular charge: {water_molecule.GetMolCharge()}\")\n",
    "print(f\"Molecular multiplicity: {water_molecule.GetMolMultiplicity()}\")\n",
    "print(f\"Atomic symbols: {water_molecule.GetAtomicSymbols()}\")\n",
    "print(f\"Individual atomic masses: {water_molecule.GetAtomicMasses()}\")\n",
    "print(f\"Molecular mass: {water_molecule.GetMolMass( )}\")\n",
    "print(f\"Coordinates:\\n {water_molecule.GetAtomicCoordinates()}\")"
   ]
  },
  {
   "cell_type": "code",
   "execution_count": 8,
   "metadata": {},
   "outputs": [
    {
     "name": "stdout",
     "output_type": "stream",
     "text": [
      "3\n",
      "charge: 0 multiplicity:1\n",
      "O     \t     0.00000000\t     0.00000000\t     0.00000000\n",
      "H     \t     0.58708000\t     0.75754000\t     0.00000000\n",
      "H     \t    -0.58708000\t     0.75754000\t     0.00000000\n",
      "\n"
     ]
    }
   ],
   "source": [
    "# printing our object using XYZ format\n",
    "print(water_molecule.GetBlockXYZ())"
   ]
  },
  {
   "cell_type": "code",
   "execution_count": 12,
   "metadata": {},
   "outputs": [
    {
     "data": {
      "image/png": "[encoded data removed]",
      "text/plain": [
       "Molecule(_atoms=[('O', 0, 0, 0), ('H', 0.58708, 0.75754, 0), ('H', -0.58708, 0.75754, 0)], _charge=0, _multiplicity=1, _file=False, _addHs=False, _removeHs=False)"
      ]
     },
     "execution_count": 12,
     "metadata": {},
     "output_type": "execute_result"
    }
   ],
   "source": [
    "# visualizing with RDKit\n",
    "water_molecule"
   ]
  },
  {
   "cell_type": "code",
   "execution_count": 13,
   "metadata": {},
   "outputs": [
    {
     "name": "stdout",
     "output_type": "stream",
     "text": [
      "3\n",
      "charge: 0 multiplicity:1\n",
      "O     \t     0.00000000\t     0.00000000\t     0.00000000\n",
      "H     \t     0.58708000\t     0.75754000\t     0.00000000\n",
      "H     \t    -0.58708000\t     0.75754000\t     0.00000000\n",
      "\n"
     ]
    }
   ],
   "source": [
    "water_xyz = water_molecule\n",
    "print(water_xyz)"
   ]
  },
  {
   "cell_type": "code",
   "execution_count": 11,
   "metadata": {},
   "outputs": [],
   "source": [
    "# py3Dmol: a simple IPython/Jupyter widget to embed an interactive 3Dmol.js viewer in a notebook.\n",
    "import py3Dmol"
   ]
  },
  {
   "cell_type": "code",
   "execution_count": 15,
   "metadata": {},
   "outputs": [
    {
     "data": {
      "application/3dmoljs_load.v0": "<div id=\"3dmolviewer_17129672696265295\"  style=\"position: relative; width: 300px; height: 200px;\">\n        <p id=\"3dmolwarning_17129672696265295\" style=\"background-color:#ffcccc;color:black\">You appear to be running in JupyterLab (or JavaScript failed to load for some other reason).  You need to install the 3dmol extension: <br>\n        <tt>jupyter labextension install jupyterlab_3dmol</tt></p>\n        </div>\n<script>\n\nvar loadScriptAsync = function(uri){\n  return new Promise((resolve, reject) => {\n    //this is to ignore the existence of requirejs amd\n    var savedexports, savedmodule;\n    if (typeof exports !== 'undefined') savedexports = exports;\n    else exports = {}\n    if (typeof module !== 'undefined') savedmodule = module;\n    else module = {}\n\n    var tag = document.createElement('script');\n    tag.src = uri;\n    tag.async = true;\n    tag.onload = () => {\n        exports = savedexports;\n        module = savedmodule;\n        resolve();\n    };\n  var firstScriptTag = document.getElementsByTagName('script')[0];\n  firstScriptTag.parentNode.insertBefore(tag, firstScriptTag);\n});\n};\n\nif(typeof $3Dmolpromise === 'undefined') {\n$3Dmolpromise = null;\n  $3Dmolpromise = loadScriptAsync('https://cdnjs.cloudflare.com/ajax/libs/3Dmol/2.0.4/3Dmol-min.js');\n}\n\nvar viewer_17129672696265295 = null;\nvar warn = document.getElementById(\"3dmolwarning_17129672696265295\");\nif(warn) {\n    warn.parentNode.removeChild(warn);\n}\n$3Dmolpromise.then(function() {\nviewer_17129672696265295 = $3Dmol.createViewer(document.getElementById(\"3dmolviewer_17129672696265295\"),{backgroundColor:\"white\"});\nviewer_17129672696265295.zoomTo();\n\tviewer_17129672696265295.addModel(\"3\\ncharge: 0 multiplicity:1\\nO     \\t     0.00000000\\t     0.00000000\\t     0.00000000\\nH     \\t     0.58708000\\t     0.75754000\\t     0.00000000\\nH     \\t    -0.58708000\\t     0.75754000\\t     0.00000000\\n\",\"xyz\");\n\tviewer_17129672696265295.setStyle({\"stick\": {}});\nviewer_17129672696265295.render();\n});\n</script>",
      "text/html": [
       "<div id=\"3dmolviewer_17129672696265295\"  style=\"position: relative; width: 300px; height: 200px;\">\n",
       "        <p id=\"3dmolwarning_17129672696265295\" style=\"background-color:#ffcccc;color:black\">You appear to be running in JupyterLab (or JavaScript failed to load for some other reason).  You need to install the 3dmol extension: <br>\n",
       "        <tt>jupyter labextension install jupyterlab_3dmol</tt></p>\n",
       "        </div>\n",
       "<script>\n",
       "\n",
       "var loadScriptAsync = function(uri){\n",
       "  return new Promise((resolve, reject) => {\n",
       "    //this is to ignore the existence of requirejs amd\n",
       "    var savedexports, savedmodule;\n",
       "    if (typeof exports !== 'undefined') savedexports = exports;\n",
       "    else exports = {}\n",
       "    if (typeof module !== 'undefined') savedmodule = module;\n",
       "    else module = {}\n",
       "\n",
       "    var tag = document.createElement('script');\n",
       "    tag.src = uri;\n",
       "    tag.async = true;\n",
       "    tag.onload = () => {\n",
       "        exports = savedexports;\n",
       "        module = savedmodule;\n",
       "        resolve();\n",
       "    };\n",
       "  var firstScriptTag = document.getElementsByTagName('script')[0];\n",
       "  firstScriptTag.parentNode.insertBefore(tag, firstScriptTag);\n",
       "});\n",
       "};\n",
       "\n",
       "if(typeof $3Dmolpromise === 'undefined') {\n",
       "$3Dmolpromise = null;\n",
       "  $3Dmolpromise = loadScriptAsync('https://cdnjs.cloudflare.com/ajax/libs/3Dmol/2.0.4/3Dmol-min.js');\n",
       "}\n",
       "\n",
       "var viewer_17129672696265295 = null;\n",
       "var warn = document.getElementById(\"3dmolwarning_17129672696265295\");\n",
       "if(warn) {\n",
       "    warn.parentNode.removeChild(warn);\n",
       "}\n",
       "$3Dmolpromise.then(function() {\n",
       "viewer_17129672696265295 = $3Dmol.createViewer(document.getElementById(\"3dmolviewer_17129672696265295\"),{backgroundColor:\"white\"});\n",
       "viewer_17129672696265295.zoomTo();\n",
       "\tviewer_17129672696265295.addModel(\"3\\ncharge: 0 multiplicity:1\\nO     \\t     0.00000000\\t     0.00000000\\t     0.00000000\\nH     \\t     0.58708000\\t     0.75754000\\t     0.00000000\\nH     \\t    -0.58708000\\t     0.75754000\\t     0.00000000\\n\",\"xyz\");\n",
       "\tviewer_17129672696265295.setStyle({\"stick\": {}});\n",
       "viewer_17129672696265295.render();\n",
       "});\n",
       "</script>"
      ]
     },
     "metadata": {},
     "output_type": "display_data"
    },
    {
     "data": {
      "text/plain": [
       "<py3Dmol.view at 0x7fdbae3e75b0>"
      ]
     },
     "execution_count": 15,
     "metadata": {},
     "output_type": "execute_result"
    }
   ],
   "source": [
    "xyz_view = py3Dmol.view(width=300,height=200)\n",
    "xyz_view.addModel(water_xyz.GetBlockXYZ(),'xyz')\n",
    "xyz_view.setStyle({'stick':{}})"
   ]
  }
 ],
 "metadata": {
  "interpreter": {
   "hash": "18499a005e754947919ec5cf7177bdee4137be8b2658c273f1990f80578be88f"
  },
  "kernelspec": {
   "display_name": "Python 3.8.8 64-bit ('ascec': conda)",
   "name": "python3"
  },
  "language_info": {
   "codemirror_mode": {
    "name": "ipython",
    "version": 3
   },
   "file_extension": ".py",
   "mimetype": "text/x-python",
   "name": "python",
   "nbconvert_exporter": "python",
   "pygments_lexer": "ipython3",
   "version": "3.10.12"
  }
 },
 "nbformat": 4,
 "nbformat_minor": 4
}
