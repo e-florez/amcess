{
 "cells": [
  {
   "cell_type": "markdown",
   "source": [
    "# Import a Molecules/Atom from cartesian coordinates:\n",
    "**Task:** \n",
    "1. Create a Molecule object from its cartesian coordinates\n",
    "2. Ask for its atomic and molecular properties"
   ],
   "metadata": {}
  },
  {
   "cell_type": "markdown",
   "source": [
    "## [Water molecule](https://en.wikipedia.org/wiki/Properties_of_water) ($H_{2}O$):\n",
    "\n",
    "<img \n",
    "src=\"https://upload.wikimedia.org/wikipedia/commons/thumb/b/b7/H2O_2D_labelled.svg/2560px-H2O_2D_labelled.svg.png\"\n",
    "alt=\"water\" \n",
    "width=\"200\" \n",
    "height=\"100\" \n",
    "/>\n",
    "\n",
    "### Properties:\n",
    "- Number of molecules: 1\n",
    "- Number of atoms: 3\n",
    "- Atomic symbols: O, H, H\n",
    "- Atomic masses [g/mol]: \n",
    "    - O: 15.999\n",
    "    - H: 1.008\n",
    "    - H: 1.008\n",
    "- Molar mass [g/mol]: 18.015\n",
    "- Cartesian coordinates [Angstrom]:\n",
    "    ```XYZ\n",
    "    O    0.00000    0.00000    0.00000\n",
    "    H    0.58708    0.75754    0.00000\n",
    "    H    0.58708   -0.75754    0.00000\n",
    "    ```\n",
    "- Bond distance [Angstrom]:\n",
    "    - H-O: 0.9584 (95.84 pm)\n",
    "    - H-H: 1.5151\n",
    "- Bond angle [Degrees]:\n",
    "    - H-O-H: 104.45\n",
    "    - H-H-O: 37.78"
   ],
   "metadata": {}
  },
  {
   "cell_type": "code",
   "execution_count": 1,
   "source": [
    "# crating the path (PYTHONPATH) to our module.\n",
    "# assuming that our 'src' directory is out ('..') of our current directory \n",
    "import os\n",
    "import sys\n",
    "module_path = os.path.abspath(os.path.join('..'))\n",
    "\n",
    "if module_path not in sys.path:\n",
    "    sys.path.append(module_path)"
   ],
   "outputs": [],
   "metadata": {}
  },
  {
   "cell_type": "code",
   "execution_count": 2,
   "source": [
    "# importing de Molecule Class\n",
    "from src.base_molecule import Molecule"
   ],
   "outputs": [],
   "metadata": {}
  },
  {
   "cell_type": "code",
   "execution_count": 3,
   "source": [
    "# creating a Molecular object. You can use a list, a dictionary (the key MUST be \"atoms\")\n",
    "# or another Molecule object (see below)\n",
    "\n",
    "water_dict = {\"atoms\": [(\"O\", 0, 0, 0), (\"H\", 0.58708, 0.75754, 0), (\"H\", -0.58708, 0.75754, 0)]}\n",
    "water=[(\"O\", 0, 0, 0), (\"H\", 0.58708, 0.75754, 0), (\"H\", -0.58708, 0.75754, 0)]\n",
    "\n",
    "water_molecule = Molecule(water_dict)\n",
    "water_molecule = Molecule(water)"
   ],
   "outputs": [],
   "metadata": {}
  },
  {
   "cell_type": "code",
   "execution_count": 4,
   "source": [
    "# asking for its properties\n",
    "print(f\"Number of individual molecules/atoms: {water_molecule.total_fragments}\")\n",
    "print(f\"Total number of atoms: {water_molecule._total_atoms}\")\n",
    "print(f\"Atomic symbols: {water_molecule.symbols}\")\n",
    "print(f\"Individual atomic masses: {water_molecule.atomic_masses}\")\n",
    "print(f\"Molecular mass: {water_molecule.total_mass}\")\n",
    "print(f\"Coordinates: {water_molecule.coordinates}\")\n",
    "print(f\"Cartesian coordinates: {water_molecule.cartesian_coordinates}\")"
   ],
   "outputs": [
    {
     "output_type": "stream",
     "name": "stdout",
     "text": [
      "Number of individual molecules/atoms: 1\n",
      "Total number of atoms: 3\n",
      "Atomic symbols: ['O', 'H', 'H']\n",
      "Individual atomic masses: [15.999, 1.008, 1.008]\n",
      "Molecular mass: 18.015\n",
      "Coordinates: [('O', 0, 0, 0), ('H', 0.58708, 0.75754, 0), ('H', -0.58708, 0.75754, 0)]\n",
      "Cartesian coordinates: [(0, 0, 0), (0.58708, 0.75754, 0), (-0.58708, 0.75754, 0)]\n"
     ]
    }
   ],
   "metadata": {}
  },
  {
   "cell_type": "code",
   "execution_count": 5,
   "source": [
    "# printing our object using XYZ format\n",
    "print(water_molecule)"
   ],
   "outputs": [
    {
     "output_type": "stream",
     "name": "stdout",
     "text": [
      "\t3\n",
      " -- system of 1 fragments (atoms/molecules) and 3 total individual atoms --\n",
      "O     \t 0.00000000\t 0.00000000\t 0.00000000\t\n",
      "H     \t 0.58708000\t 0.75754000\t 0.00000000\t\n",
      "H     \t-0.58708000\t 0.75754000\t 0.00000000\t\n"
     ]
    }
   ],
   "metadata": {}
  },
  {
   "cell_type": "code",
   "execution_count": null,
   "source": [],
   "outputs": [],
   "metadata": {}
  }
 ],
 "metadata": {
  "orig_nbformat": 4,
  "language_info": {
   "name": "python",
   "version": "3.8.10",
   "mimetype": "text/x-python",
   "codemirror_mode": {
    "name": "ipython",
    "version": 3
   },
   "pygments_lexer": "ipython3",
   "nbconvert_exporter": "python",
   "file_extension": ".py"
  },
  "kernelspec": {
   "name": "python3",
   "display_name": "Python 3.8.10 64-bit ('venv': venv)"
  },
  "interpreter": {
   "hash": "905b23e70a1d36024bfb0896816f07aeaf2908407f57dcaa1d6c5bb6e0bd7aeb"
  }
 },
 "nbformat": 4,
 "nbformat_minor": 2
}