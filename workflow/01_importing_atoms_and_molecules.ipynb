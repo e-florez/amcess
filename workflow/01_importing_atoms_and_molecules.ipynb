{
 "cells": [
  {
   "cell_type": "markdown",
   "metadata": {},
   "source": [
    "# Import a Molecules/Atom from cartesian coordinates:\n",
    "**Task:** \n",
    "1. Create a Molecule object from its cartesian coordinates\n",
    "2. Ask for its atomic and molecular properties"
   ]
  },
  {
   "cell_type": "markdown",
   "metadata": {},
   "source": [
    "## [Water molecule](https://en.wikipedia.org/wiki/Properties_of_water) ($H_{2}O$):\n",
    "\n",
    "<img \n",
    "src=\"https://upload.wikimedia.org/wikipedia/commons/thumb/b/b7/H2O_2D_labelled.svg/2560px-H2O_2D_labelled.svg.png\"\n",
    "alt=\"water\" \n",
    "width=\"200\" \n",
    "height=\"100\" \n",
    "/>\n",
    "\n",
    "### Properties:\n",
    "- Number of molecules: 1\n",
    "- Number of atoms: 3\n",
    "- Atomic symbols: O, H, H\n",
    "- Atomic masses [g/mol]: \n",
    "    - O: 15.999\n",
    "    - H: 1.008\n",
    "    - H: 1.008\n",
    "- Molar mass [g/mol]: 18.015\n",
    "- Cartesian coordinates [Angstrom]:\n",
    "    ```XYZ\n",
    "    O    0.00000    0.00000    0.00000\n",
    "    H    0.58708    0.75754    0.00000\n",
    "    H    0.58708   -0.75754    0.00000\n",
    "    ```\n",
    "- Bond distance [Angstrom]:\n",
    "    - H-O: 0.9584 (95.84 pm)\n",
    "    - H-H: 1.5151\n",
    "- Bond angle [Degrees]:\n",
    "    - H-O-H: 104.45\n",
    "    - H-H-O: 37.78"
   ]
  },
  {
   "cell_type": "code",
   "execution_count": 1,
   "metadata": {},
   "outputs": [],
   "source": [
    "# crating the path (PYTHONPATH) to our module.\n",
    "# assuming that our 'src' directory is out ('..') of our current directory \n",
    "import os\n",
    "import sys\n",
    "module_path = os.path.abspath(os.path.join('..'))\n",
    "\n",
    "if module_path not in sys.path:\n",
    "    sys.path.append(module_path)"
   ]
  },
  {
   "cell_type": "code",
   "execution_count": 2,
   "metadata": {},
   "outputs": [],
   "source": [
    "# importing de Molecule Class\n",
    "from src.base_molecule import Molecule"
   ]
  },
  {
   "cell_type": "code",
   "execution_count": 3,
   "metadata": {},
   "outputs": [],
   "source": [
    "# creating a Molecular object. You can use a list, a dictionary (the key MUST be \"atoms\")\n",
    "# or another Molecule object\n",
    "\n",
    "water=[(\"O\", 0, 0, 0), (\"H\", 0.58708, 0.75754, 0), (\"H\", -0.58708, 0.75754, 0)]\n",
    "water_molecule = Molecule(water)\n",
    "\n",
    "# or using a dictionary\n",
    "water_dict = {\"atoms\": [(\"O\", 0, 0, 0), (\"H\", 0.58708, 0.75754, 0), (\"H\", -0.58708, 0.75754, 0)]}\n",
    "water_molecule = Molecule.from_dict(water_dict)\n"
   ]
  },
  {
   "cell_type": "code",
   "execution_count": null,
   "metadata": {},
   "outputs": [],
   "source": [
    "# asking for its properties\n",
    "print(f\"Total number of atoms: {water_molecule.total_atoms}\")\n",
    "print(f\"Molecular charge: {water_molecule.charge}\")\n",
    "print(f\"Molecular multiplicity: {water_molecule.multiplicity}\")\n",
    "print(f\"Atomic symbols: {water_molecule.symbols}\")\n",
    "print(f\"Individual atomic masses: {water_molecule.atomic_masses}\")\n",
    "print(f\"Molecular mass: {water_molecule.total_mass}\")\n",
    "print(f\"Coordinates: {water_molecule.atoms}\")\n",
    "print(f\"Cartesian coordinates: {water_molecule.coordinates}\")"
   ]
  },
  {
   "cell_type": "code",
   "execution_count": 4,
   "metadata": {},
   "outputs": [
    {
     "name": "stdout",
     "output_type": "stream",
     "text": [
      "\t3\n",
      "-- charge=0 and multiplicity=1 --\n",
      "O     \t     0.00000000\t     0.00000000\t     0.00000000\n",
      "H     \t     0.58708000\t     0.75754000\t     0.00000000\n",
      "H     \t    -0.58708000\t     0.75754000\t     0.00000000\n",
      "\n"
     ]
    }
   ],
   "source": [
    "# printing our object using XYZ format\n",
    "print(water_molecule.xyz)"
   ]
  },
  {
   "cell_type": "code",
   "execution_count": null,
   "metadata": {},
   "outputs": [],
   "source": [
    "# visualizing using py3Dmol\n",
    "water_xyz = str(water_molecule)\n",
    "\n",
    "water_xyz"
   ]
  },
  {
   "cell_type": "code",
   "execution_count": null,
   "metadata": {},
   "outputs": [],
   "source": [
    "water_xyz = water_molecule.xyz\n",
    "print(water_xyz)"
   ]
  },
  {
   "cell_type": "code",
   "execution_count": null,
   "metadata": {},
   "outputs": [],
   "source": [
    "# py3Dmol: a simple IPython/Jupyter widget to embed an interactive 3Dmol.js viewer in a notebook.\n",
    "!pip install py3Dmol\n",
    "import py3Dmol"
   ]
  },
  {
   "cell_type": "code",
   "execution_count": null,
   "metadata": {},
   "outputs": [],
   "source": [
    "xyz_view = py3Dmol.view(width=300,height=200)\n",
    "xyz_view.addModel(water_xyz,'xyz')\n",
    "xyz_view.setStyle({'stick':{}})\n"
   ]
  },
  {
   "cell_type": "code",
   "execution_count": null,
   "metadata": {},
   "outputs": [],
   "source": [
    "# Atomic Simulation Environment\n",
    "# https://wiki.fysik.dtu.dk/ase/index.html\n",
    "# !pip install --upgrade --user ase\n",
    "\n",
    "\n",
    "# ChemML\n",
    "# https://hachmannlab.github.io/chemml/index.html\n",
    "# !pip install chemml"
   ]
  },
  {
   "cell_type": "code",
   "execution_count": null,
   "metadata": {},
   "outputs": [],
   "source": [
    "# NGLview\n",
    "# https://github.com/nglviewer/nglview\n",
    "# !pip install nglview\n",
    "\n",
    "# ---------------------------------------\n",
    "# pytraj \n",
    "# https://amber-md.github.io/pytraj/latest/index.html\n",
    "# !pip install pytraj\n"
   ]
  }
 ],
 "metadata": {
  "interpreter": {
   "hash": "dcb49db19325d2b5ba913c54a5cdd9c1657c5f45730bbf98cdccd94ce4d918b0"
  },
  "kernelspec": {
   "display_name": "Python 3.9.6 64-bit ('vascec': venv)",
   "name": "python3"
  },
  "language_info": {
   "codemirror_mode": {
    "name": "ipython",
    "version": 3
   },
   "file_extension": ".py",
   "mimetype": "text/x-python",
   "name": "python",
   "nbconvert_exporter": "python",
   "pygments_lexer": "ipython3",
   "version": "3.9.6"
  }
 },
 "nbformat": 4,
 "nbformat_minor": 4
}
