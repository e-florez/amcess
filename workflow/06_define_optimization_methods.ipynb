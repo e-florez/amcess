{
 "cells": [
  {
   "cell_type": "markdown",
   "source": [
    "# Optimize energy surface of a cluster with two water molecules"
   ],
   "metadata": {}
  },
  {
   "cell_type": "code",
   "execution_count": 1,
   "source": [
    "# Create the path (PYTHONPATH) to modules, assuming that the 'amcess' directory is in the parent directory\n",
    "import os\n",
    "import sys\n",
    "module_path = os.path.abspath(os.path.join('..'))\n",
    "\n",
    "if module_path not in sys.path:\n",
    "    sys.path.append(module_path)"
   ],
   "outputs": [],
   "metadata": {}
  },
  {
   "cell_type": "code",
   "execution_count": 2,
   "source": [
    "%matplotlib inline\n",
    "\n",
    "from amcess.base_molecule import Cluster\n",
    "from amcess.search_engine import SearchConfig\n",
    "import py3Dmol"
   ],
   "outputs": [],
   "metadata": {}
  },
  {
   "cell_type": "code",
   "execution_count": 9,
   "source": [
    "def animate_optimization(outxyz, SC_object):\n",
    "    # read calculations and convert them to a single string to plot\n",
    "    water_xyz = \"\"\n",
    "    with open(outxyz, 'r') as f:\n",
    "        lines = f.readlines()\n",
    "        for line in lines:\n",
    "            water_xyz += line\n",
    "\n",
    "    # 20% to check visually that everything is inside\n",
    "    sr = SC_object.sphere_radius * 1.2\n",
    "\n",
    "    # sphere center\n",
    "    cx, cy, cz = SC_object.sphere_center\n",
    "    sc = {\"x\": cx, \"y\": cy, \"z\": cz}\n",
    "\n",
    "    # axes\n",
    "    x_axis = {'start': {'x': cx-sr, 'y':cy, 'z':cz}, 'end': {'x': cx+sr, 'y':cy, 'z':cz}}\n",
    "    y_axis = {'start': {'x': cx, 'y':cy-sr, 'z':cz}, 'end': {'x': cx, 'y':cy+sr, 'z':cz}}\n",
    "    z_axis = {'start': {'x': cx, 'y':cy, 'z':cz-sr}, 'end': {'x': cx, 'y':cy, 'z':cz+sr}}\n",
    "\n",
    "    # starting visualization\n",
    "    xyz_view = py3Dmol.view(width=700, height=500)#, linked=False, viewergrid=(2,2))\n",
    "    xyz_view.addModelsAsFrames(water_xyz,'xyz')\n",
    "    # xyz_view.setStyle({'stick': {}})\n",
    "    xyz_view.setStyle({'sphere': {'radius': 0.8}})\n",
    "    xyz_view.addSphere({'center': sc, \n",
    "        'radius': sr, \n",
    "        'color' :'yellow',\n",
    "        'alpha': 0.5,\n",
    "        })\n",
    "\n",
    "    # animation base on several XYZ coordinates snapshots\n",
    "    xyz_view.animate({'loop': \"forward\", 'speed': 1, 'reps': 1})\n",
    "\n",
    "    # cartesian 3D axes\n",
    "    xyz_view.addLine(x_axis)\n",
    "    xyz_view.addLine(y_axis)\n",
    "    xyz_view.addLine(z_axis)\n",
    "\n",
    "    xyz_view.addLabel(\"x\", {\n",
    "        'position':x_axis[\"end\"],\n",
    "        'inFront':'true',\n",
    "        'fontSize':20,\n",
    "        'showBackground':'false',\n",
    "        'fontColor': 'black',\n",
    "        })\n",
    "    xyz_view.addLabel(\"y\", {\n",
    "        'position':y_axis[\"end\"],\n",
    "        'inFront':'true',\n",
    "        'fontSize':20,\n",
    "        'showBackground':'false',\n",
    "        'fontColor': 'black',\n",
    "        })\n",
    "    xyz_view.addLabel(\"z\", {\n",
    "        'position':z_axis[\"end\"],\n",
    "        'inFront':'true',\n",
    "        'fontSize':20,\n",
    "        'showBackground':'false',\n",
    "        'fontColor': 'black',\n",
    "        })\n",
    "\n",
    "    xyz_view.zoomTo()\n",
    "    xyz_view.show()\n",
    "\n",
    "    return xyz_view\n"
   ],
   "outputs": [],
   "metadata": {}
  },
  {
   "cell_type": "markdown",
   "source": [
    "## Define a Cluster with two water molecules"
   ],
   "metadata": {}
  },
  {
   "cell_type": "code",
   "execution_count": 4,
   "source": [
    "# We define a water dimer\n",
    "water = [(\"O\", 0, 0, 0.1173), (\"H\", 0, 0.7572, -0.4692), (\"H\", 0, -0.7572, -0.4692)]\n",
    "water_dimer = Cluster(water, water)\n",
    "water_dimer = water_dimer.initialize_cluster(max_closeness=2.976)"
   ],
   "outputs": [],
   "metadata": {}
  },
  {
   "cell_type": "markdown",
   "source": [
    "## Optimize energy using the Bayesian inference with Gaussian processes"
   ],
   "metadata": {}
  },
  {
   "cell_type": "code",
   "execution_count": 5,
   "source": [
    "xyzfile_bayesian = 'configurations.xyz'\n",
    "# Define a search configuration method to optimize a water dimer\n",
    "SC_bayesian = SearchConfig(water_dimer, search_methodology='Bayesian', basis='6-31G(2df,p)', outxyz=xyzfile_bayesian)\n",
    "# Define number of initial evaluations and maximum number of iterations\n",
    "SC_bayesian.run(initer=4, maxiter=8)\n",
    "print(f'Minima found: {SC_bayesian._search.fun} Hartree')"
   ],
   "outputs": [
    {
     "output_type": "stream",
     "name": "stdout",
     "text": [
      "\n",
      "\n",
      "*** Cost function is Hartree--Fock implemented into pyscf ***\n",
      "\n",
      "\n",
      "*** Minimization: Bayesian ***\n",
      "Accept 2\n",
      "Accept 2\n",
      "Accept 2\n",
      "Accept 1\n",
      "Accept 1\n",
      "Accept 2\n",
      "Accept 1\n",
      "Accept 1\n",
      "Accept 2\n",
      "Accept 1\n",
      "Accept 2\n",
      "Accept 1\n",
      "Minima found: -152.05301549307313 Hartree\n"
     ]
    }
   ],
   "metadata": {}
  },
  {
   "cell_type": "code",
   "execution_count": 6,
   "source": [
    "SC_bayesian._search.plot_convergence()"
   ],
   "outputs": [
    {
     "output_type": "display_data",
     "data": {
      "text/plain": [
       "<Figure size 720x360 with 2 Axes>"
      ],
      "image/png": "[encoded data removed]"
     },
     "metadata": {
      "needs_background": "light"
     }
    }
   ],
   "metadata": {}
  },
  {
   "cell_type": "code",
   "execution_count": 7,
   "source": [
    "xyz_baye = animate_optimization(xyzfile_bayesian, SC_bayesian)"
   ],
   "outputs": [
    {
     "output_type": "display_data",
     "data": {
      "text/html": [
       "<div id=\"3dmolviewer_35150889505211\"  style=\"position: relative; width: 700px; height: 500px\">\n",
       "        <p id=\"3dmolwarning_35150889505211\" style=\"background-color:#ffcccc;color:black\">You appear to be running in JupyterLab (or JavaScript failed to load for some other reason).  You need to install the 3dmol extension: <br>\n",
       "        <tt>jupyter labextension install jupyterlab_3dmol</tt></p>\n",
       "        </div>\n",
       "<script>\n",
       "\n",
       "var loadScriptAsync = function(uri){\n",
       "  return new Promise((resolve, reject) => {\n",
       "    var tag = document.createElement('script');\n",
       "    tag.src = uri;\n",
       "    tag.async = true;\n",
       "    tag.onload = () => {\n",
       "      resolve();\n",
       "    };\n",
       "  var firstScriptTag = document.getElementsByTagName('script')[0];\n",
       "  firstScriptTag.parentNode.insertBefore(tag, firstScriptTag);\n",
       "});\n",
       "};\n",
       "\n",
       "if(typeof $3Dmolpromise === 'undefined') {\n",
       "$3Dmolpromise = null;\n",
       "  $3Dmolpromise = loadScriptAsync('https://3dmol.org/build/3Dmol.js');\n",
       "}\n",
       "\n",
       "var viewer_35150889505211 = null;\n",
       "var warn = document.getElementById(\"3dmolwarning_35150889505211\");\n",
       "if(warn) {\n",
       "    warn.parentNode.removeChild(warn);\n",
       "}\n",
       "$3Dmolpromise.then(function() {\n",
       "viewer_35150889505211 = $3Dmol.createViewer($(\"#3dmolviewer_35150889505211\"),{backgroundColor:\"white\"});\n",
       "viewer_35150889505211.zoomTo();\n",
       "\tviewer_35150889505211.addModelsAsFrames(\"6\\nEnergy: -152.05213576945263\\nO 0.0 0.0 0.1173\\nH 0.0 0.7572 -0.46920000000000006\\nH 0.0 -0.7572 -0.46920000000000006\\nO 1.1986873466835664 4.788565840656919 1.5957308778570392\\nH 1.621442289505137 4.936057617716 0.7490558965212937\\nH 1.1591321705231006 3.83539995699501 1.6808441921029738\\n6\\nEnergy: -152.05085656833157\\nO 0.0 0.0 0.1173\\nH 0.0 0.7572 -0.46920000000000006\\nH 0.0 -0.7572 -0.46920000000000006\\nO -1.7431502240006733 4.3047104084379155 -1.429350927373128\\nH -1.2867120286638385 4.397213780579439 -2.266274693304112\\nH -1.8190713543818007 3.3585789444810654 -1.3012676541774422\\n6\\nEnergy: -152.0239585994648\\nO 0.0 0.0 0.1173\\nH 0.0 0.7572 -0.46920000000000006\\nH 0.0 -0.7572 -0.46920000000000006\\nO -0.5353479395966425 0.6777300087209703 2.196534426189735\\nH -0.03859418976161222 0.7499350764261044 1.3808407151544384\\nH -0.6246514965390711 -0.2650360263909778 2.3398912110195043\\n6\\nEnergy: -152.0511367749769\\nO 0.0 0.0 0.1173\\nH 0.0 0.7572 -0.46920000000000006\\nH 0.0 -0.7572 -0.46920000000000006\\nO 3.094217973108857 -0.5292784508428798 3.403689538016757\\nH 3.610571557871723 -0.5090488704205471 2.597275358095251\\nH 2.956039107138805 -1.4611893830532114 3.5762662033748014\\n6\\nEnergy: -152.05244318211112\\nO 0.0 0.0 0.1173\\nH 0.0 0.7572 -0.46920000000000006\\nH 0.0 -0.7572 -0.46920000000000006\\nO 3.175386171909974 2.38914261385709 2.866910913400093\\nH 3.7018869445632623 2.3427335077822042 2.0681761506228495\\nH 2.983414609216122 1.4754642893354788 3.080623169520941\\n6\\nEnergy: -152.05220705623046\\nO 0.0 0.0 0.1173\\nH 0.0 0.7572 -0.46920000000000006\\nH 0.0 -0.7572 -0.46920000000000006\\nO 3.8917196066282336 2.5410791750082313 -1.3136416770488784\\nH 4.414817719651502 2.4508121514386016 -2.1108582841309027\\nH 3.6491505381962064 1.643574299175418 -1.083469274497344\\n6\\nEnergy: -152.05241345097485\\nO 0.0 0.0 0.1173\\nH 0.0 0.7572 -0.46920000000000006\\nH 0.0 -0.7572 -0.46920000000000006\\nO 1.6755293507328837 4.417818684395515 1.3158295801606978\\nH 2.2028776384110076 4.292541556304402 0.5261818646190187\\nH 1.4011407117953423 3.5341727896624446 1.5632460257406064\\n6\\nEnergy: -152.05301549307313\\nO 0.0 0.0 0.1173\\nH 0.0 0.7572 -0.46920000000000006\\nH 0.0 -0.7572 -0.46920000000000006\\nO -1.4451580466749883 3.4452128111024587 3.222296834790604\\nH -0.9016244970095392 3.281881846761123 2.4507863899647377\\nH -1.7686295523640834 2.5798310411016785 3.4749124858448237\\n6\\nEnergy: -152.05260507772397\\nO 0.0 0.0 0.1173\\nH 0.0 0.7572 -0.46920000000000006\\nH 0.0 -0.7572 -0.46920000000000006\\nO 2.2633546516384064 4.15364836375371 1.2903303417856204\\nH 2.7986893973446256 3.923176051882737 0.5303084253249791\\nH 1.899920823075676 3.319395648004303 1.589115128079997\\n6\\nEnergy: -152.05300656197073\\nO 0.0 0.0 0.1173\\nH 0.0 0.7572 -0.46920000000000006\\nH 0.0 -0.7572 -0.46920000000000006\\nO 1.8554438612052275 2.5066573565359613 3.8113598820752195\\nH 2.3819588355145114 2.2566918422593165 3.051337965614578\\nH 1.4616351756259094 1.6863059314495443 4.110144668369596\\n6\\nEnergy: -152.05099347306407\\nO 0.0 0.0 0.1173\\nH 0.0 0.7572 -0.46920000000000006\\nH 0.0 -0.7572 -0.46920000000000006\\nO -0.6775421644640527 4.797866727351913 -0.6435635156368092\\nH -0.12921118529493003 4.507013842985409 -1.3729960532570584\\nH -1.080675035953971 3.9948370431462203 -0.31195937783270977\\n6\\nEnergy: -152.05142691781862\\nO 0.0 0.0 0.1173\\nH 0.0 0.7572 -0.46920000000000006\\nH 0.0 -0.7572 -0.46920000000000006\\nO -2.033694368977215 4.452275455111908 -0.08076378503272397\\nH -1.485625890444883 4.126343188940601 -0.7954127832882945\\nH -2.437551211637873 3.6664042863509057 0.2888850303940003\\n\",\"xyz\");\n",
       "\tviewer_35150889505211.setStyle({\"sphere\": {\"radius\": 0.8}});\n",
       "\tviewer_35150889505211.addSphere({\"center\": {\"x\": 0.0, \"y\": 0.0, \"z\": 0.051666694421315565}, \"radius\": 5.804684561931456, \"color\": \"yellow\", \"alpha\": 0.5});\n",
       "\tviewer_35150889505211.animate({\"loop\": \"forward\", \"speed\": 0.01, \"reps\": 1});\n",
       "\tviewer_35150889505211.addLine({\"start\": {\"x\": -5.804684561931456, \"y\": 0.0, \"z\": 0.051666694421315565}, \"end\": {\"x\": 5.804684561931456, \"y\": 0.0, \"z\": 0.051666694421315565}});\n",
       "\tviewer_35150889505211.addLine({\"start\": {\"x\": 0.0, \"y\": -5.804684561931456, \"z\": 0.051666694421315565}, \"end\": {\"x\": 0.0, \"y\": 5.804684561931456, \"z\": 0.051666694421315565}});\n",
       "\tviewer_35150889505211.addLine({\"start\": {\"x\": 0.0, \"y\": 0.0, \"z\": -5.75301786751014}, \"end\": {\"x\": 0.0, \"y\": 0.0, \"z\": 5.856351256352772}});\n",
       "\tviewer_35150889505211.addLabel(\"x\",{\"position\": {\"x\": 5.804684561931456, \"y\": 0.0, \"z\": 0.051666694421315565}, \"inFront\": \"true\", \"fontSize\": 20, \"showBackground\": \"false\", \"fontColor\": \"black\"});\n",
       "\tviewer_35150889505211.addLabel(\"y\",{\"position\": {\"x\": 0.0, \"y\": 5.804684561931456, \"z\": 0.051666694421315565}, \"inFront\": \"true\", \"fontSize\": 20, \"showBackground\": \"false\", \"fontColor\": \"black\"});\n",
       "\tviewer_35150889505211.addLabel(\"z\",{\"position\": {\"x\": 0.0, \"y\": 0.0, \"z\": 5.856351256352772}, \"inFront\": \"true\", \"fontSize\": 20, \"showBackground\": \"false\", \"fontColor\": \"black\"});\n",
       "\tviewer_35150889505211.zoomTo();\n",
       "viewer_35150889505211.render();\n",
       "});\n",
       "</script>"
      ],
      "application/3dmoljs_load.v0": "<div id=\"3dmolviewer_35150889505211\"  style=\"position: relative; width: 700px; height: 500px\">\n        <p id=\"3dmolwarning_35150889505211\" style=\"background-color:#ffcccc;color:black\">You appear to be running in JupyterLab (or JavaScript failed to load for some other reason).  You need to install the 3dmol extension: <br>\n        <tt>jupyter labextension install jupyterlab_3dmol</tt></p>\n        </div>\n<script>\n\nvar loadScriptAsync = function(uri){\n  return new Promise((resolve, reject) => {\n    var tag = document.createElement('script');\n    tag.src = uri;\n    tag.async = true;\n    tag.onload = () => {\n      resolve();\n    };\n  var firstScriptTag = document.getElementsByTagName('script')[0];\n  firstScriptTag.parentNode.insertBefore(tag, firstScriptTag);\n});\n};\n\nif(typeof $3Dmolpromise === 'undefined') {\n$3Dmolpromise = null;\n  $3Dmolpromise = loadScriptAsync('https://3dmol.org/build/3Dmol.js');\n}\n\nvar viewer_35150889505211 = null;\nvar warn = document.getElementById(\"3dmolwarning_35150889505211\");\nif(warn) {\n    warn.parentNode.removeChild(warn);\n}\n$3Dmolpromise.then(function() {\nviewer_35150889505211 = $3Dmol.createViewer($(\"#3dmolviewer_35150889505211\"),{backgroundColor:\"white\"});\nviewer_35150889505211.zoomTo();\n\tviewer_35150889505211.addModelsAsFrames(\"6\\nEnergy: -152.05213576945263\\nO 0.0 0.0 0.1173\\nH 0.0 0.7572 -0.46920000000000006\\nH 0.0 -0.7572 -0.46920000000000006\\nO 1.1986873466835664 4.788565840656919 1.5957308778570392\\nH 1.621442289505137 4.936057617716 0.7490558965212937\\nH 1.1591321705231006 3.83539995699501 1.6808441921029738\\n6\\nEnergy: -152.05085656833157\\nO 0.0 0.0 0.1173\\nH 0.0 0.7572 -0.46920000000000006\\nH 0.0 -0.7572 -0.46920000000000006\\nO -1.7431502240006733 4.3047104084379155 -1.429350927373128\\nH -1.2867120286638385 4.397213780579439 -2.266274693304112\\nH -1.8190713543818007 3.3585789444810654 -1.3012676541774422\\n6\\nEnergy: -152.0239585994648\\nO 0.0 0.0 0.1173\\nH 0.0 0.7572 -0.46920000000000006\\nH 0.0 -0.7572 -0.46920000000000006\\nO -0.5353479395966425 0.6777300087209703 2.196534426189735\\nH -0.03859418976161222 0.7499350764261044 1.3808407151544384\\nH -0.6246514965390711 -0.2650360263909778 2.3398912110195043\\n6\\nEnergy: -152.0511367749769\\nO 0.0 0.0 0.1173\\nH 0.0 0.7572 -0.46920000000000006\\nH 0.0 -0.7572 -0.46920000000000006\\nO 3.094217973108857 -0.5292784508428798 3.403689538016757\\nH 3.610571557871723 -0.5090488704205471 2.597275358095251\\nH 2.956039107138805 -1.4611893830532114 3.5762662033748014\\n6\\nEnergy: -152.05244318211112\\nO 0.0 0.0 0.1173\\nH 0.0 0.7572 -0.46920000000000006\\nH 0.0 -0.7572 -0.46920000000000006\\nO 3.175386171909974 2.38914261385709 2.866910913400093\\nH 3.7018869445632623 2.3427335077822042 2.0681761506228495\\nH 2.983414609216122 1.4754642893354788 3.080623169520941\\n6\\nEnergy: -152.05220705623046\\nO 0.0 0.0 0.1173\\nH 0.0 0.7572 -0.46920000000000006\\nH 0.0 -0.7572 -0.46920000000000006\\nO 3.8917196066282336 2.5410791750082313 -1.3136416770488784\\nH 4.414817719651502 2.4508121514386016 -2.1108582841309027\\nH 3.6491505381962064 1.643574299175418 -1.083469274497344\\n6\\nEnergy: -152.05241345097485\\nO 0.0 0.0 0.1173\\nH 0.0 0.7572 -0.46920000000000006\\nH 0.0 -0.7572 -0.46920000000000006\\nO 1.6755293507328837 4.417818684395515 1.3158295801606978\\nH 2.2028776384110076 4.292541556304402 0.5261818646190187\\nH 1.4011407117953423 3.5341727896624446 1.5632460257406064\\n6\\nEnergy: -152.05301549307313\\nO 0.0 0.0 0.1173\\nH 0.0 0.7572 -0.46920000000000006\\nH 0.0 -0.7572 -0.46920000000000006\\nO -1.4451580466749883 3.4452128111024587 3.222296834790604\\nH -0.9016244970095392 3.281881846761123 2.4507863899647377\\nH -1.7686295523640834 2.5798310411016785 3.4749124858448237\\n6\\nEnergy: -152.05260507772397\\nO 0.0 0.0 0.1173\\nH 0.0 0.7572 -0.46920000000000006\\nH 0.0 -0.7572 -0.46920000000000006\\nO 2.2633546516384064 4.15364836375371 1.2903303417856204\\nH 2.7986893973446256 3.923176051882737 0.5303084253249791\\nH 1.899920823075676 3.319395648004303 1.589115128079997\\n6\\nEnergy: -152.05300656197073\\nO 0.0 0.0 0.1173\\nH 0.0 0.7572 -0.46920000000000006\\nH 0.0 -0.7572 -0.46920000000000006\\nO 1.8554438612052275 2.5066573565359613 3.8113598820752195\\nH 2.3819588355145114 2.2566918422593165 3.051337965614578\\nH 1.4616351756259094 1.6863059314495443 4.110144668369596\\n6\\nEnergy: -152.05099347306407\\nO 0.0 0.0 0.1173\\nH 0.0 0.7572 -0.46920000000000006\\nH 0.0 -0.7572 -0.46920000000000006\\nO -0.6775421644640527 4.797866727351913 -0.6435635156368092\\nH -0.12921118529493003 4.507013842985409 -1.3729960532570584\\nH -1.080675035953971 3.9948370431462203 -0.31195937783270977\\n6\\nEnergy: -152.05142691781862\\nO 0.0 0.0 0.1173\\nH 0.0 0.7572 -0.46920000000000006\\nH 0.0 -0.7572 -0.46920000000000006\\nO -2.033694368977215 4.452275455111908 -0.08076378503272397\\nH -1.485625890444883 4.126343188940601 -0.7954127832882945\\nH -2.437551211637873 3.6664042863509057 0.2888850303940003\\n\",\"xyz\");\n\tviewer_35150889505211.setStyle({\"sphere\": {\"radius\": 0.8}});\n\tviewer_35150889505211.addSphere({\"center\": {\"x\": 0.0, \"y\": 0.0, \"z\": 0.051666694421315565}, \"radius\": 5.804684561931456, \"color\": \"yellow\", \"alpha\": 0.5});\n\tviewer_35150889505211.animate({\"loop\": \"forward\", \"speed\": 0.01, \"reps\": 1});\n\tviewer_35150889505211.addLine({\"start\": {\"x\": -5.804684561931456, \"y\": 0.0, \"z\": 0.051666694421315565}, \"end\": {\"x\": 5.804684561931456, \"y\": 0.0, \"z\": 0.051666694421315565}});\n\tviewer_35150889505211.addLine({\"start\": {\"x\": 0.0, \"y\": -5.804684561931456, \"z\": 0.051666694421315565}, \"end\": {\"x\": 0.0, \"y\": 5.804684561931456, \"z\": 0.051666694421315565}});\n\tviewer_35150889505211.addLine({\"start\": {\"x\": 0.0, \"y\": 0.0, \"z\": -5.75301786751014}, \"end\": {\"x\": 0.0, \"y\": 0.0, \"z\": 5.856351256352772}});\n\tviewer_35150889505211.addLabel(\"x\",{\"position\": {\"x\": 5.804684561931456, \"y\": 0.0, \"z\": 0.051666694421315565}, \"inFront\": \"true\", \"fontSize\": 20, \"showBackground\": \"false\", \"fontColor\": \"black\"});\n\tviewer_35150889505211.addLabel(\"y\",{\"position\": {\"x\": 0.0, \"y\": 5.804684561931456, \"z\": 0.051666694421315565}, \"inFront\": \"true\", \"fontSize\": 20, \"showBackground\": \"false\", \"fontColor\": \"black\"});\n\tviewer_35150889505211.addLabel(\"z\",{\"position\": {\"x\": 0.0, \"y\": 0.0, \"z\": 5.856351256352772}, \"inFront\": \"true\", \"fontSize\": 20, \"showBackground\": \"false\", \"fontColor\": \"black\"});\n\tviewer_35150889505211.zoomTo();\nviewer_35150889505211.render();\n});\n</script>"
     },
     "metadata": {}
    }
   ],
   "metadata": {}
  },
  {
   "cell_type": "code",
   "execution_count": 9,
   "source": [
    "xyz_baye.png()"
   ],
   "outputs": [
    {
     "output_type": "display_data",
     "data": {
      "text/html": [
       "<img id=\"img_35150889505211\">\n",
       "            <script>\n",
       "            var png = viewer_35150889505211.pngURI()\n",
       "            $('#img_35150889505211').attr('src', png)\n",
       "            </script>"
      ],
      "application/3dmoljs_load.v0": "<img id=\"img_35150889505211\">\n            <script>\n            var png = viewer_35150889505211.pngURI()\n            $('#img_35150889505211').attr('src', png)\n            </script>"
     },
     "metadata": {}
    }
   ],
   "metadata": {}
  },
  {
   "cell_type": "code",
   "execution_count": null,
   "source": [],
   "outputs": [],
   "metadata": {}
  },
  {
   "cell_type": "code",
   "execution_count": null,
   "source": [],
   "outputs": [],
   "metadata": {}
  }
 ],
 "metadata": {
  "interpreter": {
   "hash": "18499a005e754947919ec5cf7177bdee4137be8b2658c273f1990f80578be88f"
  },
  "kernelspec": {
   "display_name": "Python 3 (ipykernel)",
   "language": "python",
   "name": "python3"
  },
  "language_info": {
   "codemirror_mode": {
    "name": "ipython",
    "version": 3
   },
   "file_extension": ".py",
   "mimetype": "text/x-python",
   "name": "python",
   "nbconvert_exporter": "python",
   "pygments_lexer": "ipython3",
   "version": "3.8.8"
  }
 },
 "nbformat": 4,
 "nbformat_minor": 2
}