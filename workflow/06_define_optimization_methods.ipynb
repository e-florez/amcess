{
 "cells": [
  {
   "cell_type": "code",
   "execution_count": 3,
   "source": [
    "# Define optimization method\n",
    "# Create the path (PYTHONPATH) to modules, assuming that the 'amcess' directory is in the parent directory \n",
    "import os\n",
    "import sys\n",
    "module_path = os.path.abspath(os.path.join('..'))\n",
    "if module_path not in sys.path:\n",
    "    sys.path.append(module_path)"
   ],
   "outputs": [],
   "metadata": {}
  },
  {
   "cell_type": "markdown",
   "source": [
    "## Dual annealing"
   ],
   "metadata": {}
  },
  {
   "cell_type": "markdown",
   "source": [
    "## Gaussian Processes"
   ],
   "metadata": {}
  },
  {
   "cell_type": "markdown",
   "source": [
    "First, let's minimize a known analytical function. For example, the Himmelblau function, which features four local minima:\n",
    "\n",
    "1. f(3, 2) = 0\n",
    "2. f(-2.805118, 3.131312) = 0\n",
    "3. f(-3.779310,-3.283186) = 0\n",
    "4. f(3.584428, -1.848126) = 0\n",
    "\n",
    "<img src=\"https://upload.wikimedia.org/wikipedia/commons/a/ad/Himmelblau_function.svg\n",
    "\" style=\"height: 300px;\"/> <img src=\"https://upload.wikimedia.org/wikipedia/commons/c/c4/Himmelblau_contour.svg\" style=\"height: 300px;\"/>\n"
   ],
   "metadata": {}
  },
  {
   "cell_type": "code",
   "execution_count": 4,
   "source": [
    "import numpy as np\n",
    "from amcess.minimization import solve_gaussian_processes\n",
    "from amcess.miscelaneous import Himmelblau\n",
    "\n",
    "# fix seed for reproducibility\n",
    "seed = np.random.seed(666)\n",
    "# define the cost function to be optimized (minimized)\n",
    "cost_function = Himmelblau\n",
    "# define the bound of the search space. the format list((min, max)) is a requirement\n",
    "bounds = [(-5,5), (-5,5)]\n",
    "# define the number of initial evaluations \n",
    "initer = 20\n",
    "# define the maximum number of evaluations\n",
    "maxiter = 40\n",
    "# define dictionary with gaussian process parameters\n",
    "gp_params = {'initer': initer, 'maxiter': maxiter}\n",
    "# solve the problem\n",
    "opt = solve_gaussian_processes(cost_function,\n",
    "                               bounds,\n",
    "                               seed,\n",
    "                               gp_params)"
   ],
   "outputs": [],
   "metadata": {}
  },
  {
   "cell_type": "markdown",
   "source": [
    "The optimized values are given with the solution object \"opt\". For example, the configuration space point where the minimum was found and its value are given by"
   ],
   "metadata": {}
  },
  {
   "cell_type": "code",
   "execution_count": 5,
   "source": [
    "# Print coordinates \n",
    "print('x_min =', opt.x)\n",
    "print('f_min =', opt.fun)"
   ],
   "outputs": [
    {
     "output_type": "stream",
     "name": "stdout",
     "text": [
      "x_min = [-3.77927866 -3.28322304]\n",
      "f_min = 1.516384054792652e-07\n"
     ]
    }
   ],
   "metadata": {}
  },
  {
   "cell_type": "code",
   "execution_count": 6,
   "source": [
    "# This solution corresponds to one of four local minima\n",
    "print('f(' + ','.join([f'{x:.3f}' for x in opt.x]) + f') = {opt.fun:.6f}')"
   ],
   "outputs": [
    {
     "output_type": "stream",
     "name": "stdout",
     "text": [
      "f(-3.779,-3.283) = 0.000000\n"
     ]
    }
   ],
   "metadata": {}
  },
  {
   "cell_type": "code",
   "execution_count": 7,
   "source": [
    "# We can also access all the points evaluated in the search space and its corresponding evaluations\n",
    "x_evals = opt.X\n",
    "y_evals = opt.Y"
   ],
   "outputs": [],
   "metadata": {}
  },
  {
   "cell_type": "code",
   "execution_count": 39,
   "source": [
    "# We can find all the minima \n",
    "idx, dum = np.where(y_evals <= 0.1)\n",
    "min_values = zip([list(x_evals[ix]) for ix in idx], [list(y_evals[ix]) for ix in idx])"
   ],
   "outputs": [],
   "metadata": {}
  },
  {
   "cell_type": "code",
   "execution_count": 43,
   "source": [
    "import matplotlib.pyplot as plt\n",
    "\n",
    "for min in min_values:\n",
    "    plt.scatter(min[0][0], min[0][1])\n",
    "# plt.ylim(-5,5)\n",
    "# plt.xlim(-5,5)\n",
    "plt.show()"
   ],
   "outputs": [],
   "metadata": {}
  },
  {
   "cell_type": "code",
   "execution_count": null,
   "source": [
    "opt.plot_acquisition()"
   ],
   "outputs": [],
   "metadata": {}
  },
  {
   "cell_type": "code",
   "execution_count": null,
   "source": [
    "opt.plot_convergence()"
   ],
   "outputs": [],
   "metadata": {}
  },
  {
   "cell_type": "code",
   "execution_count": null,
   "source": [],
   "outputs": [],
   "metadata": {}
  }
 ],
 "metadata": {
  "orig_nbformat": 4,
  "language_info": {
   "name": "python",
   "version": "3.8.8",
   "mimetype": "text/x-python",
   "codemirror_mode": {
    "name": "ipython",
    "version": 3
   },
   "pygments_lexer": "ipython3",
   "nbconvert_exporter": "python",
   "file_extension": ".py"
  },
  "kernelspec": {
   "name": "python3",
   "display_name": "Python 3.8.8 64-bit ('ascec': conda)"
  },
  "interpreter": {
   "hash": "18499a005e754947919ec5cf7177bdee4137be8b2658c273f1990f80578be88f"
  }
 },
 "nbformat": 4,
 "nbformat_minor": 2
}