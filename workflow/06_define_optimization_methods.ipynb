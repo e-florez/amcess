{
 "cells": [
  {
   "cell_type": "markdown",
   "source": [
    "# Define optimization method"
   ],
   "metadata": {}
  },
  {
   "cell_type": "code",
   "execution_count": null,
   "source": [
    "# Create the path (PYTHONPATH) to modules, assuming that the 'amcess' directory is in the parent directory \n",
    "import os\n",
    "import sys\n",
    "module_path = os.path.abspath(os.path.join('..'))\n",
    "\n",
    "if module_path not in sys.path:\n",
    "    sys.path.append(module_path)"
   ],
   "outputs": [],
   "metadata": {}
  },
  {
   "cell_type": "markdown",
   "source": [
    "## Dual annealing"
   ],
   "metadata": {}
  },
  {
   "cell_type": "code",
   "execution_count": null,
   "source": [],
   "outputs": [],
   "metadata": {}
  },
  {
   "cell_type": "markdown",
   "source": [
    "## Gaussian Processes"
   ],
   "metadata": {}
  },
  {
   "cell_type": "code",
   "execution_count": null,
   "source": [
    "from amcess.m_GPyOpt import solve_gaussian_processes\n",
    "from amcess.math_cost_function import Himmelblau\n",
    "import numpy as np\n",
    "\n",
    "seed = np.random.seed(666)\n",
    "# define the cost function to be optimized (minimized)\n",
    "cost_function = Himmelblau\n",
    "# define the bound of the search space. the format list((min, max)) is a requirement\n",
    "bounds = [(-5,5), (-5,5)]\n",
    "# define the number of initial evaluations \n",
    "initer = 10\n",
    "# define the maximum number of evaluations\n",
    "maxiter = 20\n",
    "# incluir maxiter en gp_params!!!!!!!!!!\n",
    "gp_params = {'initer': initer}\n",
    "opt = solve_gaussian_processes(cost_function,\n",
    "                               bounds,\n",
    "                               maxiter,\n",
    "                               seed,\n",
    "                               gp_params)"
   ],
   "outputs": [],
   "metadata": {}
  }
 ],
 "metadata": {
  "orig_nbformat": 4,
  "language_info": {
   "name": "python"
  }
 },
 "nbformat": 4,
 "nbformat_minor": 2
}