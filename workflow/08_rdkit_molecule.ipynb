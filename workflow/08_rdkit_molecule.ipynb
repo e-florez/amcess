{
 "cells": [
  {
   "cell_type": "code",
   "execution_count": 1,
   "metadata": {},
   "outputs": [],
   "source": [
    "# creating the path (PYTHONPATH) to our module.\n",
    "# assuming that our 'amcess' directory is out ('..') of our current directory \n",
    "import os\n",
    "import sys\n",
    "module_path = os.path.abspath(os.path.join('..'))\n",
    "\n",
    "if module_path not in sys.path:\n",
    "    sys.path.append(module_path)"
   ]
  },
  {
   "cell_type": "code",
   "execution_count": 2,
   "metadata": {},
   "outputs": [],
   "source": [
    "# importing de Molecule Class\n",
    "from amcess.molecule import Molecule"
   ]
  },
  {
   "cell_type": "code",
   "execution_count": 3,
   "metadata": {},
   "outputs": [
    {
     "name": "stdout",
     "output_type": "stream",
     "text": [
      "Number of Atoms: 3\n",
      "Atomic symbols: ['O', 'H', 'H']\n",
      "Atomic Number: [8, 1, 1]\n",
      "Atomic coordinates:\n",
      " [[-0.00570308  0.38515871 -0.        ]\n",
      " [-0.79607794 -0.194675   -0.        ]\n",
      " [ 0.80178102 -0.1904837   0.        ]]\n",
      "Atomic masses: [15.999, 1.008, 1.008]\n",
      "Molecule mass: 18.015\n",
      "Molecule charge: 0\n",
      "Molecule mutiplicity: 1\n",
      "Print Molecule dictionary:\n",
      " {'atoms': [('O', -0.00570308011320009, 0.3851587075724239, -0.0), ('H', -0.7960779383037317, -0.19467500329535578, -0.0), ('H', 0.8017810184169318, -0.1904837042770681, 0.0)], 'charge': 0, 'multiplicity': 1}\n",
      "Print Molecule list:\n",
      " [('O', -0.00570308011320009, 0.3851587075724239, -0.0), ('H', -0.7960779383037317, -0.19467500329535578, -0.0), ('H', 0.8017810184169318, -0.1904837042770681, 0.0)]\n",
      "Center of mass of molecule: (-0.0047457604205929805, 0.32050592202154904, 0.0)\n",
      "Axes principal of molecule: [(-0.0009573196926071096, 0.06465278555087484, -0.0), (-0.7913321778831388, -0.5151809253169048, -0.0), (0.8065267788375248, -0.5109896262986171, 0.0)]\n",
      "Print Atoms for index: ('O', -0.00570308011320009, 0.3851587075724239, -0.0)\n",
      "3\n",
      "charge: 0 multiplicity:1\n",
      "O     \t    -0.00570308\t     0.38515871\t    -0.00000000\n",
      "H     \t    -0.79607794\t    -0.19467500\t    -0.00000000\n",
      "H     \t     0.80178102\t    -0.19048370\t     0.00000000\n",
      "\n"
     ]
    },
    {
     "data": {
      "image/png": "[encoded data removed]",
      "text/plain": [
       "Molecule(_atoms='O', _charge=0, _multiplicity=1, _file=False, _addHs=False, _removeHs=False)"
      ]
     },
     "execution_count": 3,
     "metadata": {},
     "output_type": "execute_result"
    }
   ],
   "source": [
    "water = \"O\" \n",
    "water_molecule = Molecule(water)\n",
    "#! NOTE: The RDKit's method need the parethesis, to keep this quality is neccesary\n",
    "#!       to eliminate @property\n",
    "print(f\"Number of Atoms: {water_molecule.GetNumAtoms()}\")\n",
    "print(f\"Atomic symbols: {water_molecule.GetAtomicSymbols()}\")\n",
    "print(f\"Atomic Number: {water_molecule.GetAtomicNumbers()}\")\n",
    "print(f\"Atomic coordinates:\\n {water_molecule.GetAtomicCoordinates()}\")\n",
    "print(f\"Atomic masses: {water_molecule.GetAtomicMasses()}\")\n",
    "print(f\"Molecule mass: {water_molecule.GetMolMass()}\")\n",
    "print(f\"Molecule charge: {water_molecule.GetMolCharge()}\")\n",
    "print(f\"Molecule mutiplicity: {water_molecule.GetMolMultiplicity()}\")\n",
    "print(f\"Print Molecule dictionary:\\n {water_molecule.GetMolDict()}\")\n",
    "print(f\"Print Molecule list:\\n {water_molecule.GetMolList()}\")\n",
    "print(f\"Center of mass of molecule: {water_molecule.GetMolCM()}\")\n",
    "print(f\"Axes principal of molecule: {water_molecule.GetMolPrincipalAxes()}\")\n",
    "print(f\"Print Atoms for index: {water_molecule.GetAtomWithIndix(0)}\")\n",
    "print(water_molecule)\n",
    "water_molecule"
   ]
  },
  {
   "cell_type": "code",
   "execution_count": 4,
   "metadata": {},
   "outputs": [
    {
     "name": "stdout",
     "output_type": "stream",
     "text": [
      "Remove Oxigen: [('H', -0.8263833, -0.18264398, -0.0), ('H', 0.82831927, -0.18133987, 0.0)]\n",
      "2\n",
      "charge: 0 multiplicity:1\n",
      "H     \t    -0.82638330\t    -0.18264398\t    -0.00000000\n",
      "H     \t     0.82831927\t    -0.18133987\t     0.00000000\n",
      "\n"
     ]
    },
    {
     "data": {
      "image/png": "[encoded data removed]",
      "text/plain": [
       "Molecule(_atoms='O', _charge=0, _multiplicity=1, _file=False, _addHs=False, _removeHs=False)"
      ]
     },
     "execution_count": 4,
     "metadata": {},
     "output_type": "execute_result"
    }
   ],
   "source": [
    "water = \"O\" \n",
    "water_molecule = Molecule(water)\n",
    "water_molecule.RemoveAtom(0)\n",
    "print(f\"Remove Oxigen: {water_molecule.GetMolList()}\")\n",
    "water_molecule.SetMolMultiplicity = 3\n",
    "print(water_molecule)\n",
    "water_molecule"
   ]
  },
  {
   "cell_type": "code",
   "execution_count": 5,
   "metadata": {},
   "outputs": [
    {
     "name": "stdout",
     "output_type": "stream",
     "text": [
      "**** Add F atom ****\n",
      "Number of Atoms: 4\n",
      "Atomic symbols: ['O', 'H', 'H', 'F']\n",
      "Atomic coordinates:\n",
      " [[ 0.       0.       0.     ]\n",
      " [ 0.58708  0.75754  0.     ]\n",
      " [-0.58708  0.75754  0.     ]\n",
      " [ 2.       1.       1.     ]]\n",
      "Atomic masses: [15.999, 1.008, 1.008, 18.998]\n",
      "Molecule mass: 37.013000000000005\n",
      "4\n",
      "charge: -1 multiplicity:1\n",
      "O     \t     0.00000000\t     0.00000000\t     0.00000000\n",
      "H     \t     0.58708000\t     0.75754000\t     0.00000000\n",
      "H     \t    -0.58708000\t     0.75754000\t     0.00000000\n",
      "F     \t     2.00000000\t     1.00000000\t     1.00000000\n",
      "\n"
     ]
    },
    {
     "data": {
      "image/png": "[encoded data removed]",
      "text/plain": [
       "Molecule(_atoms=[('O', 0, 0, 0), ('H', 0.58708, 0.75754, 0), ('H', -0.58708, 0.75754, 0)], _charge=-1, _multiplicity=1, _file=False, _addHs=False, _removeHs=False)"
      ]
     },
     "execution_count": 5,
     "metadata": {},
     "output_type": "execute_result"
    }
   ],
   "source": [
    "water = [(\"O\", 0, 0, 0), (\"H\", 0.58708, 0.75754, 0), (\"H\", -0.58708, 0.75754, 0)]\n",
    "water_molecule = Molecule(water)\n",
    "water_molecule.AddAtoms([('F', 2.0, 1.0, 1.0)])\n",
    "water_molecule.SetMolCharge(-1)\n",
    "print(\"**** Add F atom ****\")\n",
    "print(f\"Number of Atoms: {water_molecule.GetNumAtoms()}\")\n",
    "print(f\"Atomic symbols: {water_molecule.GetAtomicSymbols()}\")\n",
    "print(f\"Atomic coordinates:\\n {water_molecule.GetAtomicCoordinates()}\")\n",
    "print(f\"Atomic masses: {water_molecule.GetAtomicMasses()}\")\n",
    "print(f\"Molecule mass: {water_molecule.GetMolMass()}\")\n",
    "print(water_molecule)\n",
    "water_molecule"
   ]
  },
  {
   "cell_type": "code",
   "execution_count": 6,
   "metadata": {},
   "outputs": [
    {
     "name": "stdout",
     "output_type": "stream",
     "text": [
      "['C', 'C', 'H', 'H', 'H', 'H', 'H', 'H']\n",
      "8\n",
      "charge: 0 multiplicity:1\n",
      "C     \t     0.75628727\t     0.03838882\t     0.03990447\n",
      "C     \t    -0.74865930\t    -0.04097022\t     0.00897899\n",
      "H     \t     1.06871252\t     0.45674547\t    -0.95220447\n",
      "H     \t     1.23172739\t    -0.94506849\t     0.12564156\n",
      "H     \t     1.07834213\t     0.73145071\t     0.82899373\n",
      "H     \t    -1.19200716\t    -0.32517613\t     0.97736285\n",
      "H     \t    -1.18262524\t     0.91347481\t    -0.29181199\n",
      "H     \t    -1.01177761\t    -0.82884498\t    -0.73686513\n",
      "\n"
     ]
    },
    {
     "data": {
      "image/png": "[encoded data removed]",
      "text/plain": [
       "Molecule(_atoms='CC', _charge=0, _multiplicity=1, _file=False, _addHs=False, _removeHs=False)"
      ]
     },
     "execution_count": 6,
     "metadata": {},
     "output_type": "execute_result"
    }
   ],
   "source": [
    "ethane = \"CC\" \n",
    "ethane_molecule = Molecule(ethane)\n",
    "print(ethane_molecule.GetAtomicSymbols())\n",
    "print(ethane_molecule)\n",
    "ethane_molecule"
   ]
  },
  {
   "cell_type": "code",
   "execution_count": 7,
   "metadata": {},
   "outputs": [
    {
     "name": "stdout",
     "output_type": "stream",
     "text": [
      "7\n",
      "charge: -1 multiplicity:1\n",
      "C     \t    -0.65182163\t    -0.07925022\t     0.06931715\n",
      "C     \t     0.80565639\t     0.12161735\t    -0.09077304\n",
      "O     \t     1.27205308\t     1.26128362\t    -0.32674331\n",
      "O     \t     1.73415349\t    -0.90057161\t     0.00482418\n",
      "H     \t    -1.14627385\t     0.81306993\t     0.54631107\n",
      "H     \t    -0.85493857\t    -0.96534294\t     0.71691688\n",
      "H     \t    -1.15882892\t    -0.25080614\t    -0.91985294\n",
      "\n"
     ]
    },
    {
     "data": {
      "image/png": "[encoded data removed]",
      "text/plain": [
       "Molecule(_atoms='CC(=O)[O-]', _charge=-1, _multiplicity=1, _file=False, _addHs=False, _removeHs=False)"
      ]
     },
     "execution_count": 7,
     "metadata": {},
     "output_type": "execute_result"
    }
   ],
   "source": [
    "#* Verification the formal charge calculated from RDKit\n",
    "carboxilic_acid = 'CC(=O)[O-]'\n",
    "carboxilic_acid_molecule = Molecule(carboxilic_acid)\n",
    "print(carboxilic_acid_molecule)\n",
    "carboxilic_acid_molecule"
   ]
  },
  {
   "cell_type": "code",
   "execution_count": 8,
   "metadata": {},
   "outputs": [
    {
     "name": "stdout",
     "output_type": "stream",
     "text": [
      "5\n",
      "charge: 0 multiplicity:2\n",
      "C     \t    -0.44612444\t    -0.07659149\t     0.02498533\n",
      "C     \t     0.82233311\t    -0.35501703\t     0.17486529\n",
      "H     \t    -0.75107142\t     0.85609984\t    -0.39649572\n",
      "H     \t    -1.18234804\t    -0.79310147\t     0.32892892\n",
      "H     \t     1.55721079\t     0.36861015\t    -0.13228383\n",
      "\n"
     ]
    },
    {
     "data": {
      "image/png": "[encoded data removed]",
      "text/plain": [
       "Molecule(_atoms='[CH2]=[CH]', _charge=0, _multiplicity=2, _file=False, _addHs=True, _removeHs=False)"
      ]
     },
     "execution_count": 8,
     "metadata": {},
     "output_type": "execute_result"
    }
   ],
   "source": [
    "#* Verification the multiplicity calculated from RDKit\n",
    "ethane_radical = \"[CH2]=[CH]\" \n",
    "ethane_radical_molecule = Molecule(ethane_radical, addHs=True)\n",
    "print(ethane_radical_molecule)\n",
    "ethane_radical_molecule"
   ]
  },
  {
   "cell_type": "code",
   "execution_count": 9,
   "metadata": {},
   "outputs": [
    {
     "name": "stdout",
     "output_type": "stream",
     "text": [
      "4\n",
      "charge: 1 multiplicity:2\n",
      "C     \t    -0.06742418\t     0.00111665\t    -0.12307730\n",
      "C     \t     1.16258307\t    -0.25419593\t     0.28804444\n",
      "H     \t    -0.48214000\t     0.93857112\t     0.23316327\n",
      "H     \t    -0.61301889\t    -0.68549184\t    -0.77033550\n",
      "\n"
     ]
    },
    {
     "data": {
      "image/png": "[encoded data removed]",
      "text/plain": [
       "Molecule(_atoms='[CH2]=[C+]', _charge=1, _multiplicity=2, _file=False, _addHs=True, _removeHs=False)"
      ]
     },
     "execution_count": 9,
     "metadata": {},
     "output_type": "execute_result"
    }
   ],
   "source": [
    "#* Verification the formal charge and multiplicity calculated from RDKit\n",
    "ethane_charge = \"[CH2]=[C+]\" \n",
    "ethane_charge_molecule = Molecule(ethane_charge, addHs=True)\n",
    "print(ethane_charge_molecule)\n",
    "ethane_charge_molecule"
   ]
  },
  {
   "cell_type": "code",
   "execution_count": 10,
   "metadata": {},
   "outputs": [
    {
     "name": "stdout",
     "output_type": "stream",
     "text": [
      "24\n",
      "charge: 0 multiplicity:1\n",
      "N     \t     1.31200000\t    -1.04790000\t     0.00250000\n",
      "C     \t     2.24650000\t    -2.17620000\t     0.00310000\n",
      "C     \t     1.79060000\t     0.20810000\t     0.00100000\n",
      "O     \t     2.99380000\t     0.38380000\t     0.00020000\n",
      "N     \t     0.97140000\t     1.27670000\t    -0.00010000\n",
      "C     \t     1.53390000\t     2.62940000\t    -0.00170000\n",
      "C     \t    -0.40260000\t     1.09890000\t    -0.00010000\n",
      "N     \t    -1.44460000\t     1.93420000\t    -0.00100000\n",
      "C     \t    -2.56080000\t     1.25100000\t    -0.00000000\n",
      "N     \t    -2.28620000\t    -0.06800000\t     0.00150000\n",
      "C     \t    -3.26140000\t    -1.16120000\t     0.00290000\n",
      "C     \t    -0.91140000\t    -0.19390000\t     0.00140000\n",
      "C     \t    -0.01630000\t    -1.28530000\t    -0.00220000\n",
      "O     \t    -0.43800000\t    -2.42790000\t    -0.00680000\n",
      "H     \t     3.26970000\t    -1.80040000\t     0.00220000\n",
      "H     \t     2.08300000\t    -2.78280000\t     0.89380000\n",
      "H     \t     2.08210000\t    -2.78460000\t    -0.88620000\n",
      "H     \t     2.62230000\t     2.57030000\t    -0.00190000\n",
      "H     \t     1.19870000\t     3.16110000\t    -0.89230000\n",
      "H     \t     1.19900000\t     3.16320000\t     0.88770000\n",
      "H     \t    -3.55200000\t     1.67970000\t    -0.00010000\n",
      "H     \t    -3.50370000\t    -1.43330000\t    -1.02440000\n",
      "H     \t    -2.83890000\t    -2.02440000\t     0.51730000\n",
      "H     \t    -4.16720000\t    -0.83950000\t     0.51680000\n",
      "\n"
     ]
    },
    {
     "data": {
      "image/png": "[encoded data removed]",
      "text/plain": [
       "Molecule(_atoms='caffeine.mol', _charge=0, _multiplicity=1, _file=True, _addHs=False, _removeHs=False)"
      ]
     },
     "execution_count": 10,
     "metadata": {},
     "output_type": "execute_result"
    }
   ],
   "source": [
    "# NOTE: Only smile format allow to ger the charge and multuplicity from atoms input\n",
    "caffeine = 'caffeine.mol'\n",
    "caffeine_molecule = Molecule(caffeine, file=True, addHs=False)\n",
    "print(caffeine_molecule)\n",
    "caffeine_molecule"
   ]
  },
  {
   "cell_type": "code",
   "execution_count": 11,
   "metadata": {},
   "outputs": [
    {
     "name": "stdout",
     "output_type": "stream",
     "text": [
      "15\n",
      "charge: 0 multiplicity:1\n",
      "C     \t     1.83260000\t     0.00000000\t     0.00000000\n",
      "C     \t     2.26520000\t     1.33150000\t     0.00000000\n",
      "C     \t     1.13260000\t     2.15440000\t     0.00000000\n",
      "C     \t     0.00000000\t     1.33150000\t     0.00000000\n",
      "C     \t     0.43260000\t     0.00000000\t     0.00000000\n",
      "H     \t     2.42039365\t    -0.80901089\t     0.00000000\n",
      "H     \t     1.37861413\t    -0.89100888\t     0.00000000\n",
      "H     \t     3.21625491\t     1.64052194\t     0.00000000\n",
      "H     \t     2.42163701\t     2.31918794\t     0.00000000\n",
      "H     \t     1.13260000\t     3.15440000\t     0.00000000\n",
      "H     \t     0.24159112\t     2.60838588\t     0.00000000\n",
      "H     \t    -0.95105491\t     1.64052194\t     0.00000000\n",
      "H     \t    -0.70711596\t     0.62440240\t     0.00000000\n",
      "H     \t    -0.15519365\t    -0.80901089\t     0.00000000\n",
      "H     \t     0.88658587\t    -0.89100888\t     0.00000000\n",
      "\n"
     ]
    },
    {
     "data": {
      "image/png": "[encoded data removed]",
      "text/plain": [
       "Molecule(_atoms='cyclopentane_nH.mol', _charge=0, _multiplicity=1, _file=True, _addHs=True, _removeHs=False)"
      ]
     },
     "execution_count": 11,
     "metadata": {},
     "output_type": "execute_result"
    }
   ],
   "source": [
    "# NOTE: Only smile format allow to ger the charge and multuplicity from atoms input\n",
    "cyclopentane = 'cyclopentane_nH.mol'\n",
    "cyclopentane_molecule = Molecule(cyclopentane, file=True, addHs=True)\n",
    "print(cyclopentane_molecule)\n",
    "cyclopentane_molecule"
   ]
  },
  {
   "cell_type": "code",
   "execution_count": 12,
   "metadata": {},
   "outputs": [
    {
     "name": "stdout",
     "output_type": "stream",
     "text": [
      "7\n",
      "charge: 0 multiplicity:1\n",
      "C     \t    -0.65991228\t    -0.02122752\t     0.00925033\n",
      "C     \t     0.80463111\t    -0.01016183\t    -0.01572571\n",
      "O     \t     1.38408053\t     1.12505239\t    -0.00325201\n",
      "O     \t     1.62103894\t    -1.11410765\t    -0.05158834\n",
      "H     \t    -1.11985708\t    -0.97334475\t    -0.23464737\n",
      "H     \t    -1.01711789\t     0.27018457\t     1.03703012\n",
      "H     \t    -1.01286333\t     0.72360479\t    -0.74106701\n",
      "\n"
     ]
    },
    {
     "data": {
      "image/png": "[encoded data removed]",
      "text/plain": [
       "Molecule(_atoms='carboxilix_acid.XYZ', _charge=0, _multiplicity=1, _file=True, _addHs=False, _removeHs=False)"
      ]
     },
     "execution_count": 12,
     "metadata": {},
     "output_type": "execute_result"
    }
   ],
   "source": [
    "# NOTE: Only smile format allow to ger the charge and multuplicity from atoms input\n",
    "carboxilic_acid = 'carboxilix_acid.XYZ'\n",
    "carboxilic_acid_molecule = Molecule(carboxilic_acid, file=True, addHs=False)\n",
    "print(carboxilic_acid_molecule)\n",
    "carboxilic_acid_molecule"
   ]
  },
  {
   "cell_type": "code",
   "execution_count": 13,
   "metadata": {},
   "outputs": [
    {
     "name": "stdout",
     "output_type": "stream",
     "text": [
      "3\n",
      "charge: 0 multiplicity:1\n",
      "O     \t     0.00000000\t     0.00000000\t     0.00000000\n",
      "H     \t     0.58708000\t     0.75754000\t     0.00000000\n",
      "H     \t    -0.58708000\t     0.75754000\t     0.00000000\n",
      "\n",
      "6\n",
      "charge: 0 multiplicity:1\n",
      "O     \t     0.00000000\t     0.00000000\t     0.00000000\n",
      "H     \t     0.58708000\t     0.75754000\t     0.00000000\n",
      "H     \t    -0.58708000\t     0.75754000\t     0.00000000\n",
      "O     \t     0.00000000\t     0.00000000\t     0.00000000\n",
      "H     \t     0.58708000\t     0.75754000\t     0.00000000\n",
      "H     \t    -0.58708000\t     0.75754000\t     0.00000000\n",
      "\n"
     ]
    },
    {
     "data": {
      "image/png": "[encoded data removed]",
      "text/plain": [
       "Molecule(_atoms=[('O', 0.0, 0.0, 0.0), ('H', 0.58708, 0.75754, 0.0), ('H', -0.58708, 0.75754, 0.0), ('O', 0.0, 0.0, 0.0), ('H', 0.58708, 0.75754, 0.0), ('H', -0.58708, 0.75754, 0.0)], _charge=0, _multiplicity=1, _file=False, _addHs=False, _removeHs=False)"
      ]
     },
     "execution_count": 13,
     "metadata": {},
     "output_type": "execute_result"
    }
   ],
   "source": [
    "water = [(\"O\", 0, 0, 0), (\"H\", 0.58708, 0.75754, 0), (\"H\", -0.58708, 0.75754, 0)]\n",
    "water_molecule = Molecule(water)\n",
    "print(water_molecule)\n",
    "water_molecule += water_molecule\n",
    "print(water_molecule)\n",
    "water_molecule"
   ]
  },
  {
   "cell_type": "code",
   "execution_count": 14,
   "metadata": {},
   "outputs": [
    {
     "name": "stdout",
     "output_type": "stream",
     "text": [
      "9\n",
      "charge: 0 multiplicity:1\n",
      "O     \t     0.00000000\t     0.00000000\t     0.00000000\n",
      "H     \t     0.58708000\t     0.75754000\t     0.00000000\n",
      "H     \t    -0.58708000\t     0.75754000\t     0.00000000\n",
      "O     \t     0.00000000\t     0.00000000\t     0.00000000\n",
      "H     \t     0.58708000\t     0.75754000\t     0.00000000\n",
      "H     \t    -0.58708000\t     0.75754000\t     0.00000000\n",
      "O     \t     0.00000000\t     0.00000000\t     0.00000000\n",
      "H     \t     0.58708000\t     0.75754000\t     0.00000000\n",
      "H     \t    -0.58708000\t     0.75754000\t     0.00000000\n",
      "\n"
     ]
    },
    {
     "data": {
      "image/png": "[encoded data removed]",
      "text/plain": [
       "Molecule(_atoms=[('O', 0, 0, 0), ('H', 0.58708, 0.75754, 0), ('H', -0.58708, 0.75754, 0), ('O', 0, 0, 0), ('H', 0.58708, 0.75754, 0), ('H', -0.58708, 0.75754, 0), ('O', 0, 0, 0), ('H', 0.58708, 0.75754, 0), ('H', -0.58708, 0.75754, 0)], _charge=0, _multiplicity=1, _file=False, _addHs=False, _removeHs=False)"
      ]
     },
     "execution_count": 14,
     "metadata": {},
     "output_type": "execute_result"
    }
   ],
   "source": [
    "water_molecule = Molecule(3 * water)\n",
    "print(water_molecule)\n",
    "water_molecule"
   ]
  },
  {
   "cell_type": "code",
   "execution_count": 15,
   "metadata": {},
   "outputs": [
    {
     "name": "stdout",
     "output_type": "stream",
     "text": [
      "6\n",
      "charge: 0 multiplicity:1\n",
      "O     \t     0.00000000\t     0.00000000\t     0.00000000\n",
      "H     \t     0.58708000\t     0.75754000\t     0.00000000\n",
      "H     \t    -0.58708000\t     0.75754000\t     0.00000000\n",
      "O     \t     0.00000000\t     0.00000000\t     0.00000000\n",
      "H     \t     0.58708000\t     0.75754000\t     0.00000000\n",
      "H     \t    -0.58708000\t     0.75754000\t     0.00000000\n",
      "\n"
     ]
    }
   ],
   "source": [
    "water_molecule = Molecule(water + water)\n",
    "print(water_molecule)"
   ]
  },
  {
   "cell_type": "code",
   "execution_count": 16,
   "metadata": {},
   "outputs": [
    {
     "name": "stdout",
     "output_type": "stream",
     "text": [
      "6\n",
      "charge: 0 multiplicity:1\n",
      "O     \t     0.00000000\t     0.00000000\t     0.00000000\n",
      "H     \t     0.58708000\t     0.75754000\t     0.00000000\n",
      "H     \t    -0.58708000\t     0.75754000\t     0.00000000\n",
      "O     \t     0.00000000\t     0.00000000\t     0.00000000\n",
      "H     \t     0.58708000\t     0.75754000\t     0.00000000\n",
      "H     \t    -0.58708000\t     0.75754000\t     0.00000000\n",
      "\n"
     ]
    }
   ],
   "source": [
    "water_molecule = Molecule(water + water)\n",
    "w = Molecule(water_molecule)\n",
    "print(w)"
   ]
  },
  {
   "cell_type": "code",
   "execution_count": 17,
   "metadata": {},
   "outputs": [
    {
     "name": "stdout",
     "output_type": "stream",
     "text": [
      "6\n",
      "charge: 0 multiplicity:1\n",
      "O     \t     0.00000000\t     0.00000000\t     0.00000000\n",
      "H     \t     0.58708000\t     0.75754000\t     0.00000000\n",
      "H     \t    -0.58708000\t     0.75754000\t     0.00000000\n",
      "O     \t     0.00000000\t     0.00000000\t     0.00000000\n",
      "H     \t     0.58708000\t     0.75754000\t     0.00000000\n",
      "H     \t    -0.58708000\t     0.75754000\t     0.00000000\n",
      "\n"
     ]
    },
    {
     "data": {
      "image/png": "[encoded data removed]",
      "text/plain": [
       "Molecule(_atoms=[('O', 0.0, 0.0, 0.0), ('H', 0.58708, 0.75754, 0.0), ('H', -0.58708, 0.75754, 0.0), ('O', 0.0, 0.0, 0.0), ('H', 0.58708, 0.75754, 0.0), ('H', -0.58708, 0.75754, 0.0)], _charge=0, _multiplicity=1, _file=False, _addHs=False, _removeHs=False)"
      ]
     },
     "execution_count": 17,
     "metadata": {},
     "output_type": "execute_result"
    }
   ],
   "source": [
    "water = [(\"O\", 0, 0, 0), (\"H\", 0.58708, 0.75754, 0), (\"H\", -0.58708, 0.75754, 0)]\n",
    "water_molecule = Molecule(water)\n",
    "water_molecule *= 2\n",
    "print(water_molecule)\n",
    "water_molecule"
   ]
  }
 ],
 "metadata": {
  "kernelspec": {
   "display_name": "vamcess",
   "language": "python",
   "name": "python3"
  },
  "language_info": {
   "codemirror_mode": {
    "name": "ipython",
    "version": 3
   },
   "file_extension": ".py",
   "mimetype": "text/x-python",
   "name": "python",
   "nbconvert_exporter": "python",
   "pygments_lexer": "ipython3",
   "version": "3.10.12"
  }
 },
 "nbformat": 4,
 "nbformat_minor": 2
}
