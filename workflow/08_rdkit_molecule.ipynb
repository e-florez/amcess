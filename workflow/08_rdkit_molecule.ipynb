{
 "cells": [
  {
   "cell_type": "code",
   "execution_count": 11,
   "metadata": {},
   "outputs": [],
   "source": [
    "# creating the path (PYTHONPATH) to our module.\n",
    "# assuming that our 'amcess' directory is out ('..') of our current directory \n",
    "import os\n",
    "import sys\n",
    "module_path = os.path.abspath(os.path.join('..'))\n",
    "\n",
    "if module_path not in sys.path:\n",
    "    sys.path.append(module_path)"
   ]
  },
  {
   "cell_type": "code",
   "execution_count": 12,
   "metadata": {},
   "outputs": [],
   "source": [
    "# importing de Molecule Class\n",
    "from amcess.molecule import Molecule"
   ]
  },
  {
   "cell_type": "code",
   "execution_count": 13,
   "metadata": {},
   "outputs": [
    {
     "name": "stdout",
     "output_type": "stream",
     "text": [
      "Number of Atoms: 3\n",
      "Atomic symbols: ['O', 'H', 'H']\n",
      "Atomic Number: [8, 1, 1]\n",
      "Atomic coordinates:\n",
      " [[-0.00420307  0.36044714 -0.        ]\n",
      " [ 0.82521629 -0.17885589  0.        ]\n",
      " [-0.82101322 -0.18159125 -0.        ]]\n",
      "Atomic masses: [15.999, 1.008, 1.008]\n",
      "Molecule mass: 18.015\n",
      "Molecule charge: 0\n",
      "Molecule mutiplicity: 1\n",
      "Print Molecule dictionary:\n",
      " {'atoms': [('O', -0.004203074027487747, 0.36044713928316285, -0.0), ('H', 0.8252162924527532, -0.17885589251996345, 0.0), ('H', -0.8210132184252656, -0.18159124676319943, -0.0)], 'charge': 0, 'multiplicity': 1}\n",
      "Print Molecule list:\n",
      " [('O', -0.004203074027487747, 0.36044713928316285, -0.0), ('H', 0.8252162924527532, -0.17885589251996345, 0.0), ('H', -0.8210132184252656, -0.18159124676319943, -0.0)]\n",
      "Center of mass of molecule: (-0.0034975455312833198, 0.2999424404659392, 0.0)\n",
      "Axes principal of molecule: [(-0.0007055284962044269, 0.060504698817223646, -0.0), (0.8287138379840365, -0.4787983329859027, 0.0), (-0.8175156728939823, -0.48153368722913864, -0.0)]\n",
      "Print Atoms for index: ('O', -0.004203074027487747, 0.36044713928316285, -0.0)\n",
      "3\n",
      "charge: 0 multiplicity: 1\n",
      "O     \t    -0.00420307\t     0.36044714\t    -0.00000000\n",
      "H     \t     0.82521629\t    -0.17885589\t     0.00000000\n",
      "H     \t    -0.82101322\t    -0.18159125\t    -0.00000000\n",
      "\n"
     ]
    },
    {
     "data": {
      "image/png": "[encoded data removed]",
      "text/plain": [
       "Molecule(_atoms='O', _charge=0, _multiplicity=1, _file=False, _addHs=False, _removeHs=False)"
      ]
     },
     "execution_count": 13,
     "metadata": {},
     "output_type": "execute_result"
    }
   ],
   "source": [
    "water = \"O\" \n",
    "water_molecule = Molecule(water)\n",
    "#! NOTE: The RDKit's method need the parethesis, to keep this quality is neccesary\n",
    "#!       to eliminate @property\n",
    "print(f\"Number of Atoms: {water_molecule.GetNumAtoms()}\")\n",
    "print(f\"Atomic symbols: {water_molecule.GetAtomicSymbols()}\")\n",
    "print(f\"Atomic Number: {water_molecule.GetAtomicNumbers()}\")\n",
    "print(f\"Atomic coordinates:\\n {water_molecule.GetAtomicCoordinates()}\")\n",
    "print(f\"Atomic masses: {water_molecule.GetAtomicMasses()}\")\n",
    "print(f\"Molecule mass: {water_molecule.GetMolMass()}\")\n",
    "print(f\"Molecule charge: {water_molecule.GetMolCharge()}\")\n",
    "print(f\"Molecule mutiplicity: {water_molecule.GetMolMultiplicity()}\")\n",
    "print(f\"Print Molecule dictionary:\\n {water_molecule.GetMolDict()}\")\n",
    "print(f\"Print Molecule list:\\n {water_molecule.GetMolList()}\")\n",
    "print(f\"Center of mass of molecule: {water_molecule.GetMolCM()}\")\n",
    "print(f\"Axes principal of molecule: {water_molecule.GetMolPrincipalAxes()}\")\n",
    "print(f\"Print Atoms for index: {water_molecule.GetAtomWithIndix(0)}\")\n",
    "print(water_molecule)\n",
    "water_molecule"
   ]
  },
  {
   "cell_type": "code",
   "execution_count": 14,
   "metadata": {},
   "outputs": [
    {
     "name": "stdout",
     "output_type": "stream",
     "text": [
      "Remove Oxigen: [('O', -0.0031321008636719353, 0.37336625681046925, -0.0), ('H', -0.8188443193109481, -0.18777101419427925, -0.0), ('H', 0.8219764201746201, -0.18559524261619, 0.0)]\n",
      "3\n",
      "charge: 0 multiplicity: 1\n",
      "O     \t    -0.00313210\t     0.37336626\t    -0.00000000\n",
      "H     \t    -0.81884432\t    -0.18777101\t    -0.00000000\n",
      "H     \t     0.82197642\t    -0.18559524\t     0.00000000\n",
      "\n"
     ]
    },
    {
     "data": {
      "image/png": "[encoded data removed]",
      "text/plain": [
       "Molecule(_atoms='O', _charge=0, _multiplicity=1, _file=False, _addHs=False, _removeHs=False)"
      ]
     },
     "execution_count": 14,
     "metadata": {},
     "output_type": "execute_result"
    }
   ],
   "source": [
    "water = \"O\" \n",
    "water_molecule = Molecule(water)\n",
    "water_molecule.RemoveAtom(0)\n",
    "print(f\"Remove Oxigen: {water_molecule.GetMolList()}\")\n",
    "water_molecule.SetMolMultiplicity = 3\n",
    "print(water_molecule)\n",
    "water_molecule"
   ]
  },
  {
   "cell_type": "code",
   "execution_count": 15,
   "metadata": {},
   "outputs": [
    {
     "name": "stdout",
     "output_type": "stream",
     "text": [
      "**** Add F atom ****\n",
      "Number of Atoms: 3\n",
      "Atomic symbols: ['O', 'H', 'H']\n",
      "Atomic coordinates:\n",
      " [[ 0.       0.       0.     ]\n",
      " [ 0.58708  0.75754  0.     ]\n",
      " [-0.58708  0.75754  0.     ]]\n",
      "Atomic masses: [15.999, 1.008, 1.008]\n",
      "Molecule mass: 18.015\n",
      "3\n",
      "charge: -1 multiplicity: 1\n",
      "O     \t     0.00000000\t     0.00000000\t     0.00000000\n",
      "H     \t     0.58708000\t     0.75754000\t     0.00000000\n",
      "H     \t    -0.58708000\t     0.75754000\t     0.00000000\n",
      "\n"
     ]
    },
    {
     "data": {
      "image/png": "[encoded data removed]",
      "text/plain": [
       "Molecule(_atoms=[('O', 0, 0, 0), ('H', 0.58708, 0.75754, 0), ('H', -0.58708, 0.75754, 0)], _charge=-1, _multiplicity=1, _file=False, _addHs=False, _removeHs=False)"
      ]
     },
     "execution_count": 15,
     "metadata": {},
     "output_type": "execute_result"
    }
   ],
   "source": [
    "water = [(\"O\", 0, 0, 0), (\"H\", 0.58708, 0.75754, 0), (\"H\", -0.58708, 0.75754, 0)]\n",
    "water_molecule = Molecule(water)\n",
    "water_molecule.AddAtom([('F', 2.0, 1.0, 1.0)])\n",
    "water_molecule.SetMolCharge(-1)\n",
    "print(\"**** Add F atom ****\")\n",
    "print(f\"Number of Atoms: {water_molecule.GetNumAtoms()}\")\n",
    "print(f\"Atomic symbols: {water_molecule.GetAtomicSymbols()}\")\n",
    "print(f\"Atomic coordinates:\\n {water_molecule.GetAtomicCoordinates()}\")\n",
    "print(f\"Atomic masses: {water_molecule.GetAtomicMasses()}\")\n",
    "print(f\"Molecule mass: {water_molecule.GetMolMass()}\")\n",
    "print(water_molecule)\n",
    "water_molecule"
   ]
  },
  {
   "cell_type": "code",
   "execution_count": 16,
   "metadata": {},
   "outputs": [
    {
     "name": "stdout",
     "output_type": "stream",
     "text": [
      "['C', 'C', 'H', 'H', 'H', 'H', 'H', 'H']\n",
      "8\n",
      "charge: 0 multiplicity: 1\n",
      "C     \t     0.74545652\t     0.06817767\t     0.07453391\n",
      "C     \t    -0.73986209\t    -0.02841174\t    -0.13576747\n",
      "H     \t     0.90794703\t     0.68012932\t     0.99132854\n",
      "H     \t     1.11589335\t    -0.98093374\t     0.22227749\n",
      "H     \t     1.29838461\t     0.49478857\t    -0.75966380\n",
      "H     \t    -1.13030423\t    -0.70156148\t     0.67898735\n",
      "H     \t    -1.24103368\t     0.94655350\t     0.03757357\n",
      "H     \t    -0.95648151\t    -0.47874209\t    -1.10926959\n",
      "\n"
     ]
    },
    {
     "data": {
      "image/png": "[encoded data removed]",
      "text/plain": [
       "Molecule(_atoms='CC', _charge=0, _multiplicity=1, _file=False, _addHs=False, _removeHs=False)"
      ]
     },
     "execution_count": 16,
     "metadata": {},
     "output_type": "execute_result"
    }
   ],
   "source": [
    "ethane = \"CC\" \n",
    "ethane_molecule = Molecule(ethane)\n",
    "print(ethane_molecule.GetAtomicSymbols())\n",
    "print(ethane_molecule)\n",
    "ethane_molecule"
   ]
  },
  {
   "cell_type": "code",
   "execution_count": 17,
   "metadata": {},
   "outputs": [
    {
     "name": "stdout",
     "output_type": "stream",
     "text": [
      "7\n",
      "charge: -1 multiplicity: 1\n",
      "C     \t    -0.62132379\t    -0.11882351\t     0.12182189\n",
      "C     \t     0.79681741\t     0.16088327\t    -0.17344482\n",
      "O     \t     1.15876540\t     1.33173504\t    -0.39251186\n",
      "O     \t     1.68912546\t    -0.88531604\t    -0.19948080\n",
      "H     \t    -0.79102138\t     0.06246050\t     1.22199365\n",
      "H     \t    -1.30565861\t     0.60137640\t    -0.40903871\n",
      "H     \t    -0.92670449\t    -1.15231567\t    -0.16933935\n",
      "\n"
     ]
    },
    {
     "data": {
      "image/png": "[encoded data removed]",
      "text/plain": [
       "Molecule(_atoms='CC(=O)[O-]', _charge=-1, _multiplicity=1, _file=False, _addHs=False, _removeHs=False)"
      ]
     },
     "execution_count": 17,
     "metadata": {},
     "output_type": "execute_result"
    }
   ],
   "source": [
    "#* Verification the formal charge calculated from RDKit\n",
    "carboxilic_acid = 'CC(=O)[O-]'\n",
    "carboxilic_acid_molecule = Molecule(carboxilic_acid)\n",
    "print(carboxilic_acid_molecule)\n",
    "carboxilic_acid_molecule"
   ]
  },
  {
   "cell_type": "code",
   "execution_count": 18,
   "metadata": {},
   "outputs": [
    {
     "name": "stdout",
     "output_type": "stream",
     "text": [
      "5\n",
      "charge: 0 multiplicity: 2\n",
      "C     \t    -0.45805674\t     0.00794861\t     0.09667010\n",
      "C     \t     0.79612000\t     0.37758919\t     0.11247032\n",
      "H     \t    -1.18638296\t     0.57067794\t     0.64459226\n",
      "H     \t    -0.76186647\t    -0.85426206\t    -0.46086620\n",
      "H     \t     1.61018618\t    -0.10195368\t    -0.39286648\n",
      "\n"
     ]
    },
    {
     "data": {
      "image/png": "[encoded data removed]",
      "text/plain": [
       "Molecule(_atoms='[CH2]=[CH]', _charge=0, _multiplicity=2, _file=False, _addHs=True, _removeHs=False)"
      ]
     },
     "execution_count": 18,
     "metadata": {},
     "output_type": "execute_result"
    }
   ],
   "source": [
    "#* Verification the multiplicity calculated from RDKit\n",
    "ethane_radical = \"[CH2]=[CH]\" \n",
    "ethane_radical_molecule = Molecule(ethane_radical, addHs=True)\n",
    "print(ethane_radical_molecule)\n",
    "ethane_radical_molecule"
   ]
  },
  {
   "cell_type": "code",
   "execution_count": 19,
   "metadata": {},
   "outputs": [
    {
     "name": "stdout",
     "output_type": "stream",
     "text": [
      "4\n",
      "charge: 1 multiplicity: 2\n",
      "C     \t    -0.06190668\t     0.00464031\t     0.00047320\n",
      "C     \t     1.23781490\t    -0.14870078\t    -0.00959977\n",
      "H     \t    -0.45802272\t     0.99996095\t     0.00588923\n",
      "H     \t    -0.71788550\t    -0.85590048\t     0.00323734\n",
      "\n"
     ]
    },
    {
     "data": {
      "image/png": "[encoded data removed]",
      "text/plain": [
       "Molecule(_atoms='[CH2]=[C+]', _charge=1, _multiplicity=2, _file=False, _addHs=True, _removeHs=False)"
      ]
     },
     "execution_count": 19,
     "metadata": {},
     "output_type": "execute_result"
    }
   ],
   "source": [
    "#* Verification the formal charge and multiplicity calculated from RDKit\n",
    "ethane_charge = \"[CH2]=[C+]\" \n",
    "ethane_charge_molecule = Molecule(ethane_charge, addHs=True)\n",
    "print(ethane_charge_molecule)\n",
    "ethane_charge_molecule"
   ]
  },
  {
   "cell_type": "code",
   "execution_count": 20,
   "metadata": {},
   "outputs": [
    {
     "name": "stdout",
     "output_type": "stream",
     "text": [
      "24\n",
      "charge: 0 multiplicity: 1\n",
      "N     \t     1.31200000\t    -1.04790000\t     0.00250000\n",
      "C     \t     2.24650000\t    -2.17620000\t     0.00310000\n",
      "C     \t     1.79060000\t     0.20810000\t     0.00100000\n",
      "O     \t     2.99380000\t     0.38380000\t     0.00020000\n",
      "N     \t     0.97140000\t     1.27670000\t    -0.00010000\n",
      "C     \t     1.53390000\t     2.62940000\t    -0.00170000\n",
      "C     \t    -0.40260000\t     1.09890000\t    -0.00010000\n",
      "N     \t    -1.44460000\t     1.93420000\t    -0.00100000\n",
      "C     \t    -2.56080000\t     1.25100000\t    -0.00000000\n",
      "N     \t    -2.28620000\t    -0.06800000\t     0.00150000\n",
      "C     \t    -3.26140000\t    -1.16120000\t     0.00290000\n",
      "C     \t    -0.91140000\t    -0.19390000\t     0.00140000\n",
      "C     \t    -0.01630000\t    -1.28530000\t    -0.00220000\n",
      "O     \t    -0.43800000\t    -2.42790000\t    -0.00680000\n",
      "H     \t     3.26970000\t    -1.80040000\t     0.00220000\n",
      "H     \t     2.08300000\t    -2.78280000\t     0.89380000\n",
      "H     \t     2.08210000\t    -2.78460000\t    -0.88620000\n",
      "H     \t     2.62230000\t     2.57030000\t    -0.00190000\n",
      "H     \t     1.19870000\t     3.16110000\t    -0.89230000\n",
      "H     \t     1.19900000\t     3.16320000\t     0.88770000\n",
      "H     \t    -3.55200000\t     1.67970000\t    -0.00010000\n",
      "H     \t    -3.50370000\t    -1.43330000\t    -1.02440000\n",
      "H     \t    -2.83890000\t    -2.02440000\t     0.51730000\n",
      "H     \t    -4.16720000\t    -0.83950000\t     0.51680000\n",
      "\n"
     ]
    },
    {
     "data": {
      "image/png": "[encoded data removed]",
      "text/plain": [
       "Molecule(_atoms='caffeine.mol', _charge=0, _multiplicity=1, _file=True, _addHs=False, _removeHs=False)"
      ]
     },
     "execution_count": 20,
     "metadata": {},
     "output_type": "execute_result"
    }
   ],
   "source": [
    "# NOTE: Only smile format allow to ger the charge and multuplicity from atoms input\n",
    "caffeine = 'caffeine.mol'\n",
    "caffeine_molecule = Molecule(caffeine, file=True, addHs=False)\n",
    "print(caffeine_molecule)\n",
    "caffeine_molecule"
   ]
  },
  {
   "cell_type": "code",
   "execution_count": 21,
   "metadata": {},
   "outputs": [
    {
     "name": "stdout",
     "output_type": "stream",
     "text": [
      "15\n",
      "charge: 0 multiplicity: 1\n",
      "C     \t     1.83260000\t     0.00000000\t     0.00000000\n",
      "C     \t     2.26520000\t     1.33150000\t     0.00000000\n",
      "C     \t     1.13260000\t     2.15440000\t     0.00000000\n",
      "C     \t     0.00000000\t     1.33150000\t     0.00000000\n",
      "C     \t     0.43260000\t     0.00000000\t     0.00000000\n",
      "H     \t     2.42039365\t    -0.80901089\t     0.00000000\n",
      "H     \t     1.37861413\t    -0.89100888\t     0.00000000\n",
      "H     \t     3.21625491\t     1.64052194\t     0.00000000\n",
      "H     \t     2.42163701\t     2.31918794\t     0.00000000\n",
      "H     \t     1.13260000\t     3.15440000\t     0.00000000\n",
      "H     \t     0.24159112\t     2.60838588\t     0.00000000\n",
      "H     \t    -0.95105491\t     1.64052194\t     0.00000000\n",
      "H     \t    -0.70711596\t     0.62440240\t     0.00000000\n",
      "H     \t    -0.15519365\t    -0.80901089\t     0.00000000\n",
      "H     \t     0.88658587\t    -0.89100888\t     0.00000000\n",
      "\n"
     ]
    },
    {
     "data": {
      "image/png": "[encoded data removed]",
      "text/plain": [
       "Molecule(_atoms='cyclopentane_nH.mol', _charge=0, _multiplicity=1, _file=True, _addHs=True, _removeHs=False)"
      ]
     },
     "execution_count": 21,
     "metadata": {},
     "output_type": "execute_result"
    }
   ],
   "source": [
    "# NOTE: Only smile format allow to ger the charge and multuplicity from atoms input\n",
    "cyclopentane = 'cyclopentane_nH.mol'\n",
    "cyclopentane_molecule = Molecule(cyclopentane, file=True, addHs=True)\n",
    "print(cyclopentane_molecule)\n",
    "cyclopentane_molecule"
   ]
  },
  {
   "cell_type": "code",
   "execution_count": 22,
   "metadata": {},
   "outputs": [
    {
     "name": "stdout",
     "output_type": "stream",
     "text": [
      "7\n",
      "charge: 0 multiplicity: 1\n",
      "C     \t    -0.65991228\t    -0.02122752\t     0.00925033\n",
      "C     \t     0.80463111\t    -0.01016183\t    -0.01572571\n",
      "O     \t     1.38408053\t     1.12505239\t    -0.00325201\n",
      "O     \t     1.62103894\t    -1.11410765\t    -0.05158834\n",
      "H     \t    -1.11985708\t    -0.97334475\t    -0.23464737\n",
      "H     \t    -1.01711789\t     0.27018457\t     1.03703012\n",
      "H     \t    -1.01286333\t     0.72360479\t    -0.74106701\n",
      "\n"
     ]
    },
    {
     "data": {
      "image/png": "[encoded data removed]",
      "text/plain": [
       "Molecule(_atoms='carboxilix_acid.XYZ', _charge=0, _multiplicity=1, _file=True, _addHs=False, _removeHs=False)"
      ]
     },
     "execution_count": 22,
     "metadata": {},
     "output_type": "execute_result"
    }
   ],
   "source": [
    "# NOTE: Only smile format allow to ger the charge and multuplicity from atoms input\n",
    "carboxilic_acid = 'carboxilix_acid.XYZ'\n",
    "carboxilic_acid_molecule = Molecule(carboxilic_acid, file=True, addHs=False)\n",
    "print(carboxilic_acid_molecule)\n",
    "carboxilic_acid_molecule"
   ]
  },
  {
   "cell_type": "code",
   "execution_count": 23,
   "metadata": {},
   "outputs": [
    {
     "name": "stdout",
     "output_type": "stream",
     "text": [
      "3\n",
      "charge: 0 multiplicity: 1\n",
      "O     \t     0.00000000\t     0.00000000\t     0.00000000\n",
      "H     \t     0.58708000\t     0.75754000\t     0.00000000\n",
      "H     \t    -0.58708000\t     0.75754000\t     0.00000000\n",
      "\n",
      "6\n",
      "charge: 0 multiplicity: 1\n",
      "O     \t     0.00000000\t     0.00000000\t     0.00000000\n",
      "H     \t     0.58708000\t     0.75754000\t     0.00000000\n",
      "H     \t    -0.58708000\t     0.75754000\t     0.00000000\n",
      "O     \t     0.00000000\t     0.00000000\t     0.00000000\n",
      "H     \t     0.58708000\t     0.75754000\t     0.00000000\n",
      "H     \t    -0.58708000\t     0.75754000\t     0.00000000\n",
      "\n"
     ]
    },
    {
     "data": {
      "image/png": "[encoded data removed]",
      "text/plain": [
       "Molecule(_atoms=[('O', 0.0, 0.0, 0.0), ('H', 0.58708, 0.75754, 0.0), ('H', -0.58708, 0.75754, 0.0), ('O', 0.0, 0.0, 0.0), ('H', 0.58708, 0.75754, 0.0), ('H', -0.58708, 0.75754, 0.0)], _charge=0, _multiplicity=1, _file=False, _addHs=False, _removeHs=False)"
      ]
     },
     "execution_count": 23,
     "metadata": {},
     "output_type": "execute_result"
    }
   ],
   "source": [
    "water = [(\"O\", 0, 0, 0), (\"H\", 0.58708, 0.75754, 0), (\"H\", -0.58708, 0.75754, 0)]\n",
    "water_molecule = Molecule(water)\n",
    "print(water_molecule)\n",
    "water_molecule += water_molecule\n",
    "print(water_molecule)\n",
    "water_molecule"
   ]
  },
  {
   "cell_type": "code",
   "execution_count": 24,
   "metadata": {},
   "outputs": [
    {
     "name": "stdout",
     "output_type": "stream",
     "text": [
      "9\n",
      "charge: 0 multiplicity: 1\n",
      "O     \t     0.00000000\t     0.00000000\t     0.00000000\n",
      "H     \t     0.58708000\t     0.75754000\t     0.00000000\n",
      "H     \t    -0.58708000\t     0.75754000\t     0.00000000\n",
      "O     \t     0.00000000\t     0.00000000\t     0.00000000\n",
      "H     \t     0.58708000\t     0.75754000\t     0.00000000\n",
      "H     \t    -0.58708000\t     0.75754000\t     0.00000000\n",
      "O     \t     0.00000000\t     0.00000000\t     0.00000000\n",
      "H     \t     0.58708000\t     0.75754000\t     0.00000000\n",
      "H     \t    -0.58708000\t     0.75754000\t     0.00000000\n",
      "\n"
     ]
    },
    {
     "data": {
      "image/png": "[encoded data removed]",
      "text/plain": [
       "Molecule(_atoms=[('O', 0, 0, 0), ('H', 0.58708, 0.75754, 0), ('H', -0.58708, 0.75754, 0), ('O', 0, 0, 0), ('H', 0.58708, 0.75754, 0), ('H', -0.58708, 0.75754, 0), ('O', 0, 0, 0), ('H', 0.58708, 0.75754, 0), ('H', -0.58708, 0.75754, 0)], _charge=0, _multiplicity=1, _file=False, _addHs=False, _removeHs=False)"
      ]
     },
     "execution_count": 24,
     "metadata": {},
     "output_type": "execute_result"
    }
   ],
   "source": [
    "water_molecule = Molecule(3 * water)\n",
    "print(water_molecule)\n",
    "water_molecule"
   ]
  },
  {
   "cell_type": "code",
   "execution_count": 25,
   "metadata": {},
   "outputs": [
    {
     "name": "stdout",
     "output_type": "stream",
     "text": [
      "6\n",
      "charge: 0 multiplicity: 1\n",
      "O     \t     0.00000000\t     0.00000000\t     0.00000000\n",
      "H     \t     0.58708000\t     0.75754000\t     0.00000000\n",
      "H     \t    -0.58708000\t     0.75754000\t     0.00000000\n",
      "O     \t     0.00000000\t     0.00000000\t     0.00000000\n",
      "H     \t     0.58708000\t     0.75754000\t     0.00000000\n",
      "H     \t    -0.58708000\t     0.75754000\t     0.00000000\n",
      "\n"
     ]
    }
   ],
   "source": [
    "water_molecule = Molecule(water + water)\n",
    "print(water_molecule)"
   ]
  },
  {
   "cell_type": "code",
   "execution_count": 26,
   "metadata": {},
   "outputs": [
    {
     "name": "stdout",
     "output_type": "stream",
     "text": [
      "6\n",
      "charge: 0 multiplicity: 1\n",
      "O     \t     0.00000000\t     0.00000000\t     0.00000000\n",
      "H     \t     0.58708000\t     0.75754000\t     0.00000000\n",
      "H     \t    -0.58708000\t     0.75754000\t     0.00000000\n",
      "O     \t     0.00000000\t     0.00000000\t     0.00000000\n",
      "H     \t     0.58708000\t     0.75754000\t     0.00000000\n",
      "H     \t    -0.58708000\t     0.75754000\t     0.00000000\n",
      "\n"
     ]
    }
   ],
   "source": [
    "water_molecule = Molecule(water + water)\n",
    "w = Molecule(water_molecule)\n",
    "print(w)"
   ]
  },
  {
   "cell_type": "code",
   "execution_count": 27,
   "metadata": {},
   "outputs": [
    {
     "name": "stdout",
     "output_type": "stream",
     "text": [
      "6\n",
      "charge: 0 multiplicity: 1\n",
      "O     \t     0.00000000\t     0.00000000\t     0.00000000\n",
      "H     \t     0.58708000\t     0.75754000\t     0.00000000\n",
      "H     \t    -0.58708000\t     0.75754000\t     0.00000000\n",
      "O     \t     0.00000000\t     0.00000000\t     0.00000000\n",
      "H     \t     0.58708000\t     0.75754000\t     0.00000000\n",
      "H     \t    -0.58708000\t     0.75754000\t     0.00000000\n",
      "\n"
     ]
    },
    {
     "data": {
      "image/png": "[encoded data removed]",
      "text/plain": [
       "Molecule(_atoms=[('O', 0.0, 0.0, 0.0), ('H', 0.58708, 0.75754, 0.0), ('H', -0.58708, 0.75754, 0.0), ('O', 0.0, 0.0, 0.0), ('H', 0.58708, 0.75754, 0.0), ('H', -0.58708, 0.75754, 0.0)], _charge=0, _multiplicity=1, _file=False, _addHs=False, _removeHs=False)"
      ]
     },
     "execution_count": 27,
     "metadata": {},
     "output_type": "execute_result"
    }
   ],
   "source": [
    "water = [(\"O\", 0, 0, 0), (\"H\", 0.58708, 0.75754, 0), (\"H\", -0.58708, 0.75754, 0)]\n",
    "water_molecule = Molecule(water)\n",
    "water_molecule *= 2\n",
    "print(water_molecule)\n",
    "water_molecule"
   ]
  }
 ],
 "metadata": {
  "kernelspec": {
   "display_name": "vamcess",
   "language": "python",
   "name": "python3"
  },
  "language_info": {
   "codemirror_mode": {
    "name": "ipython",
    "version": 3
   },
   "file_extension": ".py",
   "mimetype": "text/x-python",
   "name": "python",
   "nbconvert_exporter": "python",
   "pygments_lexer": "ipython3",
   "version": "3.10.12"
  }
 },
 "nbformat": 4,
 "nbformat_minor": 2
}
