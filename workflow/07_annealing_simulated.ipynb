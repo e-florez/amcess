{
 "cells": [
  {
   "cell_type": "code",
   "execution_count": 1,
   "metadata": {},
   "outputs": [
    {
     "data": {
      "text/plain": [
       "'/home/danian/udemy/vamcess/bin/python'"
      ]
     },
     "execution_count": 1,
     "metadata": {},
     "output_type": "execute_result"
    }
   ],
   "source": [
    "# crating the path (PYTHONPATH) to our module.\n",
    "# assuming that our 'amcess' directory is out ('..') of our current directory\n",
    "import os\n",
    "import sys\n",
    "\n",
    "module_path = os.path.abspath(os.path.join(\"..\"))\n",
    "\n",
    "if module_path not in sys.path:\n",
    "    sys.path.append(module_path)\n",
    "\n",
    "sys.executable"
   ]
  },
  {
   "cell_type": "code",
   "execution_count": 2,
   "metadata": {},
   "outputs": [],
   "source": [
    "from amcess.molecule import Molecule\n",
    "from amcess.cluster import Cluster\n",
    "from amcess.search_engine import SearchConfig"
   ]
  },
  {
   "cell_type": "code",
   "execution_count": 3,
   "metadata": {},
   "outputs": [],
   "source": [
    "# py3Dmol: a simple IPython/Jupyter widget to embed an interactive \n",
    "# 3Dmol.js viewer in a notebook.\n",
    "import py3Dmol\n",
    "\n",
    "def visualize(\n",
    "        xyz_file: str, \n",
    "        sphere_radius: int, \n",
    "        sphere_center: tuple,\n",
    "        style='sphere',\n",
    "        ):\n",
    "        \"\"\"\n",
    "        Visualize the molecule with a sphere around the molecule.\n",
    "        \"\"\"\n",
    "\n",
    "        sr = sphere_radius\n",
    "        cx, cy, cz = sphere_center\n",
    "\n",
    "        if not xyz_file:\n",
    "                return None\n",
    "\n",
    "        # starting visualization\n",
    "        xyz_view = py3Dmol.view() # width=400, height=300)#, linked=False, viewergrid=(2,2))\n",
    "        xyz_view.addModelsAsFrames(xyz_file,'xyz')\n",
    "        # xyz_view.setStyle({style: {'radius': 0.6}})\n",
    "\n",
    "        if style == 'stick':\n",
    "                xyz_view.setStyle({'stick': {'radius': 0.15}})\n",
    "        else:\n",
    "                xyz_view.setStyle({'sphere': {'radius': 0.8}})\n",
    "\n",
    "\n",
    "        xyz_view.zoomTo()\n",
    "\n",
    "        # animation base on several XYZ coordinates snapshots\n",
    "        # xyz_view.animate({'loop': \"forward\", 'speed': 1, 'reps': 1})\n",
    "        xyz_view.animate({'loop': 'backAndForth', 'speed': 1})\n",
    "\n",
    "\n",
    "        # sphere center\n",
    "        sc = {\"x\": cx, \"y\": cy, \"z\": cz}\n",
    "\n",
    "        # 20% to check visually that everything is inside\n",
    "        xyz_view.addSphere({'center': sc, \n",
    "                'radius': sr, \n",
    "                'color' :'yellow',\n",
    "                'alpha': 0.5,\n",
    "                })\n",
    "\n",
    "        # cartesian 3D axes\n",
    "        x_axis = {'start': {'x': cx-sr, 'y':cy, 'z':cz}, 'end': {'x': cx+sr, 'y':cy, 'z':cz}}\n",
    "        y_axis = {'start': {'x': cx, 'y':cy-sr, 'z':cz}, 'end': {'x': cx, 'y':cy+sr, 'z':cz}}\n",
    "        z_axis = {'start': {'x': cx, 'y':cy, 'z':cz-sr}, 'end': {'x': cx, 'y':cy, 'z':cz+sr}}\n",
    "\n",
    "        xyz_view.addLine(x_axis)\n",
    "        xyz_view.addLine(y_axis)\n",
    "        xyz_view.addLine(z_axis)\n",
    "\n",
    "        xyz_view.addLabel(\"x\", {\n",
    "                'position':x_axis[\"end\"],\n",
    "                'inFront':'true',\n",
    "                'fontSize':20,\n",
    "                'showBackground':'false',\n",
    "                'fontColor': 'black',\n",
    "                })\n",
    "        xyz_view.addLabel(\"y\", {\n",
    "                'position':y_axis[\"end\"],\n",
    "                'inFront':'true',\n",
    "                'fontSize':20,\n",
    "                'showBackground':'false',\n",
    "                'fontColor': 'black',\n",
    "                })\n",
    "        xyz_view.addLabel(\"z\", {\n",
    "                'position':z_axis[\"end\"],\n",
    "                'inFront':'true',\n",
    "                'fontSize':20,\n",
    "                'showBackground':'false',\n",
    "                'fontColor': 'black',\n",
    "                })\n",
    "\n",
    "        return xyz_view"
   ]
  },
  {
   "cell_type": "code",
   "execution_count": 4,
   "metadata": {},
   "outputs": [],
   "source": [
    "h = {\n",
    "    \"atoms\": [\n",
    "        (\"H\", 0., 0., 0.74),\n",
    "        (\"H\", 0., 0., 0.),    ],\n",
    "    \"charge\": 0,\n",
    "    \"multiplicity\": 2,\n",
    "}\n",
    "\n",
    "hydrogen = Cluster(h, h)\n",
    "hydrogen.sphere_radius = 1.5\n",
    "hydrogen.sphere_center = (0, 0, 0)\n",
    "\n",
    "# avoiding atomic overlapping\n",
    "hydrogen = hydrogen.initialize_cluster(max_closeness=0.5)\n"
   ]
  },
  {
   "cell_type": "code",
   "execution_count": 5,
   "metadata": {},
   "outputs": [
    {
     "name": "stdout",
     "output_type": "stream",
     "text": [
      "*** Minimization: ASCEC ***\n"
     ]
    },
    {
     "name": "stdout",
     "output_type": "stream",
     "text": [
      " Current temperature  810.00 K, progress: 100.00%, with    2 configurations accepted (cycle    0/10  )Minima found: <amcess.ascec.Ascec object at 0x7fabf68d2950> Hartree\n"
     ]
    }
   ],
   "source": [
    "xyzfile_ascec = \"configurations_ascec.xyz\"\n",
    "# Define a search configuration method to optimize the Energy of Cluster HF using ASCEC (default search_methodology='ASCEC')\n",
    "SC_ascec = SearchConfig(\n",
    "    hydrogen, basis=\"sto-3g\", methodology=\"HF\", outxyz=xyzfile_ascec\n",
    ")\n",
    "# Define number of initial evaluations and maximum number of iterations\n",
    "SC_ascec.run(maxCycles=10, number_temperatures=2)\n",
    "print(f\"Minima found: {SC_ascec._search} Hartree\")"
   ]
  },
  {
   "cell_type": "code",
   "execution_count": 6,
   "metadata": {},
   "outputs": [
    {
     "data": {
      "application/3dmoljs_load.v0": "<div id=\"3dmolviewer_17109069934501069\"  style=\"position: relative; width: 640px; height: 480px;\">\n        <p id=\"3dmolwarning_17109069934501069\" style=\"background-color:#ffcccc;color:black\">You appear to be running in JupyterLab (or JavaScript failed to load for some other reason).  You need to install the 3dmol extension: <br>\n        <tt>jupyter labextension install jupyterlab_3dmol</tt></p>\n        </div>\n<script>\n\nvar loadScriptAsync = function(uri){\n  return new Promise((resolve, reject) => {\n    //this is to ignore the existence of requirejs amd\n    var savedexports, savedmodule;\n    if (typeof exports !== 'undefined') savedexports = exports;\n    else exports = {}\n    if (typeof module !== 'undefined') savedmodule = module;\n    else module = {}\n\n    var tag = document.createElement('script');\n    tag.src = uri;\n    tag.async = true;\n    tag.onload = () => {\n        exports = savedexports;\n        module = savedmodule;\n        resolve();\n    };\n  var firstScriptTag = document.getElementsByTagName('script')[0];\n  firstScriptTag.parentNode.insertBefore(tag, firstScriptTag);\n});\n};\n\nif(typeof $3Dmolpromise === 'undefined') {\n$3Dmolpromise = null;\n  $3Dmolpromise = loadScriptAsync('https://cdnjs.cloudflare.com/ajax/libs/3Dmol/2.0.4/3Dmol-min.js');\n}\n\nvar viewer_17109069934501069 = null;\nvar warn = document.getElementById(\"3dmolwarning_17109069934501069\");\nif(warn) {\n    warn.parentNode.removeChild(warn);\n}\n$3Dmolpromise.then(function() {\nviewer_17109069934501069 = $3Dmol.createViewer(document.getElementById(\"3dmolviewer_17109069934501069\"),{backgroundColor:\"white\"});\nviewer_17109069934501069.zoomTo();\n\tviewer_17109069934501069.addModelsAsFrames(\"4\\nEnergy: -1.9682407861108842\\nH 0.0 0.0 0.74\\nH 0.0 0.0 0.0\\nH 0.26867737277683246 0.17723706675245954 1.6268094717241297\\nH -0.14275938563840063 -0.3787551555815955 1.3637649079544056\\n4\\nEnergy: -1.9915404173466262\\nH 0.0 0.0 0.74\\nH 0.0 0.0 0.0\\nH -0.17236536215693712 0.21132235091304463 1.6785536380193882\\nH -0.616684634929214 -0.1568953603292818 1.2153084535106031\\n4\\nEnergy: -2.0710575197910437\\nH 0.0 0.0 0.74\\nH 0.0 0.0 0.0\\nH -0.6390567391693551 -0.5113976599225732 1.4757953591702184\\nH -0.9216888241987699 -0.6525127479135855 0.8066125467391048\\n\",\"xyz\");\n\tviewer_17109069934501069.setStyle({\"stick\": {\"radius\": 0.15}});\n\tviewer_17109069934501069.zoomTo();\n\tviewer_17109069934501069.animate({\"loop\": \"backAndForth\", \"speed\": 1});\n\tviewer_17109069934501069.addSphere({\"center\": {\"x\": 0, \"y\": 0, \"z\": 0}, \"radius\": 2.25, \"color\": \"yellow\", \"alpha\": 0.5});\n\tviewer_17109069934501069.addLine({\"start\": {\"x\": -2.25, \"y\": 0, \"z\": 0}, \"end\": {\"x\": 2.25, \"y\": 0, \"z\": 0}});\n\tviewer_17109069934501069.addLine({\"start\": {\"x\": 0, \"y\": -2.25, \"z\": 0}, \"end\": {\"x\": 0, \"y\": 2.25, \"z\": 0}});\n\tviewer_17109069934501069.addLine({\"start\": {\"x\": 0, \"y\": 0, \"z\": -2.25}, \"end\": {\"x\": 0, \"y\": 0, \"z\": 2.25}});\n\tviewer_17109069934501069.addLabel(\"x\",{\"position\": {\"x\": 2.25, \"y\": 0, \"z\": 0}, \"inFront\": \"true\", \"fontSize\": 20, \"showBackground\": \"false\", \"fontColor\": \"black\"});\n\tviewer_17109069934501069.addLabel(\"y\",{\"position\": {\"x\": 0, \"y\": 2.25, \"z\": 0}, \"inFront\": \"true\", \"fontSize\": 20, \"showBackground\": \"false\", \"fontColor\": \"black\"});\n\tviewer_17109069934501069.addLabel(\"z\",{\"position\": {\"x\": 0, \"y\": 0, \"z\": 2.25}, \"inFront\": \"true\", \"fontSize\": 20, \"showBackground\": \"false\", \"fontColor\": \"black\"});\nviewer_17109069934501069.render();\n});\n</script>",
      "text/html": [
       "<div id=\"3dmolviewer_17109069934501069\"  style=\"position: relative; width: 640px; height: 480px;\">\n",
       "        <p id=\"3dmolwarning_17109069934501069\" style=\"background-color:#ffcccc;color:black\">You appear to be running in JupyterLab (or JavaScript failed to load for some other reason).  You need to install the 3dmol extension: <br>\n",
       "        <tt>jupyter labextension install jupyterlab_3dmol</tt></p>\n",
       "        </div>\n",
       "<script>\n",
       "\n",
       "var loadScriptAsync = function(uri){\n",
       "  return new Promise((resolve, reject) => {\n",
       "    //this is to ignore the existence of requirejs amd\n",
       "    var savedexports, savedmodule;\n",
       "    if (typeof exports !== 'undefined') savedexports = exports;\n",
       "    else exports = {}\n",
       "    if (typeof module !== 'undefined') savedmodule = module;\n",
       "    else module = {}\n",
       "\n",
       "    var tag = document.createElement('script');\n",
       "    tag.src = uri;\n",
       "    tag.async = true;\n",
       "    tag.onload = () => {\n",
       "        exports = savedexports;\n",
       "        module = savedmodule;\n",
       "        resolve();\n",
       "    };\n",
       "  var firstScriptTag = document.getElementsByTagName('script')[0];\n",
       "  firstScriptTag.parentNode.insertBefore(tag, firstScriptTag);\n",
       "});\n",
       "};\n",
       "\n",
       "if(typeof $3Dmolpromise === 'undefined') {\n",
       "$3Dmolpromise = null;\n",
       "  $3Dmolpromise = loadScriptAsync('https://cdnjs.cloudflare.com/ajax/libs/3Dmol/2.0.4/3Dmol-min.js');\n",
       "}\n",
       "\n",
       "var viewer_17109069934501069 = null;\n",
       "var warn = document.getElementById(\"3dmolwarning_17109069934501069\");\n",
       "if(warn) {\n",
       "    warn.parentNode.removeChild(warn);\n",
       "}\n",
       "$3Dmolpromise.then(function() {\n",
       "viewer_17109069934501069 = $3Dmol.createViewer(document.getElementById(\"3dmolviewer_17109069934501069\"),{backgroundColor:\"white\"});\n",
       "viewer_17109069934501069.zoomTo();\n",
       "\tviewer_17109069934501069.addModelsAsFrames(\"4\\nEnergy: -1.9682407861108842\\nH 0.0 0.0 0.74\\nH 0.0 0.0 0.0\\nH 0.26867737277683246 0.17723706675245954 1.6268094717241297\\nH -0.14275938563840063 -0.3787551555815955 1.3637649079544056\\n4\\nEnergy: -1.9915404173466262\\nH 0.0 0.0 0.74\\nH 0.0 0.0 0.0\\nH -0.17236536215693712 0.21132235091304463 1.6785536380193882\\nH -0.616684634929214 -0.1568953603292818 1.2153084535106031\\n4\\nEnergy: -2.0710575197910437\\nH 0.0 0.0 0.74\\nH 0.0 0.0 0.0\\nH -0.6390567391693551 -0.5113976599225732 1.4757953591702184\\nH -0.9216888241987699 -0.6525127479135855 0.8066125467391048\\n\",\"xyz\");\n",
       "\tviewer_17109069934501069.setStyle({\"stick\": {\"radius\": 0.15}});\n",
       "\tviewer_17109069934501069.zoomTo();\n",
       "\tviewer_17109069934501069.animate({\"loop\": \"backAndForth\", \"speed\": 1});\n",
       "\tviewer_17109069934501069.addSphere({\"center\": {\"x\": 0, \"y\": 0, \"z\": 0}, \"radius\": 2.25, \"color\": \"yellow\", \"alpha\": 0.5});\n",
       "\tviewer_17109069934501069.addLine({\"start\": {\"x\": -2.25, \"y\": 0, \"z\": 0}, \"end\": {\"x\": 2.25, \"y\": 0, \"z\": 0}});\n",
       "\tviewer_17109069934501069.addLine({\"start\": {\"x\": 0, \"y\": -2.25, \"z\": 0}, \"end\": {\"x\": 0, \"y\": 2.25, \"z\": 0}});\n",
       "\tviewer_17109069934501069.addLine({\"start\": {\"x\": 0, \"y\": 0, \"z\": -2.25}, \"end\": {\"x\": 0, \"y\": 0, \"z\": 2.25}});\n",
       "\tviewer_17109069934501069.addLabel(\"x\",{\"position\": {\"x\": 2.25, \"y\": 0, \"z\": 0}, \"inFront\": \"true\", \"fontSize\": 20, \"showBackground\": \"false\", \"fontColor\": \"black\"});\n",
       "\tviewer_17109069934501069.addLabel(\"y\",{\"position\": {\"x\": 0, \"y\": 2.25, \"z\": 0}, \"inFront\": \"true\", \"fontSize\": 20, \"showBackground\": \"false\", \"fontColor\": \"black\"});\n",
       "\tviewer_17109069934501069.addLabel(\"z\",{\"position\": {\"x\": 0, \"y\": 0, \"z\": 2.25}, \"inFront\": \"true\", \"fontSize\": 20, \"showBackground\": \"false\", \"fontColor\": \"black\"});\n",
       "viewer_17109069934501069.render();\n",
       "});\n",
       "</script>"
      ]
     },
     "metadata": {},
     "output_type": "display_data"
    }
   ],
   "source": [
    "xyz_file = open(\"configurations_ascec.xyz\", \"r\").read()\n",
    "\n",
    "view = visualize(\n",
    "    xyz_file=xyz_file,\n",
    "    sphere_radius=hydrogen.sphere_radius * 1.5,\n",
    "    sphere_center=hydrogen.sphere_center,\n",
    "    style=\"stick\",\n",
    ")\n",
    "view.show()"
   ]
  },
  {
   "cell_type": "code",
   "execution_count": 7,
   "metadata": {},
   "outputs": [],
   "source": [
    "water = {\n",
    "    \"atoms\": [\n",
    "        (\"O\", 0, 0, 0),\n",
    "        (\"H\", 0.58708, 0.75754, 0),\n",
    "        (\"H\", -0.58708, 0.75754, 0),\n",
    "    ],\n",
    "    \"charge\": 0,\n",
    "    \"multiplicity\": 1,\n",
    "}\n",
    "\n",
    "water_dimer = Cluster(water, water)\n",
    "water_dimer.sphere_radius = 1.5\n",
    "water_dimer.sphere_center = (0, 0, 0)\n",
    "\n",
    "w4 = Cluster(2 * water_dimer)\n",
    "w4.sphere_radius = 2.0\n",
    "w4.sphere_center = (0, 0, 0)\n",
    "\n",
    "# avoiding atomic overlapping\n",
    "w4 = w4.initialize_cluster(max_closeness=1.0)"
   ]
  },
  {
   "cell_type": "code",
   "execution_count": 11,
   "metadata": {},
   "outputs": [
    {
     "name": "stdout",
     "output_type": "stream",
     "text": [
      "*** Minimization: ASCEC ***\n",
      "*** Exception in SCF Calculation \n",
      "\n",
      "*** Exception in SCF Calculation \n",
      "\n",
      " Current temperature  810.00 K, progress: 100.00%, with    2 configurations accepted (cycle    0/10  )"
     ]
    }
   ],
   "source": [
    "xyzfile_ascec = 'configurations_ascec.xyz'\n",
    "# Define a search configuration method to optimize the Energy of Cluster HF using ASCEC (default search_methodology='ASCEC')\n",
    "SC_ascec = SearchConfig(water_dimer,  basis='sto-3g', outxyz=xyzfile_ascec)\n",
    "# Define number of initial evaluations and maximum number of iterations\n",
    "SC_ascec.run(maxCycles=10, number_temperatures=2)\n",
    "#print(f'Minima found: {SC_ascec._search.run} Hartree')"
   ]
  },
  {
   "cell_type": "code",
   "execution_count": 13,
   "metadata": {},
   "outputs": [
    {
     "data": {
      "application/3dmoljs_load.v0": "<div id=\"3dmolviewer_1710907445721548\"  style=\"position: relative; width: 640px; height: 480px;\">\n        <p id=\"3dmolwarning_1710907445721548\" style=\"background-color:#ffcccc;color:black\">You appear to be running in JupyterLab (or JavaScript failed to load for some other reason).  You need to install the 3dmol extension: <br>\n        <tt>jupyter labextension install jupyterlab_3dmol</tt></p>\n        </div>\n<script>\n\nvar loadScriptAsync = function(uri){\n  return new Promise((resolve, reject) => {\n    //this is to ignore the existence of requirejs amd\n    var savedexports, savedmodule;\n    if (typeof exports !== 'undefined') savedexports = exports;\n    else exports = {}\n    if (typeof module !== 'undefined') savedmodule = module;\n    else module = {}\n\n    var tag = document.createElement('script');\n    tag.src = uri;\n    tag.async = true;\n    tag.onload = () => {\n        exports = savedexports;\n        module = savedmodule;\n        resolve();\n    };\n  var firstScriptTag = document.getElementsByTagName('script')[0];\n  firstScriptTag.parentNode.insertBefore(tag, firstScriptTag);\n});\n};\n\nif(typeof $3Dmolpromise === 'undefined') {\n$3Dmolpromise = null;\n  $3Dmolpromise = loadScriptAsync('https://cdnjs.cloudflare.com/ajax/libs/3Dmol/2.0.4/3Dmol-min.js');\n}\n\nvar viewer_1710907445721548 = null;\nvar warn = document.getElementById(\"3dmolwarning_1710907445721548\");\nif(warn) {\n    warn.parentNode.removeChild(warn);\n}\n$3Dmolpromise.then(function() {\nviewer_1710907445721548 = $3Dmol.createViewer(document.getElementById(\"3dmolviewer_1710907445721548\"),{backgroundColor:\"white\"});\nviewer_1710907445721548.zoomTo();\n\tviewer_1710907445721548.addModelsAsFrames(\"6\\nEnergy: -146.9248643395564\\nO 0 0 0\\nH 0.58708 0.75754 0\\nH -0.58708 0.75754 0\\nO 0.7045530800371382 0.628126346612861 0.41896795424661587\\nH 0.7162418040648505 0.7335307890378078 -0.533546116645615\\nH 0.46072691287693746 1.5440069410043238 0.2766959787029162\\n6\\nEnergy: -149.23555540224112\\nO 0 0 0\\nH 0.58708 0.75754 0\\nH -0.58708 0.75754 0\\nO 0.9283440074975273 -0.7668390602860667 0.173097670697964\\nH 1.7630082324046998 -0.3117037076044082 0.29441222217243\\nH 1.551075268981373 -1.2630963400022237 -0.360254245300712\\n6\\nEnergy: -149.482325809112\\nO 0 0 0\\nH 0.58708 0.75754 0\\nH -0.58708 0.75754 0\\nO 1.230346571295372 -0.1253533366624137 0.741886187009748\\nH 1.1688319902855027 0.64731126705326 1.3055661888619348\\nH 1.7116920576020795 -0.36840574360461853 1.5342004102140026\\n\",\"xyz\");\n\tviewer_1710907445721548.setStyle({\"sphere\": {\"radius\": 0.8}});\n\tviewer_1710907445721548.zoomTo();\n\tviewer_1710907445721548.animate({\"loop\": \"backAndForth\", \"speed\": 1});\n\tviewer_1710907445721548.addSphere({\"center\": {\"x\": 0, \"y\": 0, \"z\": 0}, \"radius\": 2.4, \"color\": \"yellow\", \"alpha\": 0.5});\n\tviewer_1710907445721548.addLine({\"start\": {\"x\": -2.4, \"y\": 0, \"z\": 0}, \"end\": {\"x\": 2.4, \"y\": 0, \"z\": 0}});\n\tviewer_1710907445721548.addLine({\"start\": {\"x\": 0, \"y\": -2.4, \"z\": 0}, \"end\": {\"x\": 0, \"y\": 2.4, \"z\": 0}});\n\tviewer_1710907445721548.addLine({\"start\": {\"x\": 0, \"y\": 0, \"z\": -2.4}, \"end\": {\"x\": 0, \"y\": 0, \"z\": 2.4}});\n\tviewer_1710907445721548.addLabel(\"x\",{\"position\": {\"x\": 2.4, \"y\": 0, \"z\": 0}, \"inFront\": \"true\", \"fontSize\": 20, \"showBackground\": \"false\", \"fontColor\": \"black\"});\n\tviewer_1710907445721548.addLabel(\"y\",{\"position\": {\"x\": 0, \"y\": 2.4, \"z\": 0}, \"inFront\": \"true\", \"fontSize\": 20, \"showBackground\": \"false\", \"fontColor\": \"black\"});\n\tviewer_1710907445721548.addLabel(\"z\",{\"position\": {\"x\": 0, \"y\": 0, \"z\": 2.4}, \"inFront\": \"true\", \"fontSize\": 20, \"showBackground\": \"false\", \"fontColor\": \"black\"});\nviewer_1710907445721548.render();\n});\n</script>",
      "text/html": [
       "<div id=\"3dmolviewer_1710907445721548\"  style=\"position: relative; width: 640px; height: 480px;\">\n",
       "        <p id=\"3dmolwarning_1710907445721548\" style=\"background-color:#ffcccc;color:black\">You appear to be running in JupyterLab (or JavaScript failed to load for some other reason).  You need to install the 3dmol extension: <br>\n",
       "        <tt>jupyter labextension install jupyterlab_3dmol</tt></p>\n",
       "        </div>\n",
       "<script>\n",
       "\n",
       "var loadScriptAsync = function(uri){\n",
       "  return new Promise((resolve, reject) => {\n",
       "    //this is to ignore the existence of requirejs amd\n",
       "    var savedexports, savedmodule;\n",
       "    if (typeof exports !== 'undefined') savedexports = exports;\n",
       "    else exports = {}\n",
       "    if (typeof module !== 'undefined') savedmodule = module;\n",
       "    else module = {}\n",
       "\n",
       "    var tag = document.createElement('script');\n",
       "    tag.src = uri;\n",
       "    tag.async = true;\n",
       "    tag.onload = () => {\n",
       "        exports = savedexports;\n",
       "        module = savedmodule;\n",
       "        resolve();\n",
       "    };\n",
       "  var firstScriptTag = document.getElementsByTagName('script')[0];\n",
       "  firstScriptTag.parentNode.insertBefore(tag, firstScriptTag);\n",
       "});\n",
       "};\n",
       "\n",
       "if(typeof $3Dmolpromise === 'undefined') {\n",
       "$3Dmolpromise = null;\n",
       "  $3Dmolpromise = loadScriptAsync('https://cdnjs.cloudflare.com/ajax/libs/3Dmol/2.0.4/3Dmol-min.js');\n",
       "}\n",
       "\n",
       "var viewer_1710907445721548 = null;\n",
       "var warn = document.getElementById(\"3dmolwarning_1710907445721548\");\n",
       "if(warn) {\n",
       "    warn.parentNode.removeChild(warn);\n",
       "}\n",
       "$3Dmolpromise.then(function() {\n",
       "viewer_1710907445721548 = $3Dmol.createViewer(document.getElementById(\"3dmolviewer_1710907445721548\"),{backgroundColor:\"white\"});\n",
       "viewer_1710907445721548.zoomTo();\n",
       "\tviewer_1710907445721548.addModelsAsFrames(\"6\\nEnergy: -146.9248643395564\\nO 0 0 0\\nH 0.58708 0.75754 0\\nH -0.58708 0.75754 0\\nO 0.7045530800371382 0.628126346612861 0.41896795424661587\\nH 0.7162418040648505 0.7335307890378078 -0.533546116645615\\nH 0.46072691287693746 1.5440069410043238 0.2766959787029162\\n6\\nEnergy: -149.23555540224112\\nO 0 0 0\\nH 0.58708 0.75754 0\\nH -0.58708 0.75754 0\\nO 0.9283440074975273 -0.7668390602860667 0.173097670697964\\nH 1.7630082324046998 -0.3117037076044082 0.29441222217243\\nH 1.551075268981373 -1.2630963400022237 -0.360254245300712\\n6\\nEnergy: -149.482325809112\\nO 0 0 0\\nH 0.58708 0.75754 0\\nH -0.58708 0.75754 0\\nO 1.230346571295372 -0.1253533366624137 0.741886187009748\\nH 1.1688319902855027 0.64731126705326 1.3055661888619348\\nH 1.7116920576020795 -0.36840574360461853 1.5342004102140026\\n\",\"xyz\");\n",
       "\tviewer_1710907445721548.setStyle({\"sphere\": {\"radius\": 0.8}});\n",
       "\tviewer_1710907445721548.zoomTo();\n",
       "\tviewer_1710907445721548.animate({\"loop\": \"backAndForth\", \"speed\": 1});\n",
       "\tviewer_1710907445721548.addSphere({\"center\": {\"x\": 0, \"y\": 0, \"z\": 0}, \"radius\": 2.4, \"color\": \"yellow\", \"alpha\": 0.5});\n",
       "\tviewer_1710907445721548.addLine({\"start\": {\"x\": -2.4, \"y\": 0, \"z\": 0}, \"end\": {\"x\": 2.4, \"y\": 0, \"z\": 0}});\n",
       "\tviewer_1710907445721548.addLine({\"start\": {\"x\": 0, \"y\": -2.4, \"z\": 0}, \"end\": {\"x\": 0, \"y\": 2.4, \"z\": 0}});\n",
       "\tviewer_1710907445721548.addLine({\"start\": {\"x\": 0, \"y\": 0, \"z\": -2.4}, \"end\": {\"x\": 0, \"y\": 0, \"z\": 2.4}});\n",
       "\tviewer_1710907445721548.addLabel(\"x\",{\"position\": {\"x\": 2.4, \"y\": 0, \"z\": 0}, \"inFront\": \"true\", \"fontSize\": 20, \"showBackground\": \"false\", \"fontColor\": \"black\"});\n",
       "\tviewer_1710907445721548.addLabel(\"y\",{\"position\": {\"x\": 0, \"y\": 2.4, \"z\": 0}, \"inFront\": \"true\", \"fontSize\": 20, \"showBackground\": \"false\", \"fontColor\": \"black\"});\n",
       "\tviewer_1710907445721548.addLabel(\"z\",{\"position\": {\"x\": 0, \"y\": 0, \"z\": 2.4}, \"inFront\": \"true\", \"fontSize\": 20, \"showBackground\": \"false\", \"fontColor\": \"black\"});\n",
       "viewer_1710907445721548.render();\n",
       "});\n",
       "</script>"
      ]
     },
     "metadata": {},
     "output_type": "display_data"
    }
   ],
   "source": [
    "xyz_file = open(\"configurations_ascec.xyz\", \"r\").read()\n",
    "\n",
    "view = visualize(\n",
    "    xyz_file=xyz_file,\n",
    "    sphere_radius=w4.sphere_radius * 1.2,\n",
    "    sphere_center=w4.sphere_center,\n",
    "    # style=\"stick\",\n",
    "    style=\"sphere\",\n",
    ")\n",
    "view.show()"
   ]
  }
 ],
 "metadata": {
  "interpreter": {
   "hash": "b3703989f9013642079ee253d020f2743e0b9a3952eee770e7a00b04908ab01d"
  },
  "kernelspec": {
   "display_name": "Python 3.8.10 64-bit ('venv_amcess': venv)",
   "language": "python",
   "name": "python3"
  },
  "language_info": {
   "codemirror_mode": {
    "name": "ipython",
    "version": 3
   },
   "file_extension": ".py",
   "mimetype": "text/x-python",
   "name": "python",
   "nbconvert_exporter": "python",
   "pygments_lexer": "ipython3",
   "version": "3.10.12"
  },
  "orig_nbformat": 4
 },
 "nbformat": 4,
 "nbformat_minor": 2
}
