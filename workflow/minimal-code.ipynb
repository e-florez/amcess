{
 "cells": [
  {
   "cell_type": "code",
   "execution_count": 1,
   "metadata": {},
   "outputs": [],
   "source": [
    "# Create the path (PYTHONPATH) to modules, assuming that the 'amcess' directory is in the parent directory\n",
    "import os\n",
    "import sys\n",
    "module_path = os.path.abspath(os.path.join('..'))\n",
    "\n",
    "if module_path not in sys.path:\n",
    "    sys.path.append(module_path)"
   ]
  },
  {
   "cell_type": "code",
   "execution_count": 2,
   "metadata": {},
   "outputs": [],
   "source": [
    "def animate_optimization(outxyz, SC_object):\n",
    "    import py3Dmol\n",
    "\n",
    "    # read calculations and convert them to a single string to plot\n",
    "    water_xyz = \"\"\n",
    "    with open(outxyz, 'r') as f:\n",
    "        lines = f.readlines()\n",
    "        for line in lines:\n",
    "            water_xyz += line\n",
    "\n",
    "    # 20% to check visually that everything is inside\n",
    "    sr = SC_object.sphere_radius * 1.2\n",
    "\n",
    "    # sphere center\n",
    "    cx, cy, cz = SC_object.sphere_center\n",
    "    sc = {\"x\": cx, \"y\": cy, \"z\": cz}\n",
    "\n",
    "    # axes\n",
    "    x_axis = {'start': {'x': cx-sr, 'y':cy, 'z':cz}, 'end': {'x': cx+sr, 'y':cy, 'z':cz}}\n",
    "    y_axis = {'start': {'x': cx, 'y':cy-sr, 'z':cz}, 'end': {'x': cx, 'y':cy+sr, 'z':cz}}\n",
    "    z_axis = {'start': {'x': cx, 'y':cy, 'z':cz-sr}, 'end': {'x': cx, 'y':cy, 'z':cz+sr}}\n",
    "\n",
    "    # starting visualization\n",
    "    xyz_view = py3Dmol.view(width=700, height=500)#, linked=False, viewergrid=(2,2))\n",
    "    xyz_view.addModelsAsFrames(water_xyz,'xyz')\n",
    "    # xyz_view.setStyle({'stick': {}})\n",
    "    xyz_view.setStyle({'sphere': {'radius': 0.8}})\n",
    "    xyz_view.addSphere({'center': sc, \n",
    "        'radius': sr, \n",
    "        'color' :'yellow',\n",
    "        'alpha': 0.5,\n",
    "        })\n",
    "\n",
    "    # animation base on several XYZ coordinates snapshots\n",
    "    xyz_view.animate({'loop': \"forward\", 'step': 1, 'reps': 1})\n",
    "\n",
    "    # cartesian 3D axes\n",
    "    xyz_view.addLine(x_axis)\n",
    "    xyz_view.addLine(y_axis)\n",
    "    xyz_view.addLine(z_axis)\n",
    "\n",
    "    xyz_view.addLabel(\"x\", {\n",
    "        'position':x_axis[\"end\"],\n",
    "        'inFront':'true',\n",
    "        'fontSize':20,\n",
    "        'showBackground':'false',\n",
    "        'fontColor': 'black',\n",
    "        })\n",
    "    xyz_view.addLabel(\"y\", {\n",
    "        'position':y_axis[\"end\"],\n",
    "        'inFront':'true',\n",
    "        'fontSize':20,\n",
    "        'showBackground':'false',\n",
    "        'fontColor': 'black',\n",
    "        })\n",
    "    xyz_view.addLabel(\"z\", {\n",
    "        'position':z_axis[\"end\"],\n",
    "        'inFront':'true',\n",
    "        'fontSize':20,\n",
    "        'showBackground':'false',\n",
    "        'fontColor': 'black',\n",
    "        })\n",
    "\n",
    "    xyz_view.rotate(-15, \"y\", 1)\n",
    "    xyz_view.rotate(-5, \"z\", 1)\n",
    "    xyz_view.rotate(5, \"x\", 1)\n",
    "    xyz_view.render()\n",
    "    xyz_view.zoomTo()\n",
    "    xyz_view.show()\n",
    "\n",
    "    return xyz_view"
   ]
  },
  {
   "cell_type": "code",
   "execution_count": 3,
   "metadata": {},
   "outputs": [],
   "source": [
    "from amcess.base_molecule import Cluster\n",
    "from amcess.search_engine import SearchConfig"
   ]
  },
  {
   "cell_type": "code",
   "execution_count": 4,
   "metadata": {},
   "outputs": [],
   "source": [
    "# Define a water dimer\n",
    "water = {\n",
    "    \"atoms\": [\n",
    "        (\"O\", 0, 0, 0),\n",
    "        (\"H\", 0.58708, 0.75754, 0),\n",
    "        (\"H\", -0.58708, 0.75754, 0),\n",
    "    ],\n",
    "    \"charge\": 0,\n",
    "    \"multiplicity\": 1,\n",
    "}\n",
    "\n",
    "water_dimer = Cluster(water, water).initialize_cluster(max_closeness=2.976)"
   ]
  },
  {
   "cell_type": "code",
   "execution_count": 5,
   "metadata": {},
   "outputs": [
    {
     "name": "stdout",
     "output_type": "stream",
     "text": [
      "\n",
      "\n",
      "*** Cost function is Hartree--Fock implemented into pyscf ***\n",
      "\n",
      "\n",
      "*** Minimization: Dual Annealing ***\n",
      "Accept 2\n",
      "Accept 1\n",
      "Accept 2\n",
      "Accept 1\n",
      "Accept 2\n"
     ]
    }
   ],
   "source": [
    "# Define the search configuration method\n",
    "cluster_opt = SearchConfig(water_dimer, search_methodology=\"dual_annealing\", basis=\"6-31G(2df,p)\")\n",
    "cluster_opt.run(maxfun=5, maxiter=8, seed=58)"
   ]
  },
  {
   "cell_type": "code",
   "execution_count": 6,
   "metadata": {},
   "outputs": [
    {
     "data": {
      "application/3dmoljs_load.v0": "<div id=\"3dmolviewer_39520724055351\"  style=\"position: relative; width: 700px; height: 500px\">\n        <p id=\"3dmolwarning_39520724055351\" style=\"background-color:#ffcccc;color:black\">You appear to be running in JupyterLab (or JavaScript failed to load for some other reason).  You need to install the 3dmol extension: <br>\n        <tt>jupyter labextension install jupyterlab_3dmol</tt></p>\n        </div>\n<script>\n\nvar loadScriptAsync = function(uri){\n  return new Promise((resolve, reject) => {\n    var tag = document.createElement('script');\n    tag.src = uri;\n    tag.async = true;\n    tag.onload = () => {\n      resolve();\n    };\n  var firstScriptTag = document.getElementsByTagName('script')[0];\n  firstScriptTag.parentNode.insertBefore(tag, firstScriptTag);\n});\n};\n\nif(typeof $3Dmolpromise === 'undefined') {\n$3Dmolpromise = null;\n  $3Dmolpromise = loadScriptAsync('https://3dmol.org/build/3Dmol.js');\n}\n\nvar viewer_39520724055351 = null;\nvar warn = document.getElementById(\"3dmolwarning_39520724055351\");\nif(warn) {\n    warn.parentNode.removeChild(warn);\n}\n$3Dmolpromise.then(function() {\nviewer_39520724055351 = $3Dmol.createViewer($(\"#3dmolviewer_39520724055351\"),{backgroundColor:\"white\"});\nviewer_39520724055351.zoomTo();\n\tviewer_39520724055351.addModelsAsFrames(\"6\\nEnergy: -151.99460255246498\\nO 0.0 0.0 0.0\\nH 0.58708 0.7575399999999999 0.0\\nH -0.58708 0.7575399999999999 0.0\\nO 0.12159001288485466 0.4999588086778494 -2.990801054457983\\nH 0.9615205875215547 0.6897155326758091 -2.570041273243065\\nH 0.3566825986835701 1.37287841764773 -3.3090346327905413\\n6\\nEnergy: -151.99773594476508\\nO 0.0 0.0 0.0\\nH 0.58708 0.7575399999999999 0.0\\nH -0.58708 0.7575399999999999 0.0\\nO 1.7412972033481882 2.556374607870847 -4.054923005168904\\nH 2.566964974348462 2.7306398841335726 -3.600572784061314\\nH 2.0127036213848375 3.418287920940567 -4.374256334155551\\n6\\nEnergy: -151.99668638230483\\nO 0.0 0.0 0.0\\nH 0.58708 0.7575399999999999 0.0\\nH -0.58708 0.7575399999999999 0.0\\nO 3.40282692723152 -1.417711989340395 -3.463719629104762\\nH 4.209544166921049 -1.2677691515763572 -2.9684881492986266\\nH 3.719841597513617 -0.5683233284657844 -3.774477379778126\\n6\\nEnergy: -151.99777023381034\\nO 0.0 0.0 0.0\\nH 0.58708 0.7575399999999999 0.0\\nH -0.58708 0.7575399999999999 0.0\\nO 0.8889800239105018 -3.0515410525254616 -2.033763674872986\\nH 1.6793973709221304 -2.8924381088579962 -1.5156358442564035\\nH 1.2350153125281476 -2.224743195981809 -2.3731670653188153\\n6\\nEnergy: -151.99735717073207\\nO 0.0 0.0 0.0\\nH 0.58708 0.7575399999999999 0.0\\nH -0.58708 0.7575399999999999 0.0\\nO 3.326377987670107 1.0056418640773062 -3.6966282489689166\\nH 4.106493860373377 1.166986526829908 -3.1637897153044836\\nH 3.682458776561618 1.8278583177881012 -4.036769915087083\\n\",\"xyz\");\n\tviewer_39520724055351.setStyle({\"sphere\": {\"radius\": 0.8}});\n\tviewer_39520724055351.addSphere({\"center\": {\"x\": 0.0, \"y\": 0.0847738351373855, \"z\": 0.0}, \"radius\": 6.12230790684, \"color\": \"yellow\", \"alpha\": 0.5});\n\tviewer_39520724055351.animate({\"loop\": \"forward\", \"step\": 1, \"reps\": 1});\n\tviewer_39520724055351.addLine({\"start\": {\"x\": -6.12230790684, \"y\": 0.0847738351373855, \"z\": 0.0}, \"end\": {\"x\": 6.12230790684, \"y\": 0.0847738351373855, \"z\": 0.0}});\n\tviewer_39520724055351.addLine({\"start\": {\"x\": 0.0, \"y\": -6.0375340717026145, \"z\": 0.0}, \"end\": {\"x\": 0.0, \"y\": 6.207081741977385, \"z\": 0.0}});\n\tviewer_39520724055351.addLine({\"start\": {\"x\": 0.0, \"y\": 0.0847738351373855, \"z\": -6.12230790684}, \"end\": {\"x\": 0.0, \"y\": 0.0847738351373855, \"z\": 6.12230790684}});\n\tviewer_39520724055351.addLabel(\"x\",{\"position\": {\"x\": 6.12230790684, \"y\": 0.0847738351373855, \"z\": 0.0}, \"inFront\": \"true\", \"fontSize\": 20, \"showBackground\": \"false\", \"fontColor\": \"black\"});\n\tviewer_39520724055351.addLabel(\"y\",{\"position\": {\"x\": 0.0, \"y\": 6.207081741977385, \"z\": 0.0}, \"inFront\": \"true\", \"fontSize\": 20, \"showBackground\": \"false\", \"fontColor\": \"black\"});\n\tviewer_39520724055351.addLabel(\"z\",{\"position\": {\"x\": 0.0, \"y\": 0.0847738351373855, \"z\": 6.12230790684}, \"inFront\": \"true\", \"fontSize\": 20, \"showBackground\": \"false\", \"fontColor\": \"black\"});\n\tviewer_39520724055351.rotate(-15,\"y\",1);\n\tviewer_39520724055351.rotate(-5,\"z\",1);\n\tviewer_39520724055351.rotate(5,\"x\",1);\n\tviewer_39520724055351.render();\n\tviewer_39520724055351.zoomTo();\nviewer_39520724055351.render();\n});\n</script>",
      "text/html": [
       "<div id=\"3dmolviewer_39520724055351\"  style=\"position: relative; width: 700px; height: 500px\">\n",
       "        <p id=\"3dmolwarning_39520724055351\" style=\"background-color:#ffcccc;color:black\">You appear to be running in JupyterLab (or JavaScript failed to load for some other reason).  You need to install the 3dmol extension: <br>\n",
       "        <tt>jupyter labextension install jupyterlab_3dmol</tt></p>\n",
       "        </div>\n",
       "<script>\n",
       "\n",
       "var loadScriptAsync = function(uri){\n",
       "  return new Promise((resolve, reject) => {\n",
       "    var tag = document.createElement('script');\n",
       "    tag.src = uri;\n",
       "    tag.async = true;\n",
       "    tag.onload = () => {\n",
       "      resolve();\n",
       "    };\n",
       "  var firstScriptTag = document.getElementsByTagName('script')[0];\n",
       "  firstScriptTag.parentNode.insertBefore(tag, firstScriptTag);\n",
       "});\n",
       "};\n",
       "\n",
       "if(typeof $3Dmolpromise === 'undefined') {\n",
       "$3Dmolpromise = null;\n",
       "  $3Dmolpromise = loadScriptAsync('https://3dmol.org/build/3Dmol.js');\n",
       "}\n",
       "\n",
       "var viewer_39520724055351 = null;\n",
       "var warn = document.getElementById(\"3dmolwarning_39520724055351\");\n",
       "if(warn) {\n",
       "    warn.parentNode.removeChild(warn);\n",
       "}\n",
       "$3Dmolpromise.then(function() {\n",
       "viewer_39520724055351 = $3Dmol.createViewer($(\"#3dmolviewer_39520724055351\"),{backgroundColor:\"white\"});\n",
       "viewer_39520724055351.zoomTo();\n",
       "\tviewer_39520724055351.addModelsAsFrames(\"6\\nEnergy: -151.99460255246498\\nO 0.0 0.0 0.0\\nH 0.58708 0.7575399999999999 0.0\\nH -0.58708 0.7575399999999999 0.0\\nO 0.12159001288485466 0.4999588086778494 -2.990801054457983\\nH 0.9615205875215547 0.6897155326758091 -2.570041273243065\\nH 0.3566825986835701 1.37287841764773 -3.3090346327905413\\n6\\nEnergy: -151.99773594476508\\nO 0.0 0.0 0.0\\nH 0.58708 0.7575399999999999 0.0\\nH -0.58708 0.7575399999999999 0.0\\nO 1.7412972033481882 2.556374607870847 -4.054923005168904\\nH 2.566964974348462 2.7306398841335726 -3.600572784061314\\nH 2.0127036213848375 3.418287920940567 -4.374256334155551\\n6\\nEnergy: -151.99668638230483\\nO 0.0 0.0 0.0\\nH 0.58708 0.7575399999999999 0.0\\nH -0.58708 0.7575399999999999 0.0\\nO 3.40282692723152 -1.417711989340395 -3.463719629104762\\nH 4.209544166921049 -1.2677691515763572 -2.9684881492986266\\nH 3.719841597513617 -0.5683233284657844 -3.774477379778126\\n6\\nEnergy: -151.99777023381034\\nO 0.0 0.0 0.0\\nH 0.58708 0.7575399999999999 0.0\\nH -0.58708 0.7575399999999999 0.0\\nO 0.8889800239105018 -3.0515410525254616 -2.033763674872986\\nH 1.6793973709221304 -2.8924381088579962 -1.5156358442564035\\nH 1.2350153125281476 -2.224743195981809 -2.3731670653188153\\n6\\nEnergy: -151.99735717073207\\nO 0.0 0.0 0.0\\nH 0.58708 0.7575399999999999 0.0\\nH -0.58708 0.7575399999999999 0.0\\nO 3.326377987670107 1.0056418640773062 -3.6966282489689166\\nH 4.106493860373377 1.166986526829908 -3.1637897153044836\\nH 3.682458776561618 1.8278583177881012 -4.036769915087083\\n\",\"xyz\");\n",
       "\tviewer_39520724055351.setStyle({\"sphere\": {\"radius\": 0.8}});\n",
       "\tviewer_39520724055351.addSphere({\"center\": {\"x\": 0.0, \"y\": 0.0847738351373855, \"z\": 0.0}, \"radius\": 6.12230790684, \"color\": \"yellow\", \"alpha\": 0.5});\n",
       "\tviewer_39520724055351.animate({\"loop\": \"forward\", \"step\": 1, \"reps\": 1});\n",
       "\tviewer_39520724055351.addLine({\"start\": {\"x\": -6.12230790684, \"y\": 0.0847738351373855, \"z\": 0.0}, \"end\": {\"x\": 6.12230790684, \"y\": 0.0847738351373855, \"z\": 0.0}});\n",
       "\tviewer_39520724055351.addLine({\"start\": {\"x\": 0.0, \"y\": -6.0375340717026145, \"z\": 0.0}, \"end\": {\"x\": 0.0, \"y\": 6.207081741977385, \"z\": 0.0}});\n",
       "\tviewer_39520724055351.addLine({\"start\": {\"x\": 0.0, \"y\": 0.0847738351373855, \"z\": -6.12230790684}, \"end\": {\"x\": 0.0, \"y\": 0.0847738351373855, \"z\": 6.12230790684}});\n",
       "\tviewer_39520724055351.addLabel(\"x\",{\"position\": {\"x\": 6.12230790684, \"y\": 0.0847738351373855, \"z\": 0.0}, \"inFront\": \"true\", \"fontSize\": 20, \"showBackground\": \"false\", \"fontColor\": \"black\"});\n",
       "\tviewer_39520724055351.addLabel(\"y\",{\"position\": {\"x\": 0.0, \"y\": 6.207081741977385, \"z\": 0.0}, \"inFront\": \"true\", \"fontSize\": 20, \"showBackground\": \"false\", \"fontColor\": \"black\"});\n",
       "\tviewer_39520724055351.addLabel(\"z\",{\"position\": {\"x\": 0.0, \"y\": 0.0847738351373855, \"z\": 6.12230790684}, \"inFront\": \"true\", \"fontSize\": 20, \"showBackground\": \"false\", \"fontColor\": \"black\"});\n",
       "\tviewer_39520724055351.rotate(-15,\"y\",1);\n",
       "\tviewer_39520724055351.rotate(-5,\"z\",1);\n",
       "\tviewer_39520724055351.rotate(5,\"x\",1);\n",
       "\tviewer_39520724055351.render();\n",
       "\tviewer_39520724055351.zoomTo();\n",
       "viewer_39520724055351.render();\n",
       "});\n",
       "</script>"
      ]
     },
     "metadata": {},
     "output_type": "display_data"
    }
   ],
   "source": [
    "xyz_opt = animate_optimization(\"configurations.xyz\", cluster_opt)"
   ]
  },
  {
   "cell_type": "code",
   "execution_count": 9,
   "metadata": {},
   "outputs": [
    {
     "data": {
      "application/3dmoljs_load.v0": "<img id=\"img_39520724055351\">\n            <script>\n            var png = viewer_39520724055351.pngURI()\n            $('#img_39520724055351').attr('src', png)\n            </script>",
      "text/html": [
       "<img id=\"img_39520724055351\">\n",
       "            <script>\n",
       "            var png = viewer_39520724055351.pngURI()\n",
       "            $('#img_39520724055351').attr('src', png)\n",
       "            </script>"
      ]
     },
     "metadata": {},
     "output_type": "display_data"
    }
   ],
   "source": [
    "xyz_opt.png() # You can right click on the image to save final optimization"
   ]
  },
  {
   "cell_type": "code",
   "execution_count": null,
   "metadata": {},
   "outputs": [],
   "source": []
  }
 ],
 "metadata": {
  "interpreter": {
   "hash": "18499a005e754947919ec5cf7177bdee4137be8b2658c273f1990f80578be88f"
  },
  "kernelspec": {
   "display_name": "Python 3 (ipykernel)",
   "language": "python",
   "name": "python3"
  },
  "language_info": {
   "codemirror_mode": {
    "name": "ipython",
    "version": 3
   },
   "file_extension": ".py",
   "mimetype": "text/x-python",
   "name": "python",
   "nbconvert_exporter": "python",
   "pygments_lexer": "ipython3",
   "version": "3.8.8"
  }
 },
 "nbformat": 4,
 "nbformat_minor": 2
}
