{
 "cells": [
  {
   "cell_type": "markdown",
   "metadata": {},
   "source": [
    "# Initialize cluster and Moving randomly any molecule\n",
    "# avoiding that any atoms overlaps each other:"
   ]
  },
  {
   "cell_type": "code",
   "execution_count": 1,
   "metadata": {},
   "outputs": [],
   "source": [
    "# crating the path (PYTHONPATH) to our module.\n",
    "# assuming that our 'amcess' directory is out ('..') of our current directory \n",
    "import os\n",
    "import sys\n",
    "module_path = os.path.abspath(os.path.join('..'))\n",
    "\n",
    "if module_path not in sys.path:\n",
    "    sys.path.append(module_path)"
   ]
  },
  {
   "cell_type": "code",
   "execution_count": 2,
   "metadata": {},
   "outputs": [],
   "source": [
    "\n",
    "def visualize(\n",
    "        xyz_file: str, \n",
    "        sphere_radius: int, \n",
    "        sphere_center: tuple,\n",
    "        style='sphere',\n",
    "        ):\n",
    "        \"\"\"\n",
    "        Visualize the molecule with a sphere around the molecule.\n",
    "        \"\"\"\n",
    "\n",
    "        sr = sphere_radius\n",
    "        cx, cy, cz = sphere_center\n",
    "\n",
    "        if not xyz_file:\n",
    "                return None\n",
    "\n",
    "        # starting visualization\n",
    "        xyz_view = py3Dmol.view() # width=400, height=300)#, linked=False, viewergrid=(2,2))\n",
    "        xyz_view.addModelsAsFrames(xyz_file,'xyz')\n",
    "        # xyz_view.setStyle({style: {'radius': 0.6}})\n",
    "\n",
    "        if style == 'stick':\n",
    "                xyz_view.setStyle({'stick': {'radius': 0.15}})\n",
    "        else:\n",
    "                xyz_view.setStyle({'sphere': {'radius': 0.8}})\n",
    "\n",
    "\n",
    "        xyz_view.zoomTo()\n",
    "\n",
    "        # animation base on several XYZ coordinates snapshots\n",
    "        xyz_view.animate({'loop': \"forward\", 'speed': 1, 'reps': 1})\n",
    "\n",
    "        # sphere center\n",
    "        sc = {\"x\": cx, \"y\": cy, \"z\": cz}\n",
    "\n",
    "        # 20% to check visually that everything is inside\n",
    "        xyz_view.addSphere({'center': sc, \n",
    "                'radius': sr, \n",
    "                'color' :'yellow',\n",
    "                'alpha': 0.5,\n",
    "                })\n",
    "\n",
    "        # cartesian 3D axes\n",
    "        x_axis = {'start': {'x': cx-sr, 'y':cy, 'z':cz}, 'end': {'x': cx+sr, 'y':cy, 'z':cz}}\n",
    "        y_axis = {'start': {'x': cx, 'y':cy-sr, 'z':cz}, 'end': {'x': cx, 'y':cy+sr, 'z':cz}}\n",
    "        z_axis = {'start': {'x': cx, 'y':cy, 'z':cz-sr}, 'end': {'x': cx, 'y':cy, 'z':cz+sr}}\n",
    "\n",
    "        xyz_view.addLine(x_axis)\n",
    "        xyz_view.addLine(y_axis)\n",
    "        xyz_view.addLine(z_axis)\n",
    "\n",
    "        xyz_view.addLabel(\"x\", {\n",
    "                'position':x_axis[\"end\"],\n",
    "                'inFront':'true',\n",
    "                'fontSize':20,\n",
    "                'showBackground':'false',\n",
    "                'fontColor': 'black',\n",
    "                })\n",
    "        xyz_view.addLabel(\"y\", {\n",
    "                'position':y_axis[\"end\"],\n",
    "                'inFront':'true',\n",
    "                'fontSize':20,\n",
    "                'showBackground':'false',\n",
    "                'fontColor': 'black',\n",
    "                })\n",
    "        xyz_view.addLabel(\"z\", {\n",
    "                'position':z_axis[\"end\"],\n",
    "                'inFront':'true',\n",
    "                'fontSize':20,\n",
    "                'showBackground':'false',\n",
    "                'fontColor': 'black',\n",
    "                })\n",
    "\n",
    "        return xyz_view\n",
    "\n",
    "# xyz_view.show()"
   ]
  },
  {
   "cell_type": "code",
   "execution_count": 3,
   "metadata": {},
   "outputs": [
    {
     "name": "stdout",
     "output_type": "stream",
     "text": [
      "Requirement already satisfied: py3Dmol in /home/edison/repo_gitlab/amcess/venv_amcess/lib/python3.8/site-packages (1.7.0)\n",
      "warning in stationary: failed to import cython module: falling back to numpy\n",
      "warning in coregionalize: failed to import cython module: falling back to numpy\n",
      "warning in choleskies: failed to import cython module: falling back to numpy\n"
     ]
    }
   ],
   "source": [
    "# py3Dmol: a simple IPython/Jupyter widget to embed an interactive \n",
    "# 3Dmol.js viewer in a notebook.\n",
    "!pip install py3Dmol\n",
    "import py3Dmol\n",
    "\n",
    "# importing de Molecule Class\n",
    "from amcess.base_molecule import Molecule, Cluster"
   ]
  },
  {
   "cell_type": "code",
   "execution_count": 4,
   "metadata": {},
   "outputs": [],
   "source": [
    "hf = {\"atoms\": [(\"H\", 0, 0, 0), (\"F\", 1, 0, 0)]}\n",
    "cc = {\"atoms\": [(\"C\", 0, 0, 0), (\"C\", 1.2, 0, 0)]}\n",
    "ab = Cluster(hf, cc)\n"
   ]
  },
  {
   "cell_type": "code",
   "execution_count": 17,
   "metadata": {},
   "outputs": [
    {
     "name": "stdout",
     "output_type": "stream",
     "text": [
      "H          0.00000000     0.00000000     0.00000000;F          1.00000000     0.00000000     0.00000000;C          0.00000000     0.00000000     0.00000000;C          1.20000000     0.00000000     0.00000000;\n"
     ]
    }
   ],
   "source": [
    "xyz_data = ab.xyz.replace('\\t', '').split('\\n')\n",
    "xyz_data = xyz_data[2:]\n",
    "xyz_data = ';'.join(xyz_data)\n",
    "\n",
    "print(xyz_data)"
   ]
  },
  {
   "cell_type": "code",
   "execution_count": null,
   "metadata": {},
   "outputs": [],
   "source": [
    "ab_xyz = \"\"\n",
    "\n",
    "ab.sphere_radius = 4\n",
    "# ab.freeze_molecule = 0\n",
    "\n",
    "for _ in range(100):\n",
    "    mol = ab.random_generator.choice(ab.total_molecules)\n",
    "\n",
    "    ab = ab.move_molecule(\n",
    "        molecule=mol,\n",
    "        max_step=3,\n",
    "        max_rotation=10,\n",
    "        max_closeness=0.5,\n",
    "    )\n",
    "    # print(ab.xyz)\n",
    "    ab_xyz += ab.xyz\n",
    "\n",
    "# file_name = \"cluster_test.xyz\"\n",
    "# with open(file_name, \"w\") as f:\n",
    "#     f.write(ab_xyz)"
   ]
  },
  {
   "cell_type": "code",
   "execution_count": null,
   "metadata": {},
   "outputs": [],
   "source": [
    "view = visualize(        \n",
    "    xyz_file = ab_xyz,\n",
    "    sphere_radius = ab.sphere_radius * 1.2,\n",
    "    sphere_center = ab.sphere_center,\n",
    ")\n",
    "view.show()\n"
   ]
  },
  {
   "cell_type": "code",
   "execution_count": null,
   "metadata": {},
   "outputs": [],
   "source": [
    "ab_xyz = \"\"\n",
    "ab.sphere_radius = 4\n",
    "ab.freeze_molecule = None\n"
   ]
  },
  {
   "cell_type": "code",
   "execution_count": null,
   "metadata": {},
   "outputs": [],
   "source": [
    "ab.freeze_molecule = 0\n",
    "\n",
    "for _ in range(100):\n",
    "    mol = ab.random_generator.choice(ab.total_molecules)\n",
    "\n",
    "    ab = ab.move_molecule(\n",
    "        molecule=mol,\n",
    "        max_step=4.0,\n",
    "        max_rotation=30,\n",
    "        max_closeness=1.0,\n",
    "    )\n",
    "    # print(ab.xyz)\n",
    "    ab_xyz += ab.xyz\n",
    "\n",
    "# file_name = \"cluster_test.xyz\"\n",
    "# with open(file_name, \"w\") as f:\n",
    "#     f.write(ab_xyz)\n",
    "\n",
    "# print(ab.freeze_molecule)\n",
    "# print(ab.cluster_dictionary)\n",
    "\n",
    "view = visualize(        \n",
    "    xyz_file = ab_xyz,\n",
    "    sphere_radius = ab.sphere_radius * 1.2,\n",
    "    sphere_center = ab.sphere_center,\n",
    ")\n",
    "view.show()"
   ]
  },
  {
   "cell_type": "code",
   "execution_count": null,
   "metadata": {},
   "outputs": [],
   "source": [
    "import numpy as np\n",
    "\n",
    "def overlapping(\n",
    "    first_coordinates: list,\n",
    "    second_coordinates: list,\n",
    "    max_closeness: float = 1.0,\n",
    ") -> bool:\n",
    "    for first_atom in first_coordinates:\n",
    "        for second_atom in second_coordinates:\n",
    "            distance = np.linalg.norm(\n",
    "                np.asarray(first_atom) - np.asarray(second_atom)\n",
    "            )\n",
    "\n",
    "            if distance < max_closeness:\n",
    "                return True\n",
    "\n",
    "    return False"
   ]
  },
  {
   "cell_type": "code",
   "execution_count": null,
   "metadata": {},
   "outputs": [],
   "source": [
    "\n",
    "def initialize_cluster(mol, max_closeness: float = 1.0) -> object:\n",
    "    # center of mass coordinates\n",
    "    sc_x = mol.sphere_center[0]\n",
    "    sc_y = mol.sphere_center[1]\n",
    "    sc_z = mol.sphere_center[2]\n",
    "\n",
    "    # initializing a new cluster moving the first molecule\n",
    "    # to the center of the cluster sphere\n",
    "    molecule = mol.get_molecule(0)\n",
    "    new_cluster = molecule.translate(0, sc_x, sc_y, sc_z)\n",
    "\n",
    "    for i in range(1, mol.total_molecules):\n",
    "        # moving the next single molecule into the cluster sphere\n",
    "        molecule = mol.get_molecule(i).translate(0, sc_x, sc_y, sc_z)\n",
    "\n",
    "        if overlapping(molecule.coordinates, new_cluster.coordinates):\n",
    "            new_cluster += molecule\n",
    "            new_cluster = new_cluster.move_molecule(\n",
    "                i,\n",
    "                max_step=None,\n",
    "                max_rotation=None,\n",
    "                max_closeness=max_closeness,\n",
    "            )\n",
    "        else:\n",
    "            new_cluster += molecule\n",
    "\n",
    "    return Cluster(\n",
    "        new_cluster,\n",
    "        freeze_molecule=mol.freeze_molecule,\n",
    "        sphere_radius=mol.sphere_radius,\n",
    "        sphere_center=mol.sphere_center,\n",
    "    )"
   ]
  },
  {
   "cell_type": "code",
   "execution_count": null,
   "metadata": {},
   "outputs": [],
   "source": [
    "hf6 = 6 * Cluster(hf)\n",
    "\n",
    "hf6.sphere_radius = 4\n",
    "hf6.sphere_center = 10, 10, 10\n",
    "\n",
    "print(hf6.seed)"
   ]
  },
  {
   "cell_type": "code",
   "execution_count": null,
   "metadata": {},
   "outputs": [],
   "source": [
    "hf6.seed = 932570\n",
    "\n",
    "new_hf6 = initialize_cluster(hf6, max_closeness=4.0)\n",
    "print(new_hf6.xyz)"
   ]
  },
  {
   "cell_type": "code",
   "execution_count": null,
   "metadata": {},
   "outputs": [],
   "source": [
    "new_view = visualize(\n",
    "    xyz_file = new_hf6.xyz,\n",
    "    sphere_radius = new_hf6.sphere_radius * 1.2,\n",
    "    sphere_center = new_hf6.sphere_center,\n",
    ")\n",
    "new_view.show()"
   ]
  },
  {
   "cell_type": "code",
   "execution_count": null,
   "metadata": {},
   "outputs": [],
   "source": [
    "water_molecule=[\n",
    "    (\"O\", 0, 0, 0), (\"H\", 0.58708, 0.75754, 0), (\"H\", -0.58708, 0.75754, 0)\n",
    "    ]\n",
    "\n",
    "w2 = Cluster(water_molecule, water_molecule)\n",
    "\n",
    "# the water dimer was initialized with the same water molecule, so\n",
    "# both molecules has the same coordinates an those atoms overlap each other\n",
    "print(w2.xyz)"
   ]
  },
  {
   "cell_type": "code",
   "execution_count": null,
   "metadata": {},
   "outputs": [],
   "source": [
    "#let's move any molecule randomly to avoid averlaping\n",
    "new_w2 = w2.move_molecule(\n",
    "    molecule = 1,\n",
    "    max_step = 1.4,\n",
    "    max_rotation = 30,\n",
    "    max_closeness = 1.2,\n",
    ")\n",
    "print(new_w2.xyz)"
   ]
  },
  {
   "cell_type": "code",
   "execution_count": null,
   "metadata": {},
   "outputs": [],
   "source": [
    "new_w2 = w2.move_molecule(1)\n",
    "print(new_w2.xyz)"
   ]
  },
  {
   "cell_type": "code",
   "execution_count": null,
   "metadata": {},
   "outputs": [],
   "source": [
    "from copy import deepcopy\n",
    "from numpy import random\n",
    "random_gen = random.default_rng(1234)\n",
    "\n",
    "# freeze ibuprofen molecule to avoid be moved (just water molecules dancing)\n",
    "# w2.freeze_molecule = 0\n",
    "\n",
    "w2.sphere_radius = 4\n",
    "\n",
    "new_w2 = deepcopy(w2)\n",
    "new_w2 = new_w2.initialize_cluster(max_closeness=1)\n",
    "\n",
    "# to save snapshot and show as a movie\n",
    "w2_xyz = \"\"\n",
    "\n",
    "total_steps = 100\n",
    "\n",
    "for i in range(total_steps):\n",
    "    # # molecule to be selected between [0, w.total_molecules]\n",
    "    # # freeze molecules will not be moved or rotated\n",
    "    mol = random_gen.choice(new_w2.total_molecules)\n",
    "\n",
    "    print(new_w2.xyz)\n",
    "\n",
    "\n",
    "    # saving coordinates as a string\n",
    "    w2_xyz += new_w2.xyz\n",
    "    # if i % 10 == 0: \n",
    "    #     w2_xyz += new_w2.xyz\n",
    "\n",
    "    #----------------------------------------------------------\n",
    "\n",
    "    new_w2 = new_w2.move_molecule(\n",
    "        molecule=mol,\n",
    "        max_step=2,\n",
    "        max_rotation=30,\n",
    "        max_closeness=0.5,\n",
    "    )\n",
    "\n",
    "# # file_name = \"w2.xyz\"\n",
    "# # with open(file_name, \"w\") as f:\n",
    "# #     f.write(w2_xyz)"
   ]
  },
  {
   "cell_type": "code",
   "execution_count": null,
   "metadata": {},
   "outputs": [],
   "source": [
    "new_view = visualize(\n",
    "    xyz_file = w2_xyz,\n",
    "    sphere_radius =w2.sphere_radius * 1.2,\n",
    "    sphere_center = w2.sphere_center,\n",
    ")\n",
    "new_view.show()"
   ]
  },
  {
   "cell_type": "code",
   "execution_count": null,
   "metadata": {},
   "outputs": [],
   "source": [
    "# for several molecules we could move randomly one-by-one\n",
    "# or we could just `initialize` this cluster with all its molecules \n",
    "# moved around avoiding overlapping\n",
    "w6 = 3 * w2\n",
    "\n",
    "# let's define the spherical boundary conditions\n",
    "w6.sphere_radius = 10\n",
    "\n",
    "# maximum closeness is the minimum distance for two atoms\n",
    "new_w6 = w6.initialize_cluster(max_closeness=3)\n",
    "\n",
    "print(new_w6.xyz)"
   ]
  },
  {
   "cell_type": "markdown",
   "metadata": {},
   "source": [
    "!pip install py3Dmol\n",
    "import py3Dmol"
   ]
  },
  {
   "cell_type": "code",
   "execution_count": null,
   "metadata": {},
   "outputs": [],
   "source": [
    "new_view = visualize(\n",
    "    xyz_file = new_w6.xyz,\n",
    "    sphere_radius =new_w6.sphere_radius * 1.2,\n",
    "    sphere_center = new_w6.sphere_center,\n",
    ")\n",
    "new_view.show()\n"
   ]
  },
  {
   "cell_type": "code",
   "execution_count": null,
   "metadata": {},
   "outputs": [],
   "source": [
    "from data.molecules_coordinates import water, ibuprofen \n",
    "\n",
    "# let's create a molecular object for the ibuprofen\n",
    "ibu = Molecule(ibuprofen[\"atoms\"])\n",
    "\n",
    "# let's create a molecular object for one water molecule\n",
    "w = Molecule(water[\"atoms\"])"
   ]
  },
  {
   "cell_type": "code",
   "execution_count": null,
   "metadata": {},
   "outputs": [],
   "source": [
    "w6_overlap = Cluster(6 * w)\n",
    "\n",
    "# let's initialize a cluster of six water without overlapping\n",
    "w6 = Cluster(6 * w).initialize_cluster(max_closeness=2)\n",
    "\n",
    "\n",
    "print(w6.xyz)\n"
   ]
  },
  {
   "cell_type": "code",
   "execution_count": null,
   "metadata": {},
   "outputs": [],
   "source": [
    "new_view = visualize(\n",
    "    xyz_file = w6.xyz,\n",
    "    sphere_radius = 5,\n",
    "    sphere_center = w6.sphere_center,\n",
    ")\n",
    "new_view.show()"
   ]
  },
  {
   "cell_type": "code",
   "execution_count": null,
   "metadata": {},
   "outputs": [],
   "source": [
    "ibu_w6 = Cluster(ibu + w6)\n",
    "\n",
    "# let's define a sphere with center around the carboxylic acid group\n",
    "ibu_w6.sphere_center = -3, 0.2, 0.2\n",
    "ibu_w6.sphere_radius = 4\n",
    "\n",
    "ibu_w6 = ibu_w6.initialize_cluster(max_closeness=2)\n",
    "\n",
    "print(ibu_w6.xyz)"
   ]
  },
  {
   "cell_type": "code",
   "execution_count": null,
   "metadata": {},
   "outputs": [],
   "source": [
    "new_view = visualize(\n",
    "    xyz_file = ibu_w6.xyz,\n",
    "    sphere_radius = ibu_w6.sphere_radius * 1.2,\n",
    "    sphere_center = ibu_w6.sphere_center,\n",
    "    style='stick',\n",
    ")\n",
    "new_view.show()"
   ]
  },
  {
   "cell_type": "code",
   "execution_count": null,
   "metadata": {},
   "outputs": [],
   "source": [
    "from numpy import random\n",
    "random_gen = random.default_rng(1234)\n",
    "\n",
    "new_ibu_w6 = deepcopy(ibu_w6)\n",
    "\n",
    "# to save snapshot and show as a movie\n",
    "new_ibu_w6_xyz = \"\"\n",
    "\n",
    "# freeze ibuprofen molecule to avoid be moved (just water molecules dancing)\n",
    "# new_ibu_w6.freeze_molecule = 0\n",
    "\n",
    "new_ibu_w6.sphere_radius = 3 \n",
    "new_ibu_w6.sphere_center = -6.12410200, 0.37976300, 0.38520700\n",
    "\n",
    "\n",
    "# to avoid overlapping and any molecule out of the sphere\n",
    "ibu_w6 = ibu_w6.initialize_cluster(max_closeness=2)\n",
    "\n",
    "total_steps = 100\n",
    "\n",
    "for i in range(total_steps):\n",
    "    # # molecule to be selected between [0, w.total_molecules]\n",
    "    # # freeze molecules will not be moved or rotated\n",
    "    mol = random_gen.choice(new_ibu_w6.total_molecules)\n",
    "\n",
    "    if mol == 0:\n",
    "        continue\n",
    "\n",
    "    # saving coordinates as a string\n",
    "    new_ibu_w6_xyz += new_ibu_w6.xyz\n",
    "    # if i % 10 == 0: \n",
    "        # new_ibu_w6_xyz += new_ibu_w6.xyz\n",
    "\n",
    "    # #----------------------------------------------------------\n",
    "\n",
    "    new_ibu_w6 = new_ibu_w6.move_molecule(\n",
    "        molecule=mol,\n",
    "        max_closeness=0.5,\n",
    "        max_step=2,\n",
    "        max_rotation=30,    \n",
    "    )\n",
    "\n",
    "    #----------------------------------------------------------\n",
    "\n",
    "\n",
    "    # printing current step\n",
    "    print(\n",
    "        f\"\\r progress {100.0*((i + 1)/total_steps):.2f}\"\n",
    "        f\" % -- step {i + 1}/{total_steps}\", end=''\n",
    "        )\n",
    "# -------------------------------------------------------\n",
    "print(\"\\n *** JOB DONE ***\")\n",
    "print(f\"after {total_steps} steps\\n\")\n",
    "# print(new_ibu_w6_xyz)\n",
    "\n",
    "# open(\"new_ibu_w6.xyz\", \"w\").write(new_ibu_w6_xyz)"
   ]
  },
  {
   "cell_type": "code",
   "execution_count": null,
   "metadata": {},
   "outputs": [],
   "source": [
    "new_view = visualize(\n",
    "    xyz_file = new_ibu_w6_xyz,\n",
    "    sphere_radius = new_ibu_w6.sphere_radius * 1.2,\n",
    "    sphere_center = new_ibu_w6.sphere_center,\n",
    "    style='stick',\n",
    ")\n",
    "new_view.show()"
   ]
  },
  {
   "cell_type": "code",
   "execution_count": null,
   "metadata": {},
   "outputs": [],
   "source": []
  }
 ],
 "metadata": {
  "interpreter": {
   "hash": "bd4fb26c7546c0b8c0c8c9c4bcb8ed90887f88a72ca5d8753e4f0e87b9aee620"
  },
  "kernelspec": {
   "display_name": "Python 3.8.10 64-bit ('venv': venv)",
   "name": "python3"
  },
  "language_info": {
   "codemirror_mode": {
    "name": "ipython",
    "version": 3
   },
   "file_extension": ".py",
   "mimetype": "text/x-python",
   "name": "python",
   "nbconvert_exporter": "python",
   "pygments_lexer": "ipython3",
   "version": "3.8.10"
  }
 },
 "nbformat": 4,
 "nbformat_minor": 4
}
