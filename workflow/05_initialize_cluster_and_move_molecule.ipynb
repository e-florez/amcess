{
 "cells": [
  {
   "cell_type": "markdown",
   "metadata": {},
   "source": [
    "# Initialize cluster and Moving randomly any molecule\n",
    "# avoiding that any atoms overlaps each other:"
   ]
  },
  {
   "cell_type": "code",
   "execution_count": 1,
   "metadata": {},
   "outputs": [],
   "source": [
    "# crating the path (PYTHONPATH) to our module.\n",
    "# assuming that our 'amcess' directory is out ('..') of our current directory \n",
    "import os\n",
    "import sys\n",
    "module_path = os.path.abspath(os.path.join('..'))\n",
    "\n",
    "if module_path not in sys.path:\n",
    "    sys.path.append(module_path)"
   ]
  },
  {
   "cell_type": "code",
   "execution_count": 2,
   "metadata": {},
   "outputs": [
    {
     "name": "stdout",
     "output_type": "stream",
     "text": [
      "Requirement already satisfied: py3Dmol in /home/edison/repo_gitlab/amcess/venv/lib/python3.8/site-packages (1.7.0)\n"
     ]
    }
   ],
   "source": [
    "# py3Dmol: a simple IPython/Jupyter widget to embed an interactive \n",
    "# 3Dmol.js viewer in a notebook.\n",
    "!pip install py3Dmol\n",
    "import py3Dmol\n",
    "\n",
    "# importing de Molecule Class\n",
    "from amcess.base_molecule import Molecule, Cluster"
   ]
  },
  {
   "cell_type": "code",
   "execution_count": 3,
   "metadata": {},
   "outputs": [
    {
     "name": "stdout",
     "output_type": "stream",
     "text": [
      "\t6\n",
      "-- charge=0 and multiplicity=1 --\n",
      "O     \t     0.00000000\t     0.00000000\t     0.00000000\n",
      "H     \t     0.58708000\t     0.75754000\t     0.00000000\n",
      "H     \t    -0.58708000\t     0.75754000\t     0.00000000\n",
      "O     \t     0.00000000\t     0.00000000\t     0.00000000\n",
      "H     \t     0.58708000\t     0.75754000\t     0.00000000\n",
      "H     \t    -0.58708000\t     0.75754000\t     0.00000000\n",
      "\n"
     ]
    }
   ],
   "source": [
    "water_molecule=[\n",
    "    (\"O\", 0, 0, 0), (\"H\", 0.58708, 0.75754, 0), (\"H\", -0.58708, 0.75754, 0)\n",
    "    ]\n",
    "\n",
    "w2 = Cluster(water_molecule, water_molecule)\n",
    "\n",
    "# the water dimer was initialized with the same water molecule, so\n",
    "# both molecules has the same coordinates an those atoms overlap each other\n",
    "print(w2.xyz)"
   ]
  },
  {
   "cell_type": "code",
   "execution_count": 4,
   "metadata": {},
   "outputs": [
    {
     "name": "stdout",
     "output_type": "stream",
     "text": [
      "\t6\n",
      "-- charge=0 and multiplicity=1 --\n",
      "O     \t     0.00000000\t     0.00000000\t     0.00000000\n",
      "H     \t     0.58708000\t     0.75754000\t     0.00000000\n",
      "H     \t    -0.58708000\t     0.75754000\t     0.00000000\n",
      "O     \t     0.47843350\t    -0.50840457\t    -0.77980291\n",
      "H     \t     1.41040424\t    -0.28957442\t    -0.73426517\n",
      "H     \t     0.56243747\t     0.29012985\t    -1.30307711\n",
      "\n"
     ]
    }
   ],
   "source": [
    "#let's move any molecule randomly to avoid averlaping\n",
    "new_w2 = w2.move_molecule(1)\n",
    "print(new_w2.xyz)"
   ]
  },
  {
   "cell_type": "code",
   "execution_count": 5,
   "metadata": {},
   "outputs": [
    {
     "name": "stdout",
     "output_type": "stream",
     "text": [
      "\t18\n",
      "-- charge=0 and multiplicity=1 --\n",
      "O     \t     0.00000000\t     0.00000000\t     0.00000000\n",
      "H     \t     0.58708000\t     0.75754000\t     0.00000000\n",
      "H     \t    -0.58708000\t     0.75754000\t     0.00000000\n",
      "O     \t    -2.50926241\t    -2.68130255\t     2.74244852\n",
      "H     \t    -2.06041397\t    -1.88984373\t     3.04354283\n",
      "H     \t    -2.91720326\t    -1.97104064\t     2.24481204\n",
      "O     \t    -1.89169978\t     2.07294329\t    -2.57828087\n",
      "H     \t    -1.43033533\t     2.82502446\t    -2.20405295\n",
      "H     \t    -2.31286283\t     2.83518646\t    -2.97845184\n",
      "O     \t     2.66293041\t     1.13781634\t    -2.75465155\n",
      "H     \t     3.58437873\t     1.39073015\t    -2.68050728\n",
      "H     \t     2.67785033\t     2.06295628\t    -3.00449803\n",
      "O     \t    -2.08004984\t     2.84227601\t     2.00833842\n",
      "H     \t    -1.55869131\t     3.61325762\t     2.23703562\n",
      "H     \t    -2.34663974\t     3.50833930\t     1.37287064\n",
      "O     \t     0.88167518\t    -2.45248811\t    -1.86294638\n",
      "H     \t     1.52221096\t    -1.77867541\t    -2.09579856\n",
      "H     \t     0.47749952\t    -1.98019578\t    -2.59240630\n",
      "\n"
     ]
    }
   ],
   "source": [
    "# for several molecules we could move randomly one-by-one\n",
    "# or we could just `initialize` this cluster with all its molecules \n",
    "# moved around avoiding overlapping\n",
    "w6 = 3 * w2\n",
    "\n",
    "# let's define the spherical boundary conditions\n",
    "w6.sphere_radius = 10\n",
    "\n",
    "# maximum closeness is the minimum distance for two atoms\n",
    "new_w6 = w6.initialize_cluster(max_closeness=3)\n",
    "\n",
    "print(new_w6.xyz)"
   ]
  },
  {
   "cell_type": "markdown",
   "metadata": {},
   "source": [
    "!pip install py3Dmol\n",
    "import py3Dmol"
   ]
  },
  {
   "cell_type": "code",
   "execution_count": 6,
   "metadata": {},
   "outputs": [
    {
     "data": {
      "application/3dmoljs_load.v0": "<div id=\"3dmolviewer_16353289443883898\"  style=\"position: relative; width: 700px; height: 500px\">\n        <p id=\"3dmolwarning_16353289443883898\" style=\"background-color:#ffcccc;color:black\">You appear to be running in JupyterLab (or JavaScript failed to load for some other reason).  You need to install the 3dmol extension: <br>\n        <tt>jupyter labextension install jupyterlab_3dmol</tt></p>\n        </div>\n<script>\n\nvar loadScriptAsync = function(uri){\n  return new Promise((resolve, reject) => {\n    var tag = document.createElement('script');\n    tag.src = uri;\n    tag.async = true;\n    tag.onload = () => {\n      resolve();\n    };\n  var firstScriptTag = document.getElementsByTagName('script')[0];\n  firstScriptTag.parentNode.insertBefore(tag, firstScriptTag);\n});\n};\n\nif(typeof $3Dmolpromise === 'undefined') {\n$3Dmolpromise = null;\n  $3Dmolpromise = loadScriptAsync('https://3dmol.org/build/3Dmol.js');\n}\n\nvar viewer_16353289443883898 = null;\nvar warn = document.getElementById(\"3dmolwarning_16353289443883898\");\nif(warn) {\n    warn.parentNode.removeChild(warn);\n}\n$3Dmolpromise.then(function() {\nviewer_16353289443883898 = $3Dmol.createViewer($(\"#3dmolviewer_16353289443883898\"),{backgroundColor:\"white\"});\nviewer_16353289443883898.zoomTo();\n\tviewer_16353289443883898.addModelsAsFrames(\"\\t18\\n-- charge=0 and multiplicity=1 --\\nO     \\t     0.00000000\\t     0.00000000\\t     0.00000000\\nH     \\t     0.58708000\\t     0.75754000\\t     0.00000000\\nH     \\t    -0.58708000\\t     0.75754000\\t     0.00000000\\nO     \\t    -2.50926241\\t    -2.68130255\\t     2.74244852\\nH     \\t    -2.06041397\\t    -1.88984373\\t     3.04354283\\nH     \\t    -2.91720326\\t    -1.97104064\\t     2.24481204\\nO     \\t    -1.89169978\\t     2.07294329\\t    -2.57828087\\nH     \\t    -1.43033533\\t     2.82502446\\t    -2.20405295\\nH     \\t    -2.31286283\\t     2.83518646\\t    -2.97845184\\nO     \\t     2.66293041\\t     1.13781634\\t    -2.75465155\\nH     \\t     3.58437873\\t     1.39073015\\t    -2.68050728\\nH     \\t     2.67785033\\t     2.06295628\\t    -3.00449803\\nO     \\t    -2.08004984\\t     2.84227601\\t     2.00833842\\nH     \\t    -1.55869131\\t     3.61325762\\t     2.23703562\\nH     \\t    -2.34663974\\t     3.50833930\\t     1.37287064\\nO     \\t     0.88167518\\t    -2.45248811\\t    -1.86294638\\nH     \\t     1.52221096\\t    -1.77867541\\t    -2.09579856\\nH     \\t     0.47749952\\t    -1.98019578\\t    -2.59240630\\n\",\"xyz\");\n\tviewer_16353289443883898.setStyle({\"sphere\": {\"radius\": 0.8}});\n\tviewer_16353289443883898.addSphere({\"center\": {\"x\": 0, \"y\": 0, \"z\": 0}, \"radius\": 12.0, \"color\": \"yellow\", \"alpha\": 0.5});\n\tviewer_16353289443883898.animate({\"loop\": \"forward\", \"speed\": 1, \"reps\": 1});\n\tviewer_16353289443883898.addLine({\"start\": {\"x\": -12.0, \"y\": 0, \"z\": 0}, \"end\": {\"x\": 12.0, \"y\": 0, \"z\": 0}});\n\tviewer_16353289443883898.addLine({\"start\": {\"x\": 0, \"y\": -12.0, \"z\": 0}, \"end\": {\"x\": 0, \"y\": 12.0, \"z\": 0}});\n\tviewer_16353289443883898.addLine({\"start\": {\"x\": 0, \"y\": 0, \"z\": -12.0}, \"end\": {\"x\": 0, \"y\": 0, \"z\": 12.0}});\n\tviewer_16353289443883898.addLabel(\"x\",{\"position\": {\"x\": 12.0, \"y\": 0, \"z\": 0}, \"inFront\": \"true\", \"fontSize\": 20, \"showBackground\": \"false\", \"fontColor\": \"black\"});\n\tviewer_16353289443883898.addLabel(\"y\",{\"position\": {\"x\": 0, \"y\": 12.0, \"z\": 0}, \"inFront\": \"true\", \"fontSize\": 20, \"showBackground\": \"false\", \"fontColor\": \"black\"});\n\tviewer_16353289443883898.addLabel(\"z\",{\"position\": {\"x\": 0, \"y\": 0, \"z\": 12.0}, \"inFront\": \"true\", \"fontSize\": 20, \"showBackground\": \"false\", \"fontColor\": \"black\"});\n\tviewer_16353289443883898.zoomTo();\nviewer_16353289443883898.render();\n});\n</script>",
      "text/html": [
       "<div id=\"3dmolviewer_16353289443883898\"  style=\"position: relative; width: 700px; height: 500px\">\n",
       "        <p id=\"3dmolwarning_16353289443883898\" style=\"background-color:#ffcccc;color:black\">You appear to be running in JupyterLab (or JavaScript failed to load for some other reason).  You need to install the 3dmol extension: <br>\n",
       "        <tt>jupyter labextension install jupyterlab_3dmol</tt></p>\n",
       "        </div>\n",
       "<script>\n",
       "\n",
       "var loadScriptAsync = function(uri){\n",
       "  return new Promise((resolve, reject) => {\n",
       "    var tag = document.createElement('script');\n",
       "    tag.src = uri;\n",
       "    tag.async = true;\n",
       "    tag.onload = () => {\n",
       "      resolve();\n",
       "    };\n",
       "  var firstScriptTag = document.getElementsByTagName('script')[0];\n",
       "  firstScriptTag.parentNode.insertBefore(tag, firstScriptTag);\n",
       "});\n",
       "};\n",
       "\n",
       "if(typeof $3Dmolpromise === 'undefined') {\n",
       "$3Dmolpromise = null;\n",
       "  $3Dmolpromise = loadScriptAsync('https://3dmol.org/build/3Dmol.js');\n",
       "}\n",
       "\n",
       "var viewer_16353289443883898 = null;\n",
       "var warn = document.getElementById(\"3dmolwarning_16353289443883898\");\n",
       "if(warn) {\n",
       "    warn.parentNode.removeChild(warn);\n",
       "}\n",
       "$3Dmolpromise.then(function() {\n",
       "viewer_16353289443883898 = $3Dmol.createViewer($(\"#3dmolviewer_16353289443883898\"),{backgroundColor:\"white\"});\n",
       "viewer_16353289443883898.zoomTo();\n",
       "\tviewer_16353289443883898.addModelsAsFrames(\"\\t18\\n-- charge=0 and multiplicity=1 --\\nO     \\t     0.00000000\\t     0.00000000\\t     0.00000000\\nH     \\t     0.58708000\\t     0.75754000\\t     0.00000000\\nH     \\t    -0.58708000\\t     0.75754000\\t     0.00000000\\nO     \\t    -2.50926241\\t    -2.68130255\\t     2.74244852\\nH     \\t    -2.06041397\\t    -1.88984373\\t     3.04354283\\nH     \\t    -2.91720326\\t    -1.97104064\\t     2.24481204\\nO     \\t    -1.89169978\\t     2.07294329\\t    -2.57828087\\nH     \\t    -1.43033533\\t     2.82502446\\t    -2.20405295\\nH     \\t    -2.31286283\\t     2.83518646\\t    -2.97845184\\nO     \\t     2.66293041\\t     1.13781634\\t    -2.75465155\\nH     \\t     3.58437873\\t     1.39073015\\t    -2.68050728\\nH     \\t     2.67785033\\t     2.06295628\\t    -3.00449803\\nO     \\t    -2.08004984\\t     2.84227601\\t     2.00833842\\nH     \\t    -1.55869131\\t     3.61325762\\t     2.23703562\\nH     \\t    -2.34663974\\t     3.50833930\\t     1.37287064\\nO     \\t     0.88167518\\t    -2.45248811\\t    -1.86294638\\nH     \\t     1.52221096\\t    -1.77867541\\t    -2.09579856\\nH     \\t     0.47749952\\t    -1.98019578\\t    -2.59240630\\n\",\"xyz\");\n",
       "\tviewer_16353289443883898.setStyle({\"sphere\": {\"radius\": 0.8}});\n",
       "\tviewer_16353289443883898.addSphere({\"center\": {\"x\": 0, \"y\": 0, \"z\": 0}, \"radius\": 12.0, \"color\": \"yellow\", \"alpha\": 0.5});\n",
       "\tviewer_16353289443883898.animate({\"loop\": \"forward\", \"speed\": 1, \"reps\": 1});\n",
       "\tviewer_16353289443883898.addLine({\"start\": {\"x\": -12.0, \"y\": 0, \"z\": 0}, \"end\": {\"x\": 12.0, \"y\": 0, \"z\": 0}});\n",
       "\tviewer_16353289443883898.addLine({\"start\": {\"x\": 0, \"y\": -12.0, \"z\": 0}, \"end\": {\"x\": 0, \"y\": 12.0, \"z\": 0}});\n",
       "\tviewer_16353289443883898.addLine({\"start\": {\"x\": 0, \"y\": 0, \"z\": -12.0}, \"end\": {\"x\": 0, \"y\": 0, \"z\": 12.0}});\n",
       "\tviewer_16353289443883898.addLabel(\"x\",{\"position\": {\"x\": 12.0, \"y\": 0, \"z\": 0}, \"inFront\": \"true\", \"fontSize\": 20, \"showBackground\": \"false\", \"fontColor\": \"black\"});\n",
       "\tviewer_16353289443883898.addLabel(\"y\",{\"position\": {\"x\": 0, \"y\": 12.0, \"z\": 0}, \"inFront\": \"true\", \"fontSize\": 20, \"showBackground\": \"false\", \"fontColor\": \"black\"});\n",
       "\tviewer_16353289443883898.addLabel(\"z\",{\"position\": {\"x\": 0, \"y\": 0, \"z\": 12.0}, \"inFront\": \"true\", \"fontSize\": 20, \"showBackground\": \"false\", \"fontColor\": \"black\"});\n",
       "\tviewer_16353289443883898.zoomTo();\n",
       "viewer_16353289443883898.render();\n",
       "});\n",
       "</script>"
      ]
     },
     "metadata": {},
     "output_type": "display_data"
    }
   ],
   "source": [
    "# 20% to check visually that everything is inside\n",
    "sr = new_w6.sphere_radius * 1.2\n",
    "\n",
    "# sphere center\n",
    "cx, cy, cz = new_w6.sphere_center\n",
    "sc = {\"x\": cx, \"y\": cy, \"z\": cz}\n",
    "\n",
    "# axes\n",
    "x_axis = {'start': {'x': cx-sr, 'y':cy, 'z':cz}, 'end': {'x': cx+sr, 'y':cy, 'z':cz}}\n",
    "y_axis = {'start': {'x': cx, 'y':cy-sr, 'z':cz}, 'end': {'x': cx, 'y':cy+sr, 'z':cz}}\n",
    "z_axis = {'start': {'x': cx, 'y':cy, 'z':cz-sr}, 'end': {'x': cx, 'y':cy, 'z':cz+sr}}\n",
    "\n",
    "# starting visualization\n",
    "xyz_view = py3Dmol.view(width=700, height=500)#, linked=False, viewergrid=(2,2))\n",
    "xyz_view.addModelsAsFrames(new_w6.xyz,'xyz')\n",
    "# xyz_view.setStyle({'stick': {}})\n",
    "xyz_view.setStyle({'sphere': {'radius': 0.8}})\n",
    "xyz_view.addSphere({'center': sc, \n",
    "        'radius': sr, \n",
    "        'color' :'yellow',\n",
    "        'alpha': 0.5,\n",
    "        })\n",
    "\n",
    "# animation base on several XYZ coordinates snapshots\n",
    "xyz_view.animate({'loop': \"forward\", 'speed': 1, 'reps': 1})\n",
    "\n",
    "# cartesian 3D axes\n",
    "xyz_view.addLine(x_axis)\n",
    "xyz_view.addLine(y_axis)\n",
    "xyz_view.addLine(z_axis)\n",
    "\n",
    "xyz_view.addLabel(\"x\", {\n",
    "        'position':x_axis[\"end\"],\n",
    "        'inFront':'true',\n",
    "        'fontSize':20,\n",
    "        'showBackground':'false',\n",
    "        'fontColor': 'black',\n",
    "        })\n",
    "xyz_view.addLabel(\"y\", {\n",
    "        'position':y_axis[\"end\"],\n",
    "        'inFront':'true',\n",
    "        'fontSize':20,\n",
    "        'showBackground':'false',\n",
    "        'fontColor': 'black',\n",
    "        })\n",
    "xyz_view.addLabel(\"z\", {\n",
    "        'position':z_axis[\"end\"],\n",
    "        'inFront':'true',\n",
    "        'fontSize':20,\n",
    "        'showBackground':'false',\n",
    "        'fontColor': 'black',\n",
    "        })\n",
    "\n",
    "xyz_view.zoomTo()\n",
    "xyz_view.show()\n"
   ]
  }
 ],
 "metadata": {
  "interpreter": {
   "hash": "bd4fb26c7546c0b8c0c8c9c4bcb8ed90887f88a72ca5d8753e4f0e87b9aee620"
  },
  "kernelspec": {
   "display_name": "Python 3.8.10 64-bit ('venv': venv)",
   "name": "python3"
  },
  "language_info": {
   "codemirror_mode": {
    "name": "ipython",
    "version": 3
   },
   "file_extension": ".py",
   "mimetype": "text/x-python",
   "name": "python",
   "nbconvert_exporter": "python",
   "pygments_lexer": "ipython3",
   "version": "3.8.10"
  }
 },
 "nbformat": 4,
 "nbformat_minor": 4
}
