{
 "cells": [
  {
   "cell_type": "code",
   "execution_count": 1,
   "metadata": {},
   "outputs": [],
   "source": [
    "# creating the path (PYTHONPATH) to our module.\n",
    "# assuming that our 'amcess' directory is out ('..') of our current directory \n",
    "import os\n",
    "import sys\n",
    "module_path = os.path.abspath(os.path.join('..'))\n",
    "\n",
    "if module_path not in sys.path:\n",
    "    sys.path.append(module_path)"
   ]
  },
  {
   "cell_type": "code",
   "execution_count": 2,
   "metadata": {},
   "outputs": [],
   "source": [
    "# importing de Molecule Class\n",
    "from amcess.molecule import Molecule"
   ]
  },
  {
   "cell_type": "code",
   "execution_count": 3,
   "metadata": {},
   "outputs": [
    {
     "name": "stdout",
     "output_type": "stream",
     "text": [
      "\t3\n",
      "-- charge=0 and multiplicity=1 --\n",
      "O     \t     0.00000000\t     0.00000000\t     0.00000000\n",
      "H     \t     0.58708000\t     0.75754000\t     0.00000000\n",
      "H     \t    -0.58708000\t     0.75754000\t     0.00000000\n",
      "\n",
      "[('O', 0, 0, 0), ('H', 0.58708, 0.75754, 0), ('H', -0.58708, 0.75754, 0)]\n"
     ]
    }
   ],
   "source": [
    "water = [(\"O\", 0, 0, 0), (\"H\", 0.58708, 0.75754, 0), (\"H\", -0.58708, 0.75754, 0)]\n",
    "water_molecule = Molecule(water)\n",
    "print(water_molecule)\n",
    "print(water_molecule.atoms)"
   ]
  },
  {
   "cell_type": "code",
   "execution_count": 4,
   "metadata": {},
   "outputs": [
    {
     "name": "stdout",
     "output_type": "stream",
     "text": [
      "\t3\n",
      "-- charge=0 and multiplicity=1 --\n",
      "O     \t    -0.00570308\t     0.38515871\t    -0.00000000\n",
      "H     \t    -0.79607794\t    -0.19467500\t    -0.00000000\n",
      "H     \t     0.80178102\t    -0.19048370\t     0.00000000\n",
      "\n",
      "[('O', -0.00570308011320009, 0.3851587075724239, -0.0), ('H', -0.7960779383037317, -0.19467500329535578, -0.0), ('H', 0.8017810184169318, -0.1904837042770681, 0.0)]\n"
     ]
    }
   ],
   "source": [
    "water = \"O\" \n",
    "water_molecule = Molecule(water)\n",
    "print(water_molecule)\n",
    "print(water_molecule.atoms)"
   ]
  },
  {
   "cell_type": "code",
   "execution_count": 11,
   "metadata": {},
   "outputs": [
    {
     "name": "stdout",
     "output_type": "stream",
     "text": [
      "\t8\n",
      "-- charge=0 and multiplicity=1 --\n",
      "C     \t     0.76141149\t     0.00517353\t    -0.05328370\n",
      "C     \t    -0.74418698\t    -0.01875284\t     0.03929522\n",
      "H     \t     1.03646643\t    -0.40568589\t    -1.03327192\n",
      "H     \t     1.25052797\t    -0.57626278\t     0.76383649\n",
      "H     \t     1.07549126\t     1.05760671\t     0.09660122\n",
      "H     \t    -1.18385276\t     1.00980811\t    -0.06438059\n",
      "H     \t    -0.98490809\t    -0.46312805\t     1.03958534\n",
      "H     \t    -1.21094931\t    -0.60875878\t    -0.78838206\n",
      "\n"
     ]
    },
    {
     "data": {
      "text/plain": [
       "Molecule(_atoms=[('C', 0.761411485740872, 0.005173525645076175, -0.053283703027072506), ('C', -0.7441869768676491, -0.0187528367386804, 0.0392952205177031), ('H', 1.0364664303364282, -0.40568589198535565, -1.033271916750217), ('H', 1.2505279657141632, -0.5762627843948872, 0.7638364889305147), ('H', 1.075491257006211, 1.0576067051306735, 0.09660121801383528), ('H', -1.183852759984876, 1.0098081078454466, -0.06438058520515107), ('H', -0.9849080942161399, -0.463128045163827, 1.0395853363640999), ('H', -1.21094930772901, -0.6087587803384468, -0.7883820588437124)], _charge=0, _multiplicity=1, _addHs=False)"
      ]
     },
     "execution_count": 11,
     "metadata": {},
     "output_type": "execute_result"
    }
   ],
   "source": [
    "ethane = \"CC\" \n",
    "ethane_molecule = Molecule(ethane)\n",
    "print(ethane_molecule)\n",
    "ethane_molecule"
   ]
  },
  {
   "cell_type": "code",
   "execution_count": 9,
   "metadata": {},
   "outputs": [
    {
     "name": "stdout",
     "output_type": "stream",
     "text": [
      "\t7\n",
      "-- charge=-1 and multiplicity=1 --\n",
      "C     \t    -0.64924239\t    -0.01405090\t     0.11992651\n",
      "C     \t     0.78996346\t     0.03830554\t    -0.19189352\n",
      "O     \t     1.26556372\t     1.06083193\t    -0.71908630\n",
      "O     \t     1.64568056\t    -1.00411596\t     0.07568771\n",
      "H     \t    -1.10228571\t     0.99674062\t     0.03412270\n",
      "H     \t    -0.76031200\t    -0.32712328\t     1.19771951\n",
      "H     \t    -1.18936765\t    -0.75058795\t    -0.51647661\n",
      "\n"
     ]
    }
   ],
   "source": [
    "#* Verification the formal charge calculated from RDKit\n",
    "carboxilic_acid = 'CC(=O)[O-]'\n",
    "carboxilic_acid_molecule = Molecule(carboxilic_acid)\n",
    "print(carboxilic_acid_molecule)"
   ]
  },
  {
   "cell_type": "code",
   "execution_count": 8,
   "metadata": {},
   "outputs": [
    {
     "name": "stdout",
     "output_type": "stream",
     "text": [
      "\t5\n",
      "-- charge=0 and multiplicity=2 --\n",
      "C     \t    -0.47113195\t    -0.01294254\t    -0.01563946\n",
      "C     \t     0.75630301\t    -0.49962290\t     0.05479496\n",
      "H     \t    -0.59557603\t     1.05197623\t    -0.08073547\n",
      "H     \t    -1.32060266\t    -0.66865210\t    -0.00773206\n",
      "H     \t     1.63100763\t     0.12924132\t     0.04931203\n",
      "\n"
     ]
    }
   ],
   "source": [
    "#* Verification the multiplicity calculated from RDKit\n",
    "ethane = \"[CH2]=[CH]\" \n",
    "ethane_molecule = Molecule(ethane, addHs=True)\n",
    "print(ethane_molecule)"
   ]
  },
  {
   "cell_type": "code",
   "execution_count": 10,
   "metadata": {},
   "outputs": [
    {
     "name": "stdout",
     "output_type": "stream",
     "text": [
      "\t4\n",
      "-- charge=1 and multiplicity=2 --\n",
      "C     \t    -0.05597660\t     0.00016031\t     0.00089208\n",
      "C     \t     1.22964722\t    -0.15397488\t    -0.02040465\n",
      "H     \t    -0.71387528\t    -0.84525139\t     0.00715653\n",
      "H     \t    -0.45979535\t     0.99906596\t     0.01235605\n",
      "\n"
     ]
    }
   ],
   "source": [
    "#* Verification the formal charge and multiplicity calculated from RDKit\n",
    "ethane = \"[CH2]=[C+]\" \n",
    "ethane_molecule = Molecule(ethane, addHs=True)\n",
    "print(ethane_molecule)"
   ]
  }
 ],
 "metadata": {
  "kernelspec": {
   "display_name": "vamcess",
   "language": "python",
   "name": "python3"
  },
  "language_info": {
   "codemirror_mode": {
    "name": "ipython",
    "version": 3
   },
   "file_extension": ".py",
   "mimetype": "text/x-python",
   "name": "python",
   "nbconvert_exporter": "python",
   "pygments_lexer": "ipython3",
   "version": "3.10.12"
  }
 },
 "nbformat": 4,
 "nbformat_minor": 2
}
