{
 "cells": [
  {
   "cell_type": "code",
   "execution_count": 1,
   "metadata": {},
   "outputs": [],
   "source": [
    "# creating the path (PYTHONPATH) to our module.\n",
    "# assuming that our 'amcess' directory is out ('..') of our current directory \n",
    "import os\n",
    "import sys\n",
    "module_path = os.path.abspath(os.path.join('..'))\n",
    "\n",
    "if module_path not in sys.path:\n",
    "    sys.path.append(module_path)"
   ]
  },
  {
   "cell_type": "code",
   "execution_count": 2,
   "metadata": {},
   "outputs": [],
   "source": [
    "# importing de Molecule Class\n",
    "from amcess.molecule import Molecule"
   ]
  },
  {
   "cell_type": "code",
   "execution_count": 3,
   "metadata": {},
   "outputs": [
    {
     "name": "stdout",
     "output_type": "stream",
     "text": [
      "\t3\n",
      "-- charge=0 and multiplicity=1 --\n",
      "O     \t     0.00000000\t     0.00000000\t     0.00000000\n",
      "H     \t     0.58708000\t     0.75754000\t     0.00000000\n",
      "H     \t    -0.58708000\t     0.75754000\t     0.00000000\n",
      "\n",
      "[('O', 0, 0, 0), ('H', 0.58708, 0.75754, 0), ('H', -0.58708, 0.75754, 0)]\n"
     ]
    }
   ],
   "source": [
    "water = [(\"O\", 0, 0, 0), (\"H\", 0.58708, 0.75754, 0), (\"H\", -0.58708, 0.75754, 0)]\n",
    "water_molecule = Molecule(water)\n",
    "print(water_molecule)\n",
    "print(water_molecule.atoms)"
   ]
  },
  {
   "cell_type": "code",
   "execution_count": 4,
   "metadata": {},
   "outputs": [
    {
     "name": "stdout",
     "output_type": "stream",
     "text": [
      "\t3\n",
      "-- charge=0 and multiplicity=1 --\n",
      "O     \t    -0.00570308\t     0.38515871\t    -0.00000000\n",
      "H     \t    -0.79607794\t    -0.19467500\t    -0.00000000\n",
      "H     \t     0.80178102\t    -0.19048370\t     0.00000000\n",
      "\n",
      "[('O', -0.00570308011320009, 0.3851587075724239, -0.0), ('H', -0.7960779383037317, -0.19467500329535578, -0.0), ('H', 0.8017810184169318, -0.1904837042770681, 0.0)]\n"
     ]
    }
   ],
   "source": [
    "water = \"O\" \n",
    "water_molecule = Molecule(water)\n",
    "print(water_molecule)\n",
    "print(water_molecule.atoms)"
   ]
  },
  {
   "cell_type": "code",
   "execution_count": 5,
   "metadata": {},
   "outputs": [
    {
     "name": "stdout",
     "output_type": "stream",
     "text": [
      "\t8\n",
      "-- charge=0 and multiplicity=1 --\n",
      "C     \t    -0.77058583\t    -0.08490853\t    -0.00232394\n",
      "C     \t     0.75357008\t     0.01755690\t    -0.01090322\n",
      "H     \t    -1.12544793\t    -1.11740996\t    -0.03126244\n",
      "H     \t    -1.13109201\t     0.52210983\t    -0.84881250\n",
      "H     \t    -1.09968042\t     0.43760484\t     0.92468099\n",
      "H     \t     1.19983846\t    -0.44878568\t    -0.89772002\n",
      "H     \t     1.20234888\t    -0.44552046\t     0.87804554\n",
      "H     \t     0.97104878\t     1.11935306\t    -0.01170441\n",
      "\n",
      "[('C', -0.7705858319097928, -0.0849085291559144, -0.0023239350359090674), ('C', 0.7535700765630028, 0.017556898641321834, -0.010903220743625746), ('H', -1.1254479348622533, -1.1174099637201822, -0.03126243650474287), ('H', -1.1310920098254433, 0.522109830024803, -0.8488125047474038), ('H', -1.0996804170396701, 0.43760483844403236, 0.9246809858859448), ('H', 1.1998384619456022, -0.44878567520985513, -0.8977200237960083), ('H', 1.2023488778384739, -0.4455204636270892, 0.8780455429161267), ('H', 0.9710487772900818, 1.1193530646028829, -0.011704407974379641)]\n"
     ]
    }
   ],
   "source": [
    "ethane = \"CC\" \n",
    "ethane_molecule = Molecule(ethane)\n",
    "print(ethane_molecule)\n",
    "print(ethane_molecule.atoms)"
   ]
  }
 ],
 "metadata": {
  "kernelspec": {
   "display_name": "vamcess",
   "language": "python",
   "name": "python3"
  },
  "language_info": {
   "codemirror_mode": {
    "name": "ipython",
    "version": 3
   },
   "file_extension": ".py",
   "mimetype": "text/x-python",
   "name": "python",
   "nbconvert_exporter": "python",
   "pygments_lexer": "ipython3",
   "version": "3.10.12"
  }
 },
 "nbformat": 4,
 "nbformat_minor": 2
}
