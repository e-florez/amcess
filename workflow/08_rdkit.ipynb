{
 "cells": [
  {
   "cell_type": "code",
   "execution_count": 1,
   "metadata": {},
   "outputs": [],
   "source": [
    "# creating the path (PYTHONPATH) to our module.\n",
    "# assuming that our 'amcess' directory is out ('..') of our current directory \n",
    "import os\n",
    "import sys\n",
    "module_path = os.path.abspath(os.path.join('..'))\n",
    "\n",
    "if module_path not in sys.path:\n",
    "    sys.path.append(module_path)"
   ]
  },
  {
   "cell_type": "code",
   "execution_count": 2,
   "metadata": {},
   "outputs": [],
   "source": [
    "# importing de Molecule Class\n",
    "from amcess.molecule import Molecule"
   ]
  },
  {
   "cell_type": "code",
   "execution_count": 3,
   "metadata": {},
   "outputs": [
    {
     "name": "stdout",
     "output_type": "stream",
     "text": [
      "\t3\n",
      "-- charge=0 and multiplicity=1 --\n",
      "O     \t     0.00000000\t     0.00000000\t     0.00000000\n",
      "H     \t     0.58708000\t     0.75754000\t     0.00000000\n",
      "H     \t    -0.58708000\t     0.75754000\t     0.00000000\n",
      "\n",
      "[('O', 0, 0, 0), ('H', 0.58708, 0.75754, 0), ('H', -0.58708, 0.75754, 0)]\n"
     ]
    }
   ],
   "source": [
    "water = [(\"O\", 0, 0, 0), (\"H\", 0.58708, 0.75754, 0), (\"H\", -0.58708, 0.75754, 0)]\n",
    "water_molecule = Molecule(water)\n",
    "print(water_molecule)\n",
    "print(water_molecule.atoms)"
   ]
  },
  {
   "cell_type": "code",
   "execution_count": 4,
   "metadata": {},
   "outputs": [
    {
     "name": "stdout",
     "output_type": "stream",
     "text": [
      "\t3\n",
      "-- charge=0 and multiplicity=1 --\n",
      "O     \t    -0.00570308\t     0.38515871\t    -0.00000000\n",
      "H     \t    -0.79607794\t    -0.19467500\t    -0.00000000\n",
      "H     \t     0.80178102\t    -0.19048370\t     0.00000000\n",
      "\n",
      "[('O', -0.00570308011320009, 0.3851587075724239, -0.0), ('H', -0.7960779383037317, -0.19467500329535578, -0.0), ('H', 0.8017810184169318, -0.1904837042770681, 0.0)]\n"
     ]
    }
   ],
   "source": [
    "water = \"O\" \n",
    "water_molecule = Molecule(water)\n",
    "print(water_molecule)\n",
    "print(water_molecule.atoms)"
   ]
  },
  {
   "cell_type": "code",
   "execution_count": 5,
   "metadata": {},
   "outputs": [
    {
     "name": "stdout",
     "output_type": "stream",
     "text": [
      "\t8\n",
      "-- charge=0 and multiplicity=1 --\n",
      "C     \t    -0.77058583\t    -0.08490853\t    -0.00232394\n",
      "C     \t     0.75357008\t     0.01755690\t    -0.01090322\n",
      "H     \t    -1.12544793\t    -1.11740996\t    -0.03126244\n",
      "H     \t    -1.13109201\t     0.52210983\t    -0.84881250\n",
      "H     \t    -1.09968042\t     0.43760484\t     0.92468099\n",
      "H     \t     1.19983846\t    -0.44878568\t    -0.89772002\n",
      "H     \t     1.20234888\t    -0.44552046\t     0.87804554\n",
      "H     \t     0.97104878\t     1.11935306\t    -0.01170441\n",
      "\n"
     ]
    },
    {
     "data": {
      "text/plain": [
       "Molecule(_atoms=[('C', -0.7705858319097928, -0.0849085291559144, -0.0023239350359090674), ('C', 0.7535700765630028, 0.017556898641321834, -0.010903220743625746), ('H', -1.1254479348622533, -1.1174099637201822, -0.03126243650474287), ('H', -1.1310920098254433, 0.522109830024803, -0.8488125047474038), ('H', -1.0996804170396701, 0.43760483844403236, 0.9246809858859448), ('H', 1.1998384619456022, -0.44878567520985513, -0.8977200237960083), ('H', 1.2023488778384739, -0.4455204636270892, 0.8780455429161267), ('H', 0.9710487772900818, 1.1193530646028829, -0.011704407974379641)], _charge=0, _multiplicity=1, _file=False, _addHs=False, _removeHs=False)"
      ]
     },
     "execution_count": 5,
     "metadata": {},
     "output_type": "execute_result"
    }
   ],
   "source": [
    "ethane = \"CC\" \n",
    "ethane_molecule = Molecule(ethane)\n",
    "print(ethane_molecule)\n",
    "ethane_molecule"
   ]
  },
  {
   "cell_type": "code",
   "execution_count": 6,
   "metadata": {},
   "outputs": [
    {
     "name": "stdout",
     "output_type": "stream",
     "text": [
      "\t7\n",
      "-- charge=-1 and multiplicity=1 --\n",
      "C     \t    -0.65991228\t    -0.02122752\t     0.00925033\n",
      "C     \t     0.80463111\t    -0.01016183\t    -0.01572571\n",
      "O     \t     1.38408053\t     1.12505239\t    -0.00325201\n",
      "O     \t     1.62103894\t    -1.11410765\t    -0.05158834\n",
      "H     \t    -1.11985708\t    -0.97334475\t    -0.23464737\n",
      "H     \t    -1.01711789\t     0.27018457\t     1.03703012\n",
      "H     \t    -1.01286333\t     0.72360479\t    -0.74106701\n",
      "\n"
     ]
    }
   ],
   "source": [
    "#* Verification the formal charge calculated from RDKit\n",
    "carboxilic_acid = 'CC(=O)[O-]'\n",
    "carboxilic_acid_molecule = Molecule(carboxilic_acid)\n",
    "print(carboxilic_acid_molecule)"
   ]
  },
  {
   "cell_type": "code",
   "execution_count": 7,
   "metadata": {},
   "outputs": [
    {
     "name": "stdout",
     "output_type": "stream",
     "text": [
      "\t5\n",
      "-- charge=0 and multiplicity=2 --\n",
      "C     \t    -0.46177606\t    -0.03125673\t    -0.00078084\n",
      "C     \t     0.77843350\t    -0.48494595\t    -0.08201572\n",
      "H     \t    -0.61986884\t     1.02428740\t     0.16421912\n",
      "H     \t    -1.31017621\t    -0.69785849\t    -0.09664095\n",
      "H     \t     1.61338760\t     0.18977377\t     0.01521838\n",
      "\n"
     ]
    }
   ],
   "source": [
    "#* Verification the multiplicity calculated from RDKit\n",
    "ethane = \"[CH2]=[CH]\" \n",
    "ethane_molecule = Molecule(ethane, addHs=True)\n",
    "print(ethane_molecule)"
   ]
  },
  {
   "cell_type": "code",
   "execution_count": 8,
   "metadata": {},
   "outputs": [
    {
     "name": "stdout",
     "output_type": "stream",
     "text": [
      "\t4\n",
      "-- charge=1 and multiplicity=2 --\n",
      "C     \t    -0.06104074\t     0.00374603\t     0.00188930\n",
      "C     \t     1.23888350\t    -0.06014424\t    -0.03844660\n",
      "H     \t    -0.62940227\t    -0.89828037\t     0.01626800\n",
      "H     \t    -0.54844050\t     0.95467858\t     0.02028929\n",
      "\n"
     ]
    }
   ],
   "source": [
    "#* Verification the formal charge and multiplicity calculated from RDKit\n",
    "ethane = \"[CH2]=[C+]\" \n",
    "ethane_molecule = Molecule(ethane, addHs=True)\n",
    "print(ethane_molecule)"
   ]
  },
  {
   "cell_type": "code",
   "execution_count": 9,
   "metadata": {},
   "outputs": [
    {
     "name": "stdout",
     "output_type": "stream",
     "text": [
      "\t24\n",
      "-- charge=0 and multiplicity=1 --\n",
      "N     \t     1.31200000\t    -1.04790000\t     0.00250000\n",
      "C     \t     2.24650000\t    -2.17620000\t     0.00310000\n",
      "C     \t     1.79060000\t     0.20810000\t     0.00100000\n",
      "O     \t     2.99380000\t     0.38380000\t     0.00020000\n",
      "N     \t     0.97140000\t     1.27670000\t    -0.00010000\n",
      "C     \t     1.53390000\t     2.62940000\t    -0.00170000\n",
      "C     \t    -0.40260000\t     1.09890000\t    -0.00010000\n",
      "N     \t    -1.44460000\t     1.93420000\t    -0.00100000\n",
      "C     \t    -2.56080000\t     1.25100000\t    -0.00000000\n",
      "N     \t    -2.28620000\t    -0.06800000\t     0.00150000\n",
      "C     \t    -3.26140000\t    -1.16120000\t     0.00290000\n",
      "C     \t    -0.91140000\t    -0.19390000\t     0.00140000\n",
      "C     \t    -0.01630000\t    -1.28530000\t    -0.00220000\n",
      "O     \t    -0.43800000\t    -2.42790000\t    -0.00680000\n",
      "H     \t     3.26970000\t    -1.80040000\t     0.00220000\n",
      "H     \t     2.08300000\t    -2.78280000\t     0.89380000\n",
      "H     \t     2.08210000\t    -2.78460000\t    -0.88620000\n",
      "H     \t     2.62230000\t     2.57030000\t    -0.00190000\n",
      "H     \t     1.19870000\t     3.16110000\t    -0.89230000\n",
      "H     \t     1.19900000\t     3.16320000\t     0.88770000\n",
      "H     \t    -3.55200000\t     1.67970000\t    -0.00010000\n",
      "H     \t    -3.50370000\t    -1.43330000\t    -1.02440000\n",
      "H     \t    -2.83890000\t    -2.02440000\t     0.51730000\n",
      "H     \t    -4.16720000\t    -0.83950000\t     0.51680000\n",
      "\n"
     ]
    }
   ],
   "source": [
    "# NOTE: Only smile format allow to ger the charge and multuplicity from atoms input\n",
    "caffeine = 'caffeine.mol'\n",
    "caffeine_molecule = Molecule(caffeine, file=True, addHs=False)\n",
    "print(caffeine_molecule)"
   ]
  },
  {
   "cell_type": "code",
   "execution_count": 10,
   "metadata": {},
   "outputs": [
    {
     "name": "stdout",
     "output_type": "stream",
     "text": [
      "\t15\n",
      "-- charge=0 and multiplicity=1 --\n",
      "C     \t     1.83260000\t     0.00000000\t     0.00000000\n",
      "C     \t     2.26520000\t     1.33150000\t     0.00000000\n",
      "C     \t     1.13260000\t     2.15440000\t     0.00000000\n",
      "C     \t     0.00000000\t     1.33150000\t     0.00000000\n",
      "C     \t     0.43260000\t     0.00000000\t     0.00000000\n",
      "H     \t     2.42039365\t    -0.80901089\t     0.00000000\n",
      "H     \t     1.37861413\t    -0.89100888\t     0.00000000\n",
      "H     \t     3.21625491\t     1.64052194\t     0.00000000\n",
      "H     \t     2.42163701\t     2.31918794\t     0.00000000\n",
      "H     \t     1.13260000\t     3.15440000\t     0.00000000\n",
      "H     \t     0.24159112\t     2.60838588\t     0.00000000\n",
      "H     \t    -0.95105491\t     1.64052194\t     0.00000000\n",
      "H     \t    -0.70711596\t     0.62440240\t     0.00000000\n",
      "H     \t    -0.15519365\t    -0.80901089\t     0.00000000\n",
      "H     \t     0.88658587\t    -0.89100888\t     0.00000000\n",
      "\n"
     ]
    }
   ],
   "source": [
    "# NOTE: Only smile format allow to ger the charge and multuplicity from atoms input\n",
    "cyclopentane = 'cyclopentane_nH.mol'\n",
    "cyclopentane_molecule = Molecule(cyclopentane, file=True, addHs=True)\n",
    "print(cyclopentane_molecule)"
   ]
  },
  {
   "cell_type": "code",
   "execution_count": 12,
   "metadata": {},
   "outputs": [
    {
     "name": "stdout",
     "output_type": "stream",
     "text": [
      "\t7\n",
      "-- charge=0 and multiplicity=1 --\n",
      "C     \t    -0.65991228\t    -0.02122752\t     0.00925033\n",
      "C     \t     0.80463111\t    -0.01016183\t    -0.01572571\n",
      "O     \t     1.38408053\t     1.12505239\t    -0.00325201\n",
      "O     \t     1.62103894\t    -1.11410765\t    -0.05158834\n",
      "H     \t    -1.11985708\t    -0.97334475\t    -0.23464737\n",
      "H     \t    -1.01711789\t     0.27018457\t     1.03703012\n",
      "H     \t    -1.01286333\t     0.72360479\t    -0.74106701\n",
      "\n"
     ]
    }
   ],
   "source": [
    "# NOTE: Only smile format allow to ger the charge and multuplicity from atoms input\n",
    "carboxilic_acid = 'carboxilix_acid.XYZ'\n",
    "carboxilic_acid_molecule = Molecule(carboxilic_acid, file=True)\n",
    "print(carboxilic_acid_molecule)"
   ]
  }
 ],
 "metadata": {
  "kernelspec": {
   "display_name": "vamcess",
   "language": "python",
   "name": "python3"
  },
  "language_info": {
   "codemirror_mode": {
    "name": "ipython",
    "version": 3
   },
   "file_extension": ".py",
   "mimetype": "text/x-python",
   "name": "python",
   "nbconvert_exporter": "python",
   "pygments_lexer": "ipython3",
   "version": "3.10.12"
  }
 },
 "nbformat": 4,
 "nbformat_minor": 2
}
